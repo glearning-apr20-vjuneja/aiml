{
  "nbformat": 4,
  "nbformat_minor": 0,
  "metadata": {
    "colab": {
      "name": "R9 Internal Lab Question Notebook.ipynb",
      "provenance": [],
      "collapsed_sections": []
    },
    "kernelspec": {
      "name": "python3",
      "display_name": "Python 3"
    }
  },
  "cells": [
    {
      "cell_type": "markdown",
      "metadata": {
        "id": "PHYs6Z84xV8E"
      },
      "source": [
        "<img src=\"http://drive.google.com/uc?export=view&id=1tpOCamr9aWz817atPnyXus8w5gJ3mIts\" width=500px>\n",
        "\n",
        "Proprietary content. © Great Learning. All Rights Reserved. Unauthorized use or distribution prohibited."
      ]
    },
    {
      "cell_type": "markdown",
      "metadata": {
        "id": "FbwHYUXhxaqD"
      },
      "source": [
        "## Problem Statement\n",
        "\n"
      ]
    },
    {
      "cell_type": "markdown",
      "metadata": {
        "id": "5QQxgAmWzSye"
      },
      "source": [
        "# Samsung Internal SSD Reviews prediction\n",
        "\n",
        "Rating predictions using reviews written by users can be a useful problem statement in E-commerce domain and can be used for recommending similar products that may interest users. The dataset in this problem statement comprises reviews pertaining to Samsung Internal SSD product specifically SAMSUNG 850 EVO 2.5\" 250GB SATA III 3D NAND Internal Solid State Drive (SSD) MZ-75E250B/AM from the NewEgg Store website.  We will build a Natural Language processing model using Glove embeddings which is trained on reviews given by customers that have used the product and try to predict ratings given a new rating.\n",
        "\n",
        "\n",
        "\n",
        "\n",
        "### Objective:\n",
        "Given the reviews provided by customers, can you train a model that accurately predicts the corresponding rating of a review?"
      ]
    },
    {
      "cell_type": "markdown",
      "metadata": {
        "id": "CI7usguRzeox"
      },
      "source": [
        "### Package version\n",
        "\n",
        "- tensorflow==2.3.0\n",
        "- scikit-learn==0.22.2.post1\n",
        "- pandas==1.0.5\n",
        "- numpy==1.18.5\n",
        "- matplotlib==3.2.2\n",
        "- google==2.0.3"
      ]
    },
    {
      "cell_type": "markdown",
      "metadata": {
        "id": "aiMdVjHRH7NR"
      },
      "source": [
        "### Data Dictionary \n",
        "\n",
        "- review_title : The Title for the customer review\n",
        "\n",
        "- overall_review: The whole customer review details\n",
        "\n",
        "- pros: The customer opinion about the good things in this product\n",
        "\n",
        "- cons: The customer opinion about the bad things in this product\n",
        "\n",
        "- ownership_pariod: How long the customer owned this product\n",
        "\n",
        "- date: When the review was written\n",
        "\n",
        "- rating_stars: The product rating from 1 to 5\n",
        "\n",
        "- year: In which year the review was written\n",
        "\n",
        "- month: In which month the review was written\n",
        "\n",
        "- day: In which day the review was written"
      ]
    },
    {
      "cell_type": "markdown",
      "metadata": {
        "id": "cEn52o8jznJK"
      },
      "source": [
        "## Table of Content\n",
        "\n",
        "1. Import Libraries\n",
        "\n",
        "2. Setting options\n",
        "\n",
        "3. Read Data\n",
        "\n",
        "4. Data Analysis and Preparation\n",
        "\n",
        "5. Model Building\n",
        "\n",
        "6. Conclusion and Interpretation\n",
        "\n",
        "7. Food for thought"
      ]
    },
    {
      "cell_type": "markdown",
      "metadata": {
        "id": "x_Lom6cXzqn7"
      },
      "source": [
        "## 1. Import Libraries"
      ]
    },
    {
      "cell_type": "markdown",
      "metadata": {
        "id": "FZtVstH8zre2"
      },
      "source": [
        "Let us start by mounting the drive"
      ]
    },
    {
      "cell_type": "code",
      "metadata": {
        "id": "jSsg8JHkIh2k",
        "colab": {
          "base_uri": "https://localhost:8080/"
        },
        "outputId": "f3bad96a-e18e-452f-8150-c3419301a7cc"
      },
      "source": [
        "from google.colab import drive\n",
        "drive.mount('/content/drive')"
      ],
      "execution_count": 5,
      "outputs": [
        {
          "output_type": "stream",
          "text": [
            "Drive already mounted at /content/drive; to attempt to forcibly remount, call drive.mount(\"/content/drive\", force_remount=True).\n"
          ],
          "name": "stdout"
        }
      ]
    },
    {
      "cell_type": "markdown",
      "metadata": {
        "id": "Gv-tZoFjz2WD"
      },
      "source": [
        "Let us check for the version of installed tensorflow."
      ]
    },
    {
      "cell_type": "code",
      "metadata": {
        "id": "eiuUVBuDzzn9",
        "colab": {
          "base_uri": "https://localhost:8080/"
        },
        "outputId": "90cdf1da-ce60-416e-9f80-b9a104082bf8"
      },
      "source": [
        "# used to supress display of warnings\n",
        "import warnings\n",
        "\n",
        "# os is used to provide a way of using operating system dependent functionality\n",
        "# We use it for setting working folder\n",
        "import os\n",
        "\n",
        "# Pandas is used for data manipulation and analysis\n",
        "import pandas as pd \n",
        "\n",
        "# Numpy is used for large, multi-dimensional arrays and matrices, along with mathematical operators on these arrays\n",
        "import numpy as np\n",
        "\n",
        "# Matplotlib is a data visualization library for 2D plots of arrays, built on NumPy arrays \n",
        "# and designed to work with the broader SciPy stack\n",
        "import matplotlib.pyplot as plt\n",
        "%matplotlib inline\n",
        "from matplotlib import pyplot\n",
        "\n",
        "# Seaborn is based on matplotlib, which aids in drawing attractive and informative statistical graphics.\n",
        "import seaborn as sns\n",
        "import tensorflow \n",
        "print(tensorflow.__version__)"
      ],
      "execution_count": 2,
      "outputs": [
        {
          "output_type": "stream",
          "text": [
            "2.5.0\n"
          ],
          "name": "stdout"
        }
      ]
    },
    {
      "cell_type": "markdown",
      "metadata": {
        "id": "fze-aokU0ukH"
      },
      "source": [
        "## 2. Setting Options"
      ]
    },
    {
      "cell_type": "code",
      "metadata": {
        "id": "T3FALggG0xXa"
      },
      "source": [
        "# suppress display of warnings\n",
        "warnings.filterwarnings('ignore')\n",
        "\n",
        "# display all dataframe columns\n",
        "pd.options.display.max_columns = None\n",
        "\n",
        "# to set the limit to 3 decimals\n",
        "pd.options.display.float_format = '{:.7f}'.format\n",
        "\n",
        "# display all dataframe rows\n",
        "pd.options.display.max_rows = None"
      ],
      "execution_count": 3,
      "outputs": []
    },
    {
      "cell_type": "markdown",
      "metadata": {
        "id": "ZT1P1WdK1vfZ"
      },
      "source": [
        "## 3. Read Data"
      ]
    },
    {
      "cell_type": "markdown",
      "metadata": {
        "id": "NnnvF56gfwav"
      },
      "source": [
        "### Read the dataset and check top 5 rows"
      ]
    },
    {
      "cell_type": "code",
      "metadata": {
        "id": "imj2VbNpf383"
      },
      "source": [
        "df = pd.read_csv('/content/drive/MyDrive/Machine Learning/PGP AIML Course Files/Sequential NLP/Lab/ssd_reviews.csv')"
      ],
      "execution_count": 6,
      "outputs": []
    },
    {
      "cell_type": "code",
      "metadata": {
        "colab": {
          "base_uri": "https://localhost:8080/",
          "height": 306
        },
        "id": "uR-12l4pv1nn",
        "outputId": "dc91fc16-9e4f-4f7c-c8d0-ef28027264de"
      },
      "source": [
        "df.head()"
      ],
      "execution_count": 10,
      "outputs": [
        {
          "output_type": "execute_result",
          "data": {
            "text/html": [
              "<div>\n",
              "<style scoped>\n",
              "    .dataframe tbody tr th:only-of-type {\n",
              "        vertical-align: middle;\n",
              "    }\n",
              "\n",
              "    .dataframe tbody tr th {\n",
              "        vertical-align: top;\n",
              "    }\n",
              "\n",
              "    .dataframe thead th {\n",
              "        text-align: right;\n",
              "    }\n",
              "</style>\n",
              "<table border=\"1\" class=\"dataframe\">\n",
              "  <thead>\n",
              "    <tr style=\"text-align: right;\">\n",
              "      <th></th>\n",
              "      <th>Unnamed: 0</th>\n",
              "      <th>review_title</th>\n",
              "      <th>overall_review</th>\n",
              "      <th>pros</th>\n",
              "      <th>cons</th>\n",
              "      <th>ownership_pariod</th>\n",
              "      <th>date</th>\n",
              "      <th>rating_stars</th>\n",
              "      <th>year</th>\n",
              "      <th>month</th>\n",
              "      <th>day</th>\n",
              "    </tr>\n",
              "  </thead>\n",
              "  <tbody>\n",
              "    <tr>\n",
              "      <th>0</th>\n",
              "      <td>0</td>\n",
              "      <td>solid</td>\n",
              "      <td>buy it you will not regret this purchase</td>\n",
              "      <td>reliable fast silent cool running drive highly...</td>\n",
              "      <td>NaN</td>\n",
              "      <td>years</td>\n",
              "      <td>2019-12-05 12:58:58</td>\n",
              "      <td>5</td>\n",
              "      <td>2019</td>\n",
              "      <td>12</td>\n",
              "      <td>5</td>\n",
              "    </tr>\n",
              "    <tr>\n",
              "      <th>1</th>\n",
              "      <td>1</td>\n",
              "      <td>nice drive for price even cheaper by todays costs</td>\n",
              "      <td>good drive price</td>\n",
              "      <td>been running almost constantly since when i pu...</td>\n",
              "      <td>NaN</td>\n",
              "      <td>years</td>\n",
              "      <td>2019-11-01 08:25:45</td>\n",
              "      <td>5</td>\n",
              "      <td>2019</td>\n",
              "      <td>11</td>\n",
              "      <td>1</td>\n",
              "    </tr>\n",
              "    <tr>\n",
              "      <th>2</th>\n",
              "      <td>2</td>\n",
              "      <td>perfect</td>\n",
              "      <td>used this drive as my boot drive and only data...</td>\n",
              "      <td>good value decently fast good longevity</td>\n",
              "      <td>none so far</td>\n",
              "      <td>years</td>\n",
              "      <td>2019-10-27 17:05:49</td>\n",
              "      <td>5</td>\n",
              "      <td>2019</td>\n",
              "      <td>10</td>\n",
              "      <td>27</td>\n",
              "    </tr>\n",
              "    <tr>\n",
              "      <th>3</th>\n",
              "      <td>3</td>\n",
              "      <td>very snappy</td>\n",
              "      <td>os boots quicker os menus pop up quicker gamin...</td>\n",
              "      <td>noticeable improvement in os performance over ...</td>\n",
              "      <td>samsung magician software causes some games to...</td>\n",
              "      <td>years</td>\n",
              "      <td>2019-10-24 18:29:43</td>\n",
              "      <td>5</td>\n",
              "      <td>2019</td>\n",
              "      <td>10</td>\n",
              "      <td>24</td>\n",
              "    </tr>\n",
              "    <tr>\n",
              "      <th>4</th>\n",
              "      <td>4</td>\n",
              "      <td>worth the hype</td>\n",
              "      <td>this was the sdd that everyone said to get and...</td>\n",
              "      <td>NaN</td>\n",
              "      <td>NaN</td>\n",
              "      <td>years</td>\n",
              "      <td>2019-09-11 19:21:03</td>\n",
              "      <td>5</td>\n",
              "      <td>2019</td>\n",
              "      <td>9</td>\n",
              "      <td>11</td>\n",
              "    </tr>\n",
              "  </tbody>\n",
              "</table>\n",
              "</div>"
            ],
            "text/plain": [
              "   Unnamed: 0                                       review_title  \\\n",
              "0           0                                              solid   \n",
              "1           1  nice drive for price even cheaper by todays costs   \n",
              "2           2                                            perfect   \n",
              "3           3                                        very snappy   \n",
              "4           4                                     worth the hype   \n",
              "\n",
              "                                      overall_review  \\\n",
              "0           buy it you will not regret this purchase   \n",
              "1                                   good drive price   \n",
              "2  used this drive as my boot drive and only data...   \n",
              "3  os boots quicker os menus pop up quicker gamin...   \n",
              "4  this was the sdd that everyone said to get and...   \n",
              "\n",
              "                                                pros  \\\n",
              "0  reliable fast silent cool running drive highly...   \n",
              "1  been running almost constantly since when i pu...   \n",
              "2            good value decently fast good longevity   \n",
              "3  noticeable improvement in os performance over ...   \n",
              "4                                                NaN   \n",
              "\n",
              "                                                cons ownership_pariod  \\\n",
              "0                                                NaN            years   \n",
              "1                                                NaN            years   \n",
              "2                                        none so far            years   \n",
              "3  samsung magician software causes some games to...            years   \n",
              "4                                                NaN            years   \n",
              "\n",
              "                  date  rating_stars  year  month  day  \n",
              "0  2019-12-05 12:58:58             5  2019     12    5  \n",
              "1  2019-11-01 08:25:45             5  2019     11    1  \n",
              "2  2019-10-27 17:05:49             5  2019     10   27  \n",
              "3  2019-10-24 18:29:43             5  2019     10   24  \n",
              "4  2019-09-11 19:21:03             5  2019      9   11  "
            ]
          },
          "metadata": {
            "tags": []
          },
          "execution_count": 10
        }
      ]
    },
    {
      "cell_type": "markdown",
      "metadata": {
        "id": "RGluIi5Sf5Rp"
      },
      "source": [
        "### Check info of the dataset and write your findings"
      ]
    },
    {
      "cell_type": "code",
      "metadata": {
        "colab": {
          "base_uri": "https://localhost:8080/"
        },
        "id": "VUrnN5_yvqZm",
        "outputId": "9b8b494e-41bc-42f5-8d3f-4424da2b4214"
      },
      "source": [
        "df.shape"
      ],
      "execution_count": 9,
      "outputs": [
        {
          "output_type": "execute_result",
          "data": {
            "text/plain": [
              "(2227, 11)"
            ]
          },
          "metadata": {
            "tags": []
          },
          "execution_count": 9
        }
      ]
    },
    {
      "cell_type": "code",
      "metadata": {
        "colab": {
          "base_uri": "https://localhost:8080/"
        },
        "id": "RH9l4G0dvqfp",
        "outputId": "31400a8d-cd68-421f-b13c-01dce0c17f80"
      },
      "source": [
        "df.info()"
      ],
      "execution_count": 7,
      "outputs": [
        {
          "output_type": "stream",
          "text": [
            "<class 'pandas.core.frame.DataFrame'>\n",
            "RangeIndex: 2227 entries, 0 to 2226\n",
            "Data columns (total 11 columns):\n",
            " #   Column            Non-Null Count  Dtype \n",
            "---  ------            --------------  ----- \n",
            " 0   Unnamed: 0        2227 non-null   int64 \n",
            " 1   review_title      2131 non-null   object\n",
            " 2   overall_review    1448 non-null   object\n",
            " 3   pros              2205 non-null   object\n",
            " 4   cons              2216 non-null   object\n",
            " 5   ownership_pariod  2159 non-null   object\n",
            " 6   date              2227 non-null   object\n",
            " 7   rating_stars      2227 non-null   int64 \n",
            " 8   year              2227 non-null   int64 \n",
            " 9   month             2227 non-null   int64 \n",
            " 10  day               2227 non-null   int64 \n",
            "dtypes: int64(5), object(6)\n",
            "memory usage: 191.5+ KB\n"
          ],
          "name": "stdout"
        }
      ]
    },
    {
      "cell_type": "code",
      "metadata": {
        "colab": {
          "base_uri": "https://localhost:8080/"
        },
        "id": "-1lFortTvtYg",
        "outputId": "e7c9e875-a576-4e19-dade-e2ef785957ff"
      },
      "source": [
        "df.isnull().sum()"
      ],
      "execution_count": 8,
      "outputs": [
        {
          "output_type": "execute_result",
          "data": {
            "text/plain": [
              "Unnamed: 0            0\n",
              "review_title         96\n",
              "overall_review      779\n",
              "pros                 22\n",
              "cons                 11\n",
              "ownership_pariod     68\n",
              "date                  0\n",
              "rating_stars          0\n",
              "year                  0\n",
              "month                 0\n",
              "day                   0\n",
              "dtype: int64"
            ]
          },
          "metadata": {
            "tags": []
          },
          "execution_count": 8
        }
      ]
    },
    {
      "cell_type": "markdown",
      "metadata": {
        "id": "rED6DbDBKTjM"
      },
      "source": [
        "## 4.  Data Analysis and Preparation"
      ]
    },
    {
      "cell_type": "markdown",
      "metadata": {
        "id": "7VSqr0Seiy7g"
      },
      "source": [
        "### 4.1 Checking missing values\n",
        "#### Check for missing values (along with the percentage of null values)"
      ]
    },
    {
      "cell_type": "code",
      "metadata": {
        "id": "Il4yi7kdmnYQ",
        "colab": {
          "base_uri": "https://localhost:8080/"
        },
        "outputId": "22b54a43-3f08-4df0-d1d5-a48ace6146c7"
      },
      "source": [
        "df.isna().mean().round(4)*100"
      ],
      "execution_count": 11,
      "outputs": [
        {
          "output_type": "execute_result",
          "data": {
            "text/plain": [
              "Unnamed: 0          0.0000000\n",
              "review_title        4.3100000\n",
              "overall_review     34.9800000\n",
              "pros                0.9900000\n",
              "cons                0.4900000\n",
              "ownership_pariod    3.0500000\n",
              "date                0.0000000\n",
              "rating_stars        0.0000000\n",
              "year                0.0000000\n",
              "month               0.0000000\n",
              "day                 0.0000000\n",
              "dtype: float64"
            ]
          },
          "metadata": {
            "tags": []
          },
          "execution_count": 11
        }
      ]
    },
    {
      "cell_type": "markdown",
      "metadata": {
        "id": "SB40EGirmVjo"
      },
      "source": [
        "### 4.2 Analyzing the target column (Rating_stars)"
      ]
    },
    {
      "cell_type": "markdown",
      "metadata": {
        "id": "MoRvWVk-is6Y"
      },
      "source": [
        "#### Check the value counts of 'rating_stars' and write your comments"
      ]
    },
    {
      "cell_type": "code",
      "metadata": {
        "id": "LOVFp6Diiy0n",
        "colab": {
          "base_uri": "https://localhost:8080/"
        },
        "outputId": "a81b4535-a286-4220-d647-cdf243295f1b"
      },
      "source": [
        "df.rating_stars.value_counts()"
      ],
      "execution_count": 13,
      "outputs": [
        {
          "output_type": "execute_result",
          "data": {
            "text/plain": [
              "5    1756\n",
              "4     181\n",
              "1     153\n",
              "3      77\n",
              "2      60\n",
              "Name: rating_stars, dtype: int64"
            ]
          },
          "metadata": {
            "tags": []
          },
          "execution_count": 13
        }
      ]
    },
    {
      "cell_type": "code",
      "metadata": {
        "colab": {
          "base_uri": "https://localhost:8080/",
          "height": 297
        },
        "id": "pj-FOZfBx3iz",
        "outputId": "7a6b997d-5e9b-4185-f149-a0f026a8cc70"
      },
      "source": [
        "sns.countplot(df.rating_stars)"
      ],
      "execution_count": 14,
      "outputs": [
        {
          "output_type": "execute_result",
          "data": {
            "text/plain": [
              "<matplotlib.axes._subplots.AxesSubplot at 0x7f69e75e5490>"
            ]
          },
          "metadata": {
            "tags": []
          },
          "execution_count": 14
        },
        {
          "output_type": "display_data",
          "data": {
            "image/png": "[encoded data removed]",
            "text/plain": [
              "<Figure size 432x288 with 1 Axes>"
            ]
          },
          "metadata": {
            "tags": [],
            "needs_background": "light"
          }
        }
      ]
    },
    {
      "cell_type": "markdown",
      "metadata": {
        "id": "3nIwBMlhxR90"
      },
      "source": [
        "This is the overall distribution above of all the reviews."
      ]
    },
    {
      "cell_type": "markdown",
      "metadata": {
        "id": "ZL_BQlb5mE4O"
      },
      "source": [
        "### 4.3 Let's analyze other features like year, month, and day etc.\n",
        "#### Check value counts of 'year' and write your observations., Comment on the range of years, frequency of ratings in each year."
      ]
    },
    {
      "cell_type": "code",
      "metadata": {
        "id": "YAtEigKEmM-Z",
        "colab": {
          "base_uri": "https://localhost:8080/"
        },
        "outputId": "c5c85e69-fd37-4c7d-8ceb-0b8184b60cd6"
      },
      "source": [
        "df['year'].value_counts()"
      ],
      "execution_count": 15,
      "outputs": [
        {
          "output_type": "execute_result",
          "data": {
            "text/plain": [
              "2015    1006\n",
              "2016     605\n",
              "2017     370\n",
              "2018     187\n",
              "2019      46\n",
              "2014      13\n",
              "Name: year, dtype: int64"
            ]
          },
          "metadata": {
            "tags": []
          },
          "execution_count": 15
        }
      ]
    },
    {
      "cell_type": "markdown",
      "metadata": {
        "id": "M-pWwPhRmsAz"
      },
      "source": [
        "#### Check mean rating for each year and write your findings"
      ]
    },
    {
      "cell_type": "code",
      "metadata": {
        "id": "sqWWhlLemwG8",
        "colab": {
          "base_uri": "https://localhost:8080/"
        },
        "outputId": "0db33a16-da50-4952-c749-6fb22352b410"
      },
      "source": [
        "df.groupby(by='year').rating_stars.mean()"
      ],
      "execution_count": 16,
      "outputs": [
        {
          "output_type": "execute_result",
          "data": {
            "text/plain": [
              "year\n",
              "2014   4.9230769\n",
              "2015   4.4582505\n",
              "2016   4.5900826\n",
              "2017   4.5108108\n",
              "2018   4.3475936\n",
              "2019   4.3478261\n",
              "Name: rating_stars, dtype: float64"
            ]
          },
          "metadata": {
            "tags": []
          },
          "execution_count": 16
        }
      ]
    },
    {
      "cell_type": "markdown",
      "metadata": {
        "id": "HmUCFK730u1b"
      },
      "source": [
        "No of reviews have reduced and so as the ratings. Seems like there are better options available as in general we know that the popularity of the SSDs overall has increased."
      ]
    },
    {
      "cell_type": "markdown",
      "metadata": {
        "id": "enoYYTDunPsT"
      },
      "source": [
        "#### Check value counts of 'month' and write your observations. Comment on the frequency of ratings and discuss if the rating count and mean rating is higher/low on certain months."
      ]
    },
    {
      "cell_type": "code",
      "metadata": {
        "id": "T0yhG8s1pTZD",
        "colab": {
          "base_uri": "https://localhost:8080/"
        },
        "outputId": "7467da0f-b15d-4f63-b239-04338d942e2d"
      },
      "source": [
        "df['month'].value_counts()"
      ],
      "execution_count": 17,
      "outputs": [
        {
          "output_type": "execute_result",
          "data": {
            "text/plain": [
              "12    278\n",
              "2     239\n",
              "3     234\n",
              "1     221\n",
              "4     205\n",
              "11    191\n",
              "5     158\n",
              "9     157\n",
              "7     144\n",
              "10    141\n",
              "6     140\n",
              "8     119\n",
              "Name: month, dtype: int64"
            ]
          },
          "metadata": {
            "tags": []
          },
          "execution_count": 17
        }
      ]
    },
    {
      "cell_type": "code",
      "metadata": {
        "colab": {
          "base_uri": "https://localhost:8080/",
          "height": 266
        },
        "id": "PYtFhu9V1WfQ",
        "outputId": "7b099aad-06e2-453d-d8fa-d4b0bf740a3c"
      },
      "source": [
        "pd.crosstab(df.year,df.rating_stars)"
      ],
      "execution_count": 18,
      "outputs": [
        {
          "output_type": "execute_result",
          "data": {
            "text/html": [
              "<div>\n",
              "<style scoped>\n",
              "    .dataframe tbody tr th:only-of-type {\n",
              "        vertical-align: middle;\n",
              "    }\n",
              "\n",
              "    .dataframe tbody tr th {\n",
              "        vertical-align: top;\n",
              "    }\n",
              "\n",
              "    .dataframe thead th {\n",
              "        text-align: right;\n",
              "    }\n",
              "</style>\n",
              "<table border=\"1\" class=\"dataframe\">\n",
              "  <thead>\n",
              "    <tr style=\"text-align: right;\">\n",
              "      <th>rating_stars</th>\n",
              "      <th>1</th>\n",
              "      <th>2</th>\n",
              "      <th>3</th>\n",
              "      <th>4</th>\n",
              "      <th>5</th>\n",
              "    </tr>\n",
              "    <tr>\n",
              "      <th>year</th>\n",
              "      <th></th>\n",
              "      <th></th>\n",
              "      <th></th>\n",
              "      <th></th>\n",
              "      <th></th>\n",
              "    </tr>\n",
              "  </thead>\n",
              "  <tbody>\n",
              "    <tr>\n",
              "      <th>2014</th>\n",
              "      <td>0</td>\n",
              "      <td>0</td>\n",
              "      <td>0</td>\n",
              "      <td>1</td>\n",
              "      <td>12</td>\n",
              "    </tr>\n",
              "    <tr>\n",
              "      <th>2015</th>\n",
              "      <td>65</td>\n",
              "      <td>31</td>\n",
              "      <td>45</td>\n",
              "      <td>102</td>\n",
              "      <td>763</td>\n",
              "    </tr>\n",
              "    <tr>\n",
              "      <th>2016</th>\n",
              "      <td>37</td>\n",
              "      <td>10</td>\n",
              "      <td>17</td>\n",
              "      <td>36</td>\n",
              "      <td>505</td>\n",
              "    </tr>\n",
              "    <tr>\n",
              "      <th>2017</th>\n",
              "      <td>25</td>\n",
              "      <td>13</td>\n",
              "      <td>8</td>\n",
              "      <td>26</td>\n",
              "      <td>298</td>\n",
              "    </tr>\n",
              "    <tr>\n",
              "      <th>2018</th>\n",
              "      <td>22</td>\n",
              "      <td>4</td>\n",
              "      <td>5</td>\n",
              "      <td>12</td>\n",
              "      <td>144</td>\n",
              "    </tr>\n",
              "    <tr>\n",
              "      <th>2019</th>\n",
              "      <td>4</td>\n",
              "      <td>2</td>\n",
              "      <td>2</td>\n",
              "      <td>4</td>\n",
              "      <td>34</td>\n",
              "    </tr>\n",
              "  </tbody>\n",
              "</table>\n",
              "</div>"
            ],
            "text/plain": [
              "rating_stars   1   2   3    4    5\n",
              "year                              \n",
              "2014           0   0   0    1   12\n",
              "2015          65  31  45  102  763\n",
              "2016          37  10  17   36  505\n",
              "2017          25  13   8   26  298\n",
              "2018          22   4   5   12  144\n",
              "2019           4   2   2    4   34"
            ]
          },
          "metadata": {
            "tags": []
          },
          "execution_count": 18
        }
      ]
    },
    {
      "cell_type": "markdown",
      "metadata": {
        "id": "lWofLqeJpTtI"
      },
      "source": [
        "### 4.4 Combine text features\n",
        "#### Drop all the numerical features ['Unnamed: 0','date', 'year', 'month', 'day', 'ownership_pariod'] and ['rating_stars']"
      ]
    },
    {
      "cell_type": "code",
      "metadata": {
        "id": "8VAMgNJkqn0h"
      },
      "source": [
        "drop_col = ['Unnamed: 0', 'ownership_pariod', 'date', 'year', 'month', 'day']\n",
        "df.drop(labels=drop_col, axis=1, inplace=True)"
      ],
      "execution_count": 19,
      "outputs": []
    },
    {
      "cell_type": "code",
      "metadata": {
        "colab": {
          "base_uri": "https://localhost:8080/",
          "height": 204
        },
        "id": "Tl5WhlTw4b51",
        "outputId": "063a02cd-b59c-4c28-e213-2c6d656777ec"
      },
      "source": [
        "df.head()"
      ],
      "execution_count": 20,
      "outputs": [
        {
          "output_type": "execute_result",
          "data": {
            "text/html": [
              "<div>\n",
              "<style scoped>\n",
              "    .dataframe tbody tr th:only-of-type {\n",
              "        vertical-align: middle;\n",
              "    }\n",
              "\n",
              "    .dataframe tbody tr th {\n",
              "        vertical-align: top;\n",
              "    }\n",
              "\n",
              "    .dataframe thead th {\n",
              "        text-align: right;\n",
              "    }\n",
              "</style>\n",
              "<table border=\"1\" class=\"dataframe\">\n",
              "  <thead>\n",
              "    <tr style=\"text-align: right;\">\n",
              "      <th></th>\n",
              "      <th>review_title</th>\n",
              "      <th>overall_review</th>\n",
              "      <th>pros</th>\n",
              "      <th>cons</th>\n",
              "      <th>rating_stars</th>\n",
              "    </tr>\n",
              "  </thead>\n",
              "  <tbody>\n",
              "    <tr>\n",
              "      <th>0</th>\n",
              "      <td>solid</td>\n",
              "      <td>buy it you will not regret this purchase</td>\n",
              "      <td>reliable fast silent cool running drive highly...</td>\n",
              "      <td>NaN</td>\n",
              "      <td>5</td>\n",
              "    </tr>\n",
              "    <tr>\n",
              "      <th>1</th>\n",
              "      <td>nice drive for price even cheaper by todays costs</td>\n",
              "      <td>good drive price</td>\n",
              "      <td>been running almost constantly since when i pu...</td>\n",
              "      <td>NaN</td>\n",
              "      <td>5</td>\n",
              "    </tr>\n",
              "    <tr>\n",
              "      <th>2</th>\n",
              "      <td>perfect</td>\n",
              "      <td>used this drive as my boot drive and only data...</td>\n",
              "      <td>good value decently fast good longevity</td>\n",
              "      <td>none so far</td>\n",
              "      <td>5</td>\n",
              "    </tr>\n",
              "    <tr>\n",
              "      <th>3</th>\n",
              "      <td>very snappy</td>\n",
              "      <td>os boots quicker os menus pop up quicker gamin...</td>\n",
              "      <td>noticeable improvement in os performance over ...</td>\n",
              "      <td>samsung magician software causes some games to...</td>\n",
              "      <td>5</td>\n",
              "    </tr>\n",
              "    <tr>\n",
              "      <th>4</th>\n",
              "      <td>worth the hype</td>\n",
              "      <td>this was the sdd that everyone said to get and...</td>\n",
              "      <td>NaN</td>\n",
              "      <td>NaN</td>\n",
              "      <td>5</td>\n",
              "    </tr>\n",
              "  </tbody>\n",
              "</table>\n",
              "</div>"
            ],
            "text/plain": [
              "                                        review_title  \\\n",
              "0                                              solid   \n",
              "1  nice drive for price even cheaper by todays costs   \n",
              "2                                            perfect   \n",
              "3                                        very snappy   \n",
              "4                                     worth the hype   \n",
              "\n",
              "                                      overall_review  \\\n",
              "0           buy it you will not regret this purchase   \n",
              "1                                   good drive price   \n",
              "2  used this drive as my boot drive and only data...   \n",
              "3  os boots quicker os menus pop up quicker gamin...   \n",
              "4  this was the sdd that everyone said to get and...   \n",
              "\n",
              "                                                pros  \\\n",
              "0  reliable fast silent cool running drive highly...   \n",
              "1  been running almost constantly since when i pu...   \n",
              "2            good value decently fast good longevity   \n",
              "3  noticeable improvement in os performance over ...   \n",
              "4                                                NaN   \n",
              "\n",
              "                                                cons  rating_stars  \n",
              "0                                                NaN             5  \n",
              "1                                                NaN             5  \n",
              "2                                        none so far             5  \n",
              "3  samsung magician software causes some games to...             5  \n",
              "4                                                NaN             5  "
            ]
          },
          "metadata": {
            "tags": []
          },
          "execution_count": 20
        }
      ]
    },
    {
      "cell_type": "markdown",
      "metadata": {
        "id": "HjRp0SgEqn9Z"
      },
      "source": [
        "#### Replace null values (NaN) with blanks"
      ]
    },
    {
      "cell_type": "code",
      "metadata": {
        "id": "CZr_sR_Tqs1x"
      },
      "source": [
        "df.fillna(\"\", inplace=True)"
      ],
      "execution_count": 21,
      "outputs": []
    },
    {
      "cell_type": "code",
      "metadata": {
        "colab": {
          "base_uri": "https://localhost:8080/"
        },
        "id": "xwjaz9Zx501Z",
        "outputId": "fa004c84-73ad-4286-9c15-8b67bf8d3e51"
      },
      "source": [
        "df.isna().sum()"
      ],
      "execution_count": 23,
      "outputs": [
        {
          "output_type": "execute_result",
          "data": {
            "text/plain": [
              "review_title      0\n",
              "overall_review    0\n",
              "pros              0\n",
              "cons              0\n",
              "rating_stars      0\n",
              "dtype: int64"
            ]
          },
          "metadata": {
            "tags": []
          },
          "execution_count": 23
        }
      ]
    },
    {
      "cell_type": "code",
      "metadata": {
        "colab": {
          "base_uri": "https://localhost:8080/",
          "height": 204
        },
        "id": "Jw_9ZCft4roM",
        "outputId": "55a81492-8949-4320-c449-5bf4cbc49452"
      },
      "source": [
        "df.head() # no nans left with all the text columns"
      ],
      "execution_count": 22,
      "outputs": [
        {
          "output_type": "execute_result",
          "data": {
            "text/html": [
              "<div>\n",
              "<style scoped>\n",
              "    .dataframe tbody tr th:only-of-type {\n",
              "        vertical-align: middle;\n",
              "    }\n",
              "\n",
              "    .dataframe tbody tr th {\n",
              "        vertical-align: top;\n",
              "    }\n",
              "\n",
              "    .dataframe thead th {\n",
              "        text-align: right;\n",
              "    }\n",
              "</style>\n",
              "<table border=\"1\" class=\"dataframe\">\n",
              "  <thead>\n",
              "    <tr style=\"text-align: right;\">\n",
              "      <th></th>\n",
              "      <th>review_title</th>\n",
              "      <th>overall_review</th>\n",
              "      <th>pros</th>\n",
              "      <th>cons</th>\n",
              "      <th>rating_stars</th>\n",
              "    </tr>\n",
              "  </thead>\n",
              "  <tbody>\n",
              "    <tr>\n",
              "      <th>0</th>\n",
              "      <td>solid</td>\n",
              "      <td>buy it you will not regret this purchase</td>\n",
              "      <td>reliable fast silent cool running drive highly...</td>\n",
              "      <td></td>\n",
              "      <td>5</td>\n",
              "    </tr>\n",
              "    <tr>\n",
              "      <th>1</th>\n",
              "      <td>nice drive for price even cheaper by todays costs</td>\n",
              "      <td>good drive price</td>\n",
              "      <td>been running almost constantly since when i pu...</td>\n",
              "      <td></td>\n",
              "      <td>5</td>\n",
              "    </tr>\n",
              "    <tr>\n",
              "      <th>2</th>\n",
              "      <td>perfect</td>\n",
              "      <td>used this drive as my boot drive and only data...</td>\n",
              "      <td>good value decently fast good longevity</td>\n",
              "      <td>none so far</td>\n",
              "      <td>5</td>\n",
              "    </tr>\n",
              "    <tr>\n",
              "      <th>3</th>\n",
              "      <td>very snappy</td>\n",
              "      <td>os boots quicker os menus pop up quicker gamin...</td>\n",
              "      <td>noticeable improvement in os performance over ...</td>\n",
              "      <td>samsung magician software causes some games to...</td>\n",
              "      <td>5</td>\n",
              "    </tr>\n",
              "    <tr>\n",
              "      <th>4</th>\n",
              "      <td>worth the hype</td>\n",
              "      <td>this was the sdd that everyone said to get and...</td>\n",
              "      <td></td>\n",
              "      <td></td>\n",
              "      <td>5</td>\n",
              "    </tr>\n",
              "  </tbody>\n",
              "</table>\n",
              "</div>"
            ],
            "text/plain": [
              "                                        review_title  \\\n",
              "0                                              solid   \n",
              "1  nice drive for price even cheaper by todays costs   \n",
              "2                                            perfect   \n",
              "3                                        very snappy   \n",
              "4                                     worth the hype   \n",
              "\n",
              "                                      overall_review  \\\n",
              "0           buy it you will not regret this purchase   \n",
              "1                                   good drive price   \n",
              "2  used this drive as my boot drive and only data...   \n",
              "3  os boots quicker os menus pop up quicker gamin...   \n",
              "4  this was the sdd that everyone said to get and...   \n",
              "\n",
              "                                                pros  \\\n",
              "0  reliable fast silent cool running drive highly...   \n",
              "1  been running almost constantly since when i pu...   \n",
              "2            good value decently fast good longevity   \n",
              "3  noticeable improvement in os performance over ...   \n",
              "4                                                      \n",
              "\n",
              "                                                cons  rating_stars  \n",
              "0                                                                5  \n",
              "1                                                                5  \n",
              "2                                        none so far             5  \n",
              "3  samsung magician software causes some games to...             5  \n",
              "4                                                                5  "
            ]
          },
          "metadata": {
            "tags": []
          },
          "execution_count": 22
        }
      ]
    },
    {
      "cell_type": "markdown",
      "metadata": {
        "id": "ykjSdW1tqs-z"
      },
      "source": [
        "#### Join all text items in a row that have a space in between and Add a new column (with the newly created combined reviews) to the dataframe."
      ]
    },
    {
      "cell_type": "code",
      "metadata": {
        "id": "9fJpSb-ZuSTr"
      },
      "source": [
        "dataframe = pd.DataFrame(df['rating_stars'])"
      ],
      "execution_count": 24,
      "outputs": []
    },
    {
      "cell_type": "code",
      "metadata": {
        "id": "0VHzRd1gq1lY"
      },
      "source": [
        "df.drop(labels='rating_stars', axis=1, inplace=True)"
      ],
      "execution_count": 27,
      "outputs": []
    },
    {
      "cell_type": "code",
      "metadata": {
        "colab": {
          "base_uri": "https://localhost:8080/",
          "height": 204
        },
        "id": "vVnwgUxh7P9b",
        "outputId": "f67aebdc-b619-44a0-e764-6893709a6b76"
      },
      "source": [
        "df.head()"
      ],
      "execution_count": 28,
      "outputs": [
        {
          "output_type": "execute_result",
          "data": {
            "text/html": [
              "<div>\n",
              "<style scoped>\n",
              "    .dataframe tbody tr th:only-of-type {\n",
              "        vertical-align: middle;\n",
              "    }\n",
              "\n",
              "    .dataframe tbody tr th {\n",
              "        vertical-align: top;\n",
              "    }\n",
              "\n",
              "    .dataframe thead th {\n",
              "        text-align: right;\n",
              "    }\n",
              "</style>\n",
              "<table border=\"1\" class=\"dataframe\">\n",
              "  <thead>\n",
              "    <tr style=\"text-align: right;\">\n",
              "      <th></th>\n",
              "      <th>review_title</th>\n",
              "      <th>overall_review</th>\n",
              "      <th>pros</th>\n",
              "      <th>cons</th>\n",
              "    </tr>\n",
              "  </thead>\n",
              "  <tbody>\n",
              "    <tr>\n",
              "      <th>0</th>\n",
              "      <td>solid</td>\n",
              "      <td>buy it you will not regret this purchase</td>\n",
              "      <td>reliable fast silent cool running drive highly...</td>\n",
              "      <td></td>\n",
              "    </tr>\n",
              "    <tr>\n",
              "      <th>1</th>\n",
              "      <td>nice drive for price even cheaper by todays costs</td>\n",
              "      <td>good drive price</td>\n",
              "      <td>been running almost constantly since when i pu...</td>\n",
              "      <td></td>\n",
              "    </tr>\n",
              "    <tr>\n",
              "      <th>2</th>\n",
              "      <td>perfect</td>\n",
              "      <td>used this drive as my boot drive and only data...</td>\n",
              "      <td>good value decently fast good longevity</td>\n",
              "      <td>none so far</td>\n",
              "    </tr>\n",
              "    <tr>\n",
              "      <th>3</th>\n",
              "      <td>very snappy</td>\n",
              "      <td>os boots quicker os menus pop up quicker gamin...</td>\n",
              "      <td>noticeable improvement in os performance over ...</td>\n",
              "      <td>samsung magician software causes some games to...</td>\n",
              "    </tr>\n",
              "    <tr>\n",
              "      <th>4</th>\n",
              "      <td>worth the hype</td>\n",
              "      <td>this was the sdd that everyone said to get and...</td>\n",
              "      <td></td>\n",
              "      <td></td>\n",
              "    </tr>\n",
              "  </tbody>\n",
              "</table>\n",
              "</div>"
            ],
            "text/plain": [
              "                                        review_title  \\\n",
              "0                                              solid   \n",
              "1  nice drive for price even cheaper by todays costs   \n",
              "2                                            perfect   \n",
              "3                                        very snappy   \n",
              "4                                     worth the hype   \n",
              "\n",
              "                                      overall_review  \\\n",
              "0           buy it you will not regret this purchase   \n",
              "1                                   good drive price   \n",
              "2  used this drive as my boot drive and only data...   \n",
              "3  os boots quicker os menus pop up quicker gamin...   \n",
              "4  this was the sdd that everyone said to get and...   \n",
              "\n",
              "                                                pros  \\\n",
              "0  reliable fast silent cool running drive highly...   \n",
              "1  been running almost constantly since when i pu...   \n",
              "2            good value decently fast good longevity   \n",
              "3  noticeable improvement in os performance over ...   \n",
              "4                                                      \n",
              "\n",
              "                                                cons  \n",
              "0                                                     \n",
              "1                                                     \n",
              "2                                        none so far  \n",
              "3  samsung magician software causes some games to...  \n",
              "4                                                     "
            ]
          },
          "metadata": {
            "tags": []
          },
          "execution_count": 28
        }
      ]
    },
    {
      "cell_type": "code",
      "metadata": {
        "colab": {
          "base_uri": "https://localhost:8080/",
          "height": 204
        },
        "id": "O8NZDZTq7Tg-",
        "outputId": "60d14c0e-11c6-486b-f840-ecdf7fbccddc"
      },
      "source": [
        "dataframe.head()"
      ],
      "execution_count": 29,
      "outputs": [
        {
          "output_type": "execute_result",
          "data": {
            "text/html": [
              "<div>\n",
              "<style scoped>\n",
              "    .dataframe tbody tr th:only-of-type {\n",
              "        vertical-align: middle;\n",
              "    }\n",
              "\n",
              "    .dataframe tbody tr th {\n",
              "        vertical-align: top;\n",
              "    }\n",
              "\n",
              "    .dataframe thead th {\n",
              "        text-align: right;\n",
              "    }\n",
              "</style>\n",
              "<table border=\"1\" class=\"dataframe\">\n",
              "  <thead>\n",
              "    <tr style=\"text-align: right;\">\n",
              "      <th></th>\n",
              "      <th>rating_stars</th>\n",
              "    </tr>\n",
              "  </thead>\n",
              "  <tbody>\n",
              "    <tr>\n",
              "      <th>0</th>\n",
              "      <td>5</td>\n",
              "    </tr>\n",
              "    <tr>\n",
              "      <th>1</th>\n",
              "      <td>5</td>\n",
              "    </tr>\n",
              "    <tr>\n",
              "      <th>2</th>\n",
              "      <td>5</td>\n",
              "    </tr>\n",
              "    <tr>\n",
              "      <th>3</th>\n",
              "      <td>5</td>\n",
              "    </tr>\n",
              "    <tr>\n",
              "      <th>4</th>\n",
              "      <td>5</td>\n",
              "    </tr>\n",
              "  </tbody>\n",
              "</table>\n",
              "</div>"
            ],
            "text/plain": [
              "   rating_stars\n",
              "0             5\n",
              "1             5\n",
              "2             5\n",
              "3             5\n",
              "4             5"
            ]
          },
          "metadata": {
            "tags": []
          },
          "execution_count": 29
        }
      ]
    },
    {
      "cell_type": "code",
      "metadata": {
        "id": "feoL97fF7lE8"
      },
      "source": [
        "data_modified = df[df.columns].apply(lambda x: ' '.join(x),axis=1)\n",
        "rating_stars_new = dataframe['rating_stars']"
      ],
      "execution_count": 56,
      "outputs": []
    },
    {
      "cell_type": "code",
      "metadata": {
        "id": "W5K_XAjLJRSb"
      },
      "source": [
        "datacombined = {\"combined_reviews\": data_modified,\n",
        "                \"rating_stars\": rating_stars_new}"
      ],
      "execution_count": 60,
      "outputs": []
    },
    {
      "cell_type": "code",
      "metadata": {
        "id": "WaiLpan574Fo"
      },
      "source": [
        "data = pd.concat(datacombined, axis=1)"
      ],
      "execution_count": 61,
      "outputs": []
    },
    {
      "cell_type": "code",
      "metadata": {
        "colab": {
          "base_uri": "https://localhost:8080/",
          "height": 204
        },
        "id": "xp4jJfy98HDL",
        "outputId": "c2daf349-a81a-45b9-a6f0-6a0c8296b253"
      },
      "source": [
        "data.head()"
      ],
      "execution_count": 62,
      "outputs": [
        {
          "output_type": "execute_result",
          "data": {
            "text/html": [
              "<div>\n",
              "<style scoped>\n",
              "    .dataframe tbody tr th:only-of-type {\n",
              "        vertical-align: middle;\n",
              "    }\n",
              "\n",
              "    .dataframe tbody tr th {\n",
              "        vertical-align: top;\n",
              "    }\n",
              "\n",
              "    .dataframe thead th {\n",
              "        text-align: right;\n",
              "    }\n",
              "</style>\n",
              "<table border=\"1\" class=\"dataframe\">\n",
              "  <thead>\n",
              "    <tr style=\"text-align: right;\">\n",
              "      <th></th>\n",
              "      <th>combined_reviews</th>\n",
              "      <th>rating_stars</th>\n",
              "    </tr>\n",
              "  </thead>\n",
              "  <tbody>\n",
              "    <tr>\n",
              "      <th>0</th>\n",
              "      <td>solid buy it you will not regret this purchase...</td>\n",
              "      <td>5</td>\n",
              "    </tr>\n",
              "    <tr>\n",
              "      <th>1</th>\n",
              "      <td>nice drive for price even cheaper by todays co...</td>\n",
              "      <td>5</td>\n",
              "    </tr>\n",
              "    <tr>\n",
              "      <th>2</th>\n",
              "      <td>perfect used this drive as my boot drive and o...</td>\n",
              "      <td>5</td>\n",
              "    </tr>\n",
              "    <tr>\n",
              "      <th>3</th>\n",
              "      <td>very snappy os boots quicker os menus pop up q...</td>\n",
              "      <td>5</td>\n",
              "    </tr>\n",
              "    <tr>\n",
              "      <th>4</th>\n",
              "      <td>worth the hype this was the sdd that everyone ...</td>\n",
              "      <td>5</td>\n",
              "    </tr>\n",
              "  </tbody>\n",
              "</table>\n",
              "</div>"
            ],
            "text/plain": [
              "                                    combined_reviews  rating_stars\n",
              "0  solid buy it you will not regret this purchase...             5\n",
              "1  nice drive for price even cheaper by todays co...             5\n",
              "2  perfect used this drive as my boot drive and o...             5\n",
              "3  very snappy os boots quicker os menus pop up q...             5\n",
              "4  worth the hype this was the sdd that everyone ...             5"
            ]
          },
          "metadata": {
            "tags": []
          },
          "execution_count": 62
        }
      ]
    },
    {
      "cell_type": "markdown",
      "metadata": {
        "id": "QLnNIq2iJQBn"
      },
      "source": [
        "#### Check if there are any null values and drop NaN values if any"
      ]
    },
    {
      "cell_type": "code",
      "metadata": {
        "id": "QOf3hTpcszKC",
        "colab": {
          "base_uri": "https://localhost:8080/"
        },
        "outputId": "a731f5c6-0275-4ae6-d28d-1dbb1beb0903"
      },
      "source": [
        "data.isna().sum()"
      ],
      "execution_count": 63,
      "outputs": [
        {
          "output_type": "execute_result",
          "data": {
            "text/plain": [
              "combined_reviews    0\n",
              "rating_stars        0\n",
              "dtype: int64"
            ]
          },
          "metadata": {
            "tags": []
          },
          "execution_count": 63
        }
      ]
    },
    {
      "cell_type": "markdown",
      "metadata": {
        "id": "qS5NmyvzHMws"
      },
      "source": [
        "#### Calculate the length of each review and add it to the dataframe"
      ]
    },
    {
      "cell_type": "code",
      "metadata": {
        "id": "TdMWM0jBHNzO"
      },
      "source": [
        "data['len'] = data['combined_reviews'].apply(lambda x: len(x.split(\" \")))"
      ],
      "execution_count": 64,
      "outputs": []
    },
    {
      "cell_type": "code",
      "metadata": {
        "colab": {
          "base_uri": "https://localhost:8080/",
          "height": 204
        },
        "id": "PSviql3v-sy9",
        "outputId": "b51ee269-48d5-42bd-a35b-1ccd4c715e4a"
      },
      "source": [
        "data.head()"
      ],
      "execution_count": 66,
      "outputs": [
        {
          "output_type": "execute_result",
          "data": {
            "text/html": [
              "<div>\n",
              "<style scoped>\n",
              "    .dataframe tbody tr th:only-of-type {\n",
              "        vertical-align: middle;\n",
              "    }\n",
              "\n",
              "    .dataframe tbody tr th {\n",
              "        vertical-align: top;\n",
              "    }\n",
              "\n",
              "    .dataframe thead th {\n",
              "        text-align: right;\n",
              "    }\n",
              "</style>\n",
              "<table border=\"1\" class=\"dataframe\">\n",
              "  <thead>\n",
              "    <tr style=\"text-align: right;\">\n",
              "      <th></th>\n",
              "      <th>combined_reviews</th>\n",
              "      <th>rating_stars</th>\n",
              "      <th>len</th>\n",
              "    </tr>\n",
              "  </thead>\n",
              "  <tbody>\n",
              "    <tr>\n",
              "      <th>0</th>\n",
              "      <td>solid buy it you will not regret this purchase...</td>\n",
              "      <td>5</td>\n",
              "      <td>18</td>\n",
              "    </tr>\n",
              "    <tr>\n",
              "      <th>1</th>\n",
              "      <td>nice drive for price even cheaper by todays co...</td>\n",
              "      <td>5</td>\n",
              "      <td>41</td>\n",
              "    </tr>\n",
              "    <tr>\n",
              "      <th>2</th>\n",
              "      <td>perfect used this drive as my boot drive and o...</td>\n",
              "      <td>5</td>\n",
              "      <td>65</td>\n",
              "    </tr>\n",
              "    <tr>\n",
              "      <th>3</th>\n",
              "      <td>very snappy os boots quicker os menus pop up q...</td>\n",
              "      <td>5</td>\n",
              "      <td>42</td>\n",
              "    </tr>\n",
              "    <tr>\n",
              "      <th>4</th>\n",
              "      <td>worth the hype this was the sdd that everyone ...</td>\n",
              "      <td>5</td>\n",
              "      <td>30</td>\n",
              "    </tr>\n",
              "  </tbody>\n",
              "</table>\n",
              "</div>"
            ],
            "text/plain": [
              "                                    combined_reviews  rating_stars  len\n",
              "0  solid buy it you will not regret this purchase...             5   18\n",
              "1  nice drive for price even cheaper by todays co...             5   41\n",
              "2  perfect used this drive as my boot drive and o...             5   65\n",
              "3  very snappy os boots quicker os menus pop up q...             5   42\n",
              "4  worth the hype this was the sdd that everyone ...             5   30"
            ]
          },
          "metadata": {
            "tags": []
          },
          "execution_count": 66
        }
      ]
    },
    {
      "cell_type": "markdown",
      "metadata": {
        "id": "8FyfpsW4uNN-"
      },
      "source": [
        "#### Check summary stats of the length column"
      ]
    },
    {
      "cell_type": "code",
      "metadata": {
        "id": "cMEp309bHPSm",
        "colab": {
          "base_uri": "https://localhost:8080/"
        },
        "outputId": "72fb5e38-4636-4dde-d273-d170e728d282"
      },
      "source": [
        "data['len'].describe()"
      ],
      "execution_count": 67,
      "outputs": [
        {
          "output_type": "execute_result",
          "data": {
            "text/plain": [
              "count   2227.0000000\n",
              "mean      84.8675348\n",
              "std       87.4983350\n",
              "min        4.0000000\n",
              "25%       30.0000000\n",
              "50%       59.0000000\n",
              "75%      109.0000000\n",
              "max     1615.0000000\n",
              "Name: len, dtype: float64"
            ]
          },
          "metadata": {
            "tags": []
          },
          "execution_count": 67
        }
      ]
    },
    {
      "cell_type": "markdown",
      "metadata": {
        "id": "JtFWZfZjJSJY"
      },
      "source": [
        "### 4.5 Analyzing and preparing the text data\n"
      ]
    },
    {
      "cell_type": "markdown",
      "metadata": {
        "id": "FL0mW8oPJVyq"
      },
      "source": [
        "#### Set the max length of each review to 25 since it results in faster training (however, you are free to change this)\n",
        "#### Set max_features to 10000 and embedding size to 50"
      ]
    },
    {
      "cell_type": "code",
      "metadata": {
        "id": "T7Ma4u3kSOD3"
      },
      "source": [
        "max_features = 10000\n",
        "maxlen = 25\n",
        "embedding_size = 50"
      ],
      "execution_count": 68,
      "outputs": []
    },
    {
      "cell_type": "markdown",
      "metadata": {
        "id": "qph71mXtJyWM"
      },
      "source": [
        "#### Tokenize the cobined text data. You can use the Tokenizer from tensorflow.keras.preprocessing.text. Check the number of samples post tokenization."
      ]
    },
    {
      "cell_type": "code",
      "metadata": {
        "id": "hvn5Bssu6MoQ"
      },
      "source": [
        "from tensorflow.keras.preprocessing.text import Tokenizer"
      ],
      "execution_count": 69,
      "outputs": []
    },
    {
      "cell_type": "code",
      "metadata": {
        "id": "W0y41G2cCdDk"
      },
      "source": [
        "tokenizer = Tokenizer(num_words=max_features)\n",
        "tokenizer.fit_on_texts(list(data['combined_reviews']))\n",
        "X=tokenizer.texts_to_sequences(data['combined_reviews'])"
      ],
      "execution_count": 70,
      "outputs": []
    },
    {
      "cell_type": "code",
      "metadata": {
        "colab": {
          "base_uri": "https://localhost:8080/"
        },
        "id": "uxSpTxTUDQTs",
        "outputId": "0cacfa42-5a5c-4a0b-b34e-1779eebc666d"
      },
      "source": [
        "X[0]"
      ],
      "execution_count": 71,
      "outputs": [
        {
          "output_type": "execute_result",
          "data": {
            "text/plain": [
              "[232, 93, 6, 19, 54, 22, 829, 10, 248, 162, 16, 830, 550, 145, 7, 264, 126]"
            ]
          },
          "metadata": {
            "tags": []
          },
          "execution_count": 71
        }
      ]
    },
    {
      "cell_type": "code",
      "metadata": {
        "colab": {
          "base_uri": "https://localhost:8080/",
          "height": 80
        },
        "id": "em5CPoRFDSIp",
        "outputId": "84f6731f-3d66-4d8e-fb70-5774af144841"
      },
      "source": [
        "data.head(1)"
      ],
      "execution_count": 72,
      "outputs": [
        {
          "output_type": "execute_result",
          "data": {
            "text/html": [
              "<div>\n",
              "<style scoped>\n",
              "    .dataframe tbody tr th:only-of-type {\n",
              "        vertical-align: middle;\n",
              "    }\n",
              "\n",
              "    .dataframe tbody tr th {\n",
              "        vertical-align: top;\n",
              "    }\n",
              "\n",
              "    .dataframe thead th {\n",
              "        text-align: right;\n",
              "    }\n",
              "</style>\n",
              "<table border=\"1\" class=\"dataframe\">\n",
              "  <thead>\n",
              "    <tr style=\"text-align: right;\">\n",
              "      <th></th>\n",
              "      <th>combined_reviews</th>\n",
              "      <th>rating_stars</th>\n",
              "      <th>len</th>\n",
              "    </tr>\n",
              "  </thead>\n",
              "  <tbody>\n",
              "    <tr>\n",
              "      <th>0</th>\n",
              "      <td>solid buy it you will not regret this purchase...</td>\n",
              "      <td>5</td>\n",
              "      <td>18</td>\n",
              "    </tr>\n",
              "  </tbody>\n",
              "</table>\n",
              "</div>"
            ],
            "text/plain": [
              "                                    combined_reviews  rating_stars  len\n",
              "0  solid buy it you will not regret this purchase...             5   18"
            ]
          },
          "metadata": {
            "tags": []
          },
          "execution_count": 72
        }
      ]
    },
    {
      "cell_type": "markdown",
      "metadata": {
        "id": "HXy2gZrkJ0f_"
      },
      "source": [
        "#### Pad the above tokenized reviews data save it as independent features. Use max_len for the same."
      ]
    },
    {
      "cell_type": "code",
      "metadata": {
        "id": "mV-KtcR06OAr"
      },
      "source": [
        "from tensorflow.keras.preprocessing.sequence import pad_sequences\n",
        "\n",
        "X=pad_sequences(X,maxlen=maxlen)\n",
        "y=np.asarray(data['rating_stars'])"
      ],
      "execution_count": 73,
      "outputs": []
    },
    {
      "cell_type": "code",
      "metadata": {
        "colab": {
          "base_uri": "https://localhost:8080/"
        },
        "id": "S_ykmKTwEOah",
        "outputId": "552b5aa8-9b39-4801-bc53-f923a178f19e"
      },
      "source": [
        "y[0]"
      ],
      "execution_count": 74,
      "outputs": [
        {
          "output_type": "execute_result",
          "data": {
            "text/plain": [
              "5"
            ]
          },
          "metadata": {
            "tags": []
          },
          "execution_count": 74
        }
      ]
    },
    {
      "cell_type": "markdown",
      "metadata": {
        "id": "XVT7dRRUHsgR"
      },
      "source": [
        "#### Check the shape of X (padded tokenized review data) and y (rating_stars) data."
      ]
    },
    {
      "cell_type": "code",
      "metadata": {
        "id": "SXc3DOi9Hz6O",
        "colab": {
          "base_uri": "https://localhost:8080/"
        },
        "outputId": "0bbb7a4f-0105-453f-da37-c800827825bb"
      },
      "source": [
        "X.shape"
      ],
      "execution_count": 75,
      "outputs": [
        {
          "output_type": "execute_result",
          "data": {
            "text/plain": [
              "(2227, 25)"
            ]
          },
          "metadata": {
            "tags": []
          },
          "execution_count": 75
        }
      ]
    },
    {
      "cell_type": "markdown",
      "metadata": {
        "id": "A5GlWwKnJ7ie"
      },
      "source": [
        "#### Check the total number of words in the dictionary (of tekenizer)"
      ]
    },
    {
      "cell_type": "code",
      "metadata": {
        "id": "oR0W8MdX6V3A",
        "colab": {
          "base_uri": "https://localhost:8080/"
        },
        "outputId": "fcc26b15-a7f6-49c0-8300-a52e83fed6c5"
      },
      "source": [
        "num_words=len(tokenizer.word_counts)+1\n",
        "print(num_words)"
      ],
      "execution_count": 81,
      "outputs": [
        {
          "output_type": "stream",
          "text": [
            "8839\n"
          ],
          "name": "stdout"
        }
      ]
    },
    {
      "cell_type": "markdown",
      "metadata": {
        "id": "RKa3eYLDJ_yO"
      },
      "source": [
        "### 4.6 Compute the glove embeddings. Use the provided txt file for the same."
      ]
    },
    {
      "cell_type": "markdown",
      "metadata": {
        "id": "WNwPD9EmIbMt"
      },
      "source": [
        "#### Read the glove embeddings from the file provided titled ‘glove.6B.50d.txt’. And save it to a dictotionary having word and corresponding embedding vector."
      ]
    },
    {
      "cell_type": "code",
      "metadata": {
        "id": "bNd9ZFjuIp3g"
      },
      "source": [
        "filepath = '/content/drive/MyDrive/Machine Learning/PGP AIML Course Files/Sequential NLP/Lab/glove.6B.50d.txt'\n",
        "embeddings = {}\n",
        "\n",
        "with open(filepath,'r',encoding=\"utf-8\") as f:\n",
        "  for line in f:\n",
        "    values = line.split(\" \")\n",
        "    word = values[0]\n",
        "    vector = np.asarray(values[1:], \"float32\")\n",
        "    embeddings[word] = vector"
      ],
      "execution_count": 78,
      "outputs": []
    },
    {
      "cell_type": "markdown",
      "metadata": {
        "id": "EuolWkfmIqCJ"
      },
      "source": [
        "#### Create a weight matrix for words in the training docs"
      ]
    },
    {
      "cell_type": "code",
      "metadata": {
        "id": "BGHZ0nIaI0Ar"
      },
      "source": [
        "# create word matrix for words in the training document\n",
        "embedding_matrix = np.zeros((num_words, 50))\n",
        "\n",
        "for word, i in tokenizer.word_index.items():\n",
        "  embedding_vector = embeddings.get(word)\n",
        "  if embedding_vector is not None:\n",
        "    embedding_matrix[i] = embedding_vector"
      ],
      "execution_count": 82,
      "outputs": []
    },
    {
      "cell_type": "markdown",
      "metadata": {
        "id": "-DdpiQZ9_Fiq"
      },
      "source": [
        "#### Check length of the embedding"
      ]
    },
    {
      "cell_type": "code",
      "metadata": {
        "id": "8bcs-LtYILlO",
        "colab": {
          "base_uri": "https://localhost:8080/"
        },
        "outputId": "d587c97b-cd9a-49e0-d539-e619615a1f3d"
      },
      "source": [
        "len(embeddings.values())"
      ],
      "execution_count": 84,
      "outputs": [
        {
          "output_type": "execute_result",
          "data": {
            "text/plain": [
              "400000"
            ]
          },
          "metadata": {
            "tags": []
          },
          "execution_count": 84
        }
      ]
    },
    {
      "cell_type": "markdown",
      "metadata": {
        "id": "xVPf3X5MKGpm"
      },
      "source": [
        "### 4.7 Target Feature:- One hot encode the target variable (rating_stars)"
      ]
    },
    {
      "cell_type": "code",
      "metadata": {
        "id": "7PVDBmkjJC4n"
      },
      "source": [
        "from sklearn.preprocessing import OneHotEncoder\n",
        "enc = OneHotEncoder()\n",
        "y_encoded = enc.fit_transform(y.reshape(-1,1))"
      ],
      "execution_count": 85,
      "outputs": []
    },
    {
      "cell_type": "code",
      "metadata": {
        "colab": {
          "base_uri": "https://localhost:8080/"
        },
        "id": "sRmSDBC9SvdS",
        "outputId": "4ca6567d-862e-4b0d-9a67-e775be4ac0ec"
      },
      "source": [
        "y_encoded=y_encoded.todense()\n",
        "y_encoded"
      ],
      "execution_count": 86,
      "outputs": [
        {
          "output_type": "execute_result",
          "data": {
            "text/plain": [
              "matrix([[0., 0., 0., 0., 1.],\n",
              "        [0., 0., 0., 0., 1.],\n",
              "        [0., 0., 0., 0., 1.],\n",
              "        ...,\n",
              "        [0., 0., 0., 0., 1.],\n",
              "        [0., 0., 0., 0., 1.],\n",
              "        [0., 0., 0., 0., 1.]])"
            ]
          },
          "metadata": {
            "tags": []
          },
          "execution_count": 86
        }
      ]
    },
    {
      "cell_type": "code",
      "metadata": {
        "colab": {
          "base_uri": "https://localhost:8080/"
        },
        "id": "bVB4STjjS8Sy",
        "outputId": "bbf22879-6e58-4b8a-e434-e9b1d5c58a9f"
      },
      "source": [
        "X"
      ],
      "execution_count": 87,
      "outputs": [
        {
          "output_type": "execute_result",
          "data": {
            "text/plain": [
              "array([[   0,    0,    0, ...,    7,  264,  126],\n",
              "       [1541,  209,   77, ...,   14,  612,  931],\n",
              "       [  21,   99,  472, ...,   31,   27,   87],\n",
              "       ...,\n",
              "       [   1,    8,   12, ...,   31,   27,   87],\n",
              "       [ 247,   34,   20, ...,   14,    1,  612],\n",
              "       [   5,  294,   13, ...,   10,  248,   31]], dtype=int32)"
            ]
          },
          "metadata": {
            "tags": []
          },
          "execution_count": 87
        }
      ]
    },
    {
      "cell_type": "markdown",
      "metadata": {
        "id": "5dqPXETLKN0h"
      },
      "source": [
        "### 4.8 Split the data into Train & Test sets"
      ]
    },
    {
      "cell_type": "code",
      "metadata": {
        "id": "FFJ1oEUmJEEW"
      },
      "source": [
        "from sklearn.model_selection import train_test_split\n",
        "X_train, X_test, y_train, y_test = train_test_split(\n",
        "    X,\n",
        "    y_encoded,\n",
        "    test_size=0.3, \n",
        "    random_state=42,\n",
        "    stratify=y_encoded\n",
        ")"
      ],
      "execution_count": 88,
      "outputs": []
    },
    {
      "cell_type": "markdown",
      "metadata": {
        "id": "rhD1a-beKvE7"
      },
      "source": [
        "## 5. Model building"
      ]
    },
    {
      "cell_type": "markdown",
      "metadata": {
        "id": "bRmxklYnKvxk"
      },
      "source": [
        "### 5.1 Construct a neural network architecture using embedding and LSTM layers for building the rating prediction model.\n",
        "- Use the num_words, embedding_size from the above tokenizer and embeddings respectively\n",
        "- Use weights from the above embedding matrix\n",
        "- Use input length as the maxlen\n",
        "- Add LSTM layers"
      ]
    },
    {
      "cell_type": "code",
      "metadata": {
        "id": "gSGsebsiNA78",
        "colab": {
          "base_uri": "https://localhost:8080/"
        },
        "outputId": "7515d630-54f1-416a-9393-1c55ec1bf38b"
      },
      "source": [
        "import tensorflow as tf\n",
        "from tensorflow.keras.models import Sequential\n",
        "from tensorflow.keras.layers import Embedding, Bidirectional, LSTM, Dense, Dropout, Flatten\n",
        "from functools import partial\n",
        "\n",
        "model = Sequential()\n",
        "model.add(Embedding(num_words, embedding_size, weights = [embedding_matrix], input_length=maxlen))\n",
        "model.add(LSTM(128, return_sequences = True))\n",
        "model.add(Flatten())\n",
        "model.add(Dense(512, activation='relu'))\n",
        "model.add(Dense(256, activation = 'relu'))\n",
        "model.add(Dense(128, activation = 'relu'))\n",
        "model.add(Dense(64, activation= 'relu'))\n",
        "model.add(Dropout(0.5))\n",
        "model.add(Dense(5, activation=\"softmax\"))\n",
        "model.compile(loss='categorical_crossentropy', optimizer='adam', metrics=['accuracy'])\n",
        "model.summary()"
      ],
      "execution_count": 89,
      "outputs": [
        {
          "output_type": "stream",
          "text": [
            "Model: \"sequential\"\n",
            "_________________________________________________________________\n",
            "Layer (type)                 Output Shape              Param #   \n",
            "=================================================================\n",
            "embedding (Embedding)        (None, 25, 50)            441950    \n",
            "_________________________________________________________________\n",
            "lstm (LSTM)                  (None, 25, 128)           91648     \n",
            "_________________________________________________________________\n",
            "flatten (Flatten)            (None, 3200)              0         \n",
            "_________________________________________________________________\n",
            "dense (Dense)                (None, 512)               1638912   \n",
            "_________________________________________________________________\n",
            "dense_1 (Dense)              (None, 256)               131328    \n",
            "_________________________________________________________________\n",
            "dense_2 (Dense)              (None, 128)               32896     \n",
            "_________________________________________________________________\n",
            "dense_3 (Dense)              (None, 64)                8256      \n",
            "_________________________________________________________________\n",
            "dropout (Dropout)            (None, 64)                0         \n",
            "_________________________________________________________________\n",
            "dense_4 (Dense)              (None, 5)                 325       \n",
            "=================================================================\n",
            "Total params: 2,345,315\n",
            "Trainable params: 2,345,315\n",
            "Non-trainable params: 0\n",
            "_________________________________________________________________\n"
          ],
          "name": "stdout"
        }
      ]
    },
    {
      "cell_type": "markdown",
      "metadata": {
        "id": "iN0P-a6X_jAb"
      },
      "source": [
        "### 5.2 Compile the model using appropriate loss, optimizer, and accuracy metric"
      ]
    },
    {
      "cell_type": "code",
      "metadata": {
        "id": "8Kyk9kPxNCMb"
      },
      "source": [
        "model.compile(loss='categorical_crossentropy', optimizer='adam', metrics=['accuracy'])"
      ],
      "execution_count": 91,
      "outputs": []
    },
    {
      "cell_type": "markdown",
      "metadata": {
        "id": "tIODqXJK_qrQ"
      },
      "source": [
        "### 5.3 Fit the model"
      ]
    },
    {
      "cell_type": "code",
      "metadata": {
        "id": "fEX-_bd2NDPW",
        "colab": {
          "base_uri": "https://localhost:8080/"
        },
        "outputId": "51e63102-fc4f-4ba0-94b7-efa8d262a719"
      },
      "source": [
        "batch_size = 100\n",
        "epochs = 20\n",
        "\n",
        "training_history = model.fit(X_train, y_train, batch_size=batch_size, epochs=epochs, validation_data=(X_test, y_test))"
      ],
      "execution_count": 92,
      "outputs": [
        {
          "output_type": "stream",
          "text": [
            "Epoch 1/20\n",
            "16/16 [==============================] - 4s 136ms/step - loss: 1.0290 - accuracy: 0.7169 - val_loss: 0.7851 - val_accuracy: 0.7892\n",
            "Epoch 2/20\n",
            "16/16 [==============================] - 2s 103ms/step - loss: 0.8136 - accuracy: 0.7850 - val_loss: 0.7252 - val_accuracy: 0.7892\n",
            "Epoch 3/20\n",
            "16/16 [==============================] - 2s 102ms/step - loss: 0.7203 - accuracy: 0.7875 - val_loss: 0.7123 - val_accuracy: 0.7892\n",
            "Epoch 4/20\n",
            "16/16 [==============================] - 2s 101ms/step - loss: 0.6970 - accuracy: 0.7914 - val_loss: 0.7189 - val_accuracy: 0.7892\n",
            "Epoch 5/20\n",
            "16/16 [==============================] - 2s 103ms/step - loss: 0.6129 - accuracy: 0.7940 - val_loss: 0.7028 - val_accuracy: 0.7922\n",
            "Epoch 6/20\n",
            "16/16 [==============================] - 2s 104ms/step - loss: 0.5677 - accuracy: 0.8068 - val_loss: 0.7886 - val_accuracy: 0.7922\n",
            "Epoch 7/20\n",
            "16/16 [==============================] - 2s 102ms/step - loss: 0.4696 - accuracy: 0.8248 - val_loss: 0.8444 - val_accuracy: 0.7937\n",
            "Epoch 8/20\n",
            "16/16 [==============================] - 2s 104ms/step - loss: 0.4158 - accuracy: 0.8434 - val_loss: 0.8751 - val_accuracy: 0.7833\n",
            "Epoch 9/20\n",
            "16/16 [==============================] - 2s 104ms/step - loss: 0.3114 - accuracy: 0.8793 - val_loss: 0.9630 - val_accuracy: 0.7773\n",
            "Epoch 10/20\n",
            "16/16 [==============================] - 2s 103ms/step - loss: 0.2013 - accuracy: 0.9371 - val_loss: 1.2623 - val_accuracy: 0.7055\n",
            "Epoch 11/20\n",
            "16/16 [==============================] - 2s 105ms/step - loss: 0.1491 - accuracy: 0.9448 - val_loss: 1.2201 - val_accuracy: 0.7549\n",
            "Epoch 12/20\n",
            "16/16 [==============================] - 2s 105ms/step - loss: 0.0964 - accuracy: 0.9698 - val_loss: 1.5576 - val_accuracy: 0.7534\n",
            "Epoch 13/20\n",
            "16/16 [==============================] - 2s 104ms/step - loss: 0.0565 - accuracy: 0.9833 - val_loss: 1.8993 - val_accuracy: 0.7698\n",
            "Epoch 14/20\n",
            "16/16 [==============================] - 2s 104ms/step - loss: 0.0349 - accuracy: 0.9897 - val_loss: 1.8869 - val_accuracy: 0.7578\n",
            "Epoch 15/20\n",
            "16/16 [==============================] - 2s 103ms/step - loss: 0.0343 - accuracy: 0.9884 - val_loss: 1.8023 - val_accuracy: 0.6996\n",
            "Epoch 16/20\n",
            "16/16 [==============================] - 2s 106ms/step - loss: 0.0282 - accuracy: 0.9917 - val_loss: 1.9867 - val_accuracy: 0.7339\n",
            "Epoch 17/20\n",
            "16/16 [==============================] - 2s 105ms/step - loss: 0.0182 - accuracy: 0.9923 - val_loss: 1.9857 - val_accuracy: 0.7474\n",
            "Epoch 18/20\n",
            "16/16 [==============================] - 2s 106ms/step - loss: 0.0093 - accuracy: 0.9974 - val_loss: 2.3812 - val_accuracy: 0.7593\n",
            "Epoch 19/20\n",
            "16/16 [==============================] - 2s 104ms/step - loss: 0.0067 - accuracy: 0.9994 - val_loss: 2.6503 - val_accuracy: 0.7668\n",
            "Epoch 20/20\n",
            "16/16 [==============================] - 2s 102ms/step - loss: 0.0075 - accuracy: 0.9987 - val_loss: 2.9531 - val_accuracy: 0.7668\n"
          ],
          "name": "stdout"
        }
      ]
    },
    {
      "cell_type": "markdown",
      "metadata": {
        "id": "1iakHzMFNDsz"
      },
      "source": [
        "### 5.4 Predict ratings for test data and check accuracy and confusion matrix"
      ]
    },
    {
      "cell_type": "code",
      "metadata": {
        "id": "erNFghTpNK-j"
      },
      "source": [
        "predictions = model.predict(X_test.reshape(len(X_test),25))"
      ],
      "execution_count": 93,
      "outputs": []
    },
    {
      "cell_type": "code",
      "metadata": {
        "id": "oOpTQQ8JaB2g"
      },
      "source": [
        "y_test_inv = enc.inverse_transform(y_test)"
      ],
      "execution_count": 94,
      "outputs": []
    },
    {
      "cell_type": "code",
      "metadata": {
        "id": "glNaXRZqNLBN"
      },
      "source": [
        "y_pred_inv = enc.inverse_transform(np.around(predictions))"
      ],
      "execution_count": 95,
      "outputs": []
    },
    {
      "cell_type": "code",
      "metadata": {
        "colab": {
          "base_uri": "https://localhost:8080/"
        },
        "id": "e1DoqUAFaWlo",
        "outputId": "48ef708c-327c-49b7-e844-4e05da8bfa04"
      },
      "source": [
        "from sklearn.metrics import confusion_matrix\n",
        "confusion_matrix(y_test_inv, y_pred_inv)"
      ],
      "execution_count": 96,
      "outputs": [
        {
          "output_type": "execute_result",
          "data": {
            "text/plain": [
              "array([[ 21,   0,   0,   7,  18],\n",
              "       [  3,   3,   0,   1,  11],\n",
              "       [  2,   0,   2,   4,  15],\n",
              "       [  4,   0,   1,  10,  39],\n",
              "       [ 19,   0,   1,  31, 477]])"
            ]
          },
          "metadata": {
            "tags": []
          },
          "execution_count": 96
        }
      ]
    },
    {
      "cell_type": "code",
      "metadata": {
        "colab": {
          "base_uri": "https://localhost:8080/"
        },
        "id": "It4r-7ULcEbj",
        "outputId": "9c318a77-0f01-4e34-d0dc-2fcba874622b"
      },
      "source": [
        "from sklearn.metrics import classification_report\n",
        "print(classification_report(y_test_inv, y_pred_inv))"
      ],
      "execution_count": 97,
      "outputs": [
        {
          "output_type": "stream",
          "text": [
            "              precision    recall  f1-score   support\n",
            "\n",
            "           1       0.43      0.46      0.44        46\n",
            "           2       1.00      0.17      0.29        18\n",
            "           3       0.50      0.09      0.15        23\n",
            "           4       0.19      0.19      0.19        54\n",
            "           5       0.85      0.90      0.88       528\n",
            "\n",
            "    accuracy                           0.77       669\n",
            "   macro avg       0.59      0.36      0.39       669\n",
            "weighted avg       0.76      0.77      0.75       669\n",
            "\n"
          ],
          "name": "stdout"
        }
      ]
    },
    {
      "cell_type": "markdown",
      "metadata": {
        "id": "lHyQA-RsNOXT"
      },
      "source": [
        "### 5.5 Display plot of training and validation loss/accuracy wrt to epochs"
      ]
    },
    {
      "cell_type": "code",
      "metadata": {
        "id": "gC7Lb0eSNawO",
        "colab": {
          "base_uri": "https://localhost:8080/",
          "height": 562
        },
        "outputId": "a1f539e3-03e1-40ad-b2a8-bc30bf9d2943"
      },
      "source": [
        "import matplotlib.pyplot as plt\n",
        "accuracy      = training_history.history['accuracy']\n",
        "val_accuracy  = training_history.history['val_accuracy']\n",
        "loss     = training_history.history['loss']\n",
        "val_loss = training_history.history['val_loss']\n",
        "\n",
        "epochs   = range(len(accuracy)) # Get number of epochs\n",
        "\n",
        "plt.plot  ( epochs, accuracy, label = 'training accuracy' )\n",
        "plt.plot  ( epochs, val_accuracy, label = 'validation accuracy' )\n",
        "plt.title ('Training and validation accuracy')\n",
        "plt.legend(loc = 'lower right')\n",
        "plt.figure()\n",
        "\n",
        "plt.plot  ( epochs, loss, label = 'training loss' )\n",
        "plt.plot  ( epochs, val_loss, label = 'validation loss' )\n",
        "plt.legend(loc = 'upper right')\n",
        "plt.title ('Training and validation loss'   )\n"
      ],
      "execution_count": 98,
      "outputs": [
        {
          "output_type": "execute_result",
          "data": {
            "text/plain": [
              "Text(0.5, 1.0, 'Training and validation loss')"
            ]
          },
          "metadata": {
            "tags": []
          },
          "execution_count": 98
        },
        {
          "output_type": "display_data",
          "data": {
            "image/png": "[encoded data removed]",
            "text/plain": [
              "<Figure size 432x288 with 1 Axes>"
            ]
          },
          "metadata": {
            "tags": [],
            "needs_background": "light"
          }
        },
        {
          "output_type": "display_data",
          "data": {
            "image/png": "[encoded data removed]",
            "text/plain": [
              "<Figure size 432x288 with 1 Axes>"
            ]
          },
          "metadata": {
            "tags": [],
            "needs_background": "light"
          }
        }
      ]
    },
    {
      "cell_type": "markdown",
      "metadata": {
        "id": "Ey7an7ukLxWB"
      },
      "source": [
        "## 6. Conclusion and Interpretation"
      ]
    },
    {
      "cell_type": "markdown",
      "metadata": {
        "id": "ierrgMJJd1Os"
      },
      "source": [
        "*   Model is overfitting because it is an imbalanced class problem\n",
        "*   It is not able to predicto well for class 2, 3 and 4\n",
        "*   Neurons will required tweaking so that it does not overfit"
      ]
    },
    {
      "cell_type": "markdown",
      "metadata": {
        "id": "9nwOCcvqxVCH"
      },
      "source": [
        "## 7. Food for thought:\n",
        "\n",
        "1.) Change activation function (try leaky_relu or tanh) and see if it helps in improving model performance with the dataset that is highly imbalanced\n",
        "\n",
        "2.) Try with only the overall review feature and see if it leads to improvement in model performace\n",
        "\n",
        "3.) Change the hyperparameters of the model and compare the results "
      ]
    },
    {
      "cell_type": "code",
      "metadata": {
        "id": "VCylm4X8Nfik",
        "colab": {
          "base_uri": "https://localhost:8080/"
        },
        "outputId": "7e121433-4d62-47d4-a152-31efccb2526f"
      },
      "source": [
        "import tensorflow as tf\n",
        "from tensorflow.keras.models import Sequential\n",
        "from tensorflow.keras.layers import Embedding, Bidirectional, LSTM, Dense, Dropout, Flatten\n",
        "from functools import partial\n",
        "\n",
        "model = Sequential()\n",
        "model.add(Embedding(num_words, embedding_size, weights = [embedding_matrix], input_length=maxlen))\n",
        "model.add(LSTM(128, return_sequences = True))\n",
        "model.add(Flatten())\n",
        "model.add(Dense(512, activation='relu'))\n",
        "model.add(Dense(256, activation = 'relu'))\n",
        "model.add(Dense(128, activation = 'relu'))\n",
        "model.add(Dense(64, activation= 'relu'))\n",
        "model.add(Dropout(0.5))\n",
        "model.add(Dense(5, activation=\"tanh\"))\n",
        "model.compile(loss='categorical_crossentropy', optimizer='adam', metrics=['accuracy'])\n",
        "model.summary()"
      ],
      "execution_count": 100,
      "outputs": [
        {
          "output_type": "stream",
          "text": [
            "Model: \"sequential_2\"\n",
            "_________________________________________________________________\n",
            "Layer (type)                 Output Shape              Param #   \n",
            "=================================================================\n",
            "embedding_2 (Embedding)      (None, 25, 50)            441950    \n",
            "_________________________________________________________________\n",
            "lstm_2 (LSTM)                (None, 25, 128)           91648     \n",
            "_________________________________________________________________\n",
            "flatten_2 (Flatten)          (None, 3200)              0         \n",
            "_________________________________________________________________\n",
            "dense_10 (Dense)             (None, 512)               1638912   \n",
            "_________________________________________________________________\n",
            "dense_11 (Dense)             (None, 256)               131328    \n",
            "_________________________________________________________________\n",
            "dense_12 (Dense)             (None, 128)               32896     \n",
            "_________________________________________________________________\n",
            "dense_13 (Dense)             (None, 64)                8256      \n",
            "_________________________________________________________________\n",
            "dropout_2 (Dropout)          (None, 64)                0         \n",
            "_________________________________________________________________\n",
            "dense_14 (Dense)             (None, 5)                 325       \n",
            "=================================================================\n",
            "Total params: 2,345,315\n",
            "Trainable params: 2,345,315\n",
            "Non-trainable params: 0\n",
            "_________________________________________________________________\n"
          ],
          "name": "stdout"
        }
      ]
    },
    {
      "cell_type": "code",
      "metadata": {
        "id": "sva6kTEnduXE"
      },
      "source": [
        "model.compile(loss='categorical_crossentropy', optimizer='adam', metrics=['accuracy'])"
      ],
      "execution_count": 101,
      "outputs": []
    },
    {
      "cell_type": "code",
      "metadata": {
        "colab": {
          "base_uri": "https://localhost:8080/"
        },
        "id": "QAhUNwxtdu32",
        "outputId": "923d4186-8a2f-4f7e-cb00-ea9e6e5ed8fa"
      },
      "source": [
        "batch_size = 100\n",
        "epochs = 20\n",
        "\n",
        "training_history = model.fit(X_train, y_train, batch_size=batch_size, epochs=epochs, validation_data=(X_test, y_test))"
      ],
      "execution_count": 102,
      "outputs": [
        {
          "output_type": "stream",
          "text": [
            "Epoch 1/20\n",
            "16/16 [==============================] - 4s 133ms/step - loss: 3.9493 - accuracy: 0.0956 - val_loss: 10.8177 - val_accuracy: 0.0807\n",
            "Epoch 2/20\n",
            "16/16 [==============================] - 2s 105ms/step - loss: 8.1751 - accuracy: 0.0648 - val_loss: 13.1753 - val_accuracy: 0.0344\n",
            "Epoch 3/20\n",
            "16/16 [==============================] - 2s 102ms/step - loss: 5.4994 - accuracy: 0.0764 - val_loss: 1.5618 - val_accuracy: 0.0344\n",
            "Epoch 4/20\n",
            "16/16 [==============================] - 2s 104ms/step - loss: 2.7593 - accuracy: 0.2317 - val_loss: 1.3641 - val_accuracy: 0.7892\n",
            "Epoch 5/20\n",
            "16/16 [==============================] - 2s 105ms/step - loss: 4.6550 - accuracy: 0.3511 - val_loss: 1.9756 - val_accuracy: 0.7892\n",
            "Epoch 6/20\n",
            "16/16 [==============================] - 2s 103ms/step - loss: 7.7159 - accuracy: 0.4268 - val_loss: 13.8294 - val_accuracy: 0.7892\n",
            "Epoch 7/20\n",
            "16/16 [==============================] - 2s 103ms/step - loss: 8.3634 - accuracy: 0.3171 - val_loss: 13.8350 - val_accuracy: 0.0688\n",
            "Epoch 8/20\n",
            "16/16 [==============================] - 2s 105ms/step - loss: 5.1775 - accuracy: 0.1232 - val_loss: 2.1173 - val_accuracy: 0.0688\n",
            "Epoch 9/20\n",
            "16/16 [==============================] - 2s 103ms/step - loss: 3.4368 - accuracy: 0.0802 - val_loss: 1.6944 - val_accuracy: 0.0688\n",
            "Epoch 10/20\n",
            "16/16 [==============================] - 2s 104ms/step - loss: 3.1007 - accuracy: 0.0661 - val_loss: 1.6669 - val_accuracy: 0.0688\n",
            "Epoch 11/20\n",
            "16/16 [==============================] - 2s 103ms/step - loss: 2.5171 - accuracy: 0.0706 - val_loss: 1.6634 - val_accuracy: 0.0688\n",
            "Epoch 12/20\n",
            "16/16 [==============================] - 2s 105ms/step - loss: 2.1747 - accuracy: 0.0635 - val_loss: 1.6625 - val_accuracy: 0.0688\n",
            "Epoch 13/20\n",
            "16/16 [==============================] - 2s 105ms/step - loss: 2.6062 - accuracy: 0.0629 - val_loss: 1.6624 - val_accuracy: 0.0688\n",
            "Epoch 14/20\n",
            "16/16 [==============================] - 2s 105ms/step - loss: 2.0885 - accuracy: 0.0655 - val_loss: 1.6625 - val_accuracy: 0.0688\n",
            "Epoch 15/20\n",
            "16/16 [==============================] - 2s 102ms/step - loss: 1.9605 - accuracy: 0.0655 - val_loss: 1.6625 - val_accuracy: 0.0688\n",
            "Epoch 16/20\n",
            "16/16 [==============================] - 2s 103ms/step - loss: 2.0808 - accuracy: 0.0680 - val_loss: 1.6624 - val_accuracy: 0.0688\n",
            "Epoch 17/20\n",
            "16/16 [==============================] - 2s 103ms/step - loss: 1.9014 - accuracy: 0.0668 - val_loss: 1.6624 - val_accuracy: 0.0688\n",
            "Epoch 18/20\n",
            "16/16 [==============================] - 2s 101ms/step - loss: 1.7591 - accuracy: 0.0693 - val_loss: 1.6624 - val_accuracy: 0.0688\n",
            "Epoch 19/20\n",
            "16/16 [==============================] - 2s 104ms/step - loss: 1.9432 - accuracy: 0.0706 - val_loss: 1.6624 - val_accuracy: 0.0688\n",
            "Epoch 20/20\n",
            "16/16 [==============================] - 2s 103ms/step - loss: 1.8381 - accuracy: 0.0674 - val_loss: 1.6624 - val_accuracy: 0.0688\n"
          ],
          "name": "stdout"
        }
      ]
    },
    {
      "cell_type": "code",
      "metadata": {
        "id": "x0lGBcMReNgg"
      },
      "source": [
        "predictions = model.predict(X_test.reshape(len(X_test),25))\n",
        "y_test_inv = enc.inverse_transform(y_test)\n",
        "y_pred_inv = enc.inverse_transform(np.around(predictions))"
      ],
      "execution_count": 103,
      "outputs": []
    },
    {
      "cell_type": "code",
      "metadata": {
        "colab": {
          "base_uri": "https://localhost:8080/",
          "height": 562
        },
        "id": "quy-znByeZY4",
        "outputId": "75988dcb-105e-4ef1-eed1-2fbcb629e6d6"
      },
      "source": [
        "import matplotlib.pyplot as plt\n",
        "accuracy      = training_history.history['accuracy']\n",
        "val_accuracy  = training_history.history['val_accuracy']\n",
        "loss     = training_history.history['loss']\n",
        "val_loss = training_history.history['val_loss']\n",
        "\n",
        "epochs   = range(len(accuracy)) # Get number of epochs\n",
        "\n",
        "plt.plot  ( epochs, accuracy, label = 'training accuracy' )\n",
        "plt.plot  ( epochs, val_accuracy, label = 'validation accuracy' )\n",
        "plt.title ('Training and validation accuracy')\n",
        "plt.legend(loc = 'lower right')\n",
        "plt.figure()\n",
        "\n",
        "plt.plot  ( epochs, loss, label = 'training loss' )\n",
        "plt.plot  ( epochs, val_loss, label = 'validation loss' )\n",
        "plt.legend(loc = 'upper right')\n",
        "plt.title ('Training and validation loss'   )\n"
      ],
      "execution_count": 104,
      "outputs": [
        {
          "output_type": "execute_result",
          "data": {
            "text/plain": [
              "Text(0.5, 1.0, 'Training and validation loss')"
            ]
          },
          "metadata": {
            "tags": []
          },
          "execution_count": 104
        },
        {
          "output_type": "display_data",
          "data": {
            "image/png": "[encoded data removed]",
            "text/plain": [
              "<Figure size 432x288 with 1 Axes>"
            ]
          },
          "metadata": {
            "tags": [],
            "needs_background": "light"
          }
        },
        {
          "output_type": "display_data",
          "data": {
            "image/png": "[encoded data removed]",
            "text/plain": [
              "<Figure size 432x288 with 1 Axes>"
            ]
          },
          "metadata": {
            "tags": [],
            "needs_background": "light"
          }
        }
      ]
    },
    {
      "cell_type": "markdown",
      "metadata": {
        "id": "J1QVzaNledXA"
      },
      "source": [
        "As you can see using a TanH activation function doesn't give us any better results"
      ]
    }
  ]
}