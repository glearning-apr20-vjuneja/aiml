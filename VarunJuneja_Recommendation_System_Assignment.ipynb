{
  "nbformat": 4,
  "nbformat_minor": 0,
  "metadata": {
    "colab": {
      "name": "VarunJuneja_Recommendation System_Assignment.ipynb",
      "provenance": [],
      "collapsed_sections": []
    },
    "kernelspec": {
      "display_name": "Python 3",
      "language": "python",
      "name": "python3"
    },
    "language_info": {
      "codemirror_mode": {
        "name": "ipython",
        "version": 3
      },
      "file_extension": ".py",
      "mimetype": "text/x-python",
      "name": "python",
      "nbconvert_exporter": "python",
      "pygments_lexer": "ipython3",
      "version": "3.8.1"
    }
  },
  "cells": [
    {
      "cell_type": "markdown",
      "metadata": {
        "id": "yp7vZ3fqcDmU"
      },
      "source": [
        "# **Recommendation Systems**\r\n",
        "\r\n",
        "The below study is focussed on building recommendation systems using popularity & collaborative filtering methods. \r\n"
      ]
    },
    {
      "cell_type": "markdown",
      "metadata": {
        "id": "EiohkOrceSWF"
      },
      "source": [
        "## **1. Importing the necessary libraries, merging the files and cleaning them.**\r\n"
      ]
    },
    {
      "cell_type": "code",
      "metadata": {
        "id": "bu7VkSvkwAcx",
        "colab": {
          "base_uri": "https://localhost:8080/"
        },
        "outputId": "c0c06b0d-5fa6-4e6d-8357-13ade13e8212"
      },
      "source": [
        "# All Libraries to Import\r\n",
        "!pip install rake_nltk\r\n",
        "!pip install scikit-surprise\r\n",
        "from rake_nltk import Rake\r\n",
        "\r\n",
        "import pandas as pd\r\n",
        "import seaborn as sns\r\n",
        "\r\n",
        "from surprise import Dataset,Reader\r\n",
        "from surprise.model_selection import cross_validate\r\n",
        "from surprise import NormalPredictor\r\n",
        "from surprise.model_selection import train_test_split\r\n",
        "from surprise import SVD\r\n",
        "from surprise import accuracy\r\n",
        "from surprise import KNNWithMeans\r\n",
        "\r\n",
        "# Required for Rake\r\n",
        "import nltk\r\n",
        "nltk.download('punkt')\r\n",
        "\r\n",
        "from google.colab import drive\r\n",
        "drive.mount('/content/drive')\r\n",
        "\r\n"
      ],
      "execution_count": 1,
      "outputs": [
        {
          "output_type": "stream",
          "text": [
            "Collecting rake_nltk\n",
            "  Downloading https://files.pythonhosted.org/packages/8e/c4/b4ff57e541ac5624ad4b20b89c2bafd4e98f29fd83139f3a81858bdb3815/rake_nltk-1.0.4.tar.gz\n",
            "Requirement already satisfied: nltk in /usr/local/lib/python3.6/dist-packages (from rake_nltk) (3.2.5)\n",
            "Requirement already satisfied: six in /usr/local/lib/python3.6/dist-packages (from nltk->rake_nltk) (1.15.0)\n",
            "Building wheels for collected packages: rake-nltk\n",
            "  Building wheel for rake-nltk (setup.py) ... \u001b[?25l\u001b[?25hdone\n",
            "  Created wheel for rake-nltk: filename=rake_nltk-1.0.4-py2.py3-none-any.whl size=7819 sha256=150e8e3daee318023cb9816128bea1fcb0c3d1ce25edeea1525c74ed46b42051\n",
            "  Stored in directory: /root/.cache/pip/wheels/ef/92/fc/271b3709e71a96ffe934b27818946b795ac6b9b8ff8682483f\n",
            "Successfully built rake-nltk\n",
            "Installing collected packages: rake-nltk\n",
            "Successfully installed rake-nltk-1.0.4\n",
            "Collecting scikit-surprise\n",
            "\u001b[?25l  Downloading https://files.pythonhosted.org/packages/97/37/5d334adaf5ddd65da99fc65f6507e0e4599d092ba048f4302fe8775619e8/scikit-surprise-1.1.1.tar.gz (11.8MB)\n",
            "\u001b[K     |████████████████████████████████| 11.8MB 4.5MB/s \n",
            "\u001b[?25hRequirement already satisfied: joblib>=0.11 in /usr/local/lib/python3.6/dist-packages (from scikit-surprise) (1.0.0)\n",
            "Requirement already satisfied: numpy>=1.11.2 in /usr/local/lib/python3.6/dist-packages (from scikit-surprise) (1.19.5)\n",
            "Requirement already satisfied: scipy>=1.0.0 in /usr/local/lib/python3.6/dist-packages (from scikit-surprise) (1.4.1)\n",
            "Requirement already satisfied: six>=1.10.0 in /usr/local/lib/python3.6/dist-packages (from scikit-surprise) (1.15.0)\n",
            "Building wheels for collected packages: scikit-surprise\n",
            "  Building wheel for scikit-surprise (setup.py) ... \u001b[?25l\u001b[?25hdone\n",
            "  Created wheel for scikit-surprise: filename=scikit_surprise-1.1.1-cp36-cp36m-linux_x86_64.whl size=1618248 sha256=945f2a3776594fd32c52dedefed3d488a2e5db647f28797f373fd9f0eef5cdff\n",
            "  Stored in directory: /root/.cache/pip/wheels/78/9c/3d/41b419c9d2aff5b6e2b4c0fc8d25c538202834058f9ed110d0\n",
            "Successfully built scikit-surprise\n",
            "Installing collected packages: scikit-surprise\n",
            "Successfully installed scikit-surprise-1.1.1\n",
            "[nltk_data] Downloading package punkt to /root/nltk_data...\n",
            "[nltk_data]   Package punkt is already up-to-date!\n",
            "Mounted at /content/drive\n"
          ],
          "name": "stdout"
        }
      ]
    },
    {
      "cell_type": "markdown",
      "metadata": {
        "id": "SmihkmgxEN2o"
      },
      "source": [
        "### 1.1 Merging the CSV's into One Data Frame \r\n",
        "\r\n",
        "\r\n"
      ]
    },
    {
      "cell_type": "code",
      "metadata": {
        "colab": {
          "base_uri": "https://localhost:8080/"
        },
        "id": "bO-Fu6p8fJl0",
        "outputId": "a10cf6b6-1e4f-4bd5-c1e0-f36e34cd38f0"
      },
      "source": [
        "# Importing a static path from  my google drive; lesser time to type in order to specify the file path\r\n",
        "path = '/content/drive/MyDrive/Machine Learning/PGP AIML Course Files/Recommendation Systems/GL-Recommendation_Systems_Assignment/Dataset/'\r\n",
        "\r\n",
        "# Using a loop to merge all data files together\r\n",
        "dataSet = pd.DataFrame()\r\n",
        "for i in range(1,7):     \r\n",
        "    print(f'Merging File Id {i}; before merging the shape is {dataSet.shape}')\r\n",
        "    df = pd.read_csv(path+'phone_user_review_file_{}.csv'.format(i), sep=',', error_bad_lines=False, encoding='latin-1')\r\n",
        "    dataSet = dataSet.append(df)\r\n",
        "\r\n",
        "print(f'After Merging all 6 files the shape now is {dataSet.shape}')"
      ],
      "execution_count": 2,
      "outputs": [
        {
          "output_type": "stream",
          "text": [
            "Merging File Id 1; before merging the shape is (0, 0)\n",
            "Merging File Id 2; before merging the shape is (374910, 11)\n",
            "Merging File Id 3; before merging the shape is (489835, 11)\n",
            "Merging File Id 4; before merging the shape is (802796, 11)\n",
            "Merging File Id 5; before merging the shape is (901080, 11)\n",
            "Merging File Id 6; before merging the shape is (1251296, 11)\n",
            "After Merging all 6 files the shape now is (1415133, 11)\n"
          ],
          "name": "stdout"
        }
      ]
    },
    {
      "cell_type": "markdown",
      "metadata": {
        "id": "TbSdG5VwEcUQ"
      },
      "source": [
        "### 1.2 Shape of DataFrame and loading the data\r\n",
        "\r\n",
        "\r\n"
      ]
    },
    {
      "cell_type": "code",
      "metadata": {
        "colab": {
          "base_uri": "https://localhost:8080/"
        },
        "id": "3kGA_18FhOjf",
        "outputId": "39429c76-242a-404f-cdf5-1c63e89efa27"
      },
      "source": [
        "# Exploratory Data Analysis\r\n",
        "# 1. Shape of the DataFrame: 1.4M reviews across 11 columns\r\n",
        "dataSet.shape"
      ],
      "execution_count": 3,
      "outputs": [
        {
          "output_type": "execute_result",
          "data": {
            "text/plain": [
              "(1415133, 11)"
            ]
          },
          "metadata": {
            "tags": []
          },
          "execution_count": 3
        }
      ]
    },
    {
      "cell_type": "code",
      "metadata": {
        "colab": {
          "base_uri": "https://localhost:8080/",
          "height": 281
        },
        "id": "G-til1sAi7b6",
        "outputId": "b2c86b3a-9c14-4e29-863e-17fac17f6d21"
      },
      "source": [
        "# 2. Checking a few observations\r\n",
        "dataSet.head()\r\n",
        "\r\n",
        "# This dataset has phone_url (not required - would be from some site)\r\n",
        "# Date - date of the review (interesting to see trends, if time permits can do that analysis)\r\n",
        "# Language and Country\r\n",
        "# Source of the Review and the domain\r\n",
        "# Score given out of maximum score possible\r\n",
        "# Extract is the feedback\r\n",
        "# Author's Id or name etc.\r\n",
        "# Product for which the review was given"
      ],
      "execution_count": 4,
      "outputs": [
        {
          "output_type": "execute_result",
          "data": {
            "text/html": [
              "<div>\n",
              "<style scoped>\n",
              "    .dataframe tbody tr th:only-of-type {\n",
              "        vertical-align: middle;\n",
              "    }\n",
              "\n",
              "    .dataframe tbody tr th {\n",
              "        vertical-align: top;\n",
              "    }\n",
              "\n",
              "    .dataframe thead th {\n",
              "        text-align: right;\n",
              "    }\n",
              "</style>\n",
              "<table border=\"1\" class=\"dataframe\">\n",
              "  <thead>\n",
              "    <tr style=\"text-align: right;\">\n",
              "      <th></th>\n",
              "      <th>phone_url</th>\n",
              "      <th>date</th>\n",
              "      <th>lang</th>\n",
              "      <th>country</th>\n",
              "      <th>source</th>\n",
              "      <th>domain</th>\n",
              "      <th>score</th>\n",
              "      <th>score_max</th>\n",
              "      <th>extract</th>\n",
              "      <th>author</th>\n",
              "      <th>product</th>\n",
              "    </tr>\n",
              "  </thead>\n",
              "  <tbody>\n",
              "    <tr>\n",
              "      <th>0</th>\n",
              "      <td>/cellphones/samsung-galaxy-s8/</td>\n",
              "      <td>5/2/2017</td>\n",
              "      <td>en</td>\n",
              "      <td>us</td>\n",
              "      <td>Verizon Wireless</td>\n",
              "      <td>verizonwireless.com</td>\n",
              "      <td>10.0</td>\n",
              "      <td>10.0</td>\n",
              "      <td>As a diehard Samsung fan who has had every Sam...</td>\n",
              "      <td>CarolAnn35</td>\n",
              "      <td>Samsung Galaxy S8</td>\n",
              "    </tr>\n",
              "    <tr>\n",
              "      <th>1</th>\n",
              "      <td>/cellphones/samsung-galaxy-s8/</td>\n",
              "      <td>4/28/2017</td>\n",
              "      <td>en</td>\n",
              "      <td>us</td>\n",
              "      <td>Phone Arena</td>\n",
              "      <td>phonearena.com</td>\n",
              "      <td>10.0</td>\n",
              "      <td>10.0</td>\n",
              "      <td>Love the phone. the phone is sleek and smooth ...</td>\n",
              "      <td>james0923</td>\n",
              "      <td>Samsung Galaxy S8</td>\n",
              "    </tr>\n",
              "    <tr>\n",
              "      <th>2</th>\n",
              "      <td>/cellphones/samsung-galaxy-s8/</td>\n",
              "      <td>5/4/2017</td>\n",
              "      <td>en</td>\n",
              "      <td>us</td>\n",
              "      <td>Amazon</td>\n",
              "      <td>amazon.com</td>\n",
              "      <td>6.0</td>\n",
              "      <td>10.0</td>\n",
              "      <td>Adequate feel. Nice heft. Processor's still sl...</td>\n",
              "      <td>R. Craig</td>\n",
              "      <td>Samsung Galaxy S8 (64GB) G950U 5.8\" 4G LTE Unl...</td>\n",
              "    </tr>\n",
              "    <tr>\n",
              "      <th>3</th>\n",
              "      <td>/cellphones/samsung-galaxy-s8/</td>\n",
              "      <td>5/2/2017</td>\n",
              "      <td>en</td>\n",
              "      <td>us</td>\n",
              "      <td>Samsung</td>\n",
              "      <td>samsung.com</td>\n",
              "      <td>9.2</td>\n",
              "      <td>10.0</td>\n",
              "      <td>Never disappointed. One of the reasons I've be...</td>\n",
              "      <td>Buster2020</td>\n",
              "      <td>Samsung Galaxy S8 64GB (AT&amp;T)</td>\n",
              "    </tr>\n",
              "    <tr>\n",
              "      <th>4</th>\n",
              "      <td>/cellphones/samsung-galaxy-s8/</td>\n",
              "      <td>5/11/2017</td>\n",
              "      <td>en</td>\n",
              "      <td>us</td>\n",
              "      <td>Verizon Wireless</td>\n",
              "      <td>verizonwireless.com</td>\n",
              "      <td>4.0</td>\n",
              "      <td>10.0</td>\n",
              "      <td>I've now found that i'm in a group of people t...</td>\n",
              "      <td>S Ate Mine</td>\n",
              "      <td>Samsung Galaxy S8</td>\n",
              "    </tr>\n",
              "  </tbody>\n",
              "</table>\n",
              "</div>"
            ],
            "text/plain": [
              "                        phone_url  ...                                            product\n",
              "0  /cellphones/samsung-galaxy-s8/  ...                                  Samsung Galaxy S8\n",
              "1  /cellphones/samsung-galaxy-s8/  ...                                  Samsung Galaxy S8\n",
              "2  /cellphones/samsung-galaxy-s8/  ...  Samsung Galaxy S8 (64GB) G950U 5.8\" 4G LTE Unl...\n",
              "3  /cellphones/samsung-galaxy-s8/  ...                      Samsung Galaxy S8 64GB (AT&T)\n",
              "4  /cellphones/samsung-galaxy-s8/  ...                                  Samsung Galaxy S8\n",
              "\n",
              "[5 rows x 11 columns]"
            ]
          },
          "metadata": {
            "tags": []
          },
          "execution_count": 4
        }
      ]
    },
    {
      "cell_type": "code",
      "metadata": {
        "colab": {
          "base_uri": "https://localhost:8080/"
        },
        "id": "zJL7OWUljvfN",
        "outputId": "22fb39e8-d1ed-4e71-a017-f3ee080606dc"
      },
      "source": [
        "# Checking data types\r\n",
        "dataSet.info()\r\n",
        "# seems to be in order\r\n",
        "# Also definately there are some Null Values in Score, Score_Max, Extract and Author which is visible by the difference in the Non-Null count figures"
      ],
      "execution_count": 5,
      "outputs": [
        {
          "output_type": "stream",
          "text": [
            "<class 'pandas.core.frame.DataFrame'>\n",
            "Int64Index: 1415133 entries, 0 to 163836\n",
            "Data columns (total 11 columns):\n",
            " #   Column     Non-Null Count    Dtype  \n",
            "---  ------     --------------    -----  \n",
            " 0   phone_url  1415133 non-null  object \n",
            " 1   date       1415133 non-null  object \n",
            " 2   lang       1415133 non-null  object \n",
            " 3   country    1415133 non-null  object \n",
            " 4   source     1415133 non-null  object \n",
            " 5   domain     1415133 non-null  object \n",
            " 6   score      1351644 non-null  float64\n",
            " 7   score_max  1351644 non-null  float64\n",
            " 8   extract    1395772 non-null  object \n",
            " 9   author     1351931 non-null  object \n",
            " 10  product    1415132 non-null  object \n",
            "dtypes: float64(2), object(9)\n",
            "memory usage: 129.6+ MB\n"
          ],
          "name": "stdout"
        }
      ]
    },
    {
      "cell_type": "code",
      "metadata": {
        "colab": {
          "base_uri": "https://localhost:8080/",
          "height": 287
        },
        "id": "1piX0LBukMGq",
        "outputId": "84ce937b-0f8e-4d8c-87e1-843ea325de0b"
      },
      "source": [
        "dataSet.describe()\r\n",
        "# Scoremax as a column can be dropped; we can see all scores are out of 10 only"
      ],
      "execution_count": 6,
      "outputs": [
        {
          "output_type": "execute_result",
          "data": {
            "text/html": [
              "<div>\n",
              "<style scoped>\n",
              "    .dataframe tbody tr th:only-of-type {\n",
              "        vertical-align: middle;\n",
              "    }\n",
              "\n",
              "    .dataframe tbody tr th {\n",
              "        vertical-align: top;\n",
              "    }\n",
              "\n",
              "    .dataframe thead th {\n",
              "        text-align: right;\n",
              "    }\n",
              "</style>\n",
              "<table border=\"1\" class=\"dataframe\">\n",
              "  <thead>\n",
              "    <tr style=\"text-align: right;\">\n",
              "      <th></th>\n",
              "      <th>score</th>\n",
              "      <th>score_max</th>\n",
              "    </tr>\n",
              "  </thead>\n",
              "  <tbody>\n",
              "    <tr>\n",
              "      <th>count</th>\n",
              "      <td>1.351644e+06</td>\n",
              "      <td>1351644.0</td>\n",
              "    </tr>\n",
              "    <tr>\n",
              "      <th>mean</th>\n",
              "      <td>8.007060e+00</td>\n",
              "      <td>10.0</td>\n",
              "    </tr>\n",
              "    <tr>\n",
              "      <th>std</th>\n",
              "      <td>2.616121e+00</td>\n",
              "      <td>0.0</td>\n",
              "    </tr>\n",
              "    <tr>\n",
              "      <th>min</th>\n",
              "      <td>2.000000e-01</td>\n",
              "      <td>10.0</td>\n",
              "    </tr>\n",
              "    <tr>\n",
              "      <th>25%</th>\n",
              "      <td>7.200000e+00</td>\n",
              "      <td>10.0</td>\n",
              "    </tr>\n",
              "    <tr>\n",
              "      <th>50%</th>\n",
              "      <td>9.200000e+00</td>\n",
              "      <td>10.0</td>\n",
              "    </tr>\n",
              "    <tr>\n",
              "      <th>75%</th>\n",
              "      <td>1.000000e+01</td>\n",
              "      <td>10.0</td>\n",
              "    </tr>\n",
              "    <tr>\n",
              "      <th>max</th>\n",
              "      <td>1.000000e+01</td>\n",
              "      <td>10.0</td>\n",
              "    </tr>\n",
              "  </tbody>\n",
              "</table>\n",
              "</div>"
            ],
            "text/plain": [
              "              score  score_max\n",
              "count  1.351644e+06  1351644.0\n",
              "mean   8.007060e+00       10.0\n",
              "std    2.616121e+00        0.0\n",
              "min    2.000000e-01       10.0\n",
              "25%    7.200000e+00       10.0\n",
              "50%    9.200000e+00       10.0\n",
              "75%    1.000000e+01       10.0\n",
              "max    1.000000e+01       10.0"
            ]
          },
          "metadata": {
            "tags": []
          },
          "execution_count": 6
        }
      ]
    },
    {
      "cell_type": "markdown",
      "metadata": {
        "id": "CGllob9DEpng"
      },
      "source": [
        "### 1.3 Rounding off scores to the nearest integer\r\n",
        "\r\n",
        "\r\n"
      ]
    },
    {
      "cell_type": "code",
      "metadata": {
        "colab": {
          "base_uri": "https://localhost:8080/",
          "height": 281
        },
        "id": "RzDGTteXjayf",
        "outputId": "b7d54e9c-1d9d-443a-8656-b957e04d9608"
      },
      "source": [
        "#3. Round of the scores to the nearest integer\r\n",
        "\r\n",
        "dataSet['score'] = round(dataSet['score'],0)\r\n",
        "\r\n",
        "dataSet.head()\r\n",
        "# As you can see between this one and the above dataframe which was loaded the scores have been rounded to the nearest integer"
      ],
      "execution_count": 7,
      "outputs": [
        {
          "output_type": "execute_result",
          "data": {
            "text/html": [
              "<div>\n",
              "<style scoped>\n",
              "    .dataframe tbody tr th:only-of-type {\n",
              "        vertical-align: middle;\n",
              "    }\n",
              "\n",
              "    .dataframe tbody tr th {\n",
              "        vertical-align: top;\n",
              "    }\n",
              "\n",
              "    .dataframe thead th {\n",
              "        text-align: right;\n",
              "    }\n",
              "</style>\n",
              "<table border=\"1\" class=\"dataframe\">\n",
              "  <thead>\n",
              "    <tr style=\"text-align: right;\">\n",
              "      <th></th>\n",
              "      <th>phone_url</th>\n",
              "      <th>date</th>\n",
              "      <th>lang</th>\n",
              "      <th>country</th>\n",
              "      <th>source</th>\n",
              "      <th>domain</th>\n",
              "      <th>score</th>\n",
              "      <th>score_max</th>\n",
              "      <th>extract</th>\n",
              "      <th>author</th>\n",
              "      <th>product</th>\n",
              "    </tr>\n",
              "  </thead>\n",
              "  <tbody>\n",
              "    <tr>\n",
              "      <th>0</th>\n",
              "      <td>/cellphones/samsung-galaxy-s8/</td>\n",
              "      <td>5/2/2017</td>\n",
              "      <td>en</td>\n",
              "      <td>us</td>\n",
              "      <td>Verizon Wireless</td>\n",
              "      <td>verizonwireless.com</td>\n",
              "      <td>10.0</td>\n",
              "      <td>10.0</td>\n",
              "      <td>As a diehard Samsung fan who has had every Sam...</td>\n",
              "      <td>CarolAnn35</td>\n",
              "      <td>Samsung Galaxy S8</td>\n",
              "    </tr>\n",
              "    <tr>\n",
              "      <th>1</th>\n",
              "      <td>/cellphones/samsung-galaxy-s8/</td>\n",
              "      <td>4/28/2017</td>\n",
              "      <td>en</td>\n",
              "      <td>us</td>\n",
              "      <td>Phone Arena</td>\n",
              "      <td>phonearena.com</td>\n",
              "      <td>10.0</td>\n",
              "      <td>10.0</td>\n",
              "      <td>Love the phone. the phone is sleek and smooth ...</td>\n",
              "      <td>james0923</td>\n",
              "      <td>Samsung Galaxy S8</td>\n",
              "    </tr>\n",
              "    <tr>\n",
              "      <th>2</th>\n",
              "      <td>/cellphones/samsung-galaxy-s8/</td>\n",
              "      <td>5/4/2017</td>\n",
              "      <td>en</td>\n",
              "      <td>us</td>\n",
              "      <td>Amazon</td>\n",
              "      <td>amazon.com</td>\n",
              "      <td>6.0</td>\n",
              "      <td>10.0</td>\n",
              "      <td>Adequate feel. Nice heft. Processor's still sl...</td>\n",
              "      <td>R. Craig</td>\n",
              "      <td>Samsung Galaxy S8 (64GB) G950U 5.8\" 4G LTE Unl...</td>\n",
              "    </tr>\n",
              "    <tr>\n",
              "      <th>3</th>\n",
              "      <td>/cellphones/samsung-galaxy-s8/</td>\n",
              "      <td>5/2/2017</td>\n",
              "      <td>en</td>\n",
              "      <td>us</td>\n",
              "      <td>Samsung</td>\n",
              "      <td>samsung.com</td>\n",
              "      <td>9.0</td>\n",
              "      <td>10.0</td>\n",
              "      <td>Never disappointed. One of the reasons I've be...</td>\n",
              "      <td>Buster2020</td>\n",
              "      <td>Samsung Galaxy S8 64GB (AT&amp;T)</td>\n",
              "    </tr>\n",
              "    <tr>\n",
              "      <th>4</th>\n",
              "      <td>/cellphones/samsung-galaxy-s8/</td>\n",
              "      <td>5/11/2017</td>\n",
              "      <td>en</td>\n",
              "      <td>us</td>\n",
              "      <td>Verizon Wireless</td>\n",
              "      <td>verizonwireless.com</td>\n",
              "      <td>4.0</td>\n",
              "      <td>10.0</td>\n",
              "      <td>I've now found that i'm in a group of people t...</td>\n",
              "      <td>S Ate Mine</td>\n",
              "      <td>Samsung Galaxy S8</td>\n",
              "    </tr>\n",
              "  </tbody>\n",
              "</table>\n",
              "</div>"
            ],
            "text/plain": [
              "                        phone_url  ...                                            product\n",
              "0  /cellphones/samsung-galaxy-s8/  ...                                  Samsung Galaxy S8\n",
              "1  /cellphones/samsung-galaxy-s8/  ...                                  Samsung Galaxy S8\n",
              "2  /cellphones/samsung-galaxy-s8/  ...  Samsung Galaxy S8 (64GB) G950U 5.8\" 4G LTE Unl...\n",
              "3  /cellphones/samsung-galaxy-s8/  ...                      Samsung Galaxy S8 64GB (AT&T)\n",
              "4  /cellphones/samsung-galaxy-s8/  ...                                  Samsung Galaxy S8\n",
              "\n",
              "[5 rows x 11 columns]"
            ]
          },
          "metadata": {
            "tags": []
          },
          "execution_count": 7
        }
      ]
    },
    {
      "cell_type": "markdown",
      "metadata": {
        "id": "svqYanUEFZDJ"
      },
      "source": [
        "### 1.4 Checking and Imputing Missing Values\r\n",
        "\r\n",
        "\r\n"
      ]
    },
    {
      "cell_type": "code",
      "metadata": {
        "colab": {
          "base_uri": "https://localhost:8080/"
        },
        "id": "ni7HrgPikaLU",
        "outputId": "93e9bc84-4a36-4448-9dd0-8650e0dd69cf"
      },
      "source": [
        "# There is a possibility that still within these features there could be some values which are blank\r\n",
        "# Now doing a for loop to check for these\r\n",
        "\r\n",
        "for col in dataSet.columns:\r\n",
        "    print (\"# of \", col, \" is null =\", dataSet[col].isnull().sum())\r\n",
        "\r\n",
        "# As we can see there are 63k reviews where the score is null\r\n",
        "# We will impute these values with the score from the same domain"
      ],
      "execution_count": 8,
      "outputs": [
        {
          "output_type": "stream",
          "text": [
            "# of  phone_url  is null = 0\n",
            "# of  date  is null = 0\n",
            "# of  lang  is null = 0\n",
            "# of  country  is null = 0\n",
            "# of  source  is null = 0\n",
            "# of  domain  is null = 0\n",
            "# of  score  is null = 63489\n",
            "# of  score_max  is null = 63489\n",
            "# of  extract  is null = 19361\n",
            "# of  author  is null = 63202\n",
            "# of  product  is null = 1\n"
          ],
          "name": "stdout"
        }
      ]
    },
    {
      "cell_type": "code",
      "metadata": {
        "colab": {
          "base_uri": "https://localhost:8080/"
        },
        "id": "qs3UdtG5mjLQ",
        "outputId": "ee311e74-f4ba-40f1-ee8b-7391ccaca59a"
      },
      "source": [
        "# Running the code below to impute only the Score; remaining author, extract we are not imputing and these rows will be dropped\r\n",
        "# Score_Max is always 10; as shown in the describe above hence it need not be imputed\r\n",
        "\r\n",
        "# We will impute this basis domain and here is the thought\r\n",
        "# 1. Domain is basis geography so we will capture how users in a geo think about a phone\r\n",
        "# 2. Then there are specialized websites like phonearena where users are more technical than others, for such users we will capture that nuance as well\r\n",
        "\r\n",
        "domainValues = dataSet['domain'].value_counts().index\r\n",
        "print(f'There are a total of {len(domainValues)} brands')\r\n",
        "\r\n",
        "for x in domainValues:\r\n",
        "    tempDF = dataSet[dataSet['domain'] == x]\r\n",
        "    median = tempDF['score'].median()\r\n",
        "    missingRecords = dataSet[(dataSet['domain']==x) & (dataSet['score'].isnull())].shape[0]\r\n",
        "    if missingRecords != 0:\r\n",
        "      print(f'Got a Total Of {missingRecords} records for {x}, setting the median rating to {median} for these.')\r\n",
        "      dataSet.loc[(dataSet['domain']==x) & (dataSet['score'].isnull() == True), 'score'] = median # This will impute blanks with median\r\n",
        "\r\n",
        "# As you can see the imputation was absolutely right this has a number of smaller regional websites\r\n",
        "# Hence imputing for median basis the domain name was the right thing to do \r\n",
        "\r\n",
        "# Also note for some of the websites like tiklayaz.com with 12600 records there were no ratings to impute \r\n",
        "# Also for avis.sfr.fr with 10505 again no imputations could be made\r\n",
        "# We might have to drop 'nan' records after this imputation"
      ],
      "execution_count": 9,
      "outputs": [
        {
          "output_type": "stream",
          "text": [
            "There are a total of 384 brands\n",
            "Got a Total Of 13 records for amazon.de, setting the median rating to 10.0 for these.\n",
            "Got a Total Of 33 records for market.yandex.ru, setting the median rating to 8.0 for these.\n",
            "Got a Total Of 3 records for phonearena.com, setting the median rating to 9.0 for these.\n",
            "Got a Total Of 29 records for ciao.it, setting the median rating to 8.0 for these.\n",
            "Got a Total Of 669 records for phonescoop.com, setting the median rating to 9.0 for these.\n",
            "Got a Total Of 3956 records for svyaznoy.ru, setting the median rating to 10.0 for these.\n",
            "Got a Total Of 673 records for hotline.ua, setting the median rating to 10.0 for these.\n",
            "Got a Total Of 6 records for bondfaro.com.br, setting the median rating to 10.0 for these.\n",
            "Got a Total Of 12602 records for tiklayaz.com, setting the median rating to nan for these.\n",
            "Got a Total Of 1 records for ciao.es, setting the median rating to 8.0 for these.\n",
            "Got a Total Of 10505 records for avis.sfr.fr, setting the median rating to nan for these.\n",
            "Got a Total Of 9533 records for cissamagazine.com.br, setting the median rating to 10.0 for these.\n",
            "Got a Total Of 25 records for ciao.de, setting the median rating to 8.0 for these.\n",
            "Got a Total Of 9 records for ciao.co.uk, setting the median rating to 8.0 for these.\n",
            "Got a Total Of 7 records for dooyoo.co.uk, setting the median rating to 8.0 for these.\n",
            "Got a Total Of 33 records for lg.com, setting the median rating to 10.0 for these.\n",
            "Got a Total Of 7125 records for cepworld.com, setting the median rating to nan for these.\n",
            "Got a Total Of 2 records for ciao.fr, setting the median rating to 8.0 for these.\n",
            "Got a Total Of 1723 records for handcellphone.com, setting the median rating to 8.0 for these.\n",
            "Got a Total Of 274 records for inceleme.gittigidiyor.com, setting the median rating to 10.0 for these.\n",
            "Got a Total Of 2890 records for yopi.de, setting the median rating to 10.0 for these.\n",
            "Got a Total Of 318 records for graphmobile.com, setting the median rating to 8.0 for these.\n",
            "Got a Total Of 61 records for inside-handy.de, setting the median rating to 8.0 for these.\n",
            "Got a Total Of 12 records for mob.ua, setting the median rating to 10.0 for these.\n",
            "Got a Total Of 33 records for dooyoo.it, setting the median rating to 8.0 for these.\n",
            "Got a Total Of 2502 records for reviewstream.com, setting the median rating to 10.0 for these.\n",
            "Got a Total Of 2452 records for note.utinet.ru, setting the median rating to nan for these.\n",
            "Got a Total Of 30 records for smartphoneshop.nl, setting the median rating to 9.0 for these.\n",
            "Got a Total Of 2359 records for schede-cellulari.it, setting the median rating to nan for these.\n",
            "Got a Total Of 20 records for pdashop.nl, setting the median rating to 9.0 for these.\n",
            "Got a Total Of 38 records for alza.cz, setting the median rating to 10.0 for these.\n",
            "Got a Total Of 5 records for rueducommerce.fr, setting the median rating to 10.0 for these.\n",
            "Got a Total Of 1 records for 91mobiles.com, setting the median rating to 8.0 for these.\n",
            "Got a Total Of 2 records for ciao.se, setting the median rating to 8.0 for these.\n",
            "Got a Total Of 7 records for ciao-shopping.nl, setting the median rating to 8.0 for these.\n",
            "Got a Total Of 241 records for fotos.ua, setting the median rating to 10.0 for these.\n",
            "Got a Total Of 4 records for kabum.com.br, setting the median rating to 10.0 for these.\n",
            "Got a Total Of 1267 records for mvideo.ru, setting the median rating to nan for these.\n",
            "Got a Total Of 222 records for shopmania.es, setting the median rating to 10.0 for these.\n",
            "Got a Total Of 3 records for phonehouse.es, setting the median rating to 8.0 for these.\n",
            "Got a Total Of 970 records for tecnozoom.it, setting the median rating to nan for these.\n",
            "Got a Total Of 913 records for cimri.com, setting the median rating to 10.0 for these.\n",
            "Got a Total Of 29 records for toneto.net, setting the median rating to 9.0 for these.\n",
            "Got a Total Of 1 records for mobiles-actus.com, setting the median rating to 8.0 for these.\n",
            "Got a Total Of 21 records for pccomponentes.com, setting the median rating to 10.0 for these.\n",
            "Got a Total Of 515 records for guenstiger.de, setting the median rating to nan for these.\n",
            "Got a Total Of 12 records for citilink.ru, setting the median rating to 8.0 for these.\n",
            "Got a Total Of 481 records for ceptown.com, setting the median rating to nan for these.\n",
            "Got a Total Of 3 records for mediamarkt.es, setting the median rating to 10.0 for these.\n",
            "Got a Total Of 28 records for tweakers.net, setting the median rating to 10.0 for these.\n",
            "Got a Total Of 183 records for hear.nl, setting the median rating to 9.0 for these.\n",
            "Got a Total Of 1 records for looneo.fr, setting the median rating to 8.0 for these.\n",
            "Got a Total Of 40 records for market.mediamarkt.ru, setting the median rating to 10.0 for these.\n",
            "Got a Total Of 171 records for miky.nl, setting the median rating to nan for these.\n",
            "Got a Total Of 12 records for orange.pl, setting the median rating to 10.0 for these.\n",
            "Got a Total Of 101 records for metamarket.ua, setting the median rating to 10.0 for these.\n",
            "Got a Total Of 2 records for itp.net, setting the median rating to 8.0 for these.\n",
            "Got a Total Of 1 records for shopping.com, setting the median rating to 8.0 for these.\n",
            "Got a Total Of 6 records for topmobile.org, setting the median rating to 9.0 for these.\n",
            "Got a Total Of 38 records for protoria.ua, setting the median rating to 10.0 for these.\n",
            "Got a Total Of 2 records for zopper.com, setting the median rating to 8.0 for these.\n",
            "Got a Total Of 52 records for CompareStorePrices.co.uk, setting the median rating to 8.0 for these.\n",
            "Got a Total Of 49 records for shopping.uol.com.br, setting the median rating to 9.0 for these.\n",
            "Got a Total Of 39 records for pebuzz.com, setting the median rating to nan for these.\n",
            "Got a Total Of 36 records for winniekepala.com, setting the median rating to nan for these.\n",
            "Got a Total Of 19 records for sonystyle.com, setting the median rating to 10.0 for these.\n",
            "Got a Total Of 18 records for hsn.com, setting the median rating to nan for these.\n",
            "Got a Total Of 1 records for geizhals.de, setting the median rating to 10.0 for these.\n",
            "Got a Total Of 10 records for thetenwordreview.com, setting the median rating to nan for these.\n",
            "Got a Total Of 9 records for linio.com.ve, setting the median rating to nan for these.\n",
            "Got a Total Of 9 records for eprice.com.tw, setting the median rating to nan for these.\n",
            "Got a Total Of 5 records for brothersontech.com, setting the median rating to nan for these.\n",
            "Got a Total Of 4 records for techlore.com, setting the median rating to nan for these.\n",
            "Got a Total Of 2 records for zura.com.br, setting the median rating to 6.5 for these.\n",
            "Got a Total Of 2 records for produkt-news.com, setting the median rating to 10.0 for these.\n",
            "Got a Total Of 3 records for pbtech.nz, setting the median rating to nan for these.\n",
            "Got a Total Of 3 records for pontodepromocao.com.br, setting the median rating to nan for these.\n",
            "Got a Total Of 2 records for inphone.dk, setting the median rating to nan for these.\n",
            "Got a Total Of 2 records for izideal.co.uk, setting the median rating to nan for these.\n",
            "Got a Total Of 2 records for japan.cnet.com, setting the median rating to nan for these.\n",
            "Got a Total Of 1 records for pocketgpsworld.com, setting the median rating to 10.0 for these.\n",
            "Got a Total Of 1 records for backpacker.com, setting the median rating to nan for these.\n",
            "Got a Total Of 1 records for dwidigitalcameras.com.au, setting the median rating to nan for these.\n",
            "Got a Total Of 1 records for namering.egloos.com, setting the median rating to nan for these.\n"
          ],
          "name": "stdout"
        }
      ]
    },
    {
      "cell_type": "code",
      "metadata": {
        "colab": {
          "base_uri": "https://localhost:8080/"
        },
        "id": "avpCmgcvo3Bs",
        "outputId": "b65fd135-e980-4d7e-f875-905342ddec7f"
      },
      "source": [
        "# Re-running the code to see if any blanks remain\r\n",
        "for col in dataSet.columns:\r\n",
        "    print (\"# of \", col, \" is null =\", dataSet[col].isnull().sum())\r\n",
        "\r\n",
        "# As reasoned above, these do remain"
      ],
      "execution_count": 10,
      "outputs": [
        {
          "output_type": "stream",
          "text": [
            "# of  phone_url  is null = 0\n",
            "# of  date  is null = 0\n",
            "# of  lang  is null = 0\n",
            "# of  country  is null = 0\n",
            "# of  source  is null = 0\n",
            "# of  domain  is null = 0\n",
            "# of  score  is null = 38592\n",
            "# of  score_max  is null = 63489\n",
            "# of  extract  is null = 19361\n",
            "# of  author  is null = 63202\n",
            "# of  product  is null = 1\n"
          ],
          "name": "stdout"
        }
      ]
    },
    {
      "cell_type": "code",
      "metadata": {
        "id": "5v_2fxBltvpg"
      },
      "source": [
        "# Dropping null values now\r\n",
        "dataSet.dropna(inplace=True) "
      ],
      "execution_count": 11,
      "outputs": []
    },
    {
      "cell_type": "code",
      "metadata": {
        "colab": {
          "base_uri": "https://localhost:8080/"
        },
        "id": "dAG2E7IOt-6p",
        "outputId": "aa9eac32-94e7-46f4-cfa1-11e1220dfc54"
      },
      "source": [
        "# Re-running the code for one last time to see if any na remain\r\n",
        "for col in dataSet.columns:\r\n",
        "    print (\"# of \", col, \" is null =\", dataSet[col].isnull().sum())\r\n",
        "\r\n",
        "# All Clean, ready to proeed"
      ],
      "execution_count": 12,
      "outputs": [
        {
          "output_type": "stream",
          "text": [
            "# of  phone_url  is null = 0\n",
            "# of  date  is null = 0\n",
            "# of  lang  is null = 0\n",
            "# of  country  is null = 0\n",
            "# of  source  is null = 0\n",
            "# of  domain  is null = 0\n",
            "# of  score  is null = 0\n",
            "# of  score_max  is null = 0\n",
            "# of  extract  is null = 0\n",
            "# of  author  is null = 0\n",
            "# of  product  is null = 0\n"
          ],
          "name": "stdout"
        }
      ]
    },
    {
      "cell_type": "code",
      "metadata": {
        "colab": {
          "base_uri": "https://localhost:8080/"
        },
        "id": "eE_uDF88l0ot",
        "outputId": "a39eeae3-6579-4e04-c09b-71ff27bc89cd"
      },
      "source": [
        "# Also checking rows where score is 0\r\n",
        "dataSet[(dataSet == 0).any(axis=1)].shape\r\n",
        "\r\n",
        "# As we can see there are 42 rows where Score is 0\r\n",
        "# We will NOT drop these rows \r\n",
        "# It could be that these are actual ratings and for different phones on toneto.net people are upset about"
      ],
      "execution_count": 13,
      "outputs": [
        {
          "output_type": "execute_result",
          "data": {
            "text/plain": [
              "(42, 11)"
            ]
          },
          "metadata": {
            "tags": []
          },
          "execution_count": 13
        }
      ]
    },
    {
      "cell_type": "markdown",
      "metadata": {
        "id": "Ya_fC-1XF__8"
      },
      "source": [
        "### 1.5 Duplicate Entries - Check & Removal\r\n",
        "\r\n"
      ]
    },
    {
      "cell_type": "code",
      "metadata": {
        "colab": {
          "base_uri": "https://localhost:8080/"
        },
        "id": "t1mZT1LuuxNu",
        "outputId": "01f3bf29-d037-4ce5-b39a-38829a6fbcad"
      },
      "source": [
        "# Checking for duplicate feedbacks\r\n",
        "# First we will check the count and then we will drop\r\n",
        "\r\n",
        "dataSet.duplicated(keep='first').value_counts()"
      ],
      "execution_count": 14,
      "outputs": [
        {
          "output_type": "execute_result",
          "data": {
            "text/plain": [
              "False    1271437\n",
              "True        4480\n",
              "dtype: int64"
            ]
          },
          "metadata": {
            "tags": []
          },
          "execution_count": 14
        }
      ]
    },
    {
      "cell_type": "code",
      "metadata": {
        "id": "Rro4_dHVvYEy"
      },
      "source": [
        "# Since 4480 is a small number now dropping the records\r\n",
        "dataSet.drop_duplicates(inplace=True)"
      ],
      "execution_count": 15,
      "outputs": []
    },
    {
      "cell_type": "code",
      "metadata": {
        "colab": {
          "base_uri": "https://localhost:8080/"
        },
        "id": "Ryi7_-Lsxsru",
        "outputId": "355e8dad-411d-4373-f412-eece6cef88c6"
      },
      "source": [
        "# Now checking to ensure the records were dropped\r\n",
        "dataSet.duplicated(keep='first').value_counts()\r\n",
        "\r\n",
        "# as you can see no more duplicates remain"
      ],
      "execution_count": 16,
      "outputs": [
        {
          "output_type": "execute_result",
          "data": {
            "text/plain": [
              "False    1271437\n",
              "dtype: int64"
            ]
          },
          "metadata": {
            "tags": []
          },
          "execution_count": 16
        }
      ]
    },
    {
      "cell_type": "markdown",
      "metadata": {
        "id": "wapYsK7iGRT4"
      },
      "source": [
        "### 1.6 Selecting 100k records using Random State 612\r\n",
        "\r\n",
        "\r\n"
      ]
    },
    {
      "cell_type": "code",
      "metadata": {
        "id": "eRzwoHe7zt0k"
      },
      "source": [
        "# Now selecting 1,000,000 rows from the 1.27M rows above using random state 612\r\n",
        "\r\n",
        "sampledSet = dataSet.sample(n=1000000,random_state=612)"
      ],
      "execution_count": 17,
      "outputs": []
    },
    {
      "cell_type": "markdown",
      "metadata": {
        "id": "L_R8VHUfGY4q"
      },
      "source": [
        "### 1.7 EDA and Dropping Irrelavant Features\r\n",
        "\r\n",
        "\r\n"
      ]
    },
    {
      "cell_type": "code",
      "metadata": {
        "colab": {
          "base_uri": "https://localhost:8080/"
        },
        "id": "4orCg0TK0is3",
        "outputId": "1a49dcde-20ea-45f1-81b4-80d305d910d6"
      },
      "source": [
        "# SOME EXPLORATORY DATA ANALYSIS\r\n",
        "sampledSet.columns"
      ],
      "execution_count": 18,
      "outputs": [
        {
          "output_type": "execute_result",
          "data": {
            "text/plain": [
              "Index(['phone_url', 'date', 'lang', 'country', 'source', 'domain', 'score',\n",
              "       'score_max', 'extract', 'author', 'product'],\n",
              "      dtype='object')"
            ]
          },
          "metadata": {
            "tags": []
          },
          "execution_count": 18
        }
      ]
    },
    {
      "cell_type": "code",
      "metadata": {
        "colab": {
          "base_uri": "https://localhost:8080/"
        },
        "id": "wei4uhgl0ixI",
        "outputId": "ab6732ea-0400-4428-afae-903a326ce1e6"
      },
      "source": [
        "sampledSet.lang.value_counts()\r\n",
        "# There are users from multiple languages"
      ],
      "execution_count": 19,
      "outputs": [
        {
          "output_type": "execute_result",
          "data": {
            "text/plain": [
              "en    426706\n",
              "de    131796\n",
              "ru    108662\n",
              "it     88291\n",
              "es     77127\n",
              "fr     65138\n",
              "pt     44579\n",
              "nl     28799\n",
              "sv     13439\n",
              "fi      5318\n",
              "tr      5101\n",
              "no      1475\n",
              "cs      1333\n",
              "he      1070\n",
              "pl       376\n",
              "da       318\n",
              "hu       269\n",
              "id       189\n",
              "ar        11\n",
              "zh         3\n",
              "Name: lang, dtype: int64"
            ]
          },
          "metadata": {
            "tags": []
          },
          "execution_count": 19
        }
      ]
    },
    {
      "cell_type": "code",
      "metadata": {
        "colab": {
          "base_uri": "https://localhost:8080/"
        },
        "id": "xvAG5YzX2Alq",
        "outputId": "83c10d0e-578a-44f8-a9c1-9f815886968d"
      },
      "source": [
        "sampledSet.country.value_counts()\r\n",
        "# There are users from multiple countries"
      ],
      "execution_count": 20,
      "outputs": [
        {
          "output_type": "execute_result",
          "data": {
            "text/plain": [
              "us    243847\n",
              "de    131738\n",
              "in    100444\n",
              "ru     90469\n",
              "it     88291\n",
              "gb     72938\n",
              "fr     65138\n",
              "es     58844\n",
              "br     42065\n",
              "nl     18920\n",
              "ua     18193\n",
              "se     13439\n",
              "ar     12353\n",
              "be      9879\n",
              "ca      8745\n",
              "fi      5318\n",
              "tr      5101\n",
              "pt      2514\n",
              "mx      2426\n",
              "no      1475\n",
              "cz      1333\n",
              "ec      1145\n",
              "il      1070\n",
              "co       902\n",
              "au       661\n",
              "uy       584\n",
              "cl       458\n",
              "pl       376\n",
              "dk       318\n",
              "ve       307\n",
              "hu       269\n",
              "id       189\n",
              "pe       108\n",
              "ch        58\n",
              "nz        42\n",
              "za        20\n",
              "ae        11\n",
              "sg         9\n",
              "tw         2\n",
              "cn         1\n",
              "Name: country, dtype: int64"
            ]
          },
          "metadata": {
            "tags": []
          },
          "execution_count": 20
        }
      ]
    },
    {
      "cell_type": "code",
      "metadata": {
        "colab": {
          "base_uri": "https://localhost:8080/"
        },
        "id": "kOkx-Sw82Hqm",
        "outputId": "1016b317-7595-4212-e6a3-3fe49b05974e"
      },
      "source": [
        "sampledSet['product'].value_counts()\r\n",
        "# There are 51981 products but because of language issues as well some products might have been repeated"
      ],
      "execution_count": 21,
      "outputs": [
        {
          "output_type": "execute_result",
          "data": {
            "text/plain": [
              "Lenovo Vibe K4 Note (White,16GB)                                                                                                  4109\n",
              "Lenovo Vibe K4 Note (Black, 16GB)                                                                                                 3451\n",
              "OnePlus 3 (Graphite, 64 GB)                                                                                                       3212\n",
              "OnePlus 3 (Soft Gold, 64 GB)                                                                                                      2798\n",
              "Huawei P8lite zwart / 16 GB                                                                                                       2121\n",
              "                                                                                                                                  ... \n",
              "Samsung Galaxy Ace 3 Zwart                                                                                                           1\n",
              "Apple iPhone 7 (4.70\", 128GB, 12MP, Black)                                                                                           1\n",
              "Sony Xperia Z2 - Smartphone libre Android (pantalla 5.2\", cÃ¡mara 8 Mp, 16 GB, Quad-Core 2.3 GHz, 3 GB RAM), negro (importado)       1\n",
              "LENOVO S850 - White                                                                                                                  1\n",
              "LG P895 Optimus Vu (White)                                                                                                           1\n",
              "Name: product, Length: 51981, dtype: int64"
            ]
          },
          "metadata": {
            "tags": []
          },
          "execution_count": 21
        }
      ]
    },
    {
      "cell_type": "code",
      "metadata": {
        "colab": {
          "base_uri": "https://localhost:8080/",
          "height": 296
        },
        "id": "OG4mltk72azf",
        "outputId": "5375902e-026b-4119-ea7e-6fbf3d23a035"
      },
      "source": [
        "sns.countplot(data=sampledSet, x='score')\r\n",
        "# Majority of the time 10 occurs followed by 8; seems like the users are very happy with their phones"
      ],
      "execution_count": 22,
      "outputs": [
        {
          "output_type": "execute_result",
          "data": {
            "text/plain": [
              "<matplotlib.axes._subplots.AxesSubplot at 0x7f9c45707ba8>"
            ]
          },
          "metadata": {
            "tags": []
          },
          "execution_count": 22
        },
        {
          "output_type": "display_data",
          "data": {
            "image/png": "[encoded data removed]",
            "text/plain": [
              "<Figure size 432x288 with 1 Axes>"
            ]
          },
          "metadata": {
            "tags": [],
            "needs_background": "light"
          }
        }
      ]
    },
    {
      "cell_type": "code",
      "metadata": {
        "id": "Oov7I-Uo0OeD"
      },
      "source": [
        "# Dropping irrelevant features from a recommendation system perspective\r\n",
        "# I am keeping language as a feature for filtering later \r\n",
        "sampledSet = sampledSet[['lang','author','product','score']]"
      ],
      "execution_count": 23,
      "outputs": []
    },
    {
      "cell_type": "markdown",
      "metadata": {
        "id": "DgbBAnY8degI"
      },
      "source": [
        "## **Q2. Further EDA & Questions**"
      ]
    },
    {
      "cell_type": "markdown",
      "metadata": {
        "id": "-6k6TKLuG0gf"
      },
      "source": [
        "### 2.1 Identifying the Most Rated Features\r\n",
        "\r\n",
        "\r\n"
      ]
    },
    {
      "cell_type": "code",
      "metadata": {
        "id": "OaHgSe_nd8zi"
      },
      "source": [
        "# Will foucus on identifying features in English Language only because of language constraints\r\n",
        "onlyEnglishDF = sampledSet[sampledSet['lang'] == 'en']\r\n",
        "\r\n",
        "# initializing the new column\r\n",
        "keywordDict = {}\r\n",
        "\r\n",
        "for index, row in onlyEnglishDF.iterrows():\r\n",
        "    # instantiating Rake, by default is uses english stopwords from NLTK\r\n",
        "    # and discard all puntuation characters\r\n",
        "    r = Rake()\r\n",
        "\r\n",
        "    # extracting the words by passing the text\r\n",
        "    r.extract_keywords_from_text(row['product'])\r\n",
        "\r\n",
        "    # getting the dictionary with keywords and their scores\r\n",
        "    key_words_dict_scores = r.get_word_degrees()\r\n",
        "    \r\n",
        "    # Updating the master dictionary list\r\n",
        "    keywordDict.update(key_words_dict_scores)\r\n",
        "\r\n",
        "# output the dictionary sorted by keys in descending order\r\n",
        "import operator\r\n",
        "keywordDict = dict(sorted(keywordDict.items(), key=operator.itemgetter(1), reverse=True))"
      ],
      "execution_count": 24,
      "outputs": []
    },
    {
      "cell_type": "code",
      "metadata": {
        "colab": {
          "base_uri": "https://localhost:8080/"
        },
        "id": "msAPfZPbvpdx",
        "outputId": "ad6fadaf-bf6f-4639-ea38-8fd199b28681"
      },
      "source": [
        "list(keywordDict.items())\r\n",
        "\r\n",
        "# We can see from below the following features along with their frequency, sorted in the descending order\r\n",
        "# Popular Features include - 5G, a7 processor, cortex processor, unlocked, dust proof, shockproof, outdoor, durable,  battery (6000mah), screen etc.\r\n",
        "# If we were doing this on all products incl non-english we were getting a lot of charecters which were difficult to process e.g. 'ø', 'ð²ð¾ð', 'ð¼ñ' etc."
      ],
      "execution_count": 25,
      "outputs": [
        {
          "output_type": "execute_result",
          "data": {
            "text/plain": [
              "[('wired', 63),\n",
              " ('mouse', 42),\n",
              " ('xbox', 39),\n",
              " ('\\x98', 36),\n",
              " ('standby', 32),\n",
              " ('finger', 32),\n",
              " ('1045', 28),\n",
              " ('ir', 23),\n",
              " ('acacia', 22),\n",
              " ('vandot', 22),\n",
              " ('xt1032', 21),\n",
              " ('((', 21),\n",
              " ('5gs', 21),\n",
              " ('newly', 21),\n",
              " ('released', 21),\n",
              " ('57y6255', 21),\n",
              " ('wheel', 21),\n",
              " ('dpi', 21),\n",
              " ('chat', 20),\n",
              " ('a7', 20),\n",
              " ('cortex', 20),\n",
              " ('p710', 20),\n",
              " ('f', 20),\n",
              " ('mmobiel', 19),\n",
              " ('pieces', 19),\n",
              " ('x17s', 19),\n",
              " ('n8000', 19),\n",
              " ('tether', 19),\n",
              " ('\\x80\\x91', 19),\n",
              " ('â', 18),\n",
              " ('floureon', 18),\n",
              " ('multimedia', 18),\n",
              " ('unlockedâ', 18),\n",
              " ('sandisk', 18),\n",
              " ('corning', 18),\n",
              " ('joy', 18),\n",
              " ('dust', 17),\n",
              " ('proof', 17),\n",
              " ('durable', 17),\n",
              " ('b25', 17),\n",
              " ('shockproof', 17),\n",
              " ('outdoor', 17),\n",
              " ('adr6400', 17),\n",
              " ('smartphoneverizon', 17),\n",
              " ('34mb', 17),\n",
              " ('builders', 17),\n",
              " ('bnib', 17),\n",
              " ('identify', 17),\n",
              " ('orders', 17),\n",
              " ('yu', 16),\n",
              " ('tundra', 16),\n",
              " ('¡', 16),\n",
              " ('1800mah', 16),\n",
              " ('msm8916', 16),\n",
              " ('sdram', 16),\n",
              " ('7420', 16),\n",
              " ('apq8064t', 16),\n",
              " ('311', 15),\n",
              " ('included', 15),\n",
              " ('penta', 15),\n",
              " ('fused', 15),\n",
              " ('g7102', 15),\n",
              " ('6000mah', 15),\n",
              " ('srceen', 15),\n",
              " ('p768g', 15),\n",
              " ('v6', 15),\n",
              " ('fuchsia', 15),\n",
              " ('old', 15),\n",
              " ('qualcomm801', 15),\n",
              " ('unloced', 15),\n",
              " ('student', 15),\n",
              " ('i9235', 15),\n",
              " ('g930', 15),\n",
              " ('y534q', 15),\n",
              " ('d855', 14),\n",
              " ('simfree', 14),\n",
              " ('sos', 14),\n",
              " ('kit', 14),\n",
              " ('e1205l', 14),\n",
              " ('e6533', 14),\n",
              " ('yotaphone', 14),\n",
              " ('durability', 14),\n",
              " ('td', 14),\n",
              " ('801', 14),\n",
              " ('360â', 14),\n",
              " ('nib', 14),\n",
              " ('70', 14),\n",
              " ('2mb', 14),\n",
              " ('s621', 14),\n",
              " ('fosmon', 14),\n",
              " ('beige', 14),\n",
              " ('4015a', 14),\n",
              " ('westech', 14),\n",
              " ('e615f', 14),\n",
              " ('arrival', 14),\n",
              " ('xt860', 14),\n",
              " ('me863', 14),\n",
              " ('estar', 14),\n",
              " ('s530', 14),\n",
              " ('1pcs', 14),\n",
              " ('i465', 14),\n",
              " ('disland', 14),\n",
              " ('quick', 14),\n",
              " ('kick', 14),\n",
              " ('1m', 14),\n",
              " ('3in1', 14),\n",
              " ('closure', 14),\n",
              " ('rotation', 14),\n",
              " ('zorro', 14),\n",
              " ('popsky', 14),\n",
              " ('cores', 14),\n",
              " ('c360', 14),\n",
              " ('golf', 14),\n",
              " ('meilan', 14),\n",
              " ('bicycle', 14),\n",
              " ('cycle', 14),\n",
              " ('bike', 14),\n",
              " ('ebook', 14),\n",
              " ('glass3', 14),\n",
              " ('colorful', 14),\n",
              " ('3ft', 14),\n",
              " ('braided', 14),\n",
              " ('l220a', 14),\n",
              " ('mtk6517', 14),\n",
              " ('autofocus', 14),\n",
              " ('shutter', 14),\n",
              " ('detection', 14),\n",
              " ('aventus', 14),\n",
              " ('innovations', 14),\n",
              " ('gorogue', 14),\n",
              " ('wakeup', 14),\n",
              " ('°', 14),\n",
              " ('lnk', 14),\n",
              " ('pre', 13),\n",
              " ('urban', 13),\n",
              " ('fashion', 13),\n",
              " ('p6', 13),\n",
              " ('services', 13),\n",
              " ('e975', 13),\n",
              " ('ram16gb', 13),\n",
              " ('bluesolar', 13),\n",
              " ('i9295', 13),\n",
              " ('wp8', 13),\n",
              " ('blanco', 13),\n",
              " ('drfy', 13),\n",
              " ('vn', 13),\n",
              " ('emea', 13),\n",
              " ('luxury', 13),\n",
              " ('sk17i', 13),\n",
              " ('e5506', 13),\n",
              " ('wcmda', 13),\n",
              " ('lead7', 13),\n",
              " ('5mb', 13),\n",
              " ('n9002', 13),\n",
              " ('sports', 13),\n",
              " ('y210d', 13),\n",
              " ('furture', 13),\n",
              " ('c72', 13),\n",
              " ('c58', 13),\n",
              " ('p1c58', 13),\n",
              " ('internat', 13),\n",
              " ('hifi', 13),\n",
              " ('project', 13),\n",
              " ('helio', 13),\n",
              " ('x20', 13),\n",
              " ('deca', 13),\n",
              " ('e2306', 13),\n",
              " ('cuppy', 13),\n",
              " ('pin', 13),\n",
              " ('256m2', 13),\n",
              " ('mains', 13),\n",
              " ('beatsaudio', 13),\n",
              " ('2g', 12),\n",
              " ('docooler', 12),\n",
              " ('a588t', 12),\n",
              " ('straight', 12),\n",
              " ('talk', 12),\n",
              " ('female', 12),\n",
              " ('users', 12),\n",
              " ('s720i', 12),\n",
              " ('mtk6572', 12),\n",
              " ('floating', 12),\n",
              " ('16mp', 12),\n",
              " ('d820', 12),\n",
              " ('wifi', 12),\n",
              " ('g870a', 12),\n",
              " ('h798', 12),\n",
              " ('fingerprint', 12),\n",
              " ('id', 12),\n",
              " ('korea', 12),\n",
              " ('clamshell', 12),\n",
              " ('extremely', 12),\n",
              " ('ogs', 12),\n",
              " ('bar', 12),\n",
              " ('e980', 12),\n",
              " ('ruggedized', 12),\n",
              " ('aaa', 12),\n",
              " ('16g', 12),\n",
              " ('mtk6572w', 12),\n",
              " ('n910a', 12),\n",
              " ('pluto', 12),\n",
              " ('aria', 12),\n",
              " ('t174', 12),\n",
              " ('i547', 12),\n",
              " ('mk16i', 12),\n",
              " ('c6903', 12),\n",
              " ('mtk6755', 12),\n",
              " ('xpress', 12),\n",
              " ('additional', 12),\n",
              " ('bottom', 12),\n",
              " ('cap', 12),\n",
              " ('):', 12),\n",
              " ('1080x720', 12),\n",
              " ('xt560', 12),\n",
              " ('dustproof', 12),\n",
              " ('xt912m', 12),\n",
              " ('extended', 12),\n",
              " ('1280x720p', 12),\n",
              " ('14', 12),\n",
              " ('90', 12),\n",
              " ('return', 12),\n",
              " ('f400', 12),\n",
              " ('ois', 12),\n",
              " ('i8530', 12),\n",
              " ('x825a', 12),\n",
              " ('l520', 12),\n",
              " ('handleeasy', 12),\n",
              " ('e6603', 12),\n",
              " ('p990i', 12),\n",
              " ('pu', 12),\n",
              " ('a660', 12),\n",
              " ('mt6572', 12),\n",
              " ('display16', 12),\n",
              " ('interner', 12),\n",
              " ('speicher2', 12),\n",
              " ('ram13', 12),\n",
              " ('kameraakku', 12),\n",
              " ('1080ã', 12),\n",
              " ('d955', 12),\n",
              " ('sleep', 12),\n",
              " ('mobifit', 12),\n",
              " ('sonyericss', 12),\n",
              " ('64pd', 12),\n",
              " ('romthl', 12),\n",
              " ('mtk6572m', 12),\n",
              " ('lead5', 12),\n",
              " ('512m2', 12),\n",
              " ('n915t', 12),\n",
              " ('supports', 12),\n",
              " ('activesync', 12),\n",
              " ('customized', 12),\n",
              " ('v0030uu', 12),\n",
              " ('burgund', 12),\n",
              " ('854x480', 12),\n",
              " ('msm8625q', 12),\n",
              " ('w395i', 12),\n",
              " ('sanrio', 12),\n",
              " ('lighting', 12),\n",
              " ('f165', 12),\n",
              " ('vec', 12),\n",
              " ('standy', 12),\n",
              " ('t7272', 12),\n",
              " ('e5563', 12),\n",
              " ('f3115', 12),\n",
              " ('comaptible', 12),\n",
              " ('e300', 12),\n",
              " ('st23i', 12),\n",
              " ('poket', 12),\n",
              " ('s7272', 12),\n",
              " ('update', 11),\n",
              " ('g920f', 11),\n",
              " ('nfc', 11),\n",
              " ('wireless', 11),\n",
              " ('i847', 11),\n",
              " ('commando', 11),\n",
              " ('c811', 11),\n",
              " ('i537', 11),\n",
              " ('n9', 11),\n",
              " ('otg', 11),\n",
              " ('including', 11),\n",
              " ('j1', 11),\n",
              " ('5000mah', 11),\n",
              " ('g900v', 11),\n",
              " ('g925f', 11),\n",
              " ('g930f', 11),\n",
              " ('enterprises', 11),\n",
              " ('boxed', 11),\n",
              " ('u460', 11),\n",
              " ('meego', 11),\n",
              " ('9790', 11),\n",
              " ('gesture', 11),\n",
              " ('power', 11),\n",
              " ('p5500', 11),\n",
              " ('e900', 11),\n",
              " ('1600', 11),\n",
              " ('xt912', 11),\n",
              " ('a847', 11),\n",
              " ('maxx', 11),\n",
              " ('mb508', 11),\n",
              " ('gprs', 11),\n",
              " ('g925', 11),\n",
              " ('tl', 11),\n",
              " ('european', 11),\n",
              " ('0151', 11),\n",
              " ('t176', 11),\n",
              " ('n915', 11),\n",
              " ('xt1527', 11),\n",
              " ('xt897', 11),\n",
              " ('s410a', 11),\n",
              " ('c800', 11),\n",
              " ('linke', 11),\n",
              " ('bank', 11),\n",
              " ('g925a', 11),\n",
              " ('charge', 11),\n",
              " ('ota', 11),\n",
              " ('s720e', 11),\n",
              " ('g890a', 11),\n",
              " ('d802', 11),\n",
              " ('1065', 11),\n",
              " ('i9506', 11),\n",
              " ('410', 11),\n",
              " ('8g', 11),\n",
              " ('st27i', 11),\n",
              " ('breakout', 11),\n",
              " ('l300', 11),\n",
              " ('victory', 11),\n",
              " ('devour', 11),\n",
              " ('a555', 11),\n",
              " ('ex226', 11),\n",
              " ('g928v', 11),\n",
              " ('j110m', 11),\n",
              " ('value', 11),\n",
              " ('lt30at', 11),\n",
              " ('kat', 11),\n",
              " ('main', 11),\n",
              " ('j105m', 11),\n",
              " ('clam', 11),\n",
              " ('xt1103', 11),\n",
              " ('n910v', 11),\n",
              " ('xt1100', 11),\n",
              " ('ivoler', 11),\n",
              " ('hongmi', 11),\n",
              " ('taitans', 11),\n",
              " ('zthy', 11),\n",
              " ('2300mah', 11),\n",
              " ('bl', 11),\n",
              " ('app', 11),\n",
              " ('fino', 11),\n",
              " ('d141s', 11),\n",
              " ('p6010', 11),\n",
              " ('rg730', 11),\n",
              " ('grantour', 11),\n",
              " ('d805', 11),\n",
              " ('ringke', 11),\n",
              " ('smartpone', 11),\n",
              " ('mbps', 11),\n",
              " ('bn910bb', 11),\n",
              " ('i187', 11),\n",
              " ('n920i', 11),\n",
              " ('axiom', 11),\n",
              " ('q192x', 11),\n",
              " ('t589', 11),\n",
              " ('xt1060', 11),\n",
              " ('lgip', 11),\n",
              " ('d2105', 11),\n",
              " ('xt926m', 11),\n",
              " ('j105', 11),\n",
              " ('quandband', 11),\n",
              " ('bello', 11),\n",
              " ('4inch', 11),\n",
              " ('wp7', 11),\n",
              " ('vm670', 11),\n",
              " ('aliveshare', 11),\n",
              " ('phabl', 11),\n",
              " ('l20', 11),\n",
              " ('l30', 11),\n",
              " ('l50', 11),\n",
              " ('freedom', 11),\n",
              " ('xt321', 11),\n",
              " ('n915fy', 11),\n",
              " ('u20ieupk', 11),\n",
              " ('n910g', 11),\n",
              " ('dlna', 11),\n",
              " ('mynetdeals', 11),\n",
              " ('batman', 11),\n",
              " ('injustice', 11),\n",
              " ('d2203', 11),\n",
              " ('j106m', 11),\n",
              " ('fyy', 11),\n",
              " ('xt881', 11),\n",
              " ('i510', 11),\n",
              " ('vocie', 11),\n",
              " ('shooting', 11),\n",
              " ('extra', 11),\n",
              " ('a500', 11),\n",
              " ('a500yz', 11),\n",
              " ('1033', 11),\n",
              " ('mtk6795', 11),\n",
              " ('quickcharge', 11),\n",
              " ('t585', 11),\n",
              " ('n915s', 11),\n",
              " ('transmission', 11),\n",
              " ('9981', 11),\n",
              " ('req71uw', 11),\n",
              " ('\\x80¢', 11),\n",
              " ('6106', 11),\n",
              " ('64mb', 11),\n",
              " ('nand', 11),\n",
              " ('102e', 11),\n",
              " ('4', 10),\n",
              " ('great', 10),\n",
              " ('lite', 10),\n",
              " ('d141w', 10),\n",
              " ('levitating', 10),\n",
              " ('speakernfc', 10),\n",
              " ('a275', 10),\n",
              " ('playstation', 10),\n",
              " ('insten', 10),\n",
              " ('eforcity', 10),\n",
              " ('vent', 10),\n",
              " ('holder', 10),\n",
              " ('cradle', 10),\n",
              " ('m8', 10),\n",
              " ('g850a', 10),\n",
              " ('4150', 10),\n",
              " ('n9200', 10),\n",
              " ('color', 10),\n",
              " ('a955', 10),\n",
              " ('vn251', 10),\n",
              " ('p880', 10),\n",
              " ('g920t', 10),\n",
              " ('c6603', 10),\n",
              " ('m919', 10),\n",
              " ('s5230', 10),\n",
              " ('i747', 10),\n",
              " ('i535', 10),\n",
              " ('p715', 10),\n",
              " ('6410', 10),\n",
              " ('z5s', 10),\n",
              " ('nx405h', 10),\n",
              " ('tft', 10),\n",
              " ('ativ', 10),\n",
              " ('reader', 10),\n",
              " ('e960', 10),\n",
              " ('curved', 10),\n",
              " ('g920a', 10),\n",
              " ('630', 10),\n",
              " ('i9505', 10),\n",
              " ('g925i', 10),\n",
              " ('d618', 10),\n",
              " ('mtk6735', 10),\n",
              " ('bt', 10),\n",
              " ('defender', 10),\n",
              " ('6160', 10),\n",
              " ('310', 10),\n",
              " ('110', 10),\n",
              " ('mb', 10),\n",
              " ('j700m', 10),\n",
              " ('qosea', 10),\n",
              " ('t2', 10),\n",
              " ('822', 10),\n",
              " ('107', 10),\n",
              " ('p', 10),\n",
              " ('e1205', 10),\n",
              " ('bionic', 10),\n",
              " ('bay', 10),\n",
              " ('srl', 10),\n",
              " ('p780', 10),\n",
              " ('vigor', 10),\n",
              " ('d725', 10),\n",
              " ('g900m', 10),\n",
              " ('precedent', 10),\n",
              " ('proclaim', 10),\n",
              " ('i317', 10),\n",
              " ('e6633', 10),\n",
              " ('st17i', 10),\n",
              " ('vs920', 10),\n",
              " ('s3350', 10),\n",
              " ('335', 10),\n",
              " ('d686', 10),\n",
              " ('c168i', 10),\n",
              " ('s5260', 10),\n",
              " ('d5303', 10),\n",
              " ('a510m', 10),\n",
              " ('e52', 10),\n",
              " ('i515', 10),\n",
              " ('n9150', 10),\n",
              " ('zs550kl', 10),\n",
              " ('h950', 10),\n",
              " ('a500h', 10),\n",
              " ('drive', 10),\n",
              " ('sk17a', 10),\n",
              " ('i405', 10),\n",
              " ('768', 10),\n",
              " ('kb', 10),\n",
              " ('k1m', 10),\n",
              " ('haier', 10),\n",
              " ('w718', 10),\n",
              " ('i9060c', 10),\n",
              " ('t8686', 10),\n",
              " ('diylooks', 10),\n",
              " ('***', 10),\n",
              " ('equinox', 10),\n",
              " ('tm717', 10),\n",
              " ('rss', 10),\n",
              " ('sm800', 10),\n",
              " ('xt1039', 10),\n",
              " ('290', 10),\n",
              " ('lteã', 10),\n",
              " ('d2306', 10),\n",
              " ('people', 10),\n",
              " ('send', 10),\n",
              " ('202', 10),\n",
              " ('odyssey', 10),\n",
              " ('i930', 10),\n",
              " ('g531m', 10),\n",
              " ('6990l', 10),\n",
              " ('xt1080', 10),\n",
              " ('jiayu', 10),\n",
              " ('snn5696', 10),\n",
              " ('br50', 10),\n",
              " ('u20a', 10),\n",
              " ('9v1i', 10),\n",
              " ('staright', 10),\n",
              " ('mn6r2ll', 10),\n",
              " ('fuel', 10),\n",
              " ('bt50', 10),\n",
              " ('2570mah', 10),\n",
              " ('h818p', 10),\n",
              " ('d5322', 10),\n",
              " ('mtk6592t', 10),\n",
              " ('a341', 10),\n",
              " ('phonesï¼', 10),\n",
              " ('\\x8c', 10),\n",
              " ('i9301i', 10),\n",
              " ('mn6t2ll', 10),\n",
              " ('gpr', 10),\n",
              " ('wt19a', 10),\n",
              " ('xt1641', 10),\n",
              " ('g850m', 10),\n",
              " ('824', 10),\n",
              " ('(+', 10),\n",
              " ('zip', 10),\n",
              " ('hw6940', 10),\n",
              " ('n900u', 10),\n",
              " ('smartphonew', 10),\n",
              " ('512', 10),\n",
              " ('l80', 10),\n",
              " ('l35', 10),\n",
              " ('9230', 10),\n",
              " ('js1', 10),\n",
              " ('t340g', 10),\n",
              " ('cellbell', 10),\n",
              " ('acc63010002', 10),\n",
              " ('translucent', 10),\n",
              " ('russian', 10),\n",
              " ('mtk6589m', 10),\n",
              " ('i9082l', 10),\n",
              " ('a300m', 10),\n",
              " ('maximo', 10),\n",
              " ('d5306', 10),\n",
              " ('textured', 10),\n",
              " ('rubber', 10),\n",
              " ('l34c', 10),\n",
              " ('p8010', 10),\n",
              " ('s5830m', 10),\n",
              " ('1152', 10),\n",
              " ('pl', 10),\n",
              " ('zp330', 10),\n",
              " ('24ct', 10),\n",
              " ('swing', 10),\n",
              " ('f340', 10),\n",
              " ('d631', 10),\n",
              " ('e2220', 10),\n",
              " ('c111m', 10),\n",
              " ('package3', 10),\n",
              " ('l75c', 10),\n",
              " ('a500m', 10),\n",
              " ('shared', 10),\n",
              " ('d803', 10),\n",
              " ('x2a', 10),\n",
              " ('t303c', 10),\n",
              " ('entries', 10),\n",
              " ('d722p', 10),\n",
              " ('l600', 10),\n",
              " ('domestic', 10),\n",
              " ('6g', 10),\n",
              " ('g920v', 10),\n",
              " ('driver', 10),\n",
              " ('xt1072', 10),\n",
              " ('web9t9', 10),\n",
              " ('6012a', 10),\n",
              " ('g925v', 10),\n",
              " ('telecom', 10),\n",
              " ('essence', 10),\n",
              " ('jt', 10),\n",
              " ('d5103', 10),\n",
              " ('huge', 10),\n",
              " ('mt6572m', 10),\n",
              " ('g3812b', 10),\n",
              " ('nolia', 10),\n",
              " ('ivy', 10),\n",
              " ('wx400', 10),\n",
              " ('rambler', 10),\n",
              " ('t707i', 10),\n",
              " ('ze500klã', 10),\n",
              " ('\\x8a', 10),\n",
              " ('tomtop', 10),\n",
              " ('s3572', 10),\n",
              " ('-[', 10),\n",
              " ('zizo', 10),\n",
              " ('spade', 10),\n",
              " ('skull', 10),\n",
              " ('gute', 10),\n",
              " ('caribbean', 10),\n",
              " ('1067', 10),\n",
              " ('incredible2', 10),\n",
              " ('a1662', 10),\n",
              " ('cellphoneunlock', 10),\n",
              " ('3', 9),\n",
              " ('x10', 9),\n",
              " ('flip', 9),\n",
              " ('quad', 9),\n",
              " ('gsm', 9),\n",
              " ('neo', 9),\n",
              " ('samba', 9),\n",
              " ('t528g', 9),\n",
              " ('charm', 9),\n",
              " ('c6833', 9),\n",
              " ('z5', 9),\n",
              " ('sharp', 9),\n",
              " ('fx', 9),\n",
              " ('optimus', 9),\n",
              " ('32', 9),\n",
              " ('rugby', 9),\n",
              " ('v551', 9),\n",
              " ('alcatel', 9),\n",
              " ('onetouch', 9),\n",
              " ('idol', 9),\n",
              " ('global', 9),\n",
              " ('rugged', 9),\n",
              " ('r800ieuwh', 9),\n",
              " ('tudia', 9),\n",
              " ('d850', 9),\n",
              " ('slider', 9),\n",
              " ('n9100', 9),\n",
              " ('adventure', 9),\n",
              " ('i717', 9),\n",
              " ('y320', 9),\n",
              " ('610', 9),\n",
              " ('nam', 9),\n",
              " ('4000mah', 9),\n",
              " ('i8190', 9),\n",
              " ('easy', 9),\n",
              " ('hero', 9),\n",
              " ('a620', 9),\n",
              " ('l7', 9),\n",
              " ('e5823', 9),\n",
              " ('doro', 9),\n",
              " ('handle', 9),\n",
              " ('334', 9),\n",
              " ('telephone', 9),\n",
              " ('intensity', 9),\n",
              " ('i9192', 9),\n",
              " ('dg', 9),\n",
              " ('xender', 9),\n",
              " ('gestures', 9),\n",
              " ('w510l', 9),\n",
              " ('3s', 9),\n",
              " ('saving', 9),\n",
              " ('mode', 9),\n",
              " ('north', 9),\n",
              " ('1080p', 9),\n",
              " ('easysmx', 9),\n",
              " ('p500h', 9),\n",
              " ('bass', 9),\n",
              " ('410gsm', 9),\n",
              " ('w595', 9),\n",
              " ('i8160', 9),\n",
              " ('gd570', 9),\n",
              " ('dlite', 9),\n",
              " ('a997', 9),\n",
              " ('c1504', 9),\n",
              " ('i527', 9),\n",
              " ('605', 9),\n",
              " ('i727', 9),\n",
              " ('lt28i', 9),\n",
              " ('elders', 9),\n",
              " ('n915g', 9),\n",
              " ('burst', 9),\n",
              " ('p9070', 9),\n",
              " ('e8', 9),\n",
              " ('3810', 9),\n",
              " ('american', 9),\n",
              " ('p2000', 9),\n",
              " ('elephone', 9),\n",
              " ('g318ml', 9),\n",
              " ('mozo', 9),\n",
              " ('ssj500mbk', 9),\n",
              " ('s6102b', 9),\n",
              " ('p705', 9),\n",
              " ('mate2', 9),\n",
              " ('i110', 9),\n",
              " ('ally', 9),\n",
              " ('vs740', 9),\n",
              " ('ze550ml', 9),\n",
              " ('100mb', 9),\n",
              " ('frosted', 9),\n",
              " ('smart918', 9),\n",
              " ('k910', 9),\n",
              " ('8995', 9),\n",
              " ('h810', 9),\n",
              " ('naite', 9),\n",
              " ('n7505', 9),\n",
              " ('mtk6592m', 9),\n",
              " ('n920g', 9),\n",
              " ('tx', 9),\n",
              " ('lt29i', 9),\n",
              " ('miami', 9),\n",
              " ('s6500', 9),\n",
              " ('terrapin', 9),\n",
              " ('anroid4', 9),\n",
              " ('adr', 9),\n",
              " ('s7270', 9),\n",
              " ('quality', 9),\n",
              " ('onx3', 9),\n",
              " ('ma388', 9),\n",
              " ('t469', 9),\n",
              " ('berry', 9),\n",
              " ('gc900', 9),\n",
              " ('e615', 9),\n",
              " ('u450', 9),\n",
              " ('thrill', 9),\n",
              " ('v750', 9),\n",
              " ('bv5000', 9),\n",
              " ('st21a', 9),\n",
              " ('retinal', 9),\n",
              " ('--(', 9),\n",
              " ('c9660', 9),\n",
              " ('p9090', 9),\n",
              " ('encryption', 9),\n",
              " ('l102a', 9),\n",
              " ('pv300gr', 9),\n",
              " ('e425', 9),\n",
              " ('factoryunlocked', 9),\n",
              " ('vinnx', 9),\n",
              " ('j111m', 9),\n",
              " ('gyroscope', 9),\n",
              " ('best', 9),\n",
              " ('bsp10', 9),\n",
              " ('rechargeable', 9),\n",
              " ('lt26ii', 9),\n",
              " ('mandarine', 9),\n",
              " ('s200', 9),\n",
              " ('e739', 9),\n",
              " ('vs700', 9),\n",
              " ('enlighten', 9),\n",
              " ('manufacture', 9),\n",
              " ('s9', 9),\n",
              " ('g891a', 9),\n",
              " ('6400', 9),\n",
              " ('ssj500mgd', 9),\n",
              " ('820u', 9),\n",
              " ('st26a', 9),\n",
              " ('gs500', 9),\n",
              " ('q53', 9),\n",
              " ('mb855', 9),\n",
              " ('conquer', 9),\n",
              " ('6500l', 9),\n",
              " ('hc', 9),\n",
              " ('g110m', 9),\n",
              " ('j100m', 9),\n",
              " ('c5306', 9),\n",
              " ('j105b', 9),\n",
              " ('vx7100', 9),\n",
              " ('glance', 9),\n",
              " ('msm8225q', 9),\n",
              " ('g910s', 9),\n",
              " ('te365', 9),\n",
              " ('955', 9),\n",
              " ('a7272', 9),\n",
              " ('shield', 9),\n",
              " ('badge', 9),\n",
              " ('d2004', 9),\n",
              " ('axtion', 9),\n",
              " ('faceplate', 9),\n",
              " ('e2303', 9),\n",
              " ('c510a', 9),\n",
              " ('g355', 9),\n",
              " ('st27a', 9),\n",
              " ('v1', 9),\n",
              " ('6595', 9),\n",
              " ('a17', 9),\n",
              " ('s6792', 9),\n",
              " ('caviar', 9),\n",
              " ('m512', 9),\n",
              " ('os7', 9),\n",
              " ('l55c', 9),\n",
              " ('starter', 9),\n",
              " ('u485', 9),\n",
              " ('e5663', 9),\n",
              " ('amzer', 9),\n",
              " ('xt1254', 9),\n",
              " ('internatioanl', 9),\n",
              " ('409', 9),\n",
              " ('bw', 9),\n",
              " ('s090q', 9),\n",
              " ('samsungs', 9),\n",
              " ('rotatable', 9),\n",
              " ('m630', 9),\n",
              " ('lilac', 9),\n",
              " ('ze600kl', 9),\n",
              " ('incl', 9),\n",
              " ('g318m', 9),\n",
              " ('rhb121lw', 9),\n",
              " ('x9007', 9),\n",
              " ('genune', 9),\n",
              " ('t707', 9),\n",
              " ('pattern', 9),\n",
              " ('folio', 9),\n",
              " ('24', 9),\n",
              " ('carat', 9),\n",
              " ('s743', 9),\n",
              " ('5200mah', 9),\n",
              " ('lankku', 9),\n",
              " ('t255g', 9),\n",
              " ('foxconn', 9),\n",
              " ('country', 9),\n",
              " ('merge', 9),\n",
              " ('x1a', 9),\n",
              " ('46', 9),\n",
              " ('f240', 9),\n",
              " ('t3232', 9),\n",
              " ('d470u', 9),\n",
              " ('egsm', 9),\n",
              " ('ip57', 9),\n",
              " ('selna', 9),\n",
              " ('lighter', 9),\n",
              " ('socket', 9),\n",
              " ('adr6325', 9),\n",
              " ('m865c', 9),\n",
              " ('sparkling', 9),\n",
              " ('360h', 9),\n",
              " ('t759', 9),\n",
              " ('uncloked', 9),\n",
              " ('ecellstreet', 9),\n",
              " ('3140mah', 9),\n",
              " ('retro', 9),\n",
              " ('ruim', 9),\n",
              " ('ndroid', 9),\n",
              " ('1075', 9),\n",
              " ('wth', 9),\n",
              " ('2x2', 9),\n",
              " ('f8132', 9),\n",
              " ('keyborad', 9),\n",
              " ('h525n', 9),\n",
              " ('selling', 9),\n",
              " ('2000mah', 9),\n",
              " ('1013', 9),\n",
              " ('mobile', 8),\n",
              " ('phone', 8),\n",
              " ('duos', 8),\n",
              " ('sim', 8),\n",
              " ('free', 8),\n",
              " ('android', 8),\n",
              " ('z2', 8),\n",
              " ('k7', 8),\n",
              " ('q170t', 8),\n",
              " ('n8', 8),\n",
              " ('featuring', 8),\n",
              " ('micromax', 8),\n",
              " ('vivid', 8),\n",
              " ('x710a', 8),\n",
              " ('acer', 8),\n",
              " ('liquid', 8),\n",
              " ('f6', 8),\n",
              " ('s275', 8),\n",
              " ('s275m', 8),\n",
              " ('pixi', 8),\n",
              " ('n7000', 8),\n",
              " ('slide', 8),\n",
              " ('firefox', 8),\n",
              " ('xplorer', 8),\n",
              " ('b2100', 8),\n",
              " ('solid', 8),\n",
              " ('extreme', 8),\n",
              " ('anti', 8),\n",
              " ('except', 8),\n",
              " ('long', 8),\n",
              " ('battery', 8),\n",
              " ('d800', 8),\n",
              " ('certified', 8),\n",
              " ('s7262', 8),\n",
              " ('freedompop', 8),\n",
              " ('l90', 8),\n",
              " ('d415', 8),\n",
              " ('se', 8),\n",
              " ('lx600', 8),\n",
              " ('military', 8),\n",
              " ('xt862', 8),\n",
              " ('mb886', 8),\n",
              " ('moondust', 8),\n",
              " ('yureka', 8),\n",
              " ('821', 8),\n",
              " ('hexa', 8),\n",
              " ('rb', 8),\n",
              " ('e1150', 8),\n",
              " ('d6643', 8),\n",
              " ('l55u', 8),\n",
              " ('l55t', 8),\n",
              " ('5230', 8),\n",
              " ('h791', 8),\n",
              " ('\\x80¦', 8),\n",
              " ('ip67', 8),\n",
              " ('toughphone', 8),\n",
              " ('splash', 8),\n",
              " ('immerse', 8),\n",
              " ('vn530', 8),\n",
              " ('d722j', 8),\n",
              " ('2000', 8),\n",
              " ('e71', 8),\n",
              " ('external', 8),\n",
              " ('speakeasy', 8),\n",
              " ('k850i', 8),\n",
              " ('mtk6753', 8),\n",
              " ('1032', 8),\n",
              " ('gtx75', 8),\n",
              " ('w995', 8),\n",
              " ('m2', 8),\n",
              " ('inspire', 8),\n",
              " ('a9192', 8),\n",
              " ('0inch', 8),\n",
              " ('3000mah', 8),\n",
              " ('612i', 8),\n",
              " ('first', 8),\n",
              " ('aluminum', 8),\n",
              " ('875', 8),\n",
              " ('c2104', 8),\n",
              " ('swift', 8),\n",
              " ('ptt', 8),\n",
              " ('tocco', 8),\n",
              " ('a927', 8),\n",
              " ('n7100', 8),\n",
              " ('mytouch', 8),\n",
              " ('enabled', 8),\n",
              " ('performance', 8),\n",
              " ('captcha', 8),\n",
              " ('g316m', 8),\n",
              " ('zoom', 8),\n",
              " ('maroon', 8),\n",
              " ('c5302', 8),\n",
              " ('pasonomi', 8),\n",
              " ('revolution', 8),\n",
              " ('vs910', 8),\n",
              " ('large', 8),\n",
              " ('vx11000', 8),\n",
              " ('e6683', 8),\n",
              " ('va76r', 8),\n",
              " ('lt26i', 8),\n",
              " ('i9195', 8),\n",
              " ('kg800', 8),\n",
              " ('g800f', 8),\n",
              " ('ip65', 8),\n",
              " ('a850', 8),\n",
              " ('5ft', 8),\n",
              " ('behold', 8),\n",
              " ('-(', 8),\n",
              " ('marshall', 8),\n",
              " ('london', 8),\n",
              " (',(', 8),\n",
              " ('vu', 8),\n",
              " ('exp', 8),\n",
              " ('dev', 8),\n",
              " ('duall', 8),\n",
              " ('1xrtt', 8),\n",
              " ('ruggedised', 8),\n",
              " ('xt1068', 8),\n",
              " ('d141t', 8),\n",
              " ('pod', 8),\n",
              " ('acc', 8),\n",
              " ('hotspot', 8),\n",
              " ('innov8', 8),\n",
              " ('i8510', 8),\n",
              " ('i927', 8),\n",
              " ('glide', 8),\n",
              " ('g900fd', 8),\n",
              " ('231c', 8),\n",
              " ('smartcharger', 8),\n",
              " ('portable', 8),\n",
              " ('d6503', 8),\n",
              " ('p160', 8),\n",
              " ('i677', 8),\n",
              " ('lsoug', 8),\n",
              " ('shimmer', 8),\n",
              " ('612', 8),\n",
              " ('t939', 8),\n",
              " ('spirit', 8),\n",
              " ('g360z', 8),\n",
              " ('e610', 8),\n",
              " ('jcb', 8),\n",
              " ...]"
            ]
          },
          "metadata": {
            "tags": []
          },
          "execution_count": 25
        }
      ]
    },
    {
      "cell_type": "markdown",
      "metadata": {
        "id": "2NvFdI2hHEHm"
      },
      "source": [
        "### 2.2 Identifying Users with Most Reviews\r\n",
        "\r\n",
        "\r\n"
      ]
    },
    {
      "cell_type": "code",
      "metadata": {
        "colab": {
          "base_uri": "https://localhost:8080/"
        },
        "id": "dRmUMkBUeSPy",
        "outputId": "4f5f24fd-16fa-42b6-9a14-aff89e151c11"
      },
      "source": [
        "# Identify Individuals with most number of reviews\r\n",
        "\r\n",
        "sampledSet['author'].value_counts()[:25] #<- This will give a list of top 25 users with most reviews\r\n",
        "\r\n",
        "# Very Interesting Observation:\r\n",
        "# 1. There are feedback items from anonymous users which are clubbed  i.e. Amazon Customer, Cliente Amazon\r\n",
        "# 2. We will not considered these anonymous submissions as top submitters."
      ],
      "execution_count": 26,
      "outputs": [
        {
          "output_type": "execute_result",
          "data": {
            "text/plain": [
              "Amazon Customer       60408\n",
              "Cliente Amazon        15051\n",
              "e-bit                  6651\n",
              "Client d'Amazon        6087\n",
              "Amazon Kunde           3683\n",
              "Anonymous              2096\n",
              "einer Kundin           2065\n",
              "einem Kunden           1452\n",
              "unknown                1350\n",
              "Anonymous              1161\n",
              "David                   748\n",
              "Alex                    669\n",
              "Marco                   662\n",
              "ÐÐ»ÐµÐºÑÐ°Ð½Ð´Ñ      637\n",
              "Andrea                  631\n",
              "Ð¡ÐµÑÐ³ÐµÐ¹            566\n",
              "Daniel                  562\n",
              "ÐÐ¼Ð¸ÑÑÐ¸Ð¹          546\n",
              "ZÃ¡kaznÃ­k              535\n",
              "Chris                   515\n",
              "Antonio                 505\n",
              "Michael                 492\n",
              "ÐÐ½Ð´ÑÐµÐ¹            468\n",
              "Francesco               451\n",
              "ÐÐ»ÐµÐºÑÐµÐ¹          445\n",
              "Name: author, dtype: int64"
            ]
          },
          "metadata": {
            "tags": []
          },
          "execution_count": 26
        }
      ]
    },
    {
      "cell_type": "code",
      "metadata": {
        "colab": {
          "base_uri": "https://localhost:8080/"
        },
        "id": "TYhfiJ3YkWeP",
        "outputId": "3189d887-da1c-48c5-8785-cb0b215f3eb9"
      },
      "source": [
        "# This will now give the list of top 10 submitters excluding anonymous submissions\r\n",
        "sampledSet['author'].value_counts()[10:20] #<- This will give a list of top 10 users with most reviews who are not Anonymous"
      ],
      "execution_count": 27,
      "outputs": [
        {
          "output_type": "execute_result",
          "data": {
            "text/plain": [
              "David                 748\n",
              "Alex                  669\n",
              "Marco                 662\n",
              "ÐÐ»ÐµÐºÑÐ°Ð½Ð´Ñ    637\n",
              "Andrea                631\n",
              "Ð¡ÐµÑÐ³ÐµÐ¹          566\n",
              "Daniel                562\n",
              "ÐÐ¼Ð¸ÑÑÐ¸Ð¹        546\n",
              "ZÃ¡kaznÃ­k            535\n",
              "Chris                 515\n",
              "Name: author, dtype: int64"
            ]
          },
          "metadata": {
            "tags": []
          },
          "execution_count": 27
        }
      ]
    },
    {
      "cell_type": "markdown",
      "metadata": {
        "id": "iHTYMemcHMXg"
      },
      "source": [
        "### 2.3  Products having more than 50 ratings and users who have given more than 50 ratings\r\n",
        "\r\n"
      ]
    },
    {
      "cell_type": "code",
      "metadata": {
        "colab": {
          "base_uri": "https://localhost:8080/"
        },
        "id": "7PtOOApTenSQ",
        "outputId": "a6c25acc-2b2c-412e-c41d-f53bbae35319"
      },
      "source": [
        "# Getting the top 50 products rated by the top 50 users (we will need to remove combined ids e.g. Amazon Customer etc.)\r\n",
        "pd.set_option('display.max_rows',100)\r\n",
        "sampledSet['author'].value_counts()[:100]"
      ],
      "execution_count": 28,
      "outputs": [
        {
          "output_type": "execute_result",
          "data": {
            "text/plain": [
              "Amazon Customer                                              60408\n",
              "Cliente Amazon                                               15051\n",
              "e-bit                                                         6651\n",
              "Client d'Amazon                                               6087\n",
              "Amazon Kunde                                                  3683\n",
              "Anonymous                                                     2096\n",
              "einer Kundin                                                  2065\n",
              "einem Kunden                                                  1452\n",
              "unknown                                                       1350\n",
              "Anonymous                                                     1161\n",
              "David                                                          748\n",
              "Alex                                                           669\n",
              "Marco                                                          662\n",
              "ÐÐ»ÐµÐºÑÐ°Ð½Ð´Ñ                                             637\n",
              "Andrea                                                         631\n",
              "Ð¡ÐµÑÐ³ÐµÐ¹                                                   566\n",
              "Daniel                                                         562\n",
              "ÐÐ¼Ð¸ÑÑÐ¸Ð¹                                                 546\n",
              "ZÃ¡kaznÃ­k                                                     535\n",
              "Chris                                                          515\n",
              "Antonio                                                        505\n",
              "Michael                                                        492\n",
              "ÐÐ½Ð´ÑÐµÐ¹                                                   468\n",
              "Francesco                                                      451\n",
              "ÐÐ»ÐµÐºÑÐµÐ¹                                                 445\n",
              "Alessandro                                                     442\n",
              "Kindle Customer                                                438\n",
              "Amazon-Kunde                                                   412\n",
              "Roberto                                                        409\n",
              "AnÃ´nimo                                                       399\n",
              "Luca                                                           378\n",
              "Peter                                                          371\n",
              "John                                                           367\n",
              "Alberto                                                        363\n",
              "Mike                                                           362\n",
              "anonym                                                         348\n",
              "Carlos                                                         338\n",
              "Stefano                                                        310\n",
              "Gast                                                           308\n",
              "Paul                                                           305\n",
              "Fabio                                                          302\n",
              "Giuseppe                                                       302\n",
              "ÐÐ¾ÑÑÑ                                                     296\n",
              "Laura                                                          294\n",
              "Jose                                                           293\n",
              "ÐÐ²Ð³ÐµÐ½Ð¸Ð¹                                                 292\n",
              "Javier                                                         291\n",
              "Thomas                                                         288\n",
              "Martin                                                         286\n",
              "Frank                                                          283\n",
              "Christian                                                      282\n",
              "anonieme bezoeker                                              277\n",
              "Manuel                                                         274\n",
              "Davide                                                         273\n",
              "Sergio                                                         266\n",
              "Maria                                                          266\n",
              "ÐÐ¾Ð»ÑÐ·Ð¾Ð²Ð°ÑÐµÐ»Ñ ÑÐºÑÑÐ» ÑÐ²Ð¾Ð¸ Ð´Ð°Ð½Ð½ÑÐµ      255\n",
              "Max                                                            255\n",
              "Paolo                                                          250\n",
              "??????????                                                     246\n",
              "marco                                                          243\n",
              "ÐÐ»Ð°Ð´Ð¸Ð¼Ð¸Ñ                                               242\n",
              "ÐÐµÐ½Ð¸Ñ                                                     241\n",
              "Mario                                                          240\n",
              "Luis                                                           235\n",
              "Giovanni                                                       233\n",
              "Mark                                                           232\n",
              "????????                                                       232\n",
              "Sam                                                            231\n",
              "Daniele                                                        231\n",
              "Simone                                                         226\n",
              "Robert                                                         226\n",
              "Juan                                                           226\n",
              "Stefan                                                         223\n",
              "Patrick                                                        222\n",
              "andrea                                                         221\n",
              "Matteo                                                         219\n",
              "Anna                                                           218\n",
              "ÐÐ³Ð¾ÑÑ                                                     218\n",
              "Diego                                                          212\n",
              "Michele                                                        209\n",
              "Fernando                                                       209\n",
              "Kevin                                                          208\n",
              "Steve                                                          208\n",
              "Andreas                                                        205\n",
              "Dave                                                           204\n",
              "Ð¢Ð°ÑÑÑÐ½Ð°                                                 204\n",
              "david                                                          202\n",
              "Eric                                                           201\n",
              "??????????????                                                 200\n",
              "Andy                                                           198\n",
              "Nick                                                           196\n",
              "James                                                          195\n",
              "Erkek                                                          193\n",
              "Lisa                                                           193\n",
              "antonio                                                        192\n",
              "Ð Ð¾Ð¼Ð°Ð½                                                     190\n",
              "Sarah                                                          190\n",
              "Richard                                                        190\n",
              "ÐÐ»ÑÐ³Ð°                                                     189\n",
              "Name: author, dtype: int64"
            ]
          },
          "metadata": {
            "tags": []
          },
          "execution_count": 28
        }
      ]
    },
    {
      "cell_type": "code",
      "metadata": {
        "id": "N58Hky4BzWmX"
      },
      "source": [
        "# We will first need to clean the list of users who are Anonymous (this might skew the stats)\r\n",
        "# We will only be considering two people with the same name\r\n",
        "usersToDrop = ['Amazon Customer','Cliente Amazon','e-bit','Client d\\'Amazon','Amazon Kunde','Anonymous','einer Kundin','einem Kunden','unknown','Kindle Customer',\r\n",
        "                'Amazon-Kunde','anonym','?????????']\r\n",
        "\r\n",
        "# Dropping anonymous users\r\n",
        "cleanUserRatings = sampledSet[~sampledSet['author'].isin(tuple(usersToDrop))]"
      ],
      "execution_count": 29,
      "outputs": []
    },
    {
      "cell_type": "code",
      "metadata": {
        "colab": {
          "base_uri": "https://localhost:8080/"
        },
        "id": "98iykz2bqveS",
        "outputId": "ec817e36-cc10-456d-b0a4-b51f46c1ee2b"
      },
      "source": [
        "#Filtering for the products which have more than 50 reviews\r\n",
        "cleanUserRatings=cleanUserRatings.groupby('product').filter(lambda x: len(x) >= 50)\r\n",
        "\r\n",
        "# Check to ensure all the products with less than 50 count were removed\r\n",
        "cleanUserRatings['product'].value_counts() \r\n",
        "\r\n",
        "# as you can see the minimum frequency of products is 50"
      ],
      "execution_count": 30,
      "outputs": [
        {
          "output_type": "execute_result",
          "data": {
            "text/plain": [
              "Huawei P8lite zwart / 16 GB                                                                                                               2121\n",
              "Samsung Galaxy S6 zwart / 32 GB                                                                                                           1837\n",
              "OnePlus 3 (Graphite, 64 GB)                                                                                                               1777\n",
              "Lenovo Vibe K4 Note (White,16GB)                                                                                                          1680\n",
              "Lenovo Vibe K4 Note (Black, 16GB)                                                                                                         1465\n",
              "                                                                                                                                          ... \n",
              "CAT PHONES PHONES S60 Rugged Waterproof Smartphone with integrated FLIR camera                                                              50\n",
              "Wiko Rainbow Smartphone Bluetooth Android 4 Go Violet                                                                                       50\n",
              "Motorola Moto E 2nd Generation 4G LTE White XT1527 Unlocked Phone                                                                           50\n",
              "Motorola RAZR V3i Unlocked Phone with Camera, MP3/Video Player, and MicroSD Slot--International Version with No Warranty (Silver/Gray)      50\n",
              "Samsung Wave 723 GT-S7230                                                                                                                   50\n",
              "Name: product, Length: 4122, dtype: int64"
            ]
          },
          "metadata": {
            "tags": []
          },
          "execution_count": 30
        }
      ]
    },
    {
      "cell_type": "code",
      "metadata": {
        "colab": {
          "base_uri": "https://localhost:8080/"
        },
        "id": "boi5x-FJSDxN",
        "outputId": "ff32605f-e1dc-4032-e94d-84b6af97831a"
      },
      "source": [
        "# Filtering for the users who have submitted more than 50 reviews\r\n",
        "cleanUserRatings=cleanUserRatings.groupby('author').filter(lambda x: len(x) >= 50)\r\n",
        "\r\n",
        "# Resetting the Index \r\n",
        "cleanUserRatings.reset_index()\r\n",
        "cleanUserRatings.head()\r\n",
        "\r\n",
        "# Check to ensure the minimum reviews by a person is 50\r\n",
        "cleanUserRatings['author'].value_counts()\r\n",
        "\r\n",
        "# as we can see minimum counts by a person are 50"
      ],
      "execution_count": 31,
      "outputs": [
        {
          "output_type": "execute_result",
          "data": {
            "text/plain": [
              "Anonymous             1115\n",
              "ÐÐ»ÐµÐºÑÐ°Ð½Ð´Ñ     427\n",
              "ÐÐ¼Ð¸ÑÑÐ¸Ð¹         396\n",
              "Andrea                 394\n",
              "Marco                  390\n",
              "                      ... \n",
              "Stephan                 51\n",
              "Kim                     50\n",
              "Gaurav                  50\n",
              "Andre                   50\n",
              "Chiara                  50\n",
              "Name: author, Length: 261, dtype: int64"
            ]
          },
          "metadata": {
            "tags": []
          },
          "execution_count": 31
        }
      ]
    },
    {
      "cell_type": "code",
      "metadata": {
        "colab": {
          "base_uri": "https://localhost:8080/"
        },
        "id": "B0RI3LnIRjh1",
        "outputId": "741c07fe-c7c3-4cc7-c301-b9ee05b6001e"
      },
      "source": [
        "cleanUserRatings.shape\r\n",
        "# as you can see 28k records exist after applying the above rules\r\n",
        "# i.e. user with mroe than 50 reviews\r\n",
        "# products with more than 50 reviews"
      ],
      "execution_count": 32,
      "outputs": [
        {
          "output_type": "execute_result",
          "data": {
            "text/plain": [
              "(28215, 4)"
            ]
          },
          "metadata": {
            "tags": []
          },
          "execution_count": 32
        }
      ]
    },
    {
      "cell_type": "markdown",
      "metadata": {
        "id": "DkNM3V5usIFf"
      },
      "source": [
        "## **Q3. Popularity Based Model**"
      ]
    },
    {
      "cell_type": "markdown",
      "metadata": {
        "id": "NOkYL0TstH-s"
      },
      "source": [
        "### The ways of determining which mobile is important can be followed:\r\n",
        "\r\n",
        "1.   Based on popularity of sales (i.e. most selling mobiles)\r\n",
        "2.   Based on highest rating irrespective of the number of units sold\r\n",
        "\r\n",
        "Both these can be used but in different places i.e. you can show the most selling products on the website.\r\n",
        "\r\n",
        "You can also show the highest rated mobile phones in different section of the site and look at traction to determine which algorithm works better.\r\n",
        "\r\n"
      ]
    },
    {
      "cell_type": "code",
      "metadata": {
        "id": "HIPZWQE5wV83",
        "colab": {
          "base_uri": "https://localhost:8080/"
        },
        "outputId": "6432dc29-34c6-46d0-eff1-a27b7c017255"
      },
      "source": [
        "# Popularity based on Product with most Reviews i.e. mobiles most bought\r\n",
        "cleanUserRatings['product'].value_counts()[:5] # Top 5 Mobile Basis Most Reviews"
      ],
      "execution_count": 33,
      "outputs": [
        {
          "output_type": "execute_result",
          "data": {
            "text/plain": [
              "Apple iPhone 5s 16GB (ÑÐµÑÐµÐ±ÑÐ¸ÑÑÑÐ¹)                                                                                                                                                391\n",
              "Lenovo Motorola Moto G Smartphone, 4,5 pollici display HD, processore Qualcomm, memoria 16GB, MicroSIM, Android 4.3 OS, fotocamera da 5 MP, Nero [Germania]                                  270\n",
              "Huawei P8lite zwart / 16 GB                                                                                                                                                                  211\n",
              "Huawei P9 Lite Smartphone, LTE, Display 5.2'' FHD, Processore Octa-Core Kirin 650, 16 GB Memoria Interna, 3GB RAM, Fotocamera 13 MP, Single-SIM, Android 6.0 Marshmallow, Bianco [Italia]    207\n",
              "Huawei P8 Lite Smartphone, Display 5\" IPS, Processore Octa-Core 1.5 GHz, Memoria Interna da 16 GB, 2 GB RAM, Fotocamera 13 MP, monoSIM, Android 5.0, Bianco [Italia]                         180\n",
              "Name: product, dtype: int64"
            ]
          },
          "metadata": {
            "tags": []
          },
          "execution_count": 33
        }
      ]
    },
    {
      "cell_type": "code",
      "metadata": {
        "colab": {
          "base_uri": "https://localhost:8080/"
        },
        "id": "4OQLNvDewUOn",
        "outputId": "f4f9eb26-fb84-4d19-e04f-41084865ceac"
      },
      "source": [
        "# Popularity Based on Highest Average Score of Products irrespective of how many sales for the products is done it could be 1 or 10,000\r\n",
        "cleanUserRatings.groupby('product')['score'].mean().sort_values(ascending=False)[:5] # Top 5 Mobile Basis Average Rating"
      ],
      "execution_count": 34,
      "outputs": [
        {
          "output_type": "execute_result",
          "data": {
            "text/plain": [
              "product\n",
              "Motorola DROID                                                                                                        10.0\n",
              "Nokia C2-01.5 Unlocked GSM Phone with 3.2 MP Camera and Music and Video Player--U.S. Version with Warranty (Black)    10.0\n",
              "Celular LG Messenger GT360                                                                                            10.0\n",
              "Nokia C2-03 Handy (Dual SIM, Touchscreen Slider, 2MP Kamera, Bluetooth) chrom schwarz                                 10.0\n",
              "Samsung I9100 Galaxy S II 16GB Sim Free Smartphone - White                                                            10.0\n",
              "Name: score, dtype: float64"
            ]
          },
          "metadata": {
            "tags": []
          },
          "execution_count": 34
        }
      ]
    },
    {
      "cell_type": "code",
      "metadata": {
        "colab": {
          "base_uri": "https://localhost:8080/"
        },
        "id": "7sMduEARwvmK",
        "outputId": "c8aca779-e23c-4ecd-ee32-acb28a543dda"
      },
      "source": [
        "# Exactly as predicted above if we see there is NO INTERSECTION between the top 5 phones basis # of reviews and average number of ratings\r\n",
        "# The count determining the average score could be 1 or 1000, it is not being considered in the second algorithm.\r\n",
        "# Therefore a better strategy would be to combine the values and take a total score, something like this. \r\n",
        "# This is outside of the scope of this assignment but I am doing this as a practice.\r\n",
        "\r\n",
        "cleanUserRatings.groupby('product')['score'].sum().sort_values(ascending=False)[:5]\r\n",
        "# I will rather use this algorithm to show products on my site (if I have any)"
      ],
      "execution_count": 35,
      "outputs": [
        {
          "output_type": "execute_result",
          "data": {
            "text/plain": [
              "product\n",
              "Apple iPhone 5s 16GB (ÑÐµÑÐµÐ±ÑÐ¸ÑÑÑÐ¹)                                                                                                                                                3651.0\n",
              "Lenovo Motorola Moto G Smartphone, 4,5 pollici display HD, processore Qualcomm, memoria 16GB, MicroSIM, Android 4.3 OS, fotocamera da 5 MP, Nero [Germania]                                  2562.0\n",
              "Huawei P9 Lite Smartphone, LTE, Display 5.2'' FHD, Processore Octa-Core Kirin 650, 16 GB Memoria Interna, 3GB RAM, Fotocamera 13 MP, Single-SIM, Android 6.0 Marshmallow, Bianco [Italia]    1892.0\n",
              "Huawei P8lite zwart / 16 GB                                                                                                                                                                  1776.0\n",
              "Apple iPhone 5s 16GB (ÑÐµÑÑÐ¹ ÐºÐ¾ÑÐ¼Ð¾Ñ)                                                                                                                                               1688.0\n",
              "Name: score, dtype: float64"
            ]
          },
          "metadata": {
            "tags": []
          },
          "execution_count": 35
        }
      ]
    },
    {
      "cell_type": "markdown",
      "metadata": {
        "id": "LqVdyB3veB22"
      },
      "source": [
        "## **Q4. & Q6. Collaborative Filtering using SVD incl. RMSE**\n"
      ]
    },
    {
      "cell_type": "code",
      "metadata": {
        "colab": {
          "base_uri": "https://localhost:8080/"
        },
        "id": "HvmYrv2ueiY2",
        "outputId": "a71f7119-9bd0-428e-963a-5708a08c7a4d"
      },
      "source": [
        "# Getting the shape of the data to be analyzed\r\n",
        "cleanUserRatings.shape"
      ],
      "execution_count": 36,
      "outputs": [
        {
          "output_type": "execute_result",
          "data": {
            "text/plain": [
              "(28215, 4)"
            ]
          },
          "metadata": {
            "tags": []
          },
          "execution_count": 36
        }
      ]
    },
    {
      "cell_type": "code",
      "metadata": {
        "id": "DaBPdtrGxc6e",
        "colab": {
          "base_uri": "https://localhost:8080/",
          "height": 298
        },
        "outputId": "a87b601c-903a-4f1c-c45c-c2d0b3e13b45"
      },
      "source": [
        "sns.countplot(data=cleanUserRatings, x='score')\r\n",
        "\r\n",
        "# No Zero's\r\n",
        "# People are mostly happy with their phones i.e. 10/10 scores for >50% of the sample"
      ],
      "execution_count": 37,
      "outputs": [
        {
          "output_type": "execute_result",
          "data": {
            "text/plain": [
              "<matplotlib.axes._subplots.AxesSubplot at 0x7f9c240fb358>"
            ]
          },
          "metadata": {
            "tags": []
          },
          "execution_count": 37
        },
        {
          "output_type": "display_data",
          "data": {
            "image/png": "[encoded data removed]",
            "text/plain": [
              "<Figure size 432x288 with 1 Axes>"
            ]
          },
          "metadata": {
            "tags": [],
            "needs_background": "light"
          }
        }
      ]
    },
    {
      "cell_type": "code",
      "metadata": {
        "colab": {
          "base_uri": "https://localhost:8080/"
        },
        "id": "K7sWGdm78Swl",
        "outputId": "80571063-4530-4202-86b5-4b91d7d18320"
      },
      "source": [
        "# Since we are working with textual data it is important to do one label encoding before the data is fed into the model\r\n",
        "# This will help remove any duplications w.r.t. user names etc.\r\n",
        "# Getting the data ready for processing\r\n",
        "\r\n",
        "from sklearn.preprocessing import LabelEncoder\r\n",
        "\r\n",
        "le = LabelEncoder()\r\n",
        "revisedUserRatings = cleanUserRatings[['author','product','score']]\r\n",
        "\r\n",
        "# Categorical boolean mask\r\n",
        "categorical_feature_mask = revisedUserRatings.dtypes==object\r\n",
        "\r\n",
        "# filter categorical columns using mask and turn it into a list\r\n",
        "categorical_cols = revisedUserRatings.columns[categorical_feature_mask].tolist()\r\n",
        "\r\n",
        "revisedUserRatings[categorical_cols] = revisedUserRatings[categorical_cols].apply(lambda col: le.fit_transform(col))\r\n",
        "\r\n",
        "# Clean labelled data will be used for majority of the models\r\n",
        "revisedUserRatings.reset_index(inplace=True)\r\n",
        "revisedUserRatings.drop('index', axis=1, inplace=True)\r\n",
        "\r\n",
        "# Will be used for some models\r\n",
        "reshapedDF = revisedUserRatings.pivot_table(index = 'author', columns ='product', values = 'score').fillna(0)"
      ],
      "execution_count": 38,
      "outputs": [
        {
          "output_type": "stream",
          "text": [
            "/usr/local/lib/python3.6/dist-packages/pandas/core/frame.py:3069: SettingWithCopyWarning: \n",
            "A value is trying to be set on a copy of a slice from a DataFrame.\n",
            "Try using .loc[row_indexer,col_indexer] = value instead\n",
            "\n",
            "See the caveats in the documentation: https://pandas.pydata.org/pandas-docs/stable/user_guide/indexing.html#returning-a-view-versus-a-copy\n",
            "  self[k1] = value[k2]\n",
            "/usr/local/lib/python3.6/dist-packages/pandas/core/frame.py:4174: SettingWithCopyWarning: \n",
            "A value is trying to be set on a copy of a slice from a DataFrame\n",
            "\n",
            "See the caveats in the documentation: https://pandas.pydata.org/pandas-docs/stable/user_guide/indexing.html#returning-a-view-versus-a-copy\n",
            "  errors=errors,\n"
          ],
          "name": "stderr"
        }
      ]
    },
    {
      "cell_type": "code",
      "metadata": {
        "id": "3Rhhwv-uxwka"
      },
      "source": [
        "# Transform data to surprise format\r\n",
        "reader = Reader(rating_scale=(1, 10))\r\n",
        "\r\n",
        "# This is the surprise sequence\r\n",
        "data = Dataset.load_from_df(revisedUserRatings[['author', 'product', 'score']],reader)"
      ],
      "execution_count": 39,
      "outputs": []
    },
    {
      "cell_type": "code",
      "metadata": {
        "id": "400ygCB_MjFI"
      },
      "source": [
        "# Doing a 25:75 split for test and train respectively\r\n",
        "trainset, testset=train_test_split(data,test_size=0.25,random_state=41)"
      ],
      "execution_count": 40,
      "outputs": []
    },
    {
      "cell_type": "code",
      "metadata": {
        "colab": {
          "base_uri": "https://localhost:8080/"
        },
        "id": "7iFSb2SiN1O4",
        "outputId": "fec3657a-7a41-4fae-ca05-1a148deeffac"
      },
      "source": [
        "# Create the model and fit it with the training data\r\n",
        "svd_model = SVD(n_factors=50, biased=False)\r\n",
        "svd_model.fit(trainset)"
      ],
      "execution_count": 41,
      "outputs": [
        {
          "output_type": "execute_result",
          "data": {
            "text/plain": [
              "<surprise.prediction_algorithms.matrix_factorization.SVD at 0x7f9c24010cc0>"
            ]
          },
          "metadata": {
            "tags": []
          },
          "execution_count": 41
        }
      ]
    },
    {
      "cell_type": "code",
      "metadata": {
        "id": "T8xzjihtOlB-"
      },
      "source": [
        "# Do a prediction of the test data\r\n",
        "test_pred=svd_model.test(testset)"
      ],
      "execution_count": 42,
      "outputs": []
    },
    {
      "cell_type": "code",
      "metadata": {
        "colab": {
          "base_uri": "https://localhost:8080/"
        },
        "id": "hzRRlkBWQFqT",
        "outputId": "c6d2cc9a-dc7b-4844-c89a-7f0ecee2e856"
      },
      "source": [
        "# Accuracy measure as RMSE, lower the better\r\n",
        "accuracy.rmse(test_pred)"
      ],
      "execution_count": 43,
      "outputs": [
        {
          "output_type": "stream",
          "text": [
            "RMSE: 2.7335\n"
          ],
          "name": "stdout"
        },
        {
          "output_type": "execute_result",
          "data": {
            "text/plain": [
              "2.7334791455518097"
            ]
          },
          "metadata": {
            "tags": []
          },
          "execution_count": 43
        }
      ]
    },
    {
      "cell_type": "markdown",
      "metadata": {
        "id": "wAATaQB9emb4"
      },
      "source": [
        "## **Q5. & Q6. Collaborative Filtering with KNNWithMeans incl. RMSE** \n",
        "\n",
        "\n",
        "\n",
        "\n"
      ]
    },
    {
      "cell_type": "markdown",
      "metadata": {
        "id": "ykO-pYmJJNyt"
      },
      "source": [
        "### 5.1  User Based Collaborative Filtering\r\n",
        "\r\n"
      ]
    },
    {
      "cell_type": "code",
      "metadata": {
        "id": "rLyJwXaWfQFB",
        "colab": {
          "base_uri": "https://localhost:8080/"
        },
        "outputId": "1242f589-3145-449f-a96f-35f79fd72d07"
      },
      "source": [
        "# 1. For User Based:\r\n",
        "userSurpriseModel = KNNWithMeans(k=50, sim_options={'name': 'pearson_baseline', 'user_based': True})\r\n",
        "userSurpriseModel.fit(trainset)"
      ],
      "execution_count": 44,
      "outputs": [
        {
          "output_type": "stream",
          "text": [
            "Estimating biases using als...\n",
            "Computing the pearson_baseline similarity matrix...\n",
            "Done computing similarity matrix.\n"
          ],
          "name": "stdout"
        },
        {
          "output_type": "execute_result",
          "data": {
            "text/plain": [
              "<surprise.prediction_algorithms.knns.KNNWithMeans at 0x7f9c253fa6a0>"
            ]
          },
          "metadata": {
            "tags": []
          },
          "execution_count": 44
        }
      ]
    },
    {
      "cell_type": "code",
      "metadata": {
        "id": "9pcUnX_pd5-V"
      },
      "source": [
        "# Predicting the test set on the trained data\r\n",
        "test_pred_user = userSurpriseModel.test(testset)"
      ],
      "execution_count": 45,
      "outputs": []
    },
    {
      "cell_type": "code",
      "metadata": {
        "colab": {
          "base_uri": "https://localhost:8080/"
        },
        "id": "HuFnvUkZz7D7",
        "outputId": "9734b394-dfe3-4083-ce3d-0df4b66f0ef9"
      },
      "source": [
        "# RMSE for the User Based Model\r\n",
        "accuracy.rmse(test_pred_user, verbose=True)\r\n",
        "\r\n",
        "## Has higher accuracy than the SVD model above based on user classification"
      ],
      "execution_count": 46,
      "outputs": [
        {
          "output_type": "stream",
          "text": [
            "RMSE: 2.5979\n"
          ],
          "name": "stdout"
        },
        {
          "output_type": "execute_result",
          "data": {
            "text/plain": [
              "2.597861369288122"
            ]
          },
          "metadata": {
            "tags": []
          },
          "execution_count": 46
        }
      ]
    },
    {
      "cell_type": "markdown",
      "metadata": {
        "id": "Z3N0KZd6JXuG"
      },
      "source": [
        "### 5.2  Item Based Collaborative Filtering"
      ]
    },
    {
      "cell_type": "code",
      "metadata": {
        "colab": {
          "base_uri": "https://localhost:8080/"
        },
        "id": "qeI2DhnUeu49",
        "outputId": "61209b62-7b3e-494c-efab-929f1873b865"
      },
      "source": [
        "# 2. For Item Based:\r\n",
        "itemSurpriseModel = KNNWithMeans(k=50, sim_options={'name': 'pearson_baseline', 'user_based': False})\r\n",
        "itemSurpriseModel.fit(trainset)"
      ],
      "execution_count": 47,
      "outputs": [
        {
          "output_type": "stream",
          "text": [
            "Estimating biases using als...\n",
            "Computing the pearson_baseline similarity matrix...\n",
            "Done computing similarity matrix.\n"
          ],
          "name": "stdout"
        },
        {
          "output_type": "execute_result",
          "data": {
            "text/plain": [
              "<surprise.prediction_algorithms.knns.KNNWithMeans at 0x7f9c25408048>"
            ]
          },
          "metadata": {
            "tags": []
          },
          "execution_count": 47
        }
      ]
    },
    {
      "cell_type": "code",
      "metadata": {
        "id": "MpK7onecezcw"
      },
      "source": [
        "# Predicting the test set on the trained data\r\n",
        "test_pred_item = itemSurpriseModel.test(testset)"
      ],
      "execution_count": 48,
      "outputs": []
    },
    {
      "cell_type": "code",
      "metadata": {
        "colab": {
          "base_uri": "https://localhost:8080/"
        },
        "id": "FY4oCF1me0_w",
        "outputId": "c116e68e-5764-4aa0-a5f8-b5f351ad7013"
      },
      "source": [
        "# RMSE for the Item Based Model\r\n",
        "accuracy.rmse(test_pred_item, verbose=True)\r\n",
        "\r\n",
        "## Has higher accuracy than both the SVD model & the User Based Collaborative Filtering Model above"
      ],
      "execution_count": 49,
      "outputs": [
        {
          "output_type": "stream",
          "text": [
            "RMSE: 2.5022\n"
          ],
          "name": "stdout"
        },
        {
          "output_type": "execute_result",
          "data": {
            "text/plain": [
              "2.5022123165638073"
            ]
          },
          "metadata": {
            "tags": []
          },
          "execution_count": 49
        }
      ]
    },
    {
      "cell_type": "markdown",
      "metadata": {
        "id": "W6xGgc3m2P-w"
      },
      "source": [
        "## **7. Predicting Score (Average Rating) for Test Users**"
      ]
    },
    {
      "cell_type": "code",
      "metadata": {
        "colab": {
          "base_uri": "https://localhost:8080/"
        },
        "id": "7-Hqg5WA64U9",
        "outputId": "98f765f8-f1d1-4691-acd8-c6f59c613554"
      },
      "source": [
        "# Predicting average rating for the test users based on the KNNWithMeans User CF Model\r\n",
        "actual, predicted = pd.DataFrame(test_pred_user)[['r_ui','est']].mean()\r\n",
        "print(f'USER CF MODEL: Predicted Score (avg rating) for test users is : {round(predicted,2)} as compared with the actual rating : {round(actual,2)}')\r\n",
        "\r\n",
        "# Predicting average rating for the test users based on the KNNWithMeans Item CF Model\r\n",
        "actual, predicted = pd.DataFrame(test_pred_item)[['r_ui','est']].mean()\r\n",
        "print(f'ITEM CF MODEL: Predicted Score (avg rating) for test users is : {round(predicted,2)} as compared with the actual rating : {round(actual,2)}')"
      ],
      "execution_count": 50,
      "outputs": [
        {
          "output_type": "stream",
          "text": [
            "USER CF MODEL: Predicted Score (avg rating) for test users is : 8.5 as compared with the actual rating : 8.43\n",
            "ITEM CF MODEL: Predicted Score (avg rating) for test users is : 8.47 as compared with the actual rating : 8.43\n"
          ],
          "name": "stdout"
        }
      ]
    },
    {
      "cell_type": "code",
      "metadata": {
        "colab": {
          "base_uri": "https://localhost:8080/"
        },
        "id": "33q0snozgd1S",
        "outputId": "554f6a8e-1701-4486-fce6-5aea82978571"
      },
      "source": [
        "# Predicting for a random item\r\n",
        "itemSurpriseModel.predict('217', '2664', verbose=True)"
      ],
      "execution_count": 51,
      "outputs": [
        {
          "output_type": "stream",
          "text": [
            "user: 217        item: 2664       r_ui = None   est = 8.46   {'was_impossible': True, 'reason': 'User and/or item is unknown.'}\n"
          ],
          "name": "stdout"
        },
        {
          "output_type": "execute_result",
          "data": {
            "text/plain": [
              "Prediction(uid='217', iid='2664', r_ui=None, est=8.459949907849346, details={'was_impossible': True, 'reason': 'User and/or item is unknown.'})"
            ]
          },
          "metadata": {
            "tags": []
          },
          "execution_count": 51
        }
      ]
    },
    {
      "cell_type": "code",
      "metadata": {
        "colab": {
          "base_uri": "https://localhost:8080/"
        },
        "id": "VHazqMljgwqf",
        "outputId": "a602cdb6-9363-44b7-839f-8434bb6fb442"
      },
      "source": [
        "# Predicting for a random user\r\n",
        "userSurpriseModel.predict('62', '3076', verbose=True)"
      ],
      "execution_count": 52,
      "outputs": [
        {
          "output_type": "stream",
          "text": [
            "user: 62         item: 3076       r_ui = None   est = 8.46   {'was_impossible': True, 'reason': 'User and/or item is unknown.'}\n"
          ],
          "name": "stdout"
        },
        {
          "output_type": "execute_result",
          "data": {
            "text/plain": [
              "Prediction(uid='62', iid='3076', r_ui=None, est=8.459949907849346, details={'was_impossible': True, 'reason': 'User and/or item is unknown.'})"
            ]
          },
          "metadata": {
            "tags": []
          },
          "execution_count": 52
        }
      ]
    },
    {
      "cell_type": "markdown",
      "metadata": {
        "id": "6fEiy3nt3Tug"
      },
      "source": [
        "## **8. Findings & Obserations**"
      ]
    },
    {
      "cell_type": "markdown",
      "metadata": {
        "id": "yn2IPfCwz5Co"
      },
      "source": [
        "1. This data was really huge i.e. greater than 1.5MN Row Items\r\n",
        "2. We started by exploring the dataset and the first set of filtering reduced the same to 1.25 MN rows\r\n",
        "3. We then did a random state 612 based sleection and selected 100k rows from the data and dropped a number of columns.\r\n",
        "4. Thereafter we applied Popularity Based Recommendation System and COllaborative Filtering Methods both SVD and KNN to arrive at recommendations for the user.\r\n",
        "\r\n",
        "**Below are the Observations basis results obtained from the four models:**\r\n",
        "\r\n",
        "1. In terms of Models, going with popularity based model is the best option. I am combining this with some domain expertise as well. During multiple studies for websites like OLX etc. this model works the best. Also the fact that mobiles are more of a peer influenced item therefore buying what is popular can be a significant influencer.\r\n",
        "\r\n",
        "2. Next, in terms of a recommendations system if we compare the two major models w.r.t. RMSE - SVD (2.73) and Collaborative Filtering. Collaborative Filtering has a lower RMSE for both User (2.59) and Item (2.50) based models.\r\n",
        "\r\n",
        "3. Within collaborative filtering Item Based models tend to perform better with a lower RMSE value of 2.50. Also if we look at the mean score of all the recommendations the difference in the Item Based model is 0.04 vs 0.07 for User Based Model\r\n",
        "\r\n",
        "**CONCLUSION:** For a website with mobile phones - the best algorithm would be a popularity recommender (based on domain knowledge) followed by an Item Based Collaborative Filtering Model (based on RMSE).\r\n"
      ]
    },
    {
      "cell_type": "markdown",
      "metadata": {
        "id": "co2zHhqt3dON"
      },
      "source": [
        "## **9. Recommending Top 5 Products for Test Users**"
      ]
    },
    {
      "cell_type": "code",
      "metadata": {
        "colab": {
          "base_uri": "https://localhost:8080/",
          "height": 197
        },
        "id": "v-_R90qV8ioK",
        "outputId": "3f001c7a-667b-4bd1-8663-fcf22c4ef46c"
      },
      "source": [
        "def get_recommendations(result, userId,num):\r\n",
        "  test_pred=pd.DataFrame(result)\r\n",
        "  user_rec = test_pred[test_pred['uid'] == userId][['uid','iid','r_ui','est']].sort_values(by = 'est',ascending = False).head(num)\r\n",
        "  return user_rec\r\n",
        "\r\n",
        "# Getting the top 5 Recommendations for the User#174 <-- you can change the user id & no of recommendation to get further recommendations\r\n",
        "# get_recommendation(model_to_use, User ID to Recommend, No of Items to Recommend)\r\n",
        "get_recommendations(test_pred_item, 174,5)"
      ],
      "execution_count": 53,
      "outputs": [
        {
          "output_type": "execute_result",
          "data": {
            "text/html": [
              "<div>\n",
              "<style scoped>\n",
              "    .dataframe tbody tr th:only-of-type {\n",
              "        vertical-align: middle;\n",
              "    }\n",
              "\n",
              "    .dataframe tbody tr th {\n",
              "        vertical-align: top;\n",
              "    }\n",
              "\n",
              "    .dataframe thead th {\n",
              "        text-align: right;\n",
              "    }\n",
              "</style>\n",
              "<table border=\"1\" class=\"dataframe\">\n",
              "  <thead>\n",
              "    <tr style=\"text-align: right;\">\n",
              "      <th></th>\n",
              "      <th>uid</th>\n",
              "      <th>iid</th>\n",
              "      <th>r_ui</th>\n",
              "      <th>est</th>\n",
              "    </tr>\n",
              "  </thead>\n",
              "  <tbody>\n",
              "    <tr>\n",
              "      <th>4852</th>\n",
              "      <td>174</td>\n",
              "      <td>2918</td>\n",
              "      <td>10.0</td>\n",
              "      <td>10.0</td>\n",
              "    </tr>\n",
              "    <tr>\n",
              "      <th>1291</th>\n",
              "      <td>174</td>\n",
              "      <td>1404</td>\n",
              "      <td>10.0</td>\n",
              "      <td>10.0</td>\n",
              "    </tr>\n",
              "    <tr>\n",
              "      <th>2122</th>\n",
              "      <td>174</td>\n",
              "      <td>571</td>\n",
              "      <td>4.0</td>\n",
              "      <td>10.0</td>\n",
              "    </tr>\n",
              "    <tr>\n",
              "      <th>2083</th>\n",
              "      <td>174</td>\n",
              "      <td>1641</td>\n",
              "      <td>9.0</td>\n",
              "      <td>10.0</td>\n",
              "    </tr>\n",
              "    <tr>\n",
              "      <th>1535</th>\n",
              "      <td>174</td>\n",
              "      <td>1607</td>\n",
              "      <td>8.0</td>\n",
              "      <td>10.0</td>\n",
              "    </tr>\n",
              "  </tbody>\n",
              "</table>\n",
              "</div>"
            ],
            "text/plain": [
              "      uid   iid  r_ui   est\n",
              "4852  174  2918  10.0  10.0\n",
              "1291  174  1404  10.0  10.0\n",
              "2122  174   571   4.0  10.0\n",
              "2083  174  1641   9.0  10.0\n",
              "1535  174  1607   8.0  10.0"
            ]
          },
          "metadata": {
            "tags": []
          },
          "execution_count": 53
        }
      ]
    },
    {
      "cell_type": "markdown",
      "metadata": {
        "id": "IkbX6maf3dcc"
      },
      "source": [
        "## **10. Check for Outliers**"
      ]
    },
    {
      "cell_type": "code",
      "metadata": {
        "id": "0TL9hkyQICrN"
      },
      "source": [
        "# We will check to see where the model was unable to make a prediction i.e. was_impossible = True\r\n",
        "def CheckForOutliers(data):\r\n",
        "  predCluster, predPossible = [], []\r\n",
        "  df = pd.DataFrame(data)\r\n",
        "  for user, item, r_ui, est, details in data:\r\n",
        "    predCluster.append(details.get('actual_k'))\r\n",
        "    predPossible.append(details.get('was_impossible'))\r\n",
        "\r\n",
        "  df['predCluster'] = predCluster\r\n",
        "  df['predPossible'] = predPossible\r\n",
        "\r\n",
        "  return(df)"
      ],
      "execution_count": 54,
      "outputs": []
    },
    {
      "cell_type": "code",
      "metadata": {
        "colab": {
          "base_uri": "https://localhost:8080/"
        },
        "id": "fQfy3E8ZKQMI",
        "outputId": "8add7e7b-ec08-4e3b-ec72-9f24d85fa66a"
      },
      "source": [
        "CheckForOutliers(test_pred_user)['predPossible'].value_counts()\r\n",
        "# As we can see there are 212 outliers in the prediction userset for whom the prediction was not possible."
      ],
      "execution_count": 55,
      "outputs": [
        {
          "output_type": "execute_result",
          "data": {
            "text/plain": [
              "False    6842\n",
              "True      212\n",
              "Name: predPossible, dtype: int64"
            ]
          },
          "metadata": {
            "tags": []
          },
          "execution_count": 55
        }
      ]
    },
    {
      "cell_type": "markdown",
      "metadata": {
        "id": "c9TN4las3dja"
      },
      "source": [
        "## **11. Trying Cross Validation**"
      ]
    },
    {
      "cell_type": "code",
      "metadata": {
        "colab": {
          "base_uri": "https://localhost:8080/",
          "height": 197
        },
        "id": "wRehlJhUGGf5",
        "outputId": "ab1e2a80-6e8c-405c-a1ee-1e76134971bb"
      },
      "source": [
        "# We can use the function which has been written above to recommend the top 5 Items to a User based on the UserCF Model.\r\n",
        "\r\n",
        "# Getting the top 5 Recommendations for the User#174 based on the user KMeans model\r\n",
        "get_recommendations(test_pred_user, 174,5)"
      ],
      "execution_count": 56,
      "outputs": [
        {
          "output_type": "execute_result",
          "data": {
            "text/html": [
              "<div>\n",
              "<style scoped>\n",
              "    .dataframe tbody tr th:only-of-type {\n",
              "        vertical-align: middle;\n",
              "    }\n",
              "\n",
              "    .dataframe tbody tr th {\n",
              "        vertical-align: top;\n",
              "    }\n",
              "\n",
              "    .dataframe thead th {\n",
              "        text-align: right;\n",
              "    }\n",
              "</style>\n",
              "<table border=\"1\" class=\"dataframe\">\n",
              "  <thead>\n",
              "    <tr style=\"text-align: right;\">\n",
              "      <th></th>\n",
              "      <th>uid</th>\n",
              "      <th>iid</th>\n",
              "      <th>r_ui</th>\n",
              "      <th>est</th>\n",
              "    </tr>\n",
              "  </thead>\n",
              "  <tbody>\n",
              "    <tr>\n",
              "      <th>2013</th>\n",
              "      <td>174</td>\n",
              "      <td>901</td>\n",
              "      <td>10.0</td>\n",
              "      <td>10.000000</td>\n",
              "    </tr>\n",
              "    <tr>\n",
              "      <th>4852</th>\n",
              "      <td>174</td>\n",
              "      <td>2918</td>\n",
              "      <td>10.0</td>\n",
              "      <td>10.000000</td>\n",
              "    </tr>\n",
              "    <tr>\n",
              "      <th>1527</th>\n",
              "      <td>174</td>\n",
              "      <td>943</td>\n",
              "      <td>10.0</td>\n",
              "      <td>10.000000</td>\n",
              "    </tr>\n",
              "    <tr>\n",
              "      <th>2122</th>\n",
              "      <td>174</td>\n",
              "      <td>571</td>\n",
              "      <td>4.0</td>\n",
              "      <td>9.933127</td>\n",
              "    </tr>\n",
              "    <tr>\n",
              "      <th>5503</th>\n",
              "      <td>174</td>\n",
              "      <td>2262</td>\n",
              "      <td>10.0</td>\n",
              "      <td>9.890041</td>\n",
              "    </tr>\n",
              "  </tbody>\n",
              "</table>\n",
              "</div>"
            ],
            "text/plain": [
              "      uid   iid  r_ui        est\n",
              "2013  174   901  10.0  10.000000\n",
              "4852  174  2918  10.0  10.000000\n",
              "1527  174   943  10.0  10.000000\n",
              "2122  174   571   4.0   9.933127\n",
              "5503  174  2262  10.0   9.890041"
            ]
          },
          "metadata": {
            "tags": []
          },
          "execution_count": 56
        }
      ]
    },
    {
      "cell_type": "code",
      "metadata": {
        "colab": {
          "base_uri": "https://localhost:8080/",
          "height": 197
        },
        "id": "UHiAqSr-Kr7x",
        "outputId": "5e6b6677-b4f5-4671-eeb7-8a82461aa28a"
      },
      "source": [
        "# Getting the top 5 Recommendations for the User#174 based on the SVD Model\r\n",
        "get_recommendations(test_pred, 174,5)"
      ],
      "execution_count": 57,
      "outputs": [
        {
          "output_type": "execute_result",
          "data": {
            "text/html": [
              "<div>\n",
              "<style scoped>\n",
              "    .dataframe tbody tr th:only-of-type {\n",
              "        vertical-align: middle;\n",
              "    }\n",
              "\n",
              "    .dataframe tbody tr th {\n",
              "        vertical-align: top;\n",
              "    }\n",
              "\n",
              "    .dataframe thead th {\n",
              "        text-align: right;\n",
              "    }\n",
              "</style>\n",
              "<table border=\"1\" class=\"dataframe\">\n",
              "  <thead>\n",
              "    <tr style=\"text-align: right;\">\n",
              "      <th></th>\n",
              "      <th>uid</th>\n",
              "      <th>iid</th>\n",
              "      <th>r_ui</th>\n",
              "      <th>est</th>\n",
              "    </tr>\n",
              "  </thead>\n",
              "  <tbody>\n",
              "    <tr>\n",
              "      <th>2122</th>\n",
              "      <td>174</td>\n",
              "      <td>571</td>\n",
              "      <td>4.0</td>\n",
              "      <td>10.000000</td>\n",
              "    </tr>\n",
              "    <tr>\n",
              "      <th>4852</th>\n",
              "      <td>174</td>\n",
              "      <td>2918</td>\n",
              "      <td>10.0</td>\n",
              "      <td>9.946043</td>\n",
              "    </tr>\n",
              "    <tr>\n",
              "      <th>5503</th>\n",
              "      <td>174</td>\n",
              "      <td>2262</td>\n",
              "      <td>10.0</td>\n",
              "      <td>9.795371</td>\n",
              "    </tr>\n",
              "    <tr>\n",
              "      <th>764</th>\n",
              "      <td>174</td>\n",
              "      <td>1166</td>\n",
              "      <td>6.0</td>\n",
              "      <td>9.667945</td>\n",
              "    </tr>\n",
              "    <tr>\n",
              "      <th>2904</th>\n",
              "      <td>174</td>\n",
              "      <td>814</td>\n",
              "      <td>9.0</td>\n",
              "      <td>9.212345</td>\n",
              "    </tr>\n",
              "  </tbody>\n",
              "</table>\n",
              "</div>"
            ],
            "text/plain": [
              "      uid   iid  r_ui        est\n",
              "2122  174   571   4.0  10.000000\n",
              "4852  174  2918  10.0   9.946043\n",
              "5503  174  2262  10.0   9.795371\n",
              "764   174  1166   6.0   9.667945\n",
              "2904  174   814   9.0   9.212345"
            ]
          },
          "metadata": {
            "tags": []
          },
          "execution_count": 57
        }
      ]
    },
    {
      "cell_type": "code",
      "metadata": {
        "id": "8uoY52a-MQFz"
      },
      "source": [
        "# As We can see both the models are recommending different products with different estimated scores.\r\n",
        "# We can do a randomized strategy to show something different for different users & see which model has a better response rate."
      ],
      "execution_count": 58,
      "outputs": []
    },
    {
      "cell_type": "markdown",
      "metadata": {
        "id": "ceHkOhE83oa5"
      },
      "source": [
        "## **12. Business Scenario to Use Popularity Based Systems**\r\n",
        "\r\n",
        "Popularity based recommendations systems are very popular but are non-personalized. This is because they only model basis frequency but do not model the interactions whether it is between the user & the product or the product & its features. \r\n",
        "\r\n",
        "Whenever data availability is limited i.e. we are not capturing rating or feedback for an item from users OR the features of the product we are selling are not on a comparable scale i.e. for general purpose websites. In such cases just recommending what others are buying based on specifics like GEO Tagging etc. can be a very powerful method."
      ]
    },
    {
      "cell_type": "markdown",
      "metadata": {
        "id": "XTJX5hgq3w47"
      },
      "source": [
        "## **13. Business Scenario to Use Collaborative Filtering Based Systems**\r\n",
        "\r\n",
        "Personalization starts here with the Collaborative Filtering Models. The thought is that users who are like minded are tended to behave similarly. This is around interaction between product and users which forms the basis of this model. \r\n",
        "\r\n",
        "There are two kinds of models here User based and Item Based Filtering. This is when we can use each:\r\n",
        "\r\n",
        "1. IBCF - Item based collaborative filtering system. When users are generally purchasing the products together we can cross recommend the products to the users who have purchased a product A and not product C. If A and C products are always brought together, we can recommend to the same user to buy the product C as well since he has brought product A. Similarity between items is considered to make the recommendations.\r\n",
        "\r\n",
        "2. UBCF - User based collaborative filtering system. We are trying to understand the users who have the similar tastes for products. The similarity of users is based upon their purchase behavior. Person A is similar to person B because both have purchased item x, y and z. \r\n",
        "\r\n"
      ]
    },
    {
      "cell_type": "markdown",
      "metadata": {
        "id": "579ghl_E3onJ"
      },
      "source": [
        "## **14. Any Other Methods to Improve Recommendations**\r\n",
        "\r\n",
        "1.  There are other methods like **Market Basket Analysis** wherein probability of buying two items together is modelled. In this case considering it is a mobile phone database it is seldom that people would buy two mobile phones together.\r\n",
        "\r\n",
        "\r\n",
        "2. Next is **Content Based Recommendation Systems** which is also difficult to model here. Yes, indeed we do have features for each model provided but as stated in multiple placed above the data is english as well which created an issue to identify features. What we have is user's feedback about an item and not item features. For content based systems we would need both item and features. Therefore we can't use this model even.\r\n",
        "\r\n",
        "3. **Singular Value Decomposition (SVD)** as a model we can use where we can specify arbitary weights to predict what rating will an individual give to a mobile phone considering he / she has already rated similar products in the past. We have actually only filtered individuals who have given rating for 50 products or more so that is a model that can be tried. \r\n",
        "\r\n",
        "\r\n",
        "The Best Models for modelling a product & user problem would be using either Popularity Based Models or using the Collaborative Filtering Models. Both of them have been showcased above."
      ]
    }
  ]
}