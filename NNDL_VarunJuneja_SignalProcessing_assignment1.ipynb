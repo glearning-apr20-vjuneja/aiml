{
  "nbformat": 4,
  "nbformat_minor": 0,
  "metadata": {
    "colab": {
      "name": "NNDL_VarunJuneja_SignalProcessing_assignment1.ipynb",
      "provenance": []
    },
    "kernelspec": {
      "name": "python3",
      "display_name": "Python 3"
    },
    "language_info": {
      "name": "python"
    },
    "accelerator": "GPU"
  },
  "cells": [
    {
      "cell_type": "markdown",
      "metadata": {
        "id": "bhaUVNUmfpt7"
      },
      "source": [
        "# NEURAL NETWORKS -- Project 1"
      ]
    },
    {
      "cell_type": "code",
      "metadata": {
        "id": "MBsVOuZBMxro",
        "colab": {
          "base_uri": "https://localhost:8080/"
        },
        "outputId": "856191de-7bfd-4f68-d982-4f9b3bd9b585"
      },
      "source": [
        "# Importing the TensorFlow library\n",
        "import tensorflow as tf\n",
        "import pandas as pd\n",
        "import numpy as np\n",
        "import seaborn as sns\n",
        "import matplotlib.pyplot as plt"
      ],
      "execution_count": 1,
      "outputs": [
        {
          "output_type": "stream",
          "text": [
            "Requirement already satisfied: pandas-profiling in /usr/local/lib/python3.7/dist-packages (1.4.1)\n",
            "Requirement already satisfied: pandas>=0.19 in /usr/local/lib/python3.7/dist-packages (from pandas-profiling) (1.1.5)\n",
            "Requirement already satisfied: jinja2>=2.8 in /usr/local/lib/python3.7/dist-packages (from pandas-profiling) (2.11.3)\n",
            "Requirement already satisfied: six>=1.9 in /usr/local/lib/python3.7/dist-packages (from pandas-profiling) (1.15.0)\n",
            "Requirement already satisfied: matplotlib>=1.4 in /usr/local/lib/python3.7/dist-packages (from pandas-profiling) (3.2.2)\n",
            "Requirement already satisfied: pytz>=2017.2 in /usr/local/lib/python3.7/dist-packages (from pandas>=0.19->pandas-profiling) (2018.9)\n",
            "Requirement already satisfied: numpy>=1.15.4 in /usr/local/lib/python3.7/dist-packages (from pandas>=0.19->pandas-profiling) (1.19.5)\n",
            "Requirement already satisfied: python-dateutil>=2.7.3 in /usr/local/lib/python3.7/dist-packages (from pandas>=0.19->pandas-profiling) (2.8.1)\n",
            "Requirement already satisfied: MarkupSafe>=0.23 in /usr/local/lib/python3.7/dist-packages (from jinja2>=2.8->pandas-profiling) (1.1.1)\n",
            "Requirement already satisfied: pyparsing!=2.0.4,!=2.1.2,!=2.1.6,>=2.0.1 in /usr/local/lib/python3.7/dist-packages (from matplotlib>=1.4->pandas-profiling) (2.4.7)\n",
            "Requirement already satisfied: cycler>=0.10 in /usr/local/lib/python3.7/dist-packages (from matplotlib>=1.4->pandas-profiling) (0.10.0)\n",
            "Requirement already satisfied: kiwisolver>=1.0.1 in /usr/local/lib/python3.7/dist-packages (from matplotlib>=1.4->pandas-profiling) (1.3.1)\n"
          ],
          "name": "stdout"
        }
      ]
    },
    {
      "cell_type": "markdown",
      "metadata": {
        "id": "nIF5LWK4gPQv"
      },
      "source": [
        "## Step 1: Import Data"
      ]
    },
    {
      "cell_type": "code",
      "metadata": {
        "id": "spPxgtqJNMXA"
      },
      "source": [
        "# Import the signal.csv file\n",
        "data = pd.read_csv('/content/drive/MyDrive/Machine Learning/PGP AIML Course Files/Neural Networks Deep Learning/Assignment/Signal.csv')"
      ],
      "execution_count": 2,
      "outputs": []
    },
    {
      "cell_type": "markdown",
      "metadata": {
        "id": "pd4GS-PngaNG"
      },
      "source": [
        "## Step 2: Data Analysis & Visualization"
      ]
    },
    {
      "cell_type": "code",
      "metadata": {
        "colab": {
          "base_uri": "https://localhost:8080/",
          "height": 204
        },
        "id": "8A-81ypHNpP0",
        "outputId": "6a3e582e-3a3d-4d7c-b074-36a159812ab1"
      },
      "source": [
        "# Data Head\n",
        "data.head() "
      ],
      "execution_count": 3,
      "outputs": [
        {
          "output_type": "execute_result",
          "data": {
            "text/html": [
              "<div>\n",
              "<style scoped>\n",
              "    .dataframe tbody tr th:only-of-type {\n",
              "        vertical-align: middle;\n",
              "    }\n",
              "\n",
              "    .dataframe tbody tr th {\n",
              "        vertical-align: top;\n",
              "    }\n",
              "\n",
              "    .dataframe thead th {\n",
              "        text-align: right;\n",
              "    }\n",
              "</style>\n",
              "<table border=\"1\" class=\"dataframe\">\n",
              "  <thead>\n",
              "    <tr style=\"text-align: right;\">\n",
              "      <th></th>\n",
              "      <th>Parameter 1</th>\n",
              "      <th>Parameter 2</th>\n",
              "      <th>Parameter 3</th>\n",
              "      <th>Parameter 4</th>\n",
              "      <th>Parameter 5</th>\n",
              "      <th>Parameter 6</th>\n",
              "      <th>Parameter 7</th>\n",
              "      <th>Parameter 8</th>\n",
              "      <th>Parameter 9</th>\n",
              "      <th>Parameter 10</th>\n",
              "      <th>Parameter 11</th>\n",
              "      <th>Signal_Strength</th>\n",
              "    </tr>\n",
              "  </thead>\n",
              "  <tbody>\n",
              "    <tr>\n",
              "      <th>0</th>\n",
              "      <td>7.4</td>\n",
              "      <td>0.70</td>\n",
              "      <td>0.00</td>\n",
              "      <td>1.9</td>\n",
              "      <td>0.076</td>\n",
              "      <td>11.0</td>\n",
              "      <td>34.0</td>\n",
              "      <td>0.9978</td>\n",
              "      <td>3.51</td>\n",
              "      <td>0.56</td>\n",
              "      <td>9.4</td>\n",
              "      <td>5</td>\n",
              "    </tr>\n",
              "    <tr>\n",
              "      <th>1</th>\n",
              "      <td>7.8</td>\n",
              "      <td>0.88</td>\n",
              "      <td>0.00</td>\n",
              "      <td>2.6</td>\n",
              "      <td>0.098</td>\n",
              "      <td>25.0</td>\n",
              "      <td>67.0</td>\n",
              "      <td>0.9968</td>\n",
              "      <td>3.20</td>\n",
              "      <td>0.68</td>\n",
              "      <td>9.8</td>\n",
              "      <td>5</td>\n",
              "    </tr>\n",
              "    <tr>\n",
              "      <th>2</th>\n",
              "      <td>7.8</td>\n",
              "      <td>0.76</td>\n",
              "      <td>0.04</td>\n",
              "      <td>2.3</td>\n",
              "      <td>0.092</td>\n",
              "      <td>15.0</td>\n",
              "      <td>54.0</td>\n",
              "      <td>0.9970</td>\n",
              "      <td>3.26</td>\n",
              "      <td>0.65</td>\n",
              "      <td>9.8</td>\n",
              "      <td>5</td>\n",
              "    </tr>\n",
              "    <tr>\n",
              "      <th>3</th>\n",
              "      <td>11.2</td>\n",
              "      <td>0.28</td>\n",
              "      <td>0.56</td>\n",
              "      <td>1.9</td>\n",
              "      <td>0.075</td>\n",
              "      <td>17.0</td>\n",
              "      <td>60.0</td>\n",
              "      <td>0.9980</td>\n",
              "      <td>3.16</td>\n",
              "      <td>0.58</td>\n",
              "      <td>9.8</td>\n",
              "      <td>6</td>\n",
              "    </tr>\n",
              "    <tr>\n",
              "      <th>4</th>\n",
              "      <td>7.4</td>\n",
              "      <td>0.70</td>\n",
              "      <td>0.00</td>\n",
              "      <td>1.9</td>\n",
              "      <td>0.076</td>\n",
              "      <td>11.0</td>\n",
              "      <td>34.0</td>\n",
              "      <td>0.9978</td>\n",
              "      <td>3.51</td>\n",
              "      <td>0.56</td>\n",
              "      <td>9.4</td>\n",
              "      <td>5</td>\n",
              "    </tr>\n",
              "  </tbody>\n",
              "</table>\n",
              "</div>"
            ],
            "text/plain": [
              "   Parameter 1  Parameter 2  ...  Parameter 11  Signal_Strength\n",
              "0          7.4         0.70  ...           9.4                5\n",
              "1          7.8         0.88  ...           9.8                5\n",
              "2          7.8         0.76  ...           9.8                5\n",
              "3         11.2         0.28  ...           9.8                6\n",
              "4          7.4         0.70  ...           9.4                5\n",
              "\n",
              "[5 rows x 12 columns]"
            ]
          },
          "metadata": {
            "tags": []
          },
          "execution_count": 3
        }
      ]
    },
    {
      "cell_type": "code",
      "metadata": {
        "colab": {
          "base_uri": "https://localhost:8080/"
        },
        "id": "fIehqEfWNqNX",
        "outputId": "0530d2b0-935a-416c-a618-0817e6642bf4"
      },
      "source": [
        "data.shape\n",
        "# This dataframe has 12 columns and 1599 rows"
      ],
      "execution_count": 4,
      "outputs": [
        {
          "output_type": "execute_result",
          "data": {
            "text/plain": [
              "(1599, 12)"
            ]
          },
          "metadata": {
            "tags": []
          },
          "execution_count": 4
        }
      ]
    },
    {
      "cell_type": "code",
      "metadata": {
        "colab": {
          "base_uri": "https://localhost:8080/"
        },
        "id": "TpQzvuISNusD",
        "outputId": "9b2f4cf0-1816-43f6-934e-138bb9745262"
      },
      "source": [
        "data.info()\n",
        "# All seems okay - no missing data points (some can be 0 which we will check later)\n",
        "# All pramaters are float64 (Which is correct)\n",
        "# The last one Signal Strength is integer64 which is also correct"
      ],
      "execution_count": 5,
      "outputs": [
        {
          "output_type": "stream",
          "text": [
            "<class 'pandas.core.frame.DataFrame'>\n",
            "RangeIndex: 1599 entries, 0 to 1598\n",
            "Data columns (total 12 columns):\n",
            " #   Column           Non-Null Count  Dtype  \n",
            "---  ------           --------------  -----  \n",
            " 0   Parameter 1      1599 non-null   float64\n",
            " 1   Parameter 2      1599 non-null   float64\n",
            " 2   Parameter 3      1599 non-null   float64\n",
            " 3   Parameter 4      1599 non-null   float64\n",
            " 4   Parameter 5      1599 non-null   float64\n",
            " 5   Parameter 6      1599 non-null   float64\n",
            " 6   Parameter 7      1599 non-null   float64\n",
            " 7   Parameter 8      1599 non-null   float64\n",
            " 8   Parameter 9      1599 non-null   float64\n",
            " 9   Parameter 10     1599 non-null   float64\n",
            " 10  Parameter 11     1599 non-null   float64\n",
            " 11  Signal_Strength  1599 non-null   int64  \n",
            "dtypes: float64(11), int64(1)\n",
            "memory usage: 150.0 KB\n"
          ],
          "name": "stdout"
        }
      ]
    },
    {
      "cell_type": "code",
      "metadata": {
        "colab": {
          "base_uri": "https://localhost:8080/"
        },
        "id": "K4rB0q5WNvoo",
        "outputId": "53224ac6-5d14-48c8-cd88-306d789de483"
      },
      "source": [
        "data.isna().sum()\n",
        "# Checked again, no missing values"
      ],
      "execution_count": 6,
      "outputs": [
        {
          "output_type": "execute_result",
          "data": {
            "text/plain": [
              "Parameter 1        0\n",
              "Parameter 2        0\n",
              "Parameter 3        0\n",
              "Parameter 4        0\n",
              "Parameter 5        0\n",
              "Parameter 6        0\n",
              "Parameter 7        0\n",
              "Parameter 8        0\n",
              "Parameter 9        0\n",
              "Parameter 10       0\n",
              "Parameter 11       0\n",
              "Signal_Strength    0\n",
              "dtype: int64"
            ]
          },
          "metadata": {
            "tags": []
          },
          "execution_count": 6
        }
      ]
    },
    {
      "cell_type": "code",
      "metadata": {
        "colab": {
          "base_uri": "https://localhost:8080/",
          "height": 297
        },
        "id": "--AvhtBuN4aN",
        "outputId": "cfb416d2-f8e2-4053-9d97-2311fbede0fd"
      },
      "source": [
        "data.describe()\n",
        "# Description of the data parameters\n",
        "# as we can see using min - there is no 0, therefore no 0's exist as well in this dataset"
      ],
      "execution_count": 7,
      "outputs": [
        {
          "output_type": "execute_result",
          "data": {
            "text/html": [
              "<div>\n",
              "<style scoped>\n",
              "    .dataframe tbody tr th:only-of-type {\n",
              "        vertical-align: middle;\n",
              "    }\n",
              "\n",
              "    .dataframe tbody tr th {\n",
              "        vertical-align: top;\n",
              "    }\n",
              "\n",
              "    .dataframe thead th {\n",
              "        text-align: right;\n",
              "    }\n",
              "</style>\n",
              "<table border=\"1\" class=\"dataframe\">\n",
              "  <thead>\n",
              "    <tr style=\"text-align: right;\">\n",
              "      <th></th>\n",
              "      <th>Parameter 1</th>\n",
              "      <th>Parameter 2</th>\n",
              "      <th>Parameter 3</th>\n",
              "      <th>Parameter 4</th>\n",
              "      <th>Parameter 5</th>\n",
              "      <th>Parameter 6</th>\n",
              "      <th>Parameter 7</th>\n",
              "      <th>Parameter 8</th>\n",
              "      <th>Parameter 9</th>\n",
              "      <th>Parameter 10</th>\n",
              "      <th>Parameter 11</th>\n",
              "      <th>Signal_Strength</th>\n",
              "    </tr>\n",
              "  </thead>\n",
              "  <tbody>\n",
              "    <tr>\n",
              "      <th>count</th>\n",
              "      <td>1599.000000</td>\n",
              "      <td>1599.000000</td>\n",
              "      <td>1599.000000</td>\n",
              "      <td>1599.000000</td>\n",
              "      <td>1599.000000</td>\n",
              "      <td>1599.000000</td>\n",
              "      <td>1599.000000</td>\n",
              "      <td>1599.000000</td>\n",
              "      <td>1599.000000</td>\n",
              "      <td>1599.000000</td>\n",
              "      <td>1599.000000</td>\n",
              "      <td>1599.000000</td>\n",
              "    </tr>\n",
              "    <tr>\n",
              "      <th>mean</th>\n",
              "      <td>8.319637</td>\n",
              "      <td>0.527821</td>\n",
              "      <td>0.270976</td>\n",
              "      <td>2.538806</td>\n",
              "      <td>0.087467</td>\n",
              "      <td>15.874922</td>\n",
              "      <td>46.467792</td>\n",
              "      <td>0.996747</td>\n",
              "      <td>3.311113</td>\n",
              "      <td>0.658149</td>\n",
              "      <td>10.422983</td>\n",
              "      <td>5.636023</td>\n",
              "    </tr>\n",
              "    <tr>\n",
              "      <th>std</th>\n",
              "      <td>1.741096</td>\n",
              "      <td>0.179060</td>\n",
              "      <td>0.194801</td>\n",
              "      <td>1.409928</td>\n",
              "      <td>0.047065</td>\n",
              "      <td>10.460157</td>\n",
              "      <td>32.895324</td>\n",
              "      <td>0.001887</td>\n",
              "      <td>0.154386</td>\n",
              "      <td>0.169507</td>\n",
              "      <td>1.065668</td>\n",
              "      <td>0.807569</td>\n",
              "    </tr>\n",
              "    <tr>\n",
              "      <th>min</th>\n",
              "      <td>4.600000</td>\n",
              "      <td>0.120000</td>\n",
              "      <td>0.000000</td>\n",
              "      <td>0.900000</td>\n",
              "      <td>0.012000</td>\n",
              "      <td>1.000000</td>\n",
              "      <td>6.000000</td>\n",
              "      <td>0.990070</td>\n",
              "      <td>2.740000</td>\n",
              "      <td>0.330000</td>\n",
              "      <td>8.400000</td>\n",
              "      <td>3.000000</td>\n",
              "    </tr>\n",
              "    <tr>\n",
              "      <th>25%</th>\n",
              "      <td>7.100000</td>\n",
              "      <td>0.390000</td>\n",
              "      <td>0.090000</td>\n",
              "      <td>1.900000</td>\n",
              "      <td>0.070000</td>\n",
              "      <td>7.000000</td>\n",
              "      <td>22.000000</td>\n",
              "      <td>0.995600</td>\n",
              "      <td>3.210000</td>\n",
              "      <td>0.550000</td>\n",
              "      <td>9.500000</td>\n",
              "      <td>5.000000</td>\n",
              "    </tr>\n",
              "    <tr>\n",
              "      <th>50%</th>\n",
              "      <td>7.900000</td>\n",
              "      <td>0.520000</td>\n",
              "      <td>0.260000</td>\n",
              "      <td>2.200000</td>\n",
              "      <td>0.079000</td>\n",
              "      <td>14.000000</td>\n",
              "      <td>38.000000</td>\n",
              "      <td>0.996750</td>\n",
              "      <td>3.310000</td>\n",
              "      <td>0.620000</td>\n",
              "      <td>10.200000</td>\n",
              "      <td>6.000000</td>\n",
              "    </tr>\n",
              "    <tr>\n",
              "      <th>75%</th>\n",
              "      <td>9.200000</td>\n",
              "      <td>0.640000</td>\n",
              "      <td>0.420000</td>\n",
              "      <td>2.600000</td>\n",
              "      <td>0.090000</td>\n",
              "      <td>21.000000</td>\n",
              "      <td>62.000000</td>\n",
              "      <td>0.997835</td>\n",
              "      <td>3.400000</td>\n",
              "      <td>0.730000</td>\n",
              "      <td>11.100000</td>\n",
              "      <td>6.000000</td>\n",
              "    </tr>\n",
              "    <tr>\n",
              "      <th>max</th>\n",
              "      <td>15.900000</td>\n",
              "      <td>1.580000</td>\n",
              "      <td>1.000000</td>\n",
              "      <td>15.500000</td>\n",
              "      <td>0.611000</td>\n",
              "      <td>72.000000</td>\n",
              "      <td>289.000000</td>\n",
              "      <td>1.003690</td>\n",
              "      <td>4.010000</td>\n",
              "      <td>2.000000</td>\n",
              "      <td>14.900000</td>\n",
              "      <td>8.000000</td>\n",
              "    </tr>\n",
              "  </tbody>\n",
              "</table>\n",
              "</div>"
            ],
            "text/plain": [
              "       Parameter 1  Parameter 2  ...  Parameter 11  Signal_Strength\n",
              "count  1599.000000  1599.000000  ...   1599.000000      1599.000000\n",
              "mean      8.319637     0.527821  ...     10.422983         5.636023\n",
              "std       1.741096     0.179060  ...      1.065668         0.807569\n",
              "min       4.600000     0.120000  ...      8.400000         3.000000\n",
              "25%       7.100000     0.390000  ...      9.500000         5.000000\n",
              "50%       7.900000     0.520000  ...     10.200000         6.000000\n",
              "75%       9.200000     0.640000  ...     11.100000         6.000000\n",
              "max      15.900000     1.580000  ...     14.900000         8.000000\n",
              "\n",
              "[8 rows x 12 columns]"
            ]
          },
          "metadata": {
            "tags": []
          },
          "execution_count": 7
        }
      ]
    },
    {
      "cell_type": "code",
      "metadata": {
        "colab": {
          "base_uri": "https://localhost:8080/",
          "height": 297
        },
        "id": "bqvz1dfpuETU",
        "outputId": "3b27c53f-9084-40a7-9119-8d64c406802f"
      },
      "source": [
        "sns.countplot(data=data, x='Signal_Strength')\n",
        "# As we can see majority of the cases the signal strength is 5 or 6"
      ],
      "execution_count": 8,
      "outputs": [
        {
          "output_type": "execute_result",
          "data": {
            "text/plain": [
              "<matplotlib.axes._subplots.AxesSubplot at 0x7fee02848510>"
            ]
          },
          "metadata": {
            "tags": []
          },
          "execution_count": 8
        },
        {
          "output_type": "display_data",
          "data": {
            "image/png": "[encoded data removed]",
            "text/plain": [
              "<Figure size 432x288 with 1 Axes>"
            ]
          },
          "metadata": {
            "tags": [],
            "needs_background": "light"
          }
        }
      ]
    },
    {
      "cell_type": "code",
      "metadata": {
        "colab": {
          "base_uri": "https://localhost:8080/",
          "height": 285
        },
        "id": "mas8Uj56uXlR",
        "outputId": "377bd44d-ad50-4cd6-98b3-4afa70c4f88c"
      },
      "source": [
        "sns.boxplot(data=data)\n",
        "# There are definately some outliers but considering the type of data I doubt we should treat them for this exercise"
      ],
      "execution_count": 9,
      "outputs": [
        {
          "output_type": "execute_result",
          "data": {
            "text/plain": [
              "<matplotlib.axes._subplots.AxesSubplot at 0x7fee02259e10>"
            ]
          },
          "metadata": {
            "tags": []
          },
          "execution_count": 9
        },
        {
          "output_type": "display_data",
          "data": {
            "image/png": "[encoded data removed]",
            "text/plain": [
              "<Figure size 432x288 with 1 Axes>"
            ]
          },
          "metadata": {
            "tags": [],
            "needs_background": "light"
          }
        }
      ]
    },
    {
      "cell_type": "code",
      "metadata": {
        "colab": {
          "base_uri": "https://localhost:8080/",
          "height": 282
        },
        "id": "t6Vt3OM8uXo5",
        "outputId": "128c3d48-5e2e-498e-f843-08bd53ba0a9d"
      },
      "source": [
        "sns.boxplot(data=data['Parameter 1'])"
      ],
      "execution_count": 11,
      "outputs": [
        {
          "output_type": "execute_result",
          "data": {
            "text/plain": [
              "<matplotlib.axes._subplots.AxesSubplot at 0x7fee020fbe10>"
            ]
          },
          "metadata": {
            "tags": []
          },
          "execution_count": 11
        },
        {
          "output_type": "display_data",
          "data": {
            "image/png": "[encoded data removed]",
            "text/plain": [
              "<Figure size 432x288 with 1 Axes>"
            ]
          },
          "metadata": {
            "tags": [],
            "needs_background": "light"
          }
        }
      ]
    },
    {
      "cell_type": "code",
      "metadata": {
        "colab": {
          "base_uri": "https://localhost:8080/",
          "height": 282
        },
        "id": "JiPB9UkzuXr8",
        "outputId": "61c9e393-33ce-4fc3-9b0a-0ba8c714de39"
      },
      "source": [
        "sns.boxplot(data=data['Parameter 2'])"
      ],
      "execution_count": 12,
      "outputs": [
        {
          "output_type": "execute_result",
          "data": {
            "text/plain": [
              "<matplotlib.axes._subplots.AxesSubplot at 0x7fee01fdabd0>"
            ]
          },
          "metadata": {
            "tags": []
          },
          "execution_count": 12
        },
        {
          "output_type": "display_data",
          "data": {
            "image/png": "[encoded data removed]",
            "text/plain": [
              "<Figure size 432x288 with 1 Axes>"
            ]
          },
          "metadata": {
            "tags": [],
            "needs_background": "light"
          }
        }
      ]
    },
    {
      "cell_type": "code",
      "metadata": {
        "colab": {
          "base_uri": "https://localhost:8080/",
          "height": 282
        },
        "id": "byGco7gyuXuV",
        "outputId": "fd99c812-8002-49af-a0ff-6f8fe631d049"
      },
      "source": [
        "sns.boxplot(data=data['Parameter 3'])"
      ],
      "execution_count": 13,
      "outputs": [
        {
          "output_type": "execute_result",
          "data": {
            "text/plain": [
              "<matplotlib.axes._subplots.AxesSubplot at 0x7fee01f9e910>"
            ]
          },
          "metadata": {
            "tags": []
          },
          "execution_count": 13
        },
        {
          "output_type": "display_data",
          "data": {
            "image/png": "[encoded data removed]",
            "text/plain": [
              "<Figure size 432x288 with 1 Axes>"
            ]
          },
          "metadata": {
            "tags": [],
            "needs_background": "light"
          }
        }
      ]
    },
    {
      "cell_type": "code",
      "metadata": {
        "colab": {
          "base_uri": "https://localhost:8080/",
          "height": 283
        },
        "id": "FXzuQvfauXxL",
        "outputId": "a3ac32e1-b84b-4733-b7ec-e3dfe89a1d88"
      },
      "source": [
        "sns.boxplot(data=data['Parameter 4'])"
      ],
      "execution_count": 14,
      "outputs": [
        {
          "output_type": "execute_result",
          "data": {
            "text/plain": [
              "<matplotlib.axes._subplots.AxesSubplot at 0x7fee01f2ca50>"
            ]
          },
          "metadata": {
            "tags": []
          },
          "execution_count": 14
        },
        {
          "output_type": "display_data",
          "data": {
            "image/png": "[encoded data removed]",
            "text/plain": [
              "<Figure size 432x288 with 1 Axes>"
            ]
          },
          "metadata": {
            "tags": [],
            "needs_background": "light"
          }
        }
      ]
    },
    {
      "cell_type": "code",
      "metadata": {
        "colab": {
          "base_uri": "https://localhost:8080/",
          "height": 282
        },
        "id": "ytFcj1a7uXzs",
        "outputId": "07c719c1-25c4-497a-abb3-9d9ede8f3467"
      },
      "source": [
        "sns.boxplot(data=data['Parameter 5'])"
      ],
      "execution_count": 15,
      "outputs": [
        {
          "output_type": "execute_result",
          "data": {
            "text/plain": [
              "<matplotlib.axes._subplots.AxesSubplot at 0x7fee01f26a90>"
            ]
          },
          "metadata": {
            "tags": []
          },
          "execution_count": 15
        },
        {
          "output_type": "display_data",
          "data": {
            "image/png": "[encoded data removed]",
            "text/plain": [
              "<Figure size 432x288 with 1 Axes>"
            ]
          },
          "metadata": {
            "tags": [],
            "needs_background": "light"
          }
        }
      ]
    },
    {
      "cell_type": "code",
      "metadata": {
        "colab": {
          "base_uri": "https://localhost:8080/",
          "height": 282
        },
        "id": "hrqPXtsDuX2t",
        "outputId": "700b7f16-654f-4628-9553-e33343eb1190"
      },
      "source": [
        "sns.boxplot(data=data['Parameter 6'])"
      ],
      "execution_count": 16,
      "outputs": [
        {
          "output_type": "execute_result",
          "data": {
            "text/plain": [
              "<matplotlib.axes._subplots.AxesSubplot at 0x7fee01e6ed10>"
            ]
          },
          "metadata": {
            "tags": []
          },
          "execution_count": 16
        },
        {
          "output_type": "display_data",
          "data": {
            "image/png": "[encoded data removed]",
            "text/plain": [
              "<Figure size 432x288 with 1 Axes>"
            ]
          },
          "metadata": {
            "tags": [],
            "needs_background": "light"
          }
        }
      ]
    },
    {
      "cell_type": "code",
      "metadata": {
        "colab": {
          "base_uri": "https://localhost:8080/",
          "height": 284
        },
        "id": "WY-2Kh9WuX5J",
        "outputId": "227a9af8-775c-4478-f2b7-b22dd7f99616"
      },
      "source": [
        "sns.boxplot(data=data['Parameter 7'])"
      ],
      "execution_count": 17,
      "outputs": [
        {
          "output_type": "execute_result",
          "data": {
            "text/plain": [
              "<matplotlib.axes._subplots.AxesSubplot at 0x7fee01df3890>"
            ]
          },
          "metadata": {
            "tags": []
          },
          "execution_count": 17
        },
        {
          "output_type": "display_data",
          "data": {
            "image/png": "[encoded data removed]",
            "text/plain": [
              "<Figure size 432x288 with 1 Axes>"
            ]
          },
          "metadata": {
            "tags": [],
            "needs_background": "light"
          }
        }
      ]
    },
    {
      "cell_type": "code",
      "metadata": {
        "colab": {
          "base_uri": "https://localhost:8080/",
          "height": 282
        },
        "id": "xc2KAiXKuX76",
        "outputId": "917e1ecf-ae7b-4c1d-d8b3-3c98f1e9beaf"
      },
      "source": [
        "sns.boxplot(data=data['Parameter 8'])"
      ],
      "execution_count": 18,
      "outputs": [
        {
          "output_type": "execute_result",
          "data": {
            "text/plain": [
              "<matplotlib.axes._subplots.AxesSubplot at 0x7fee01d72850>"
            ]
          },
          "metadata": {
            "tags": []
          },
          "execution_count": 18
        },
        {
          "output_type": "display_data",
          "data": {
            "image/png": "[encoded data removed]",
            "text/plain": [
              "<Figure size 432x288 with 1 Axes>"
            ]
          },
          "metadata": {
            "tags": [],
            "needs_background": "light"
          }
        }
      ]
    },
    {
      "cell_type": "code",
      "metadata": {
        "colab": {
          "base_uri": "https://localhost:8080/",
          "height": 282
        },
        "id": "IXrqf-zgyORD",
        "outputId": "947afdfc-5207-42c8-a624-fad38e08c530"
      },
      "source": [
        "sns.boxplot(data=data['Parameter 9'])"
      ],
      "execution_count": 19,
      "outputs": [
        {
          "output_type": "execute_result",
          "data": {
            "text/plain": [
              "<matplotlib.axes._subplots.AxesSubplot at 0x7fee01e063d0>"
            ]
          },
          "metadata": {
            "tags": []
          },
          "execution_count": 19
        },
        {
          "output_type": "display_data",
          "data": {
            "image/png": "[encoded data removed]",
            "text/plain": [
              "<Figure size 432x288 with 1 Axes>"
            ]
          },
          "metadata": {
            "tags": [],
            "needs_background": "light"
          }
        }
      ]
    },
    {
      "cell_type": "code",
      "metadata": {
        "colab": {
          "base_uri": "https://localhost:8080/",
          "height": 282
        },
        "id": "o7iG80IeyOTx",
        "outputId": "1c94dac6-a620-44bc-a834-c04579bd1292"
      },
      "source": [
        "sns.boxplot(data=data['Parameter 10'])"
      ],
      "execution_count": 20,
      "outputs": [
        {
          "output_type": "execute_result",
          "data": {
            "text/plain": [
              "<matplotlib.axes._subplots.AxesSubplot at 0x7fee01d57950>"
            ]
          },
          "metadata": {
            "tags": []
          },
          "execution_count": 20
        },
        {
          "output_type": "display_data",
          "data": {
            "image/png": "[encoded data removed]",
            "text/plain": [
              "<Figure size 432x288 with 1 Axes>"
            ]
          },
          "metadata": {
            "tags": [],
            "needs_background": "light"
          }
        }
      ]
    },
    {
      "cell_type": "code",
      "metadata": {
        "colab": {
          "base_uri": "https://localhost:8080/",
          "height": 282
        },
        "id": "IIiuvZsqyOW-",
        "outputId": "0c549091-b99c-4b7e-e3a0-9845facc13ac"
      },
      "source": [
        "sns.boxplot(data=data['Parameter 11'])"
      ],
      "execution_count": 21,
      "outputs": [
        {
          "output_type": "execute_result",
          "data": {
            "text/plain": [
              "<matplotlib.axes._subplots.AxesSubplot at 0x7fee01cdc0d0>"
            ]
          },
          "metadata": {
            "tags": []
          },
          "execution_count": 21
        },
        {
          "output_type": "display_data",
          "data": {
            "image/png": "[encoded data removed]",
            "text/plain": [
              "<Figure size 432x288 with 1 Axes>"
            ]
          },
          "metadata": {
            "tags": [],
            "needs_background": "light"
          }
        }
      ]
    },
    {
      "cell_type": "code",
      "metadata": {
        "colab": {
          "base_uri": "https://localhost:8080/",
          "height": 769
        },
        "id": "RM5rjwnWrWtS",
        "outputId": "79a23061-c639-42e5-f67c-299d5262e052"
      },
      "source": [
        "# Calculate pairwise-correlation\n",
        "matrix = data.corr()\n",
        "\n",
        "# Create a mask\n",
        "mask = np.triu(np.ones_like(matrix, dtype=bool))\n",
        "\n",
        "# Create a custom diverging palette\n",
        "cmap = sns.diverging_palette(250, 15, s=75, l=40,\n",
        "                             n=9, center=\"light\", as_cmap=True)\n",
        "\n",
        "plt.figure(figsize=(16, 12))\n",
        "\n",
        "sns.heatmap(matrix, mask=mask, center=0, annot=True,\n",
        "             fmt='.2f', square=True, cmap=cmap)\n",
        "\n",
        "plt.show()"
      ],
      "execution_count": 22,
      "outputs": [
        {
          "output_type": "display_data",
          "data": {
            "image/png": "[encoded data removed]",
            "text/plain": [
              "<Figure size 1152x864 with 2 Axes>"
            ]
          },
          "metadata": {
            "tags": [],
            "needs_background": "light"
          }
        }
      ]
    },
    {
      "cell_type": "markdown",
      "metadata": {
        "id": "rcog9dU05BMr"
      },
      "source": [
        "#### Findings\n",
        "\n",
        "1. Based on the nature of the data (signal inputs) we will not be treating the outliers above.\n",
        "2. We will let the neural network decide the weights for each of the parameters\n",
        "3. The correlation plots indicate some relationships among the parameters, but nothing significant i.e. it is between 67% to -55%. "
      ]
    },
    {
      "cell_type": "markdown",
      "metadata": {
        "id": "stP6KmdT5ID1"
      },
      "source": [
        "## Step 3: Neural Network Regressor\n"
      ]
    },
    {
      "cell_type": "code",
      "metadata": {
        "id": "X8deDpglG_AB"
      },
      "source": [
        "# Reusable Lift Chart for Plotting the Accuracy\n",
        "def chart_regression(pred, y, sort=True):\n",
        "  t = pd.DataFrame({'pred':pred, 'y':y.flatten()})\n",
        "  if sort:\n",
        "    t.sort_values(by=['y'], inplace=True)\n",
        "  plt.plot(t['y'].tolist(), label='expected')\n",
        "  plt.plot(t['pred'].tolist(), label='prediction')\n",
        "  plt.ylabel('output')\n",
        "  plt.legend()\n",
        "  plt.show()  "
      ],
      "execution_count": 23,
      "outputs": []
    },
    {
      "cell_type": "code",
      "metadata": {
        "id": "kP_pETIfN6vi"
      },
      "source": [
        "from sklearn.model_selection import train_test_split\n",
        "from sklearn.preprocessing import StandardScaler\n",
        "\n",
        "from tensorflow.keras.models import Sequential\n",
        "from tensorflow.keras import Input\n",
        "from tensorflow.keras.layers import Dense, ReLU, Dropout"
      ],
      "execution_count": 24,
      "outputs": []
    },
    {
      "cell_type": "code",
      "metadata": {
        "id": "MjIJMnUYOCjC"
      },
      "source": [
        "tf.compat.v1.reset_default_graph()\n",
        "tf.random.set_seed(88)\n",
        "\n",
        "X=data.drop('Signal_Strength',axis=1)\n",
        "y=data['Signal_Strength']\n",
        "\n",
        "X_train,X_test,y_train,y_test = train_test_split(X,y, test_size=0.25)\n",
        "\n",
        "se=StandardScaler()\n",
        "X_train = se.fit_transform(X_train)\n",
        "X_test = se.fit_transform(X_test)"
      ],
      "execution_count": 25,
      "outputs": []
    },
    {
      "cell_type": "code",
      "metadata": {
        "id": "jU0YW2uAOQ7l",
        "colab": {
          "base_uri": "https://localhost:8080/"
        },
        "outputId": "b2126b1d-4e69-4851-d876-1c48cfeb2b80"
      },
      "source": [
        "model = Sequential()\n",
        "model.add(tf.keras.Input(shape=11))\n",
        "model.add(Dense(64, activation='relu'))\n",
        "model.add(Dropout(0.15))\n",
        "model.add(Dense(128, activation='relu'))\n",
        "model.add(Dropout(0.10))\n",
        "model.add(Dense(32, activation='relu'))\n",
        "model.add(Dropout(0.5))\n",
        "model.add(Dense(1, activation='linear'))\n",
        "\n",
        "model.summary()"
      ],
      "execution_count": 26,
      "outputs": [
        {
          "output_type": "stream",
          "text": [
            "Model: \"sequential\"\n",
            "_________________________________________________________________\n",
            "Layer (type)                 Output Shape              Param #   \n",
            "=================================================================\n",
            "dense (Dense)                (None, 64)                768       \n",
            "_________________________________________________________________\n",
            "dropout (Dropout)            (None, 64)                0         \n",
            "_________________________________________________________________\n",
            "dense_1 (Dense)              (None, 128)               8320      \n",
            "_________________________________________________________________\n",
            "dropout_1 (Dropout)          (None, 128)               0         \n",
            "_________________________________________________________________\n",
            "dense_2 (Dense)              (None, 32)                4128      \n",
            "_________________________________________________________________\n",
            "dropout_2 (Dropout)          (None, 32)                0         \n",
            "_________________________________________________________________\n",
            "dense_3 (Dense)              (None, 1)                 33        \n",
            "=================================================================\n",
            "Total params: 13,249\n",
            "Trainable params: 13,249\n",
            "Non-trainable params: 0\n",
            "_________________________________________________________________\n"
          ],
          "name": "stdout"
        }
      ]
    },
    {
      "cell_type": "code",
      "metadata": {
        "id": "aK5QRfH6OvmM",
        "colab": {
          "base_uri": "https://localhost:8080/"
        },
        "outputId": "a8373804-ec75-4434-c535-63ae81b3d8c9"
      },
      "source": [
        "#from tensorflow.keras.losses import MeanAbsoluteError\n",
        "model.compile(optimizer='adam',loss=tf.keras.losses.MeanAbsoluteError())\n",
        "\n",
        "model.fit(X_train,y_train,batch_size=16,epochs=120,validation_data=(X_test,y_test))"
      ],
      "execution_count": 27,
      "outputs": [
        {
          "output_type": "stream",
          "text": [
            "Epoch 1/120\n",
            "75/75 [==============================] - 4s 8ms/step - loss: 3.4686 - val_loss: 1.3121\n",
            "Epoch 2/120\n",
            "75/75 [==============================] - 0s 3ms/step - loss: 1.6613 - val_loss: 0.9677\n",
            "Epoch 3/120\n",
            "75/75 [==============================] - 0s 3ms/step - loss: 1.5122 - val_loss: 0.9945\n",
            "Epoch 4/120\n",
            "75/75 [==============================] - 0s 3ms/step - loss: 1.4119 - val_loss: 0.8343\n",
            "Epoch 5/120\n",
            "75/75 [==============================] - 0s 3ms/step - loss: 1.3204 - val_loss: 0.8554\n",
            "Epoch 6/120\n",
            "75/75 [==============================] - 0s 3ms/step - loss: 1.2587 - val_loss: 0.7890\n",
            "Epoch 7/120\n",
            "75/75 [==============================] - 0s 3ms/step - loss: 1.1813 - val_loss: 0.6565\n",
            "Epoch 8/120\n",
            "75/75 [==============================] - 0s 3ms/step - loss: 1.2165 - val_loss: 0.6661\n",
            "Epoch 9/120\n",
            "75/75 [==============================] - 0s 3ms/step - loss: 1.2698 - val_loss: 0.7783\n",
            "Epoch 10/120\n",
            "75/75 [==============================] - 0s 3ms/step - loss: 1.1797 - val_loss: 0.6993\n",
            "Epoch 11/120\n",
            "75/75 [==============================] - 0s 3ms/step - loss: 1.1479 - val_loss: 0.6931\n",
            "Epoch 12/120\n",
            "75/75 [==============================] - 0s 3ms/step - loss: 1.0792 - val_loss: 0.6105\n",
            "Epoch 13/120\n",
            "75/75 [==============================] - 0s 3ms/step - loss: 1.1079 - val_loss: 0.6164\n",
            "Epoch 14/120\n",
            "75/75 [==============================] - 0s 3ms/step - loss: 1.0157 - val_loss: 0.6748\n",
            "Epoch 15/120\n",
            "75/75 [==============================] - 0s 3ms/step - loss: 1.0788 - val_loss: 0.7049\n",
            "Epoch 16/120\n",
            "75/75 [==============================] - 0s 3ms/step - loss: 1.0381 - val_loss: 0.5832\n",
            "Epoch 17/120\n",
            "75/75 [==============================] - 0s 3ms/step - loss: 1.0095 - val_loss: 0.6064\n",
            "Epoch 18/120\n",
            "75/75 [==============================] - 0s 3ms/step - loss: 1.0214 - val_loss: 0.6393\n",
            "Epoch 19/120\n",
            "75/75 [==============================] - 0s 3ms/step - loss: 1.0320 - val_loss: 0.6712\n",
            "Epoch 20/120\n",
            "75/75 [==============================] - 0s 3ms/step - loss: 1.0044 - val_loss: 0.5868\n",
            "Epoch 21/120\n",
            "75/75 [==============================] - 0s 3ms/step - loss: 1.0341 - val_loss: 0.6404\n",
            "Epoch 22/120\n",
            "75/75 [==============================] - 0s 3ms/step - loss: 0.9799 - val_loss: 0.5916\n",
            "Epoch 23/120\n",
            "75/75 [==============================] - 0s 3ms/step - loss: 0.9531 - val_loss: 0.5450\n",
            "Epoch 24/120\n",
            "75/75 [==============================] - 0s 3ms/step - loss: 0.9923 - val_loss: 0.5447\n",
            "Epoch 25/120\n",
            "75/75 [==============================] - 0s 3ms/step - loss: 0.9869 - val_loss: 0.5287\n",
            "Epoch 26/120\n",
            "75/75 [==============================] - 0s 3ms/step - loss: 0.9439 - val_loss: 0.5661\n",
            "Epoch 27/120\n",
            "75/75 [==============================] - 0s 3ms/step - loss: 0.9751 - val_loss: 0.5059\n",
            "Epoch 28/120\n",
            "75/75 [==============================] - 0s 3ms/step - loss: 0.9615 - val_loss: 0.5550\n",
            "Epoch 29/120\n",
            "75/75 [==============================] - 0s 3ms/step - loss: 0.9388 - val_loss: 0.5286\n",
            "Epoch 30/120\n",
            "75/75 [==============================] - 0s 3ms/step - loss: 0.9427 - val_loss: 0.6113\n",
            "Epoch 31/120\n",
            "75/75 [==============================] - 0s 3ms/step - loss: 1.0283 - val_loss: 0.5600\n",
            "Epoch 32/120\n",
            "75/75 [==============================] - 0s 3ms/step - loss: 0.9765 - val_loss: 0.5164\n",
            "Epoch 33/120\n",
            "75/75 [==============================] - 0s 3ms/step - loss: 0.9282 - val_loss: 0.6093\n",
            "Epoch 34/120\n",
            "75/75 [==============================] - 0s 3ms/step - loss: 0.9014 - val_loss: 0.5339\n",
            "Epoch 35/120\n",
            "75/75 [==============================] - 0s 3ms/step - loss: 0.9737 - val_loss: 0.5566\n",
            "Epoch 36/120\n",
            "75/75 [==============================] - 0s 3ms/step - loss: 0.8790 - val_loss: 0.5762\n",
            "Epoch 37/120\n",
            "75/75 [==============================] - 0s 3ms/step - loss: 0.8761 - val_loss: 0.6460\n",
            "Epoch 38/120\n",
            "75/75 [==============================] - 0s 3ms/step - loss: 0.8603 - val_loss: 0.5573\n",
            "Epoch 39/120\n",
            "75/75 [==============================] - 0s 3ms/step - loss: 0.8799 - val_loss: 0.5214\n",
            "Epoch 40/120\n",
            "75/75 [==============================] - 0s 3ms/step - loss: 0.8827 - val_loss: 0.5513\n",
            "Epoch 41/120\n",
            "75/75 [==============================] - 0s 3ms/step - loss: 0.8490 - val_loss: 0.5347\n",
            "Epoch 42/120\n",
            "75/75 [==============================] - 0s 3ms/step - loss: 0.8652 - val_loss: 0.5084\n",
            "Epoch 43/120\n",
            "75/75 [==============================] - 0s 3ms/step - loss: 0.8509 - val_loss: 0.5033\n",
            "Epoch 44/120\n",
            "75/75 [==============================] - 0s 3ms/step - loss: 0.8781 - val_loss: 0.5573\n",
            "Epoch 45/120\n",
            "75/75 [==============================] - 0s 3ms/step - loss: 0.8256 - val_loss: 0.5582\n",
            "Epoch 46/120\n",
            "75/75 [==============================] - 0s 3ms/step - loss: 0.8896 - val_loss: 0.5524\n",
            "Epoch 47/120\n",
            "75/75 [==============================] - 0s 3ms/step - loss: 0.8223 - val_loss: 0.5703\n",
            "Epoch 48/120\n",
            "75/75 [==============================] - 0s 3ms/step - loss: 0.8401 - val_loss: 0.5422\n",
            "Epoch 49/120\n",
            "75/75 [==============================] - 0s 3ms/step - loss: 0.8552 - val_loss: 0.5365\n",
            "Epoch 50/120\n",
            "75/75 [==============================] - 0s 3ms/step - loss: 0.7837 - val_loss: 0.5514\n",
            "Epoch 51/120\n",
            "75/75 [==============================] - 0s 3ms/step - loss: 0.8230 - val_loss: 0.4949\n",
            "Epoch 52/120\n",
            "75/75 [==============================] - 0s 3ms/step - loss: 0.8215 - val_loss: 0.5943\n",
            "Epoch 53/120\n",
            "75/75 [==============================] - 0s 3ms/step - loss: 0.8235 - val_loss: 0.5123\n",
            "Epoch 54/120\n",
            "75/75 [==============================] - 0s 3ms/step - loss: 0.7543 - val_loss: 0.4825\n",
            "Epoch 55/120\n",
            "75/75 [==============================] - 0s 3ms/step - loss: 0.8130 - val_loss: 0.4948\n",
            "Epoch 56/120\n",
            "75/75 [==============================] - 0s 3ms/step - loss: 0.7732 - val_loss: 0.5296\n",
            "Epoch 57/120\n",
            "75/75 [==============================] - 0s 3ms/step - loss: 0.7777 - val_loss: 0.5248\n",
            "Epoch 58/120\n",
            "75/75 [==============================] - 0s 3ms/step - loss: 0.8020 - val_loss: 0.4980\n",
            "Epoch 59/120\n",
            "75/75 [==============================] - 0s 3ms/step - loss: 0.8035 - val_loss: 0.5068\n",
            "Epoch 60/120\n",
            "75/75 [==============================] - 0s 3ms/step - loss: 0.7626 - val_loss: 0.6189\n",
            "Epoch 61/120\n",
            "75/75 [==============================] - 0s 3ms/step - loss: 0.7603 - val_loss: 0.5162\n",
            "Epoch 62/120\n",
            "75/75 [==============================] - 0s 3ms/step - loss: 0.7829 - val_loss: 0.5182\n",
            "Epoch 63/120\n",
            "75/75 [==============================] - 0s 3ms/step - loss: 0.7963 - val_loss: 0.5690\n",
            "Epoch 64/120\n",
            "75/75 [==============================] - 0s 3ms/step - loss: 0.7228 - val_loss: 0.5141\n",
            "Epoch 65/120\n",
            "75/75 [==============================] - 0s 3ms/step - loss: 0.7372 - val_loss: 0.5001\n",
            "Epoch 66/120\n",
            "75/75 [==============================] - 0s 3ms/step - loss: 0.7193 - val_loss: 0.5869\n",
            "Epoch 67/120\n",
            "75/75 [==============================] - 0s 3ms/step - loss: 0.7085 - val_loss: 0.5808\n",
            "Epoch 68/120\n",
            "75/75 [==============================] - 0s 3ms/step - loss: 0.6961 - val_loss: 0.5945\n",
            "Epoch 69/120\n",
            "75/75 [==============================] - 0s 3ms/step - loss: 0.7438 - val_loss: 0.5364\n",
            "Epoch 70/120\n",
            "75/75 [==============================] - 0s 3ms/step - loss: 0.7073 - val_loss: 0.5001\n",
            "Epoch 71/120\n",
            "75/75 [==============================] - 0s 3ms/step - loss: 0.7177 - val_loss: 0.4984\n",
            "Epoch 72/120\n",
            "75/75 [==============================] - 0s 3ms/step - loss: 0.7496 - val_loss: 0.5246\n",
            "Epoch 73/120\n",
            "75/75 [==============================] - 0s 3ms/step - loss: 0.7467 - val_loss: 0.5257\n",
            "Epoch 74/120\n",
            "75/75 [==============================] - 0s 3ms/step - loss: 0.6674 - val_loss: 0.5122\n",
            "Epoch 75/120\n",
            "75/75 [==============================] - 0s 3ms/step - loss: 0.6232 - val_loss: 0.4926\n",
            "Epoch 76/120\n",
            "75/75 [==============================] - 0s 3ms/step - loss: 0.6657 - val_loss: 0.5070\n",
            "Epoch 77/120\n",
            "75/75 [==============================] - 0s 3ms/step - loss: 0.6351 - val_loss: 0.5044\n",
            "Epoch 78/120\n",
            "75/75 [==============================] - 0s 3ms/step - loss: 0.6876 - val_loss: 0.4847\n",
            "Epoch 79/120\n",
            "75/75 [==============================] - 0s 3ms/step - loss: 0.6965 - val_loss: 0.5227\n",
            "Epoch 80/120\n",
            "75/75 [==============================] - 0s 3ms/step - loss: 0.6585 - val_loss: 0.5259\n",
            "Epoch 81/120\n",
            "75/75 [==============================] - 0s 3ms/step - loss: 0.6571 - val_loss: 0.5017\n",
            "Epoch 82/120\n",
            "75/75 [==============================] - 0s 3ms/step - loss: 0.6540 - val_loss: 0.5169\n",
            "Epoch 83/120\n",
            "75/75 [==============================] - 0s 3ms/step - loss: 0.6410 - val_loss: 0.5029\n",
            "Epoch 84/120\n",
            "75/75 [==============================] - 0s 3ms/step - loss: 0.6407 - val_loss: 0.4914\n",
            "Epoch 85/120\n",
            "75/75 [==============================] - 0s 3ms/step - loss: 0.6523 - val_loss: 0.5147\n",
            "Epoch 86/120\n",
            "75/75 [==============================] - 0s 3ms/step - loss: 0.6361 - val_loss: 0.5138\n",
            "Epoch 87/120\n",
            "75/75 [==============================] - 0s 3ms/step - loss: 0.6207 - val_loss: 0.4989\n",
            "Epoch 88/120\n",
            "75/75 [==============================] - 0s 3ms/step - loss: 0.6114 - val_loss: 0.5112\n",
            "Epoch 89/120\n",
            "75/75 [==============================] - 0s 3ms/step - loss: 0.6050 - val_loss: 0.5387\n",
            "Epoch 90/120\n",
            "75/75 [==============================] - 0s 3ms/step - loss: 0.6190 - val_loss: 0.5156\n",
            "Epoch 91/120\n",
            "75/75 [==============================] - 0s 3ms/step - loss: 0.5733 - val_loss: 0.4991\n",
            "Epoch 92/120\n",
            "75/75 [==============================] - 0s 3ms/step - loss: 0.6075 - val_loss: 0.5110\n",
            "Epoch 93/120\n",
            "75/75 [==============================] - 0s 3ms/step - loss: 0.5857 - val_loss: 0.5113\n",
            "Epoch 94/120\n",
            "75/75 [==============================] - 0s 3ms/step - loss: 0.6133 - val_loss: 0.5047\n",
            "Epoch 95/120\n",
            "75/75 [==============================] - 0s 3ms/step - loss: 0.5661 - val_loss: 0.4978\n",
            "Epoch 96/120\n",
            "75/75 [==============================] - 0s 3ms/step - loss: 0.5924 - val_loss: 0.4970\n",
            "Epoch 97/120\n",
            "75/75 [==============================] - 0s 3ms/step - loss: 0.5993 - val_loss: 0.5206\n",
            "Epoch 98/120\n",
            "75/75 [==============================] - 0s 3ms/step - loss: 0.5840 - val_loss: 0.5057\n",
            "Epoch 99/120\n",
            "75/75 [==============================] - 0s 3ms/step - loss: 0.5799 - val_loss: 0.5127\n",
            "Epoch 100/120\n",
            "75/75 [==============================] - 0s 3ms/step - loss: 0.5583 - val_loss: 0.4686\n",
            "Epoch 101/120\n",
            "75/75 [==============================] - 0s 3ms/step - loss: 0.5510 - val_loss: 0.5139\n",
            "Epoch 102/120\n",
            "75/75 [==============================] - 0s 3ms/step - loss: 0.5326 - val_loss: 0.5004\n",
            "Epoch 103/120\n",
            "75/75 [==============================] - 0s 3ms/step - loss: 0.5634 - val_loss: 0.4997\n",
            "Epoch 104/120\n",
            "75/75 [==============================] - 0s 3ms/step - loss: 0.5504 - val_loss: 0.5119\n",
            "Epoch 105/120\n",
            "75/75 [==============================] - 0s 3ms/step - loss: 0.5180 - val_loss: 0.4929\n",
            "Epoch 106/120\n",
            "75/75 [==============================] - 0s 3ms/step - loss: 0.5692 - val_loss: 0.4802\n",
            "Epoch 107/120\n",
            "75/75 [==============================] - 0s 3ms/step - loss: 0.5188 - val_loss: 0.4827\n",
            "Epoch 108/120\n",
            "75/75 [==============================] - 0s 3ms/step - loss: 0.5413 - val_loss: 0.5214\n",
            "Epoch 109/120\n",
            "75/75 [==============================] - 0s 3ms/step - loss: 0.5151 - val_loss: 0.5035\n",
            "Epoch 110/120\n",
            "75/75 [==============================] - 0s 3ms/step - loss: 0.5439 - val_loss: 0.4986\n",
            "Epoch 111/120\n",
            "75/75 [==============================] - 0s 3ms/step - loss: 0.5453 - val_loss: 0.4908\n",
            "Epoch 112/120\n",
            "75/75 [==============================] - 0s 3ms/step - loss: 0.5341 - val_loss: 0.5054\n",
            "Epoch 113/120\n",
            "75/75 [==============================] - 0s 3ms/step - loss: 0.5147 - val_loss: 0.4753\n",
            "Epoch 114/120\n",
            "75/75 [==============================] - 0s 3ms/step - loss: 0.4878 - val_loss: 0.4777\n",
            "Epoch 115/120\n",
            "75/75 [==============================] - 0s 3ms/step - loss: 0.4900 - val_loss: 0.4805\n",
            "Epoch 116/120\n",
            "75/75 [==============================] - 0s 3ms/step - loss: 0.5242 - val_loss: 0.4957\n",
            "Epoch 117/120\n",
            "75/75 [==============================] - 0s 3ms/step - loss: 0.4713 - val_loss: 0.5048\n",
            "Epoch 118/120\n",
            "75/75 [==============================] - 0s 3ms/step - loss: 0.4907 - val_loss: 0.4885\n",
            "Epoch 119/120\n",
            "75/75 [==============================] - 0s 3ms/step - loss: 0.4898 - val_loss: 0.4842\n",
            "Epoch 120/120\n",
            "75/75 [==============================] - 0s 3ms/step - loss: 0.5072 - val_loss: 0.4777\n"
          ],
          "name": "stdout"
        },
        {
          "output_type": "execute_result",
          "data": {
            "text/plain": [
              "<tensorflow.python.keras.callbacks.History at 0x7fede0672310>"
            ]
          },
          "metadata": {
            "tags": []
          },
          "execution_count": 27
        }
      ]
    },
    {
      "cell_type": "code",
      "metadata": {
        "colab": {
          "base_uri": "https://localhost:8080/"
        },
        "id": "oIWyWGb7J6Op",
        "outputId": "e0cff9c0-8549-4979-99ca-741871ca82fc"
      },
      "source": [
        "from sklearn import metrics\n",
        "\n",
        "pred = model.predict(X_test)\n",
        "score = metrics.mean_squared_error(pred, y_test)\n",
        "print(f\"MSE Score {score}\")"
      ],
      "execution_count": 28,
      "outputs": [
        {
          "output_type": "stream",
          "text": [
            "MSE Score 0.40990250095312264\n"
          ],
          "name": "stdout"
        }
      ]
    },
    {
      "cell_type": "code",
      "metadata": {
        "id": "7xuHk2wzDOeQ"
      },
      "source": [
        "model.save('/content/drive/MyDrive/Machine Learning/PGP AIML Course Files/Neural Networks Deep Learning/Assignment/nnet_regression.h5')"
      ],
      "execution_count": 29,
      "outputs": []
    },
    {
      "cell_type": "markdown",
      "metadata": {
        "id": "oM0fzshHTVj6"
      },
      "source": [
        "#### Conclusion\n",
        "\n",
        "1. Tried with a single layer of 64 units with RELU activation functions, batch size was 32, trained for 50 epochs - MSE was 0.47\n",
        "2. Increased the layers to 3 (64,128,32) with RELU, batch size decreased to 16, trained for 50 epochs - MSE was 0.462\n",
        "3. Added dropout layers of (0.15, 0.10, 0.05), batch size decreased to 16, trained for 100 epochs - MSE was 0.402 (Went with this final model as the training and validation loss both were same around 0.49) - hence a good fit model."
      ]
    },
    {
      "cell_type": "markdown",
      "metadata": {
        "id": "G8wK3UYx5ZNq"
      },
      "source": [
        "## Step 4: Neural Network Classifier\n"
      ]
    },
    {
      "cell_type": "code",
      "metadata": {
        "id": "-ldTy8IoY61_"
      },
      "source": [
        "tf.compat.v1.reset_default_graph()\n",
        "tf.random.set_seed(88)\n",
        "\n",
        "X2_train,X2_test,y2_train,y2_test = train_test_split(X,y, test_size=0.25)\n",
        "\n",
        "y2_train =tf.keras.utils.to_categorical(y2_train, num_classes=10) \n",
        "y2_test =tf.keras.utils.to_categorical(y2_test, num_classes=10) "
      ],
      "execution_count": 33,
      "outputs": []
    },
    {
      "cell_type": "code",
      "metadata": {
        "colab": {
          "base_uri": "https://localhost:8080/"
        },
        "id": "nqfW2ZJ7X519",
        "outputId": "cbc6a9d6-b15b-4629-fd31-c7e9c49651f5"
      },
      "source": [
        "model2 = Sequential()\n",
        "model2.add(tf.keras.Input(shape=11))\n",
        "model2.add(Dense(64, activation='relu'))\n",
        "model2.add(Dropout(0.20))\n",
        "model2.add(Dense(128, activation='relu'))\n",
        "model2.add(Dropout(0.15))\n",
        "model2.add(Dense(256, activation='relu'))\n",
        "model2.add(Dropout(0.10))\n",
        "model2.add(Dense(64, activation='relu'))\n",
        "model2.add(Dropout(0.05))\n",
        "model2.add(Dense(10, activation='softmax'))\n",
        "\n",
        "model2.compile(optimizer='adam',loss=tf.keras.losses.CategoricalCrossentropy(), metrics=['accuracy'])\n",
        "\n",
        "model2.fit(X2_train,y2_train,batch_size=32,epochs=100,validation_data=(X2_test,y2_test))"
      ],
      "execution_count": 34,
      "outputs": [
        {
          "output_type": "stream",
          "text": [
            "Epoch 1/100\n",
            "38/38 [==============================] - 1s 9ms/step - loss: 2.2383 - accuracy: 0.3452 - val_loss: 1.2169 - val_accuracy: 0.4750\n",
            "Epoch 2/100\n",
            "38/38 [==============================] - 0s 4ms/step - loss: 1.2212 - accuracy: 0.4714 - val_loss: 1.2230 - val_accuracy: 0.4825\n",
            "Epoch 3/100\n",
            "38/38 [==============================] - 0s 4ms/step - loss: 1.2590 - accuracy: 0.4419 - val_loss: 1.1782 - val_accuracy: 0.4850\n",
            "Epoch 4/100\n",
            "38/38 [==============================] - 0s 4ms/step - loss: 1.2261 - accuracy: 0.4631 - val_loss: 1.2201 - val_accuracy: 0.4675\n",
            "Epoch 5/100\n",
            "38/38 [==============================] - 0s 4ms/step - loss: 1.1724 - accuracy: 0.4746 - val_loss: 1.2155 - val_accuracy: 0.4725\n",
            "Epoch 6/100\n",
            "38/38 [==============================] - 0s 4ms/step - loss: 1.2029 - accuracy: 0.4536 - val_loss: 1.2118 - val_accuracy: 0.4550\n",
            "Epoch 7/100\n",
            "38/38 [==============================] - 0s 4ms/step - loss: 1.2041 - accuracy: 0.5004 - val_loss: 1.1888 - val_accuracy: 0.4625\n",
            "Epoch 8/100\n",
            "38/38 [==============================] - 0s 4ms/step - loss: 1.2097 - accuracy: 0.4708 - val_loss: 1.1734 - val_accuracy: 0.4700\n",
            "Epoch 9/100\n",
            "38/38 [==============================] - 0s 5ms/step - loss: 1.1727 - accuracy: 0.5012 - val_loss: 1.1839 - val_accuracy: 0.4875\n",
            "Epoch 10/100\n",
            "38/38 [==============================] - 0s 4ms/step - loss: 1.1649 - accuracy: 0.5069 - val_loss: 1.1668 - val_accuracy: 0.4750\n",
            "Epoch 11/100\n",
            "38/38 [==============================] - 0s 4ms/step - loss: 1.1527 - accuracy: 0.4937 - val_loss: 1.1617 - val_accuracy: 0.4875\n",
            "Epoch 12/100\n",
            "38/38 [==============================] - 0s 4ms/step - loss: 1.1331 - accuracy: 0.5067 - val_loss: 1.1644 - val_accuracy: 0.4775\n",
            "Epoch 13/100\n",
            "38/38 [==============================] - 0s 4ms/step - loss: 1.1774 - accuracy: 0.4863 - val_loss: 1.1662 - val_accuracy: 0.4875\n",
            "Epoch 14/100\n",
            "38/38 [==============================] - 0s 4ms/step - loss: 1.1892 - accuracy: 0.5005 - val_loss: 1.1577 - val_accuracy: 0.4825\n",
            "Epoch 15/100\n",
            "38/38 [==============================] - 0s 4ms/step - loss: 1.1454 - accuracy: 0.4988 - val_loss: 1.1570 - val_accuracy: 0.4850\n",
            "Epoch 16/100\n",
            "38/38 [==============================] - 0s 4ms/step - loss: 1.1370 - accuracy: 0.4987 - val_loss: 1.1588 - val_accuracy: 0.4850\n",
            "Epoch 17/100\n",
            "38/38 [==============================] - 0s 4ms/step - loss: 1.1116 - accuracy: 0.5386 - val_loss: 1.1649 - val_accuracy: 0.4800\n",
            "Epoch 18/100\n",
            "38/38 [==============================] - 0s 4ms/step - loss: 1.1412 - accuracy: 0.4901 - val_loss: 1.1715 - val_accuracy: 0.4800\n",
            "Epoch 19/100\n",
            "38/38 [==============================] - 0s 4ms/step - loss: 1.0992 - accuracy: 0.5162 - val_loss: 1.1707 - val_accuracy: 0.4775\n",
            "Epoch 20/100\n",
            "38/38 [==============================] - 0s 4ms/step - loss: 1.0805 - accuracy: 0.5212 - val_loss: 1.1619 - val_accuracy: 0.4550\n",
            "Epoch 21/100\n",
            "38/38 [==============================] - 0s 4ms/step - loss: 1.0992 - accuracy: 0.5156 - val_loss: 1.1518 - val_accuracy: 0.4975\n",
            "Epoch 22/100\n",
            "38/38 [==============================] - 0s 4ms/step - loss: 1.1124 - accuracy: 0.5068 - val_loss: 1.1441 - val_accuracy: 0.4850\n",
            "Epoch 23/100\n",
            "38/38 [==============================] - 0s 4ms/step - loss: 1.1010 - accuracy: 0.5165 - val_loss: 1.1364 - val_accuracy: 0.4925\n",
            "Epoch 24/100\n",
            "38/38 [==============================] - 0s 4ms/step - loss: 1.0790 - accuracy: 0.5350 - val_loss: 1.1446 - val_accuracy: 0.4925\n",
            "Epoch 25/100\n",
            "38/38 [==============================] - 0s 4ms/step - loss: 1.1110 - accuracy: 0.5329 - val_loss: 1.1280 - val_accuracy: 0.4925\n",
            "Epoch 26/100\n",
            "38/38 [==============================] - 0s 4ms/step - loss: 1.1212 - accuracy: 0.5273 - val_loss: 1.1264 - val_accuracy: 0.5050\n",
            "Epoch 27/100\n",
            "38/38 [==============================] - 0s 4ms/step - loss: 1.1153 - accuracy: 0.5210 - val_loss: 1.1312 - val_accuracy: 0.4775\n",
            "Epoch 28/100\n",
            "38/38 [==============================] - 0s 4ms/step - loss: 1.0576 - accuracy: 0.5481 - val_loss: 1.1270 - val_accuracy: 0.5075\n",
            "Epoch 29/100\n",
            "38/38 [==============================] - 0s 4ms/step - loss: 1.0969 - accuracy: 0.5098 - val_loss: 1.1154 - val_accuracy: 0.5200\n",
            "Epoch 30/100\n",
            "38/38 [==============================] - 0s 4ms/step - loss: 1.0779 - accuracy: 0.5258 - val_loss: 1.1055 - val_accuracy: 0.5075\n",
            "Epoch 31/100\n",
            "38/38 [==============================] - 0s 4ms/step - loss: 1.0766 - accuracy: 0.5188 - val_loss: 1.1223 - val_accuracy: 0.4675\n",
            "Epoch 32/100\n",
            "38/38 [==============================] - 0s 4ms/step - loss: 1.0756 - accuracy: 0.5274 - val_loss: 1.0925 - val_accuracy: 0.5000\n",
            "Epoch 33/100\n",
            "38/38 [==============================] - 0s 4ms/step - loss: 1.0824 - accuracy: 0.5378 - val_loss: 1.0980 - val_accuracy: 0.5350\n",
            "Epoch 34/100\n",
            "38/38 [==============================] - 0s 4ms/step - loss: 1.0590 - accuracy: 0.5533 - val_loss: 1.0819 - val_accuracy: 0.5450\n",
            "Epoch 35/100\n",
            "38/38 [==============================] - 0s 4ms/step - loss: 1.0896 - accuracy: 0.5494 - val_loss: 1.0800 - val_accuracy: 0.5150\n",
            "Epoch 36/100\n",
            "38/38 [==============================] - 0s 4ms/step - loss: 1.0865 - accuracy: 0.5204 - val_loss: 1.0697 - val_accuracy: 0.5350\n",
            "Epoch 37/100\n",
            "38/38 [==============================] - 0s 4ms/step - loss: 1.0084 - accuracy: 0.5734 - val_loss: 1.0987 - val_accuracy: 0.5525\n",
            "Epoch 38/100\n",
            "38/38 [==============================] - 0s 4ms/step - loss: 1.0384 - accuracy: 0.5529 - val_loss: 1.0631 - val_accuracy: 0.5300\n",
            "Epoch 39/100\n",
            "38/38 [==============================] - 0s 4ms/step - loss: 1.0451 - accuracy: 0.5466 - val_loss: 1.0507 - val_accuracy: 0.5575\n",
            "Epoch 40/100\n",
            "38/38 [==============================] - 0s 4ms/step - loss: 1.0414 - accuracy: 0.5623 - val_loss: 1.0613 - val_accuracy: 0.5375\n",
            "Epoch 41/100\n",
            "38/38 [==============================] - 0s 4ms/step - loss: 1.0324 - accuracy: 0.5363 - val_loss: 1.0593 - val_accuracy: 0.5625\n",
            "Epoch 42/100\n",
            "38/38 [==============================] - 0s 4ms/step - loss: 1.0125 - accuracy: 0.5971 - val_loss: 1.0515 - val_accuracy: 0.5750\n",
            "Epoch 43/100\n",
            "38/38 [==============================] - 0s 4ms/step - loss: 0.9958 - accuracy: 0.5547 - val_loss: 1.0718 - val_accuracy: 0.5625\n",
            "Epoch 44/100\n",
            "38/38 [==============================] - 0s 4ms/step - loss: 1.0479 - accuracy: 0.5401 - val_loss: 1.0604 - val_accuracy: 0.5375\n",
            "Epoch 45/100\n",
            "38/38 [==============================] - 0s 4ms/step - loss: 0.9621 - accuracy: 0.5523 - val_loss: 1.0639 - val_accuracy: 0.5575\n",
            "Epoch 46/100\n",
            "38/38 [==============================] - 0s 4ms/step - loss: 1.0270 - accuracy: 0.5469 - val_loss: 1.0419 - val_accuracy: 0.5400\n",
            "Epoch 47/100\n",
            "38/38 [==============================] - 0s 4ms/step - loss: 1.0365 - accuracy: 0.5447 - val_loss: 1.0656 - val_accuracy: 0.5650\n",
            "Epoch 48/100\n",
            "38/38 [==============================] - 0s 5ms/step - loss: 0.9946 - accuracy: 0.5638 - val_loss: 1.0258 - val_accuracy: 0.5675\n",
            "Epoch 49/100\n",
            "38/38 [==============================] - 0s 4ms/step - loss: 0.9725 - accuracy: 0.5826 - val_loss: 1.0379 - val_accuracy: 0.5525\n",
            "Epoch 50/100\n",
            "38/38 [==============================] - 0s 4ms/step - loss: 0.9680 - accuracy: 0.5792 - val_loss: 1.0177 - val_accuracy: 0.5750\n",
            "Epoch 51/100\n",
            "38/38 [==============================] - 0s 4ms/step - loss: 0.9536 - accuracy: 0.5810 - val_loss: 1.0243 - val_accuracy: 0.5525\n",
            "Epoch 52/100\n",
            "38/38 [==============================] - 0s 4ms/step - loss: 0.9846 - accuracy: 0.5889 - val_loss: 1.0126 - val_accuracy: 0.5575\n",
            "Epoch 53/100\n",
            "38/38 [==============================] - 0s 4ms/step - loss: 0.9769 - accuracy: 0.5753 - val_loss: 1.0319 - val_accuracy: 0.5575\n",
            "Epoch 54/100\n",
            "38/38 [==============================] - 0s 4ms/step - loss: 0.9565 - accuracy: 0.5755 - val_loss: 1.0566 - val_accuracy: 0.5650\n",
            "Epoch 55/100\n",
            "38/38 [==============================] - 0s 4ms/step - loss: 0.9990 - accuracy: 0.5371 - val_loss: 1.0146 - val_accuracy: 0.5750\n",
            "Epoch 56/100\n",
            "38/38 [==============================] - 0s 4ms/step - loss: 0.9709 - accuracy: 0.5530 - val_loss: 1.0257 - val_accuracy: 0.5750\n",
            "Epoch 57/100\n",
            "38/38 [==============================] - 0s 4ms/step - loss: 0.9778 - accuracy: 0.5650 - val_loss: 1.0372 - val_accuracy: 0.5575\n",
            "Epoch 58/100\n",
            "38/38 [==============================] - 0s 4ms/step - loss: 1.0070 - accuracy: 0.5395 - val_loss: 1.0097 - val_accuracy: 0.5850\n",
            "Epoch 59/100\n",
            "38/38 [==============================] - 0s 4ms/step - loss: 0.9259 - accuracy: 0.5854 - val_loss: 1.0186 - val_accuracy: 0.5675\n",
            "Epoch 60/100\n",
            "38/38 [==============================] - 0s 4ms/step - loss: 0.9447 - accuracy: 0.5803 - val_loss: 1.0031 - val_accuracy: 0.5725\n",
            "Epoch 61/100\n",
            "38/38 [==============================] - 0s 4ms/step - loss: 0.9572 - accuracy: 0.5920 - val_loss: 1.0142 - val_accuracy: 0.5800\n",
            "Epoch 62/100\n",
            "38/38 [==============================] - 0s 4ms/step - loss: 0.9507 - accuracy: 0.5780 - val_loss: 1.0014 - val_accuracy: 0.5800\n",
            "Epoch 63/100\n",
            "38/38 [==============================] - 0s 4ms/step - loss: 0.9557 - accuracy: 0.5887 - val_loss: 1.0088 - val_accuracy: 0.5725\n",
            "Epoch 64/100\n",
            "38/38 [==============================] - 0s 4ms/step - loss: 0.9874 - accuracy: 0.5689 - val_loss: 0.9971 - val_accuracy: 0.5775\n",
            "Epoch 65/100\n",
            "38/38 [==============================] - 0s 4ms/step - loss: 0.9375 - accuracy: 0.5681 - val_loss: 0.9915 - val_accuracy: 0.5900\n",
            "Epoch 66/100\n",
            "38/38 [==============================] - 0s 4ms/step - loss: 0.9378 - accuracy: 0.5942 - val_loss: 1.0179 - val_accuracy: 0.5700\n",
            "Epoch 67/100\n",
            "38/38 [==============================] - 0s 4ms/step - loss: 0.9490 - accuracy: 0.5939 - val_loss: 1.0068 - val_accuracy: 0.5900\n",
            "Epoch 68/100\n",
            "38/38 [==============================] - 0s 4ms/step - loss: 0.9385 - accuracy: 0.6009 - val_loss: 0.9870 - val_accuracy: 0.5975\n",
            "Epoch 69/100\n",
            "38/38 [==============================] - 0s 4ms/step - loss: 0.9457 - accuracy: 0.5725 - val_loss: 0.9866 - val_accuracy: 0.5900\n",
            "Epoch 70/100\n",
            "38/38 [==============================] - 0s 4ms/step - loss: 0.9488 - accuracy: 0.5866 - val_loss: 0.9952 - val_accuracy: 0.5675\n",
            "Epoch 71/100\n",
            "38/38 [==============================] - 0s 4ms/step - loss: 0.9912 - accuracy: 0.5595 - val_loss: 0.9973 - val_accuracy: 0.5900\n",
            "Epoch 72/100\n",
            "38/38 [==============================] - 0s 4ms/step - loss: 0.9103 - accuracy: 0.5869 - val_loss: 1.0414 - val_accuracy: 0.5725\n",
            "Epoch 73/100\n",
            "38/38 [==============================] - 0s 4ms/step - loss: 0.9296 - accuracy: 0.5458 - val_loss: 0.9977 - val_accuracy: 0.5750\n",
            "Epoch 74/100\n",
            "38/38 [==============================] - 0s 4ms/step - loss: 0.9103 - accuracy: 0.5796 - val_loss: 1.0093 - val_accuracy: 0.5700\n",
            "Epoch 75/100\n",
            "38/38 [==============================] - 0s 4ms/step - loss: 0.9378 - accuracy: 0.5712 - val_loss: 0.9858 - val_accuracy: 0.5725\n",
            "Epoch 76/100\n",
            "38/38 [==============================] - 0s 4ms/step - loss: 0.9122 - accuracy: 0.5845 - val_loss: 0.9950 - val_accuracy: 0.5700\n",
            "Epoch 77/100\n",
            "38/38 [==============================] - 0s 4ms/step - loss: 0.9042 - accuracy: 0.5992 - val_loss: 0.9951 - val_accuracy: 0.5950\n",
            "Epoch 78/100\n",
            "38/38 [==============================] - 0s 4ms/step - loss: 0.9325 - accuracy: 0.5841 - val_loss: 1.0252 - val_accuracy: 0.5875\n",
            "Epoch 79/100\n",
            "38/38 [==============================] - 0s 4ms/step - loss: 0.9505 - accuracy: 0.5378 - val_loss: 0.9998 - val_accuracy: 0.5625\n",
            "Epoch 80/100\n",
            "38/38 [==============================] - 0s 4ms/step - loss: 0.9099 - accuracy: 0.5691 - val_loss: 0.9987 - val_accuracy: 0.5825\n",
            "Epoch 81/100\n",
            "38/38 [==============================] - 0s 4ms/step - loss: 0.9314 - accuracy: 0.5816 - val_loss: 1.0012 - val_accuracy: 0.5875\n",
            "Epoch 82/100\n",
            "38/38 [==============================] - 0s 4ms/step - loss: 0.8975 - accuracy: 0.5907 - val_loss: 1.0095 - val_accuracy: 0.5825\n",
            "Epoch 83/100\n",
            "38/38 [==============================] - 0s 4ms/step - loss: 0.8853 - accuracy: 0.5956 - val_loss: 1.0273 - val_accuracy: 0.5825\n",
            "Epoch 84/100\n",
            "38/38 [==============================] - 0s 4ms/step - loss: 0.9041 - accuracy: 0.5856 - val_loss: 1.0065 - val_accuracy: 0.5950\n",
            "Epoch 85/100\n",
            "38/38 [==============================] - 0s 4ms/step - loss: 0.9112 - accuracy: 0.5919 - val_loss: 1.0096 - val_accuracy: 0.5800\n",
            "Epoch 86/100\n",
            "38/38 [==============================] - 0s 4ms/step - loss: 0.9195 - accuracy: 0.5850 - val_loss: 0.9962 - val_accuracy: 0.5925\n",
            "Epoch 87/100\n",
            "38/38 [==============================] - 0s 4ms/step - loss: 0.8856 - accuracy: 0.5891 - val_loss: 1.0025 - val_accuracy: 0.5875\n",
            "Epoch 88/100\n",
            "38/38 [==============================] - 0s 4ms/step - loss: 0.8811 - accuracy: 0.5991 - val_loss: 0.9999 - val_accuracy: 0.5650\n",
            "Epoch 89/100\n",
            "38/38 [==============================] - 0s 4ms/step - loss: 0.9059 - accuracy: 0.5916 - val_loss: 0.9920 - val_accuracy: 0.5825\n",
            "Epoch 90/100\n",
            "38/38 [==============================] - 0s 4ms/step - loss: 0.8915 - accuracy: 0.6054 - val_loss: 1.0104 - val_accuracy: 0.5750\n",
            "Epoch 91/100\n",
            "38/38 [==============================] - 0s 4ms/step - loss: 0.8650 - accuracy: 0.6193 - val_loss: 1.0013 - val_accuracy: 0.5875\n",
            "Epoch 92/100\n",
            "38/38 [==============================] - 0s 4ms/step - loss: 0.9032 - accuracy: 0.6172 - val_loss: 0.9992 - val_accuracy: 0.5850\n",
            "Epoch 93/100\n",
            "38/38 [==============================] - 0s 4ms/step - loss: 0.9146 - accuracy: 0.5900 - val_loss: 1.0132 - val_accuracy: 0.5750\n",
            "Epoch 94/100\n",
            "38/38 [==============================] - 0s 4ms/step - loss: 0.9370 - accuracy: 0.5439 - val_loss: 0.9799 - val_accuracy: 0.5875\n",
            "Epoch 95/100\n",
            "38/38 [==============================] - 0s 4ms/step - loss: 0.9325 - accuracy: 0.5831 - val_loss: 0.9910 - val_accuracy: 0.5750\n",
            "Epoch 96/100\n",
            "38/38 [==============================] - 0s 4ms/step - loss: 0.8890 - accuracy: 0.5943 - val_loss: 0.9835 - val_accuracy: 0.5925\n",
            "Epoch 97/100\n",
            "38/38 [==============================] - 0s 4ms/step - loss: 0.8746 - accuracy: 0.6131 - val_loss: 0.9779 - val_accuracy: 0.5925\n",
            "Epoch 98/100\n",
            "38/38 [==============================] - 0s 4ms/step - loss: 0.8735 - accuracy: 0.6070 - val_loss: 1.0088 - val_accuracy: 0.5850\n",
            "Epoch 99/100\n",
            "38/38 [==============================] - 0s 4ms/step - loss: 0.8847 - accuracy: 0.5708 - val_loss: 0.9914 - val_accuracy: 0.5850\n",
            "Epoch 100/100\n",
            "38/38 [==============================] - 0s 4ms/step - loss: 0.8757 - accuracy: 0.5953 - val_loss: 0.9892 - val_accuracy: 0.5825\n"
          ],
          "name": "stdout"
        },
        {
          "output_type": "execute_result",
          "data": {
            "text/plain": [
              "<tensorflow.python.keras.callbacks.History at 0x7feda80f59d0>"
            ]
          },
          "metadata": {
            "tags": []
          },
          "execution_count": 34
        }
      ]
    },
    {
      "cell_type": "code",
      "metadata": {
        "colab": {
          "base_uri": "https://localhost:8080/"
        },
        "id": "QEwMEIUGwBb1",
        "outputId": "2778024d-69aa-452d-ddb9-44c2c15216c5"
      },
      "source": [
        "# Evaluating the model with test data\n",
        "model2.evaluate(X2_test, y2_test)"
      ],
      "execution_count": 35,
      "outputs": [
        {
          "output_type": "stream",
          "text": [
            "13/13 [==============================] - 0s 2ms/step - loss: 0.9892 - accuracy: 0.5825\n"
          ],
          "name": "stdout"
        },
        {
          "output_type": "execute_result",
          "data": {
            "text/plain": [
              "[0.9892420768737793, 0.5824999809265137]"
            ]
          },
          "metadata": {
            "tags": []
          },
          "execution_count": 35
        }
      ]
    },
    {
      "cell_type": "code",
      "metadata": {
        "id": "DvcvwU1SeF3U"
      },
      "source": [
        "model2.save('/content/drive/MyDrive/Machine Learning/PGP AIML Course Files/Neural Networks Deep Learning/Assignment/nnet_classification.h5')\n"
      ],
      "execution_count": 37,
      "outputs": []
    },
    {
      "cell_type": "markdown",
      "metadata": {
        "id": "_-zOofhMZ49F"
      },
      "source": [
        "#### Conclusion\n",
        "\n",
        "1. Vanila model with one layer of 64 units with Relu and training for 100 epochs with 32 batch size - Given an accuracy around 56%\n",
        "2. 4 layers (64, 128, 256, 64) with RELU, 100 epochs and batch size of 16 gives an accuracy of - 72% in training and 57% in test i.e. it started overfitting (lets use dropout now to increase random inputs)\n",
        "3. By adding 4 dropouts of (0.20,0.15,0.10,0.05) the accuracy increased to 62%"
      ]
    },
    {
      "cell_type": "markdown",
      "metadata": {
        "id": "iNRAb4ZN5jmj"
      },
      "source": [
        "## Step 5: Clickable GUI"
      ]
    },
    {
      "cell_type": "code",
      "metadata": {
        "id": "In8Jcghe5oNG"
      },
      "source": [
        "import tkinter as tk\n",
        "from tkinter import ttk\n",
        "import re\n",
        "import pandas as pd"
      ],
      "execution_count": 38,
      "outputs": []
    },
    {
      "cell_type": "code",
      "metadata": {
        "colab": {
          "base_uri": "https://localhost:8080/",
          "height": 350
        },
        "id": "HaaxkLhw7TNV",
        "outputId": "04fd72f2-a9f6-4b32-ac0e-8100da22b165"
      },
      "source": [
        "# App Window\n",
        "win = tk.Tk()\n",
        "win.title('CLASSIFIER GUI')\n",
        "win.geometry(\"700x300\")\n",
        "\n",
        "\n",
        "# Step 1 -- Import Data Frame Name\n",
        "\n",
        "Name = ttk.Label(win,text=\"Step 1: File Name\")\n",
        "Name.grid(row=0,column=0,sticky=tk.W)\n",
        "\n",
        "Name_var = tk.StringVar()\n",
        "Name_entrybox = ttk.Entry(win,width=16,textvariable=Name_var)\n",
        "Name_entrybox.grid(row=0,column=1)\n",
        "\n",
        "\n",
        "def Import_Data():\n",
        "    global DB\n",
        "    DF_Name = Name_var.get()\n",
        "    DB_extension=re.findall(\"\\..*\", DF_Name)\n",
        "    if DB_extension == ['.xlsx']:\n",
        "        DB=pd.read_excel(DF_Name)\n",
        "        confirm='Done'\n",
        "    elif DB_extension==['.csv']:\n",
        "        DB=pd.read_csv(DF_Name)\n",
        "        confirm='Done'\n",
        "    else:\n",
        "        confirm='File Not Found'\n",
        "        \n",
        "    Confirm_entrybox=ttk.Entry(win,width=16)\n",
        "    Confirm_entrybox.grid(row=0,column=3)\n",
        "    Confirm_entrybox.insert(1,str(confirm))\n",
        "    \n",
        "Import_Data_Button = ttk.Button(win,text='Import Data', command=Import_Data)\n",
        "Import_Data_Button.grid(row=0,column=2)\n",
        "\n",
        "# Step 2: Target data frame name ----------------\n",
        "\n",
        "Target = ttk.Label(win,text='Step 2: Target Column')\n",
        "Target.grid(row=1,column=0,sticky=tk.W)\n",
        "\n",
        "Target_var=tk.StringVar()\n",
        "Target_entrybox=ttk.Entry(win,width=16,textvariable=Target_var)\n",
        "Target_entrybox.grid(row=1,column=1)\n",
        "\n",
        "def Target_Data():\n",
        "    global DB, X, y, Target_Name, X_train, X_test, y_train, y_test, X2_train, X2_test, y2_train, y2_test\n",
        "    Target_Name = Target_var.get()\n",
        "    \n",
        "    Column_name=DB.columns\n",
        "    \n",
        "    for i in range(len(Column_name)):\n",
        "        if Column_name[i]==Target_Name:\n",
        "            confirm='Found'\n",
        "            y=DB[Target_Name]\n",
        "            X=DB.drop(Target_Name,axis=1)\n",
        "            \n",
        "            from sklearn.model_selection import train_test_split\n",
        "            X_train, X_test, y_train, y_test = train_test_split(X,y,test_size=0.20)\n",
        "            X2_train,X2_test,y2_train,y2_test = train_test_split(X,y, test_size=0.25)\n",
        "            \n",
        "        else:\n",
        "            confirm='Not Found'\n",
        "\n",
        "    Confirm_entrybox=ttk.Entry(win, width=16)\n",
        "    Confirm_entrybox.grid(row=1,column=3)\n",
        "    Confirm_entrybox.insert(1, str(confirm))\n",
        "    \n",
        "Target_Button= ttk.Button(win,text='Import Target', command=Target_Data)\n",
        "Target_Button.grid(row=1,column=2)\n",
        "\n",
        "# Step 3\n",
        "\n",
        "Target = ttk.Label(win,text='Step 3: Neural Network Regressor')\n",
        "Target.grid(row=3,column=0,sticky=tk.W)\n",
        "\n",
        "Target = ttk.Label(win,text='Regression')\n",
        "Target.grid(row=4,column=0,sticky=tk.W)\n",
        "\n",
        "def train_NeuralRegressor():\n",
        "    \n",
        "    global regmodel\n",
        "    \n",
        "    regmodel = Sequential()\n",
        "    regmodel.add(tf.keras.Input(shape=11))\n",
        "    regmodel.add(Dense(64, activation='relu'))\n",
        "    regmodel.add(Dropout(0.15))\n",
        "    regmodel.add(Dense(128, activation='relu'))\n",
        "    regmodel.add(Dropout(0.10))\n",
        "    regmodel.add(Dense(32, activation='relu'))\n",
        "    regmodel.add(Dropout(0.5))\n",
        "    regmodel.add(Dense(1, activation='linear'))\n",
        "\n",
        "    \n",
        "    #from tensorflow.keras.losses import MeanAbsoluteError\n",
        "    regmodel.compile(optimizer='adam',loss=tf.keras.losses.MeanAbsoluteError())\n",
        "\n",
        "    regmodel.fit(X_train,y_train,batch_size=50,epochs=12,validation_data=(X_test,y_test))\n",
        "\n",
        "    Confirm_nnregbox=ttk.Entry(win, width=25)\n",
        "    Confirm_nnregbox.grid(row=4,column=2)\n",
        "    Confirm_nnregbox.insert(1, 'Network Trained')\n",
        "    \n",
        "NNreg_Button= ttk.Button(win,text='Train', command=train_NeuralRegressor)\n",
        "NNreg_Button.grid(row=4,column=1)\n",
        "\n",
        "picklereg = ttk.Label(win,text='Pickle')\n",
        "picklereg.grid(row=5,column=0,sticky=tk.W)\n",
        "\n",
        "def pickle_NeuralRegressor():\n",
        "\n",
        "    regmodel.save('regmodel.h5')\n",
        "\n",
        "    train_NeuralRegressor(pickle='True')\n",
        "\n",
        "    Confirm_picklennregbox=ttk.Entry(win, width=25)\n",
        "    Confirm_picklennregbox.grid(row=5,column=2)\n",
        "    Confirm_picklennregbox.insert(1, 'Saved Model to Disk')\n",
        "    \n",
        "picklereg_Button= ttk.Button(win,text='Run', command=pickle_NeuralRegressor)\n",
        "picklereg_Button.grid(row=5,column=1)\n",
        "\n",
        "# Step 4:\n",
        "    \n",
        "Target = ttk.Label(win,text='Step 4: Neural Network Classifier')\n",
        "Target.grid(row=6,column=0,sticky=tk.W)\n",
        "\n",
        "Target = ttk.Label(win,text='Classifier')\n",
        "Target.grid(row=7,column=0,sticky=tk.W)\n",
        "\n",
        "def train_NeuralClassifier():\n",
        "    \n",
        "    global classmodel\n",
        "    \n",
        "    y2_train =tf.keras.utils.to_categorical(y2_train, num_classes=10) \n",
        "    y2_test =tf.keras.utils.to_categorical(y2_test, num_classes=10)\n",
        "\n",
        "    classmodel = Sequential()\n",
        "    classmodel.add(tf.keras.Input(shape=11))\n",
        "    classmodel.add(Dense(64, activation='relu'))\n",
        "    classmodel.add(Dropout(0.20))\n",
        "    classmodel.add(Dense(128, activation='relu'))\n",
        "    classmodel.add(Dropout(0.15))\n",
        "    classmodel.add(Dense(256, activation='relu'))\n",
        "    classmodel.add(Dropout(0.10))\n",
        "    classmodel.add(Dense(64, activation='relu'))\n",
        "    classmodel.add(Dropout(0.05))\n",
        "    classmodel.add(Dense(10, activation='softmax'))\n",
        "\n",
        "    classmodel.compile(optimizer='adam',loss=tf.keras.losses.CategoricalCrossentropy(), metrics=['accuracy'])\n",
        "\n",
        "    classmodel.fit(X2_train,y2_train,batch_size=50,epochs=10,validation_data=(X2_test,y2_test))\n",
        "\n",
        "    Confirm_nnclassbox=ttk.Entry(win, width=25)\n",
        "    Confirm_nnclassbox.grid(row=7,column=2)\n",
        "    Confirm_nnclassbox.insert(1, 'Network Trained')\n",
        "    \n",
        "NNclass_Button= ttk.Button(win,text='Train', command=train_NeuralClassifier)\n",
        "NNclass_Button.grid(row=7,column=1)\n",
        "\n",
        "pickleclass = ttk.Label(win,text='Pickle')\n",
        "pickleclass .grid(row=8,column=0,sticky=tk.W)\n",
        "\n",
        "def pickle_NeuralClass():\n",
        "    \n",
        "    classmodel.save('classmodel.h5')\n",
        "\n",
        "    train_NeuralClassifier(pickle='True')\n",
        "\n",
        "    Confirm_picklennclassbox=ttk.Entry(win, width=25)\n",
        "    Confirm_picklennclassbox.grid(row=8,column=2)\n",
        "    Confirm_picklennclassbox.insert(1, 'Saved Model to Disk')\n",
        "    \n",
        "pickleclass_Button= ttk.Button(win,text='Run', command=pickle_NeuralClass)\n",
        "pickleclass_Button.grid(row=8,column=1)\n",
        "\n",
        "win.mainloop()"
      ],
      "execution_count": 39,
      "outputs": [
        {
          "output_type": "error",
          "ename": "TclError",
          "evalue": "ignored",
          "traceback": [
            "\u001b[0;31m---------------------------------------------------------------------------\u001b[0m",
            "\u001b[0;31mTclError\u001b[0m                                  Traceback (most recent call last)",
            "\u001b[0;32m<ipython-input-39-eb368796a2a2>\u001b[0m in \u001b[0;36m<module>\u001b[0;34m()\u001b[0m\n\u001b[1;32m      1\u001b[0m \u001b[0;31m# App Window\u001b[0m\u001b[0;34m\u001b[0m\u001b[0;34m\u001b[0m\u001b[0;34m\u001b[0m\u001b[0m\n\u001b[0;32m----> 2\u001b[0;31m \u001b[0mwin\u001b[0m \u001b[0;34m=\u001b[0m \u001b[0mtk\u001b[0m\u001b[0;34m.\u001b[0m\u001b[0mTk\u001b[0m\u001b[0;34m(\u001b[0m\u001b[0;34m)\u001b[0m\u001b[0;34m\u001b[0m\u001b[0;34m\u001b[0m\u001b[0m\n\u001b[0m\u001b[1;32m      3\u001b[0m \u001b[0mwin\u001b[0m\u001b[0;34m.\u001b[0m\u001b[0mtitle\u001b[0m\u001b[0;34m(\u001b[0m\u001b[0;34m'CLASSIFIER GUI'\u001b[0m\u001b[0;34m)\u001b[0m\u001b[0;34m\u001b[0m\u001b[0;34m\u001b[0m\u001b[0m\n\u001b[1;32m      4\u001b[0m \u001b[0mwin\u001b[0m\u001b[0;34m.\u001b[0m\u001b[0mgeometry\u001b[0m\u001b[0;34m(\u001b[0m\u001b[0;34m\"700x300\"\u001b[0m\u001b[0;34m)\u001b[0m\u001b[0;34m\u001b[0m\u001b[0;34m\u001b[0m\u001b[0m\n\u001b[1;32m      5\u001b[0m \u001b[0;34m\u001b[0m\u001b[0m\n",
            "\u001b[0;32m/usr/lib/python3.7/tkinter/__init__.py\u001b[0m in \u001b[0;36m__init__\u001b[0;34m(self, screenName, baseName, className, useTk, sync, use)\u001b[0m\n\u001b[1;32m   2021\u001b[0m                 \u001b[0mbaseName\u001b[0m \u001b[0;34m=\u001b[0m \u001b[0mbaseName\u001b[0m \u001b[0;34m+\u001b[0m \u001b[0mext\u001b[0m\u001b[0;34m\u001b[0m\u001b[0;34m\u001b[0m\u001b[0m\n\u001b[1;32m   2022\u001b[0m         \u001b[0minteractive\u001b[0m \u001b[0;34m=\u001b[0m \u001b[0;36m0\u001b[0m\u001b[0;34m\u001b[0m\u001b[0;34m\u001b[0m\u001b[0m\n\u001b[0;32m-> 2023\u001b[0;31m         \u001b[0mself\u001b[0m\u001b[0;34m.\u001b[0m\u001b[0mtk\u001b[0m \u001b[0;34m=\u001b[0m \u001b[0m_tkinter\u001b[0m\u001b[0;34m.\u001b[0m\u001b[0mcreate\u001b[0m\u001b[0;34m(\u001b[0m\u001b[0mscreenName\u001b[0m\u001b[0;34m,\u001b[0m \u001b[0mbaseName\u001b[0m\u001b[0;34m,\u001b[0m \u001b[0mclassName\u001b[0m\u001b[0;34m,\u001b[0m \u001b[0minteractive\u001b[0m\u001b[0;34m,\u001b[0m \u001b[0mwantobjects\u001b[0m\u001b[0;34m,\u001b[0m \u001b[0museTk\u001b[0m\u001b[0;34m,\u001b[0m \u001b[0msync\u001b[0m\u001b[0;34m,\u001b[0m \u001b[0muse\u001b[0m\u001b[0;34m)\u001b[0m\u001b[0;34m\u001b[0m\u001b[0;34m\u001b[0m\u001b[0m\n\u001b[0m\u001b[1;32m   2024\u001b[0m         \u001b[0;32mif\u001b[0m \u001b[0museTk\u001b[0m\u001b[0;34m:\u001b[0m\u001b[0;34m\u001b[0m\u001b[0;34m\u001b[0m\u001b[0m\n\u001b[1;32m   2025\u001b[0m             \u001b[0mself\u001b[0m\u001b[0;34m.\u001b[0m\u001b[0m_loadtk\u001b[0m\u001b[0;34m(\u001b[0m\u001b[0;34m)\u001b[0m\u001b[0;34m\u001b[0m\u001b[0;34m\u001b[0m\u001b[0m\n",
            "\u001b[0;31mTclError\u001b[0m: no display name and no $DISPLAY environment variable"
          ]
        }
      ]
    },
    {
      "cell_type": "markdown",
      "metadata": {
        "id": "2_DSeugduAuf"
      },
      "source": [
        "# Conclusion\n",
        "\n",
        "1. EDA was done on the signal dataset and the dataset did have a significant number of outliers.\n",
        "\n",
        "2. We have built two models above - one is a classifier and one is regression both with a very basic level of accuracy (further scope for improvement does exists)\n",
        "\n",
        "3. We have also built the tkinter application, which can be run as is and it will generate a pop up window exactly as it was requested in the assignment\n"
      ]
    }
  ]
}