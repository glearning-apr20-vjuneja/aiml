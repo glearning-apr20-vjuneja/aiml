{
  "nbformat": 4,
  "nbformat_minor": 0,
  "metadata": {
    "accelerator": "GPU",
    "colab": {
      "name": "VarunJuneja_CNN-Transfer Learning.ipynb",
      "provenance": [],
      "collapsed_sections": [
        "8aUzOh9m5sX-"
      ]
    },
    "kernelspec": {
      "display_name": "Python 3",
      "language": "python",
      "name": "python3"
    },
    "language_info": {
      "codemirror_mode": {
        "name": "ipython",
        "version": 3
      },
      "file_extension": ".py",
      "mimetype": "text/x-python",
      "name": "python",
      "nbconvert_exporter": "python",
      "pygments_lexer": "ipython3",
      "version": "3.7.1"
    }
  },
  "cells": [
    {
      "cell_type": "markdown",
      "metadata": {
        "id": "NFfDTfhlaEI_"
      },
      "source": [
        "# Transfer Learning MNIST"
      ]
    },
    {
      "cell_type": "markdown",
      "metadata": {
        "id": "rNwbqCFRaEJC"
      },
      "source": [
        "* Train a simple convnet on the MNIST dataset the first 5 digits [0-4].\n",
        "* Freeze convolutional layers and fine-tune dense layers for the classification of digits [5-9]."
      ]
    },
    {
      "cell_type": "markdown",
      "metadata": {
        "id": "5Dnzaw1i5sXF"
      },
      "source": [
        "## MNIST Dataset\n",
        "The MNIST database contains 60,000 training images and 10,000 testing images taken from American Census Bureau employees and American high school students. The MNIST dataset is one of the most common datasets used for image classification and accessible from many different sources. In fact, even Tensorflow and Keras allow us to import and download the MNIST dataset directly from their API."
      ]
    },
    {
      "cell_type": "markdown",
      "metadata": {
        "id": "bpUULy1Z5sXF"
      },
      "source": [
        "Let's load MNIST dataset"
      ]
    },
    {
      "cell_type": "code",
      "metadata": {
        "id": "-uw1fGSV4nbR"
      },
      "source": [
        "%tensorflow_version 2.x\n",
        "import tensorflow"
      ],
      "execution_count": 1,
      "outputs": []
    },
    {
      "cell_type": "code",
      "metadata": {
        "id": "KiG7IPhm5sXG"
      },
      "source": [
        "# Initialize the random number generator\n",
        "import random\n",
        "random.seed(0)\n",
        "\n",
        "import warnings\n",
        "warnings.filterwarnings(\"ignore\")"
      ],
      "execution_count": 2,
      "outputs": []
    },
    {
      "cell_type": "code",
      "metadata": {
        "id": "ZqUiJM_Z5sXL"
      },
      "source": [
        "from tensorflow.keras.datasets import mnist\n",
        "\n",
        "# the data, shuffled and split between train and test sets\n",
        "(X_train, y_train), (X_test, y_test) = mnist.load_data()"
      ],
      "execution_count": 3,
      "outputs": []
    },
    {
      "cell_type": "markdown",
      "metadata": {
        "id": "RVw4wsuW5sXO"
      },
      "source": [
        "X_train and X_test contain greyscale RGB codes (from 0 to 255) while y_train and y_test contains labels from 0 to 9 which represents which number they actually are."
      ]
    },
    {
      "cell_type": "markdown",
      "metadata": {
        "id": "xgQ86Vhw5sXP"
      },
      "source": [
        "Let's visualize some numbers using matplotlib"
      ]
    },
    {
      "cell_type": "code",
      "metadata": {
        "id": "VZwg00gO5sXQ",
        "colab": {
          "base_uri": "https://localhost:8080/",
          "height": 300
        },
        "outputId": "91d172db-a2fc-475c-a507-a08face08fa6"
      },
      "source": [
        "import matplotlib.pyplot as plt\n",
        "%matplotlib inline\n",
        "print(\"Label: {}\".format(y_train[1000]))\n",
        "plt.imshow(X_train[1000], cmap='gray')"
      ],
      "execution_count": 4,
      "outputs": [
        {
          "output_type": "stream",
          "text": [
            "Label: 0\n"
          ],
          "name": "stdout"
        },
        {
          "output_type": "execute_result",
          "data": {
            "text/plain": [
              "<matplotlib.image.AxesImage at 0x7f3ac95b0210>"
            ]
          },
          "metadata": {
            "tags": []
          },
          "execution_count": 4
        },
        {
          "output_type": "display_data",
          "data": {
            "image/png": "[encoded data removed]",
            "text/plain": [
              "<Figure size 432x288 with 1 Axes>"
            ]
          },
          "metadata": {
            "tags": [],
            "needs_background": "light"
          }
        }
      ]
    },
    {
      "cell_type": "markdown",
      "metadata": {
        "id": "p64mhwp95sXS"
      },
      "source": [
        "## Question 1"
      ]
    },
    {
      "cell_type": "markdown",
      "metadata": {
        "id": "XxNAiWYd5sXT"
      },
      "source": [
        "### Create two datasets\n",
        "- First having digits from 0 to 4\n",
        "- Second having digits from 5 to 9\n",
        "\n",
        "Hint: use labels to separate data"
      ]
    },
    {
      "cell_type": "code",
      "metadata": {
        "id": "1807m1CL5sXT"
      },
      "source": [
        "X_train_04 = X_train[y_train < 5]\n",
        "y_train_04 = y_train[y_train < 5]\n",
        "X_test_04 = X_test[y_test < 5]\n",
        "y_test_04 = y_test[y_test < 5]\n",
        "\n",
        "X_train_59 = X_train[y_train >= 5]\n",
        "y_train_59 = y_train[y_train >= 5]\n",
        "X_test_59 = X_test[y_test >= 5]\n",
        "y_test_59 = y_test[y_test >= 5]"
      ],
      "execution_count": 5,
      "outputs": []
    },
    {
      "cell_type": "markdown",
      "metadata": {
        "id": "M9jKcF1z5sXV"
      },
      "source": [
        "## Question 2"
      ]
    },
    {
      "cell_type": "markdown",
      "metadata": {
        "id": "NMo7lvwQ5sXW"
      },
      "source": [
        "### Print shape of the data\n",
        "- print shape of all variables of both the datasets you created"
      ]
    },
    {
      "cell_type": "code",
      "metadata": {
        "id": "kH7ZjEoH5sXW",
        "colab": {
          "base_uri": "https://localhost:8080/"
        },
        "outputId": "5808dea7-bb2d-4c98-b22f-107aedfffe86"
      },
      "source": [
        "print(X_train_04.shape)\n",
        "print(y_train_04.shape)\n",
        "print(X_test_04.shape)\n",
        "print(y_test_04.shape)"
      ],
      "execution_count": 6,
      "outputs": [
        {
          "output_type": "stream",
          "text": [
            "(30596, 28, 28)\n",
            "(30596,)\n",
            "(5139, 28, 28)\n",
            "(5139,)\n"
          ],
          "name": "stdout"
        }
      ]
    },
    {
      "cell_type": "code",
      "metadata": {
        "colab": {
          "base_uri": "https://localhost:8080/"
        },
        "id": "OOPnLz8Fc1Ui",
        "outputId": "b0adae06-94b6-430a-dc76-d6ce010a9af1"
      },
      "source": [
        "print(X_train_59.shape)\n",
        "print(y_train_59.shape)\n",
        "print(X_test_59.shape)\n",
        "print(y_test_59.shape)"
      ],
      "execution_count": 7,
      "outputs": [
        {
          "output_type": "stream",
          "text": [
            "(29404, 28, 28)\n",
            "(29404,)\n",
            "(4861, 28, 28)\n",
            "(4861,)\n"
          ],
          "name": "stdout"
        }
      ]
    },
    {
      "cell_type": "markdown",
      "metadata": {
        "id": "IUU4PkKU5sXY"
      },
      "source": [
        "## Question 3"
      ]
    },
    {
      "cell_type": "markdown",
      "metadata": {
        "id": "4I8ajqdt5sXY"
      },
      "source": [
        "### Reshape data\n",
        "- reshape first dataset\n",
        "- To be able to use the dataset in Keras, we need 4-dims numpy arrays. \n",
        "- reshape features to pass it to a Conv2D layer\n",
        "- channel = 1\n",
        "- reshape features of first dataset only\n",
        "- do not reshape labels"
      ]
    },
    {
      "cell_type": "code",
      "metadata": {
        "id": "38wgBEcz5sXa"
      },
      "source": [
        "X_train_04 = X_train_04.reshape(X_train_04.shape[0],28,28,1)\n",
        "X_test_04 = X_test_04.reshape(X_test_04.shape[0],28,28,1)"
      ],
      "execution_count": 8,
      "outputs": []
    },
    {
      "cell_type": "markdown",
      "metadata": {
        "id": "_5H-BtNm5sXg"
      },
      "source": [
        "## Question 4"
      ]
    },
    {
      "cell_type": "markdown",
      "metadata": {
        "id": "2ahCMtCl5sXh"
      },
      "source": [
        "### Normalize data\n",
        "- normalize first dataset\n",
        "- we must normalize our data as it is always required in neural network models\n",
        "- we can achieve this by dividing the RGB codes to 255 (which is the maximum RGB code minus the minimum RGB code)\n",
        "- normalize X_train and X_test\n",
        "- make sure that the values are float so that we can get decimal points after division"
      ]
    },
    {
      "cell_type": "code",
      "metadata": {
        "id": "z4mti7pg5sXj"
      },
      "source": [
        "X_train_04 = X_train_04.astype('float32')\n",
        "X_test_04 = X_test_04.astype('float32')\n",
        "\n",
        "X_train_04 /= 255\n",
        "X_test_04 /= 255"
      ],
      "execution_count": 9,
      "outputs": []
    },
    {
      "cell_type": "markdown",
      "metadata": {
        "id": "TfQ6545D5sXp"
      },
      "source": [
        "### Print shape of data and number of images\n",
        "- for first dataset\n",
        "- print shape of X_train\n",
        "- print number of images in X_train\n",
        "- print number of images in X_test"
      ]
    },
    {
      "cell_type": "code",
      "metadata": {
        "id": "uQfQXZMo5sXp",
        "colab": {
          "base_uri": "https://localhost:8080/"
        },
        "outputId": "d6d2758d-be16-4996-eed2-e785b98ebd75"
      },
      "source": [
        "print(\"X_train shape: {}\".format(X_train_04.shape))\n",
        "print(\"no of images in x_train: {}\".format(X_train_04.shape[0]))\n",
        "print(\"no of images in x_test: {}\".format(X_test_04.shape[0]))"
      ],
      "execution_count": 10,
      "outputs": [
        {
          "output_type": "stream",
          "text": [
            "X_train shape: (30596, 28, 28, 1)\n",
            "no of images in x_train: 30596\n",
            "no of images in x_test: 5139\n"
          ],
          "name": "stdout"
        }
      ]
    },
    {
      "cell_type": "markdown",
      "metadata": {
        "id": "9oFjomSh5sXu"
      },
      "source": [
        "## Question 5"
      ]
    },
    {
      "cell_type": "markdown",
      "metadata": {
        "id": "2lEFQQNk5sXu"
      },
      "source": [
        "### One-hot encode the class vector\n",
        "- encode labels of first dataset\n",
        "- convert class vectors (integers) to binary class matrix\n",
        "- convert y_train and y_test\n",
        "- number of classes: 5\n",
        "- we are doing this to use categorical_crossentropy as loss\n",
        "\n",
        "Hint: you can use tensorflow.keras.utils.to_categorical"
      ]
    },
    {
      "cell_type": "code",
      "metadata": {
        "id": "aejx3Zb35sXv"
      },
      "source": [
        "from tensorflow.keras.utils import to_categorical\n",
        "y_train_04 = to_categorical(y_train_04, num_classes=5)\n",
        "y_test_04 = to_categorical(y_test_04, num_classes=5)"
      ],
      "execution_count": 11,
      "outputs": []
    },
    {
      "cell_type": "markdown",
      "metadata": {
        "id": "PlkiipRA5sXw"
      },
      "source": [
        "## Question 6\n",
        "We will build our model by using Keras."
      ]
    },
    {
      "cell_type": "markdown",
      "metadata": {
        "id": "KzYMC_xm5sXx"
      },
      "source": [
        "### Initialize a sequential model\n",
        "- define a sequential model\n",
        "- add 2 convolutional layers\n",
        "    - no of filters: 32\n",
        "    - kernel size: 3x3\n",
        "    - activation: \"relu\"\n",
        "    - input shape: (28, 28, 1) for first layer\n",
        "- add a max pooling layer of size 2x2\n",
        "- add a dropout layer\n",
        "    - dropout layers fight with the overfitting by disregarding some of the neurons while training\n",
        "    - use dropout rate 0.2"
      ]
    },
    {
      "cell_type": "code",
      "metadata": {
        "id": "mDr-HKl-5sXx"
      },
      "source": [
        "from tensorflow.keras.models import Sequential\n",
        "from tensorflow.keras.layers import Conv2D, Dropout, MaxPool2D"
      ],
      "execution_count": 12,
      "outputs": []
    },
    {
      "cell_type": "code",
      "metadata": {
        "id": "zfbzbZW0nNgv"
      },
      "source": [
        "model = Sequential()\n",
        "model.add(Conv2D(filters=32, kernel_size=3, activation='relu', input_shape=(28,28,1)))\n",
        "model.add(Conv2D(filters=32, kernel_size=3, activation='relu'))\n",
        "model.add(MaxPool2D(pool_size=(2,2)))\n",
        "model.add(Dropout(0.2))"
      ],
      "execution_count": 13,
      "outputs": []
    },
    {
      "cell_type": "markdown",
      "metadata": {
        "id": "k2RaPWiP5sXz"
      },
      "source": [
        "## Question 7"
      ]
    },
    {
      "cell_type": "markdown",
      "metadata": {
        "id": "4ajGIM6t5sXz"
      },
      "source": [
        "### Add classification layers\n",
        "- do this after doing question 6\n",
        "- flatten the data\n",
        "    - add Flatten later\n",
        "    - flatten layers flatten 2D arrays to 1D array before building the fully connected layers\n",
        "- add 2 dense layers\n",
        "    - number of neurons in first layer: 128\n",
        "    - number of neurons in last layer: number of classes\n",
        "    - activation function in first layer: relu\n",
        "    - activation function in last layer: softmax\n",
        "    - we may experiment with any number of neurons for the first Dense layer; however, the final Dense layer must have neurons equal to the number of output classes\n",
        "- you can add a dropout layer in between, if necessary"
      ]
    },
    {
      "cell_type": "code",
      "metadata": {
        "id": "jBxWAN265sX0"
      },
      "source": [
        "from tensorflow.keras.layers import Flatten, Dense"
      ],
      "execution_count": 14,
      "outputs": []
    },
    {
      "cell_type": "code",
      "metadata": {
        "id": "moxs4RrkqAdO"
      },
      "source": [
        "model.add(Flatten())\n",
        "model.add(Dense(128, activation='relu'))\n",
        "model.add(Dense(5, activation='softmax'))"
      ],
      "execution_count": 15,
      "outputs": []
    },
    {
      "cell_type": "code",
      "metadata": {
        "colab": {
          "base_uri": "https://localhost:8080/"
        },
        "id": "ROygBoIAqax_",
        "outputId": "ac24afc2-dd01-43dd-aeb8-973674f9cbe3"
      },
      "source": [
        "model.summary()"
      ],
      "execution_count": 16,
      "outputs": [
        {
          "output_type": "stream",
          "text": [
            "Model: \"sequential\"\n",
            "_________________________________________________________________\n",
            "Layer (type)                 Output Shape              Param #   \n",
            "=================================================================\n",
            "conv2d (Conv2D)              (None, 26, 26, 32)        320       \n",
            "_________________________________________________________________\n",
            "conv2d_1 (Conv2D)            (None, 24, 24, 32)        9248      \n",
            "_________________________________________________________________\n",
            "max_pooling2d (MaxPooling2D) (None, 12, 12, 32)        0         \n",
            "_________________________________________________________________\n",
            "dropout (Dropout)            (None, 12, 12, 32)        0         \n",
            "_________________________________________________________________\n",
            "flatten (Flatten)            (None, 4608)              0         \n",
            "_________________________________________________________________\n",
            "dense (Dense)                (None, 128)               589952    \n",
            "_________________________________________________________________\n",
            "dense_1 (Dense)              (None, 5)                 645       \n",
            "=================================================================\n",
            "Total params: 600,165\n",
            "Trainable params: 600,165\n",
            "Non-trainable params: 0\n",
            "_________________________________________________________________\n"
          ],
          "name": "stdout"
        }
      ]
    },
    {
      "cell_type": "markdown",
      "metadata": {
        "id": "Lhtm4d5K5sX1"
      },
      "source": [
        "## Question 8"
      ]
    },
    {
      "cell_type": "markdown",
      "metadata": {
        "id": "SmXg8EaF5sX2"
      },
      "source": [
        "### Compile and fit the model\n",
        "- compile your model\n",
        "    - loss: \"categorical_crossentropy\"\n",
        "    - metrics: \"accuracy\"\n",
        "    - optimizer: \"sgd\"\n",
        "- fit your model\n",
        "    - give train data - features and labels\n",
        "    - batch size: 128\n",
        "    - epochs: 10\n",
        "    - give validation data - features and labels"
      ]
    },
    {
      "cell_type": "code",
      "metadata": {
        "id": "cgclxC8s5sX4"
      },
      "source": [
        "model.compile(loss='categorical_crossentropy', metrics=['accuracy'], optimizer='sgd')"
      ],
      "execution_count": 17,
      "outputs": []
    },
    {
      "cell_type": "code",
      "metadata": {
        "colab": {
          "base_uri": "https://localhost:8080/"
        },
        "id": "NVkeRUD3rWcb",
        "outputId": "84ccdbb1-5404-4352-a3be-755b615dbced"
      },
      "source": [
        "model.fit(X_train_04, y_train_04, batch_size=128, epochs=10, validation_data=(X_test_04, y_test_04))"
      ],
      "execution_count": 18,
      "outputs": [
        {
          "output_type": "stream",
          "text": [
            "Epoch 1/10\n",
            "240/240 [==============================] - 4s 7ms/step - loss: 0.6150 - accuracy: 0.8271 - val_loss: 0.1185 - val_accuracy: 0.9671\n",
            "Epoch 2/10\n",
            "240/240 [==============================] - 2s 6ms/step - loss: 0.1403 - accuracy: 0.9564 - val_loss: 0.2039 - val_accuracy: 0.9298\n",
            "Epoch 3/10\n",
            "240/240 [==============================] - 2s 6ms/step - loss: 0.1230 - accuracy: 0.9620 - val_loss: 0.0766 - val_accuracy: 0.9780\n",
            "Epoch 4/10\n",
            "240/240 [==============================] - 2s 6ms/step - loss: 0.1109 - accuracy: 0.9660 - val_loss: 0.0746 - val_accuracy: 0.9768\n",
            "Epoch 5/10\n",
            "240/240 [==============================] - 1s 6ms/step - loss: 0.1024 - accuracy: 0.9688 - val_loss: 0.0678 - val_accuracy: 0.9805\n",
            "Epoch 6/10\n",
            "240/240 [==============================] - 2s 6ms/step - loss: 0.0960 - accuracy: 0.9706 - val_loss: 0.2778 - val_accuracy: 0.9023\n",
            "Epoch 7/10\n",
            "240/240 [==============================] - 2s 6ms/step - loss: 0.0898 - accuracy: 0.9725 - val_loss: 0.0557 - val_accuracy: 0.9844\n",
            "Epoch 8/10\n",
            "240/240 [==============================] - 2s 6ms/step - loss: 0.0827 - accuracy: 0.9749 - val_loss: 0.0511 - val_accuracy: 0.9844\n",
            "Epoch 9/10\n",
            "240/240 [==============================] - 1s 6ms/step - loss: 0.0762 - accuracy: 0.9765 - val_loss: 0.1051 - val_accuracy: 0.9650\n",
            "Epoch 10/10\n",
            "240/240 [==============================] - 2s 6ms/step - loss: 0.0712 - accuracy: 0.9781 - val_loss: 0.0454 - val_accuracy: 0.9870\n"
          ],
          "name": "stdout"
        },
        {
          "output_type": "execute_result",
          "data": {
            "text/plain": [
              "<tensorflow.python.keras.callbacks.History at 0x7f3ac045b3d0>"
            ]
          },
          "metadata": {
            "tags": []
          },
          "execution_count": 18
        }
      ]
    },
    {
      "cell_type": "markdown",
      "metadata": {
        "id": "oSVZUu3p5sX5"
      },
      "source": [
        "## Question 9"
      ]
    },
    {
      "cell_type": "markdown",
      "metadata": {
        "id": "Y5TQ3yLV5sX6"
      },
      "source": [
        "### Evaluate model\n",
        "- evaluate your model and get accuracy\n",
        "- use test features and labels"
      ]
    },
    {
      "cell_type": "code",
      "metadata": {
        "id": "bBvuD3ba5sX7",
        "colab": {
          "base_uri": "https://localhost:8080/"
        },
        "outputId": "a72f6807-3510-47e3-c00e-e0885621aa9a"
      },
      "source": [
        "model.evaluate(X_test_04, y_test_04)"
      ],
      "execution_count": 19,
      "outputs": [
        {
          "output_type": "stream",
          "text": [
            "161/161 [==============================] - 0s 2ms/step - loss: 0.0454 - accuracy: 0.9870\n"
          ],
          "name": "stdout"
        },
        {
          "output_type": "execute_result",
          "data": {
            "text/plain": [
              "[0.04537498950958252, 0.9869624376296997]"
            ]
          },
          "metadata": {
            "tags": []
          },
          "execution_count": 19
        }
      ]
    },
    {
      "cell_type": "markdown",
      "metadata": {
        "id": "8aUzOh9m5sX-"
      },
      "source": [
        "## Question 10"
      ]
    },
    {
      "cell_type": "markdown",
      "metadata": {
        "id": "srd-YYNH5sX-"
      },
      "source": [
        "## Transfer learning\n",
        "Now we will apply this model on second dataset (5-9 digits)\n",
        "\n",
        "- fix the first convolution layers so that the weights in the convolution layers dont get updated in the process of training\n",
        "- get the second dataset\n",
        "- train the last 2 dense layers\n",
        "- predict the accuracy and loss"
      ]
    },
    {
      "cell_type": "markdown",
      "metadata": {
        "id": "KvhdH7D55sYA"
      },
      "source": [
        "### Make only dense layers trainable\n",
        "- set trainalble = False for all layers other than Dense layers"
      ]
    },
    {
      "cell_type": "code",
      "metadata": {
        "id": "brN7VZHFaEJ4"
      },
      "source": [
        "for layers in model.layers:\n",
        "  if('dense' not in layers.name):\n",
        "    layers.trainable = False"
      ],
      "execution_count": 20,
      "outputs": []
    },
    {
      "cell_type": "markdown",
      "metadata": {
        "id": "FYR9VGzO5sYE"
      },
      "source": [
        "### Modify data\n",
        "- in your second data, class labels will start from 5 to 9 but for keras.utils.to_categorical the labels should start from 0\n",
        "- so you need to subtract 5 from train and test labels"
      ]
    },
    {
      "cell_type": "code",
      "metadata": {
        "id": "lC5W75L35sYF"
      },
      "source": [
        "y_train_59 = y_train_59 - 5\n",
        "y_test_59 = y_test_59 - 5"
      ],
      "execution_count": 21,
      "outputs": []
    },
    {
      "cell_type": "markdown",
      "metadata": {
        "id": "YGY3OTBt5sYG"
      },
      "source": [
        "### Reshape data\n",
        "- reshape second dataset\n",
        "- To be able to use the dataset in Keras, we need 4-dims numpy arrays. \n",
        "- reshape features to pass it to a Conv2D layer\n",
        "- channel = 1\n",
        "- reshape features of first dataset only\n",
        "- do not reshape labels"
      ]
    },
    {
      "cell_type": "code",
      "metadata": {
        "id": "0V7RUlRD5sYH"
      },
      "source": [
        "X_train_59 = X_train_59.reshape(X_train_59.shape[0], 28, 28, 1)\n",
        "X_test_59 = X_test_59.reshape(X_test_59.shape[0], 28, 28, 1)"
      ],
      "execution_count": 22,
      "outputs": []
    },
    {
      "cell_type": "markdown",
      "metadata": {
        "id": "c7omqMQH5sYJ"
      },
      "source": [
        "### Normalize data\n",
        "- normalize second data\n",
        "- we must normalize our data as it is always required in neural network models\n",
        "- we can achieve this by dividing the RGB codes to 255 (which is the maximum RGB code minus the minimum RGB code)\n",
        "- normalize X_train and X_test\n",
        "- make sure that the values are float so that we can get decimal points after division"
      ]
    },
    {
      "cell_type": "code",
      "metadata": {
        "id": "PEFYNHRp5sYJ"
      },
      "source": [
        "X_train_59 = X_train_59.astype('float32')\n",
        "X_test_59 = X_test_59.astype('float32')\n",
        "\n",
        "X_train_59 /= 255\n",
        "X_test_59 /= 255"
      ],
      "execution_count": 23,
      "outputs": []
    },
    {
      "cell_type": "markdown",
      "metadata": {
        "id": "0OfdlF655sYM"
      },
      "source": [
        "### Print shape of data and number of images\n",
        "- print shape of X_train\n",
        "- print number of images in X_train\n",
        "- print number of images in X_test"
      ]
    },
    {
      "cell_type": "code",
      "metadata": {
        "id": "bZEkCQ-P5sYO",
        "colab": {
          "base_uri": "https://localhost:8080/"
        },
        "outputId": "85615457-018d-4ae3-8cf0-c6b5b77353e2"
      },
      "source": [
        "print(\"X_train shape: {}\".format(X_train_59.shape))\n",
        "print(\"no of images in x_train: {}\".format(X_train_59.shape[0]))\n",
        "print(\"no of images in x_test: {}\".format(X_test_59.shape[0]))"
      ],
      "execution_count": 24,
      "outputs": [
        {
          "output_type": "stream",
          "text": [
            "X_train shape: (29404, 28, 28, 1)\n",
            "no of images in x_train: 29404\n",
            "no of images in x_test: 4861\n"
          ],
          "name": "stdout"
        }
      ]
    },
    {
      "cell_type": "markdown",
      "metadata": {
        "id": "c_3-0Qwo5sYQ"
      },
      "source": [
        "### One-hot encode the class vector\n",
        "- convert class vectors (integers) to binary class matrix\n",
        "- convert y_train and y_test\n",
        "- number of classes: 5\n",
        "- we are doing this to use categorical_crossentropy as loss\n",
        "\n",
        "Hint: you can use tensorflow.keras.utils.to_categorical"
      ]
    },
    {
      "cell_type": "code",
      "metadata": {
        "id": "k46Me5Re5sYR"
      },
      "source": [
        "y_train_59 = to_categorical(y_train_59, num_classes=5)\n",
        "y_test_59 = to_categorical(y_test_59, num_classes=5)"
      ],
      "execution_count": 25,
      "outputs": []
    },
    {
      "cell_type": "markdown",
      "metadata": {
        "id": "D9xEoW515sYS"
      },
      "source": [
        "### Fit the model\n",
        "- give train data - features and labels\n",
        "- batch size: 128\n",
        "- epochs: 10\n",
        "- give validation data - features and labels"
      ]
    },
    {
      "cell_type": "code",
      "metadata": {
        "id": "B6f-XAc-5sYT",
        "colab": {
          "base_uri": "https://localhost:8080/"
        },
        "outputId": "8d10164a-62f4-4047-db69-176891983bdf"
      },
      "source": [
        "model.fit(X_train_59, y_train_59, batch_size=128, epochs=10, validation_data=(X_test_59, y_test_59))"
      ],
      "execution_count": 26,
      "outputs": [
        {
          "output_type": "stream",
          "text": [
            "Epoch 1/10\n",
            "230/230 [==============================] - 2s 7ms/step - loss: 0.3922 - accuracy: 0.8788 - val_loss: 0.2056 - val_accuracy: 0.9329\n",
            "Epoch 2/10\n",
            "230/230 [==============================] - 1s 6ms/step - loss: 0.1909 - accuracy: 0.9395 - val_loss: 0.1646 - val_accuracy: 0.9467\n",
            "Epoch 3/10\n",
            "230/230 [==============================] - 1s 6ms/step - loss: 0.1559 - accuracy: 0.9496 - val_loss: 0.1254 - val_accuracy: 0.9624\n",
            "Epoch 4/10\n",
            "230/230 [==============================] - 1s 6ms/step - loss: 0.1389 - accuracy: 0.9552 - val_loss: 0.1179 - val_accuracy: 0.9603\n",
            "Epoch 5/10\n",
            "230/230 [==============================] - 1s 6ms/step - loss: 0.1218 - accuracy: 0.9603 - val_loss: 0.1005 - val_accuracy: 0.9685\n",
            "Epoch 6/10\n",
            "230/230 [==============================] - 1s 6ms/step - loss: 0.1111 - accuracy: 0.9645 - val_loss: 0.1076 - val_accuracy: 0.9615\n",
            "Epoch 7/10\n",
            "230/230 [==============================] - 1s 6ms/step - loss: 0.1037 - accuracy: 0.9671 - val_loss: 0.0871 - val_accuracy: 0.9716\n",
            "Epoch 8/10\n",
            "230/230 [==============================] - 1s 6ms/step - loss: 0.0972 - accuracy: 0.9692 - val_loss: 0.0800 - val_accuracy: 0.9731\n",
            "Epoch 9/10\n",
            "230/230 [==============================] - 1s 6ms/step - loss: 0.0911 - accuracy: 0.9706 - val_loss: 0.0755 - val_accuracy: 0.9741\n",
            "Epoch 10/10\n",
            "230/230 [==============================] - 1s 6ms/step - loss: 0.0855 - accuracy: 0.9732 - val_loss: 0.0772 - val_accuracy: 0.9724\n"
          ],
          "name": "stdout"
        },
        {
          "output_type": "execute_result",
          "data": {
            "text/plain": [
              "<tensorflow.python.keras.callbacks.History at 0x7f3ac01c0c10>"
            ]
          },
          "metadata": {
            "tags": []
          },
          "execution_count": 26
        }
      ]
    },
    {
      "cell_type": "markdown",
      "metadata": {
        "id": "85ginrII5sYV"
      },
      "source": [
        "### Evaluate model\n",
        "- evaluate your model and get accuracy\n",
        "- use test features and labels"
      ]
    },
    {
      "cell_type": "code",
      "metadata": {
        "colab": {
          "base_uri": "https://localhost:8080/"
        },
        "id": "ZpJ9D63Y8S-G",
        "outputId": "b9bd780f-c8da-4ad5-b2ed-a70867b560bb"
      },
      "source": [
        "model.evaluate(X_test_59, y_test_59)"
      ],
      "execution_count": 28,
      "outputs": [
        {
          "output_type": "stream",
          "text": [
            "152/152 [==============================] - 0s 3ms/step - loss: 0.0772 - accuracy: 0.9724\n"
          ],
          "name": "stdout"
        },
        {
          "output_type": "execute_result",
          "data": {
            "text/plain": [
              "[0.07721267640590668, 0.9724336266517639]"
            ]
          },
          "metadata": {
            "tags": []
          },
          "execution_count": 28
        }
      ]
    },
    {
      "cell_type": "code",
      "metadata": {
        "id": "k11-vrsm5sYW",
        "colab": {
          "base_uri": "https://localhost:8080/"
        },
        "outputId": "1eddd0c1-78f1-4b37-e1ac-e965d10c6241"
      },
      "source": [
        "model.summary()"
      ],
      "execution_count": 29,
      "outputs": [
        {
          "output_type": "stream",
          "text": [
            "Model: \"sequential\"\n",
            "_________________________________________________________________\n",
            "Layer (type)                 Output Shape              Param #   \n",
            "=================================================================\n",
            "conv2d (Conv2D)              (None, 26, 26, 32)        320       \n",
            "_________________________________________________________________\n",
            "conv2d_1 (Conv2D)            (None, 24, 24, 32)        9248      \n",
            "_________________________________________________________________\n",
            "max_pooling2d (MaxPooling2D) (None, 12, 12, 32)        0         \n",
            "_________________________________________________________________\n",
            "dropout (Dropout)            (None, 12, 12, 32)        0         \n",
            "_________________________________________________________________\n",
            "flatten (Flatten)            (None, 4608)              0         \n",
            "_________________________________________________________________\n",
            "dense (Dense)                (None, 128)               589952    \n",
            "_________________________________________________________________\n",
            "dense_1 (Dense)              (None, 5)                 645       \n",
            "=================================================================\n",
            "Total params: 600,165\n",
            "Trainable params: 590,597\n",
            "Non-trainable params: 9,568\n",
            "_________________________________________________________________\n"
          ],
          "name": "stdout"
        }
      ]
    },
    {
      "cell_type": "code",
      "metadata": {
        "colab": {
          "base_uri": "https://localhost:8080/"
        },
        "id": "FaUBoXOj7t5U",
        "outputId": "4c001998-dc69-4486-c379-11b15d7c15e1"
      },
      "source": [
        "for layers in model.layers:\n",
        "  print('name: {}'.format(layers.name))\n",
        "  print('trainable parameteres: {}'.format(len(layers.trainable_weights)))\n",
        "  print('non trainable parameteres: {}'.format(len(layers.non_trainable_weights)))"
      ],
      "execution_count": 31,
      "outputs": [
        {
          "output_type": "stream",
          "text": [
            "name: conv2d\n",
            "trainable parameteres: 0\n",
            "non trainable parameteres: 2\n",
            "name: conv2d_1\n",
            "trainable parameteres: 0\n",
            "non trainable parameteres: 2\n",
            "name: max_pooling2d\n",
            "trainable parameteres: 0\n",
            "non trainable parameteres: 0\n",
            "name: dropout\n",
            "trainable parameteres: 0\n",
            "non trainable parameteres: 0\n",
            "name: flatten\n",
            "trainable parameteres: 0\n",
            "non trainable parameteres: 0\n",
            "name: dense\n",
            "trainable parameteres: 2\n",
            "non trainable parameteres: 0\n",
            "name: dense_1\n",
            "trainable parameteres: 2\n",
            "non trainable parameteres: 0\n"
          ],
          "name": "stdout"
        }
      ]
    },
    {
      "cell_type": "markdown",
      "metadata": {
        "id": "dTNhSDqn5sYY"
      },
      "source": [
        "-----------------------------------------------------------------------------"
      ]
    }
  ]
}