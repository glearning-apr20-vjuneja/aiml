{
  "nbformat": 4,
  "nbformat_minor": 0,
  "metadata": {
    "colab": {
      "name": "Lab_on_NNDL_Varun_Juneja.ipynb",
      "provenance": [],
      "collapsed_sections": []
    },
    "kernelspec": {
      "display_name": "Python 3",
      "language": "python",
      "name": "python3"
    },
    "language_info": {
      "codemirror_mode": {
        "name": "ipython",
        "version": 3
      },
      "file_extension": ".py",
      "mimetype": "text/x-python",
      "name": "python",
      "nbconvert_exporter": "python",
      "pygments_lexer": "ipython3",
      "version": "3.7.2"
    },
    "accelerator": "GPU"
  },
  "cells": [
    {
      "cell_type": "markdown",
      "metadata": {
        "id": "3ukwOXvX_EV1"
      },
      "source": [
        "<img src=\"http://drive.google.com/uc?export=view&id=1tpOCamr9aWz817atPnyXus8w5gJ3mIts\" width=500px>"
      ]
    },
    {
      "cell_type": "markdown",
      "metadata": {
        "id": "j9QC42UQq5Lk"
      },
      "source": [
        "## Lab on NNDL Part 1: Tensorflow Basic"
      ]
    },
    {
      "cell_type": "markdown",
      "metadata": {
        "id": "g_vbQDYan7_7"
      },
      "source": [
        "### Tensors\r\n",
        "\r\n",
        "Tensors are multi-dimensional arrays with a uniform type"
      ]
    },
    {
      "cell_type": "code",
      "metadata": {
        "id": "1EXkTRjf5R-Y"
      },
      "source": [
        "# Importing the TensorFlow library\r\n",
        "import tensorflow as tf"
      ],
      "execution_count": 306,
      "outputs": []
    },
    {
      "cell_type": "markdown",
      "metadata": {
        "id": "tCkxkFqIoUIR"
      },
      "source": [
        "##Question 1\r\n"
      ]
    },
    {
      "cell_type": "markdown",
      "metadata": {
        "id": "7V8C8aa0rGgN"
      },
      "source": [
        "### Create a rank-0 tensor\r\n",
        "- A \"scalar\" is called \"rank-0\" tensor\r\n",
        "- the tensor should contain value 99.99"
      ]
    },
    {
      "cell_type": "code",
      "metadata": {
        "id": "CmKTQCizra4b",
        "colab": {
          "base_uri": "https://localhost:8080/"
        },
        "outputId": "4df63912-a670-4b78-de1d-f74f8c5c99d5"
      },
      "source": [
        "tf1=tf.constant(99.99)\r\n",
        "print(tf1)"
      ],
      "execution_count": 307,
      "outputs": [
        {
          "output_type": "stream",
          "text": [
            "tf.Tensor(99.99, shape=(), dtype=float32)\n"
          ],
          "name": "stdout"
        }
      ]
    },
    {
      "cell_type": "code",
      "metadata": {
        "id": "B6H2X7SinZbZ",
        "colab": {
          "base_uri": "https://localhost:8080/"
        },
        "outputId": "610852e9-dabc-434b-f391-01dfc8278482"
      },
      "source": [
        "tf1.shape"
      ],
      "execution_count": 308,
      "outputs": [
        {
          "output_type": "execute_result",
          "data": {
            "text/plain": [
              "TensorShape([])"
            ]
          },
          "metadata": {
            "tags": []
          },
          "execution_count": 308
        }
      ]
    },
    {
      "cell_type": "code",
      "metadata": {
        "colab": {
          "base_uri": "https://localhost:8080/"
        },
        "id": "Au2kXoSP5gl_",
        "outputId": "a45709ea-568f-460b-8734-9729e9a04468"
      },
      "source": [
        "tf1.ndim"
      ],
      "execution_count": 309,
      "outputs": [
        {
          "output_type": "execute_result",
          "data": {
            "text/plain": [
              "0"
            ]
          },
          "metadata": {
            "tags": []
          },
          "execution_count": 309
        }
      ]
    },
    {
      "cell_type": "markdown",
      "metadata": {
        "id": "xRm8MfpVrkyz"
      },
      "source": [
        "### Create a rank-1 tensor\r\n",
        "\r\n",
        "- A \"vector\" (list) is called \"rank-1\" tensor [9,8,7,6,5]\r\n",
        "- A vector has one axis"
      ]
    },
    {
      "cell_type": "code",
      "metadata": {
        "id": "_TvWoaBOnZXX",
        "colab": {
          "base_uri": "https://localhost:8080/"
        },
        "outputId": "c4677248-a31d-4f7d-f219-4b316d9b1362"
      },
      "source": [
        "tf2=tf.constant([9,8,7,6,5])\r\n",
        "print(tf2)"
      ],
      "execution_count": 310,
      "outputs": [
        {
          "output_type": "stream",
          "text": [
            "tf.Tensor([9 8 7 6 5], shape=(5,), dtype=int32)\n"
          ],
          "name": "stdout"
        }
      ]
    },
    {
      "cell_type": "code",
      "metadata": {
        "colab": {
          "base_uri": "https://localhost:8080/"
        },
        "id": "SfzreS9L6Ruk",
        "outputId": "01c1948c-3eba-4c70-d0a9-6556f038c38b"
      },
      "source": [
        "tf2.shape # tensor has 5 elements"
      ],
      "execution_count": 311,
      "outputs": [
        {
          "output_type": "execute_result",
          "data": {
            "text/plain": [
              "TensorShape([5])"
            ]
          },
          "metadata": {
            "tags": []
          },
          "execution_count": 311
        }
      ]
    },
    {
      "cell_type": "code",
      "metadata": {
        "colab": {
          "base_uri": "https://localhost:8080/"
        },
        "id": "3WcK0AH06T6a",
        "outputId": "dca943c3-0e6e-447b-cefd-3004e566430a"
      },
      "source": [
        "tf2.ndim #1 dimensional tensor"
      ],
      "execution_count": 312,
      "outputs": [
        {
          "output_type": "execute_result",
          "data": {
            "text/plain": [
              "1"
            ]
          },
          "metadata": {
            "tags": []
          },
          "execution_count": 312
        }
      ]
    },
    {
      "cell_type": "markdown",
      "metadata": {
        "id": "KtiVmuAAsJjP"
      },
      "source": [
        "### Add 7 to all the elements of the above created tensor\r\n",
        "- Use Broadcasting"
      ]
    },
    {
      "cell_type": "code",
      "metadata": {
        "id": "lENBbpfIsskl"
      },
      "source": [
        "tf3=tf.add(tf2,7)"
      ],
      "execution_count": 313,
      "outputs": []
    },
    {
      "cell_type": "code",
      "metadata": {
        "colab": {
          "base_uri": "https://localhost:8080/"
        },
        "id": "4tknUeHN-zOq",
        "outputId": "02d77ae8-e393-4b70-cf7c-e6cacf7bbea4"
      },
      "source": [
        "print(tf3)"
      ],
      "execution_count": 314,
      "outputs": [
        {
          "output_type": "stream",
          "text": [
            "tf.Tensor([16 15 14 13 12], shape=(5,), dtype=int32)\n"
          ],
          "name": "stdout"
        }
      ]
    },
    {
      "cell_type": "markdown",
      "metadata": {
        "id": "U9QVsYQwtR9u"
      },
      "source": [
        "### Create a rank-2 tensor\r\n",
        "[[1, 2, 3], [ 4,5,6]]\r\n",
        "- A \"matrix\"  \"is called rank-2\" tensor\r\n",
        "- It has 2 axes"
      ]
    },
    {
      "cell_type": "code",
      "metadata": {
        "id": "IZx8BooXnZUr",
        "colab": {
          "base_uri": "https://localhost:8080/"
        },
        "outputId": "3df8ca8e-1abd-4179-d8df-f17fea9d107b"
      },
      "source": [
        "tf4 = tf.constant([[1,2,3],[4,5,6]])\r\n",
        "tf4.ndim"
      ],
      "execution_count": 315,
      "outputs": [
        {
          "output_type": "execute_result",
          "data": {
            "text/plain": [
              "2"
            ]
          },
          "metadata": {
            "tags": []
          },
          "execution_count": 315
        }
      ]
    },
    {
      "cell_type": "markdown",
      "metadata": {
        "id": "mrnIxOUmvX_M"
      },
      "source": [
        "### Change the shape of the above created tensor to shape (3,2)"
      ]
    },
    {
      "cell_type": "code",
      "metadata": {
        "id": "YdSy6RQLvXbi"
      },
      "source": [
        "tf5 =tf.reshape(tf4,[3,2])"
      ],
      "execution_count": 316,
      "outputs": []
    },
    {
      "cell_type": "markdown",
      "metadata": {
        "id": "1ZXjABdNuWAT"
      },
      "source": [
        "### Check the dtype, number of axes and the shape of tensor"
      ]
    },
    {
      "cell_type": "code",
      "metadata": {
        "id": "vXj5xnbEuUwz",
        "colab": {
          "base_uri": "https://localhost:8080/"
        },
        "outputId": "e0a41fc4-a96f-4817-f3f5-5738fc698de1"
      },
      "source": [
        "tf5.dtype"
      ],
      "execution_count": 317,
      "outputs": [
        {
          "output_type": "execute_result",
          "data": {
            "text/plain": [
              "tf.int32"
            ]
          },
          "metadata": {
            "tags": []
          },
          "execution_count": 317
        }
      ]
    },
    {
      "cell_type": "code",
      "metadata": {
        "colab": {
          "base_uri": "https://localhost:8080/"
        },
        "id": "zSTbNfpOA969",
        "outputId": "ee761e9a-b0ec-416c-a93e-28f54e0c9c31"
      },
      "source": [
        "tf5.shape"
      ],
      "execution_count": 318,
      "outputs": [
        {
          "output_type": "execute_result",
          "data": {
            "text/plain": [
              "TensorShape([3, 2])"
            ]
          },
          "metadata": {
            "tags": []
          },
          "execution_count": 318
        }
      ]
    },
    {
      "cell_type": "markdown",
      "metadata": {
        "id": "yGsgzedZvB54"
      },
      "source": [
        "- Tensors can have more axes, like rank-3 or rank-4 tensor"
      ]
    },
    {
      "cell_type": "markdown",
      "metadata": {
        "id": "qYvGihNn_D2K"
      },
      "source": [
        "##Lab on NNDL Part 2: Cars selling price prediction"
      ]
    },
    {
      "cell_type": "markdown",
      "metadata": {
        "id": "S7nm5pOt_DkP"
      },
      "source": [
        "### Data Set -\r\n",
        "Domain: Finance, Business \r\n",
        "Data: https://www.kaggle.com/nehalbirla/vehicle-dataset-from-cardekho?select=Car+details+v3.csv\r\n",
        "\r\n",
        "The data contains various features of used cars.\r\n",
        "\r\n",
        "#### Features\r\n",
        "\r\n",
        "1. year\r\n",
        "\r\n",
        "2. selling_price: Price at which it was sold (**Target Feature**)\r\n",
        "\r\n",
        "3. km_driven\r\n",
        "\r\n",
        "4. fuel\r\n",
        "\r\n",
        "5. seller_type\r\n",
        "\r\n",
        "6. transmission\r\n",
        "\r\n",
        "7. Owner\r\n",
        "\r\n",
        "8. mileage\r\n",
        "\r\n",
        "9. engine\r\n",
        "\r\n",
        "10. max_power\r\n",
        "\r\n",
        "11. seats\r\n",
        "\r\n",
        " - - - - - - - - - - - - - - - - - - - - - - - - - - - - - - - - - - - - - - - - - - - - - - - "
      ]
    },
    {
      "cell_type": "markdown",
      "metadata": {
        "id": "YeoiMbH7djEv"
      },
      "source": [
        "##Objective\n",
        "\n",
        "Predict the selling price of used cars based on the given features"
      ]
    },
    {
      "cell_type": "markdown",
      "metadata": {
        "id": "sZXp-T3-xRNN"
      },
      "source": [
        "## Steps to perform:\r\n",
        "\r\n",
        "#### 1. Import important Libraries\r\n",
        "#### 2. Import Dataset and exploration\r\n",
        "#### 3. Data Pre-processing\r\n",
        "#### 4. Training a Neural Network Model\r\n",
        "#### 5. Evaluating the model\r\n",
        "#### 6. Conclusion\r\n",
        "\r\n",
        "\r\n",
        "- - - - - - - - - - - - - - - - - - - - - - - - - - - - - - - - - - - - - - - - - - - - - - - - - - -\r\n",
        "\r\n",
        "\r\n",
        "- - - - - - - - - - - - - - - - - - - - - - - - - - - - - - - - - - - - - - - - - - - - - - - - - - -\r\n"
      ]
    },
    {
      "cell_type": "markdown",
      "metadata": {
        "id": "pvJ1pMTuzUkv"
      },
      "source": [
        "### Import important libraries"
      ]
    },
    {
      "cell_type": "code",
      "metadata": {
        "id": "PGqq9f8VdLba"
      },
      "source": [
        "import numpy as np\r\n",
        "import pandas as pd\r\n",
        "import tensorflow.keras.metrics\r\n",
        "\r\n",
        "from sklearn.preprocessing import LabelEncoder, OneHotEncoder"
      ],
      "execution_count": 319,
      "outputs": []
    },
    {
      "cell_type": "markdown",
      "metadata": {
        "id": "_88voqAH-O6J"
      },
      "source": [
        "## Question 1"
      ]
    },
    {
      "cell_type": "markdown",
      "metadata": {
        "id": "dRHCeJqP-evf"
      },
      "source": [
        "### Load the data\n",
        "- Load the data, check the shape of data"
      ]
    },
    {
      "cell_type": "code",
      "metadata": {
        "id": "Gr4YcffYd1FQ",
        "colab": {
          "base_uri": "https://localhost:8080/"
        },
        "outputId": "f2d69a1c-6733-4c5b-9ed9-6ee02335774a"
      },
      "source": [
        "from google.colab import drive\r\n",
        "drive.mount('/content/drive')"
      ],
      "execution_count": 320,
      "outputs": [
        {
          "output_type": "stream",
          "text": [
            "Drive already mounted at /content/drive; to attempt to forcibly remount, call drive.mount(\"/content/drive\", force_remount=True).\n"
          ],
          "name": "stdout"
        }
      ]
    },
    {
      "cell_type": "code",
      "metadata": {
        "id": "-gDC6cSW_FSK"
      },
      "source": [
        "cars = pd.read_csv('/content/drive/MyDrive/Colab Notebooks/car_data-1.csv')"
      ],
      "execution_count": 321,
      "outputs": []
    },
    {
      "cell_type": "code",
      "metadata": {
        "id": "cgAAxzef1m37",
        "colab": {
          "base_uri": "https://localhost:8080/",
          "height": 204
        },
        "outputId": "ac6be142-9dad-4f17-a129-a1b78e0c3e67"
      },
      "source": [
        "cars.head()"
      ],
      "execution_count": 322,
      "outputs": [
        {
          "output_type": "execute_result",
          "data": {
            "text/html": [
              "<div>\n",
              "<style scoped>\n",
              "    .dataframe tbody tr th:only-of-type {\n",
              "        vertical-align: middle;\n",
              "    }\n",
              "\n",
              "    .dataframe tbody tr th {\n",
              "        vertical-align: top;\n",
              "    }\n",
              "\n",
              "    .dataframe thead th {\n",
              "        text-align: right;\n",
              "    }\n",
              "</style>\n",
              "<table border=\"1\" class=\"dataframe\">\n",
              "  <thead>\n",
              "    <tr style=\"text-align: right;\">\n",
              "      <th></th>\n",
              "      <th>year</th>\n",
              "      <th>selling_price</th>\n",
              "      <th>km_driven</th>\n",
              "      <th>fuel</th>\n",
              "      <th>seller_type</th>\n",
              "      <th>transmission</th>\n",
              "      <th>owner</th>\n",
              "      <th>mileage</th>\n",
              "      <th>engine</th>\n",
              "      <th>max_power</th>\n",
              "      <th>seats</th>\n",
              "    </tr>\n",
              "  </thead>\n",
              "  <tbody>\n",
              "    <tr>\n",
              "      <th>0</th>\n",
              "      <td>2014</td>\n",
              "      <td>450000</td>\n",
              "      <td>145500</td>\n",
              "      <td>Diesel</td>\n",
              "      <td>Individual</td>\n",
              "      <td>Manual</td>\n",
              "      <td>First Owner</td>\n",
              "      <td>23.4 kmpl</td>\n",
              "      <td>1248 CC</td>\n",
              "      <td>74 bhp</td>\n",
              "      <td>5.0</td>\n",
              "    </tr>\n",
              "    <tr>\n",
              "      <th>1</th>\n",
              "      <td>2014</td>\n",
              "      <td>370000</td>\n",
              "      <td>120000</td>\n",
              "      <td>Diesel</td>\n",
              "      <td>Individual</td>\n",
              "      <td>Manual</td>\n",
              "      <td>Second Owner</td>\n",
              "      <td>21.14 kmpl</td>\n",
              "      <td>1498 CC</td>\n",
              "      <td>103.52 bhp</td>\n",
              "      <td>5.0</td>\n",
              "    </tr>\n",
              "    <tr>\n",
              "      <th>2</th>\n",
              "      <td>2006</td>\n",
              "      <td>158000</td>\n",
              "      <td>140000</td>\n",
              "      <td>Petrol</td>\n",
              "      <td>Individual</td>\n",
              "      <td>Manual</td>\n",
              "      <td>Third Owner</td>\n",
              "      <td>17.7 kmpl</td>\n",
              "      <td>1497 CC</td>\n",
              "      <td>78 bhp</td>\n",
              "      <td>5.0</td>\n",
              "    </tr>\n",
              "    <tr>\n",
              "      <th>3</th>\n",
              "      <td>2010</td>\n",
              "      <td>225000</td>\n",
              "      <td>127000</td>\n",
              "      <td>Diesel</td>\n",
              "      <td>Individual</td>\n",
              "      <td>Manual</td>\n",
              "      <td>First Owner</td>\n",
              "      <td>23.0 kmpl</td>\n",
              "      <td>1396 CC</td>\n",
              "      <td>90 bhp</td>\n",
              "      <td>5.0</td>\n",
              "    </tr>\n",
              "    <tr>\n",
              "      <th>4</th>\n",
              "      <td>2007</td>\n",
              "      <td>130000</td>\n",
              "      <td>120000</td>\n",
              "      <td>Petrol</td>\n",
              "      <td>Individual</td>\n",
              "      <td>Manual</td>\n",
              "      <td>First Owner</td>\n",
              "      <td>16.1 kmpl</td>\n",
              "      <td>1298 CC</td>\n",
              "      <td>88.2 bhp</td>\n",
              "      <td>5.0</td>\n",
              "    </tr>\n",
              "  </tbody>\n",
              "</table>\n",
              "</div>"
            ],
            "text/plain": [
              "   year  selling_price  km_driven  ...   engine   max_power seats\n",
              "0  2014         450000     145500  ...  1248 CC      74 bhp   5.0\n",
              "1  2014         370000     120000  ...  1498 CC  103.52 bhp   5.0\n",
              "2  2006         158000     140000  ...  1497 CC      78 bhp   5.0\n",
              "3  2010         225000     127000  ...  1396 CC      90 bhp   5.0\n",
              "4  2007         130000     120000  ...  1298 CC    88.2 bhp   5.0\n",
              "\n",
              "[5 rows x 11 columns]"
            ]
          },
          "metadata": {
            "tags": []
          },
          "execution_count": 322
        }
      ]
    },
    {
      "cell_type": "code",
      "metadata": {
        "colab": {
          "base_uri": "https://localhost:8080/"
        },
        "id": "Gj-qbJInEgSr",
        "outputId": "d9231a54-007e-4e8c-905a-40337a91b472"
      },
      "source": [
        "cars.info()"
      ],
      "execution_count": 323,
      "outputs": [
        {
          "output_type": "stream",
          "text": [
            "<class 'pandas.core.frame.DataFrame'>\n",
            "RangeIndex: 8128 entries, 0 to 8127\n",
            "Data columns (total 11 columns):\n",
            " #   Column         Non-Null Count  Dtype  \n",
            "---  ------         --------------  -----  \n",
            " 0   year           8128 non-null   int64  \n",
            " 1   selling_price  8128 non-null   int64  \n",
            " 2   km_driven      8128 non-null   int64  \n",
            " 3   fuel           8128 non-null   object \n",
            " 4   seller_type    8128 non-null   object \n",
            " 5   transmission   8128 non-null   object \n",
            " 6   owner          8128 non-null   object \n",
            " 7   mileage        7907 non-null   object \n",
            " 8   engine         7907 non-null   object \n",
            " 9   max_power      7913 non-null   object \n",
            " 10  seats          7907 non-null   float64\n",
            "dtypes: float64(1), int64(3), object(7)\n",
            "memory usage: 698.6+ KB\n"
          ],
          "name": "stdout"
        }
      ]
    },
    {
      "cell_type": "markdown",
      "metadata": {
        "id": "HlLKVPVH_BCT"
      },
      "source": [
        "## Question 2"
      ]
    },
    {
      "cell_type": "markdown",
      "metadata": {
        "id": "ZxoGynuBeO4t"
      },
      "source": [
        "### Preprocess the data\n",
        "- Convert mileage, engine and max_power to numerical by extract numerical values from the strings\n",
        "- Label Encode: 'owner' column\n",
        "- One Hot Encode: 'fuel','seller_type','transmission' columns\n",
        "- Drop all the instances with null values"
      ]
    },
    {
      "cell_type": "code",
      "metadata": {
        "id": "WMsPLgUw4XED"
      },
      "source": [
        "def convert_column(x):\r\n",
        "  try:\r\n",
        "    if type(x) == str:\r\n",
        "      return float(x.split()[0])\r\n",
        "    else:\r\n",
        "      return x\r\n",
        "  except:\r\n",
        "    return np.nan"
      ],
      "execution_count": 324,
      "outputs": []
    },
    {
      "cell_type": "code",
      "metadata": {
        "id": "APome2O5F9pE"
      },
      "source": [
        "# For converting mileage, engine and max_power to numerical by extract numerical values from the strings\r\n",
        "cars['mileage'] = cars['mileage'].map(convert_column)\r\n",
        "cars['engine'] = cars['engine'].map(convert_column)\r\n",
        "cars['max_power'] = cars['max_power'].map(convert_column)"
      ],
      "execution_count": 325,
      "outputs": []
    },
    {
      "cell_type": "code",
      "metadata": {
        "id": "X_FaEocL4X4h"
      },
      "source": [
        "# For Label Encode: 'owner' column\r\n",
        "le = LabelEncoder()\r\n",
        "cars['owner'] = le.fit_transform(cars['owner'])"
      ],
      "execution_count": 326,
      "outputs": []
    },
    {
      "cell_type": "code",
      "metadata": {
        "id": "FPAQ-IBf4Z9k"
      },
      "source": [
        "# For One Hot Encode: 'fuel','seller_type','transmission' columns\r\n",
        "ohe_cols = ['fuel','seller_type','transmission']\r\n",
        "ohe = OneHotEncoder(drop='first', sparse=True, dtype=np.int64)\r\n",
        "enc_vals = ohe.fit_transform(cars[ohe_cols])\r\n",
        "ohe_df=pd.DataFrame(enc_vals.toarray())"
      ],
      "execution_count": 327,
      "outputs": []
    },
    {
      "cell_type": "code",
      "metadata": {
        "id": "nVjmsyJc4kpO",
        "colab": {
          "base_uri": "https://localhost:8080/"
        },
        "outputId": "f7db1b1f-6dcd-4c09-fa82-2e55224df583"
      },
      "source": [
        "cars = cars.join(ohe_df) # combine the OHE values into the main dataframe\r\n",
        "cars.shape"
      ],
      "execution_count": 328,
      "outputs": [
        {
          "output_type": "execute_result",
          "data": {
            "text/plain": [
              "(8128, 17)"
            ]
          },
          "metadata": {
            "tags": []
          },
          "execution_count": 328
        }
      ]
    },
    {
      "cell_type": "code",
      "metadata": {
        "id": "q7fwyFQn4qD2",
        "colab": {
          "base_uri": "https://localhost:8080/"
        },
        "outputId": "4f22b1dc-7c4e-4219-aeb1-981975e4dac4"
      },
      "source": [
        "cars.drop(ohe_cols, axis=1, inplace=True)\r\n",
        "cars.shape"
      ],
      "execution_count": 329,
      "outputs": [
        {
          "output_type": "execute_result",
          "data": {
            "text/plain": [
              "(8128, 14)"
            ]
          },
          "metadata": {
            "tags": []
          },
          "execution_count": 329
        }
      ]
    },
    {
      "cell_type": "code",
      "metadata": {
        "id": "hrtGjfu84tZY",
        "colab": {
          "base_uri": "https://localhost:8080/",
          "height": 204
        },
        "outputId": "9357e72d-f2b7-4419-ae75-dfc38015da57"
      },
      "source": [
        "cars.head()"
      ],
      "execution_count": 330,
      "outputs": [
        {
          "output_type": "execute_result",
          "data": {
            "text/html": [
              "<div>\n",
              "<style scoped>\n",
              "    .dataframe tbody tr th:only-of-type {\n",
              "        vertical-align: middle;\n",
              "    }\n",
              "\n",
              "    .dataframe tbody tr th {\n",
              "        vertical-align: top;\n",
              "    }\n",
              "\n",
              "    .dataframe thead th {\n",
              "        text-align: right;\n",
              "    }\n",
              "</style>\n",
              "<table border=\"1\" class=\"dataframe\">\n",
              "  <thead>\n",
              "    <tr style=\"text-align: right;\">\n",
              "      <th></th>\n",
              "      <th>year</th>\n",
              "      <th>selling_price</th>\n",
              "      <th>km_driven</th>\n",
              "      <th>owner</th>\n",
              "      <th>mileage</th>\n",
              "      <th>engine</th>\n",
              "      <th>max_power</th>\n",
              "      <th>seats</th>\n",
              "      <th>0</th>\n",
              "      <th>1</th>\n",
              "      <th>2</th>\n",
              "      <th>3</th>\n",
              "      <th>4</th>\n",
              "      <th>5</th>\n",
              "    </tr>\n",
              "  </thead>\n",
              "  <tbody>\n",
              "    <tr>\n",
              "      <th>0</th>\n",
              "      <td>2014</td>\n",
              "      <td>450000</td>\n",
              "      <td>145500</td>\n",
              "      <td>0</td>\n",
              "      <td>23.40</td>\n",
              "      <td>1248.0</td>\n",
              "      <td>74.00</td>\n",
              "      <td>5.0</td>\n",
              "      <td>1</td>\n",
              "      <td>0</td>\n",
              "      <td>0</td>\n",
              "      <td>1</td>\n",
              "      <td>0</td>\n",
              "      <td>1</td>\n",
              "    </tr>\n",
              "    <tr>\n",
              "      <th>1</th>\n",
              "      <td>2014</td>\n",
              "      <td>370000</td>\n",
              "      <td>120000</td>\n",
              "      <td>2</td>\n",
              "      <td>21.14</td>\n",
              "      <td>1498.0</td>\n",
              "      <td>103.52</td>\n",
              "      <td>5.0</td>\n",
              "      <td>1</td>\n",
              "      <td>0</td>\n",
              "      <td>0</td>\n",
              "      <td>1</td>\n",
              "      <td>0</td>\n",
              "      <td>1</td>\n",
              "    </tr>\n",
              "    <tr>\n",
              "      <th>2</th>\n",
              "      <td>2006</td>\n",
              "      <td>158000</td>\n",
              "      <td>140000</td>\n",
              "      <td>4</td>\n",
              "      <td>17.70</td>\n",
              "      <td>1497.0</td>\n",
              "      <td>78.00</td>\n",
              "      <td>5.0</td>\n",
              "      <td>0</td>\n",
              "      <td>0</td>\n",
              "      <td>1</td>\n",
              "      <td>1</td>\n",
              "      <td>0</td>\n",
              "      <td>1</td>\n",
              "    </tr>\n",
              "    <tr>\n",
              "      <th>3</th>\n",
              "      <td>2010</td>\n",
              "      <td>225000</td>\n",
              "      <td>127000</td>\n",
              "      <td>0</td>\n",
              "      <td>23.00</td>\n",
              "      <td>1396.0</td>\n",
              "      <td>90.00</td>\n",
              "      <td>5.0</td>\n",
              "      <td>1</td>\n",
              "      <td>0</td>\n",
              "      <td>0</td>\n",
              "      <td>1</td>\n",
              "      <td>0</td>\n",
              "      <td>1</td>\n",
              "    </tr>\n",
              "    <tr>\n",
              "      <th>4</th>\n",
              "      <td>2007</td>\n",
              "      <td>130000</td>\n",
              "      <td>120000</td>\n",
              "      <td>0</td>\n",
              "      <td>16.10</td>\n",
              "      <td>1298.0</td>\n",
              "      <td>88.20</td>\n",
              "      <td>5.0</td>\n",
              "      <td>0</td>\n",
              "      <td>0</td>\n",
              "      <td>1</td>\n",
              "      <td>1</td>\n",
              "      <td>0</td>\n",
              "      <td>1</td>\n",
              "    </tr>\n",
              "  </tbody>\n",
              "</table>\n",
              "</div>"
            ],
            "text/plain": [
              "   year  selling_price  km_driven  owner  mileage  engine  ...  0  1  2  3  4  5\n",
              "0  2014         450000     145500      0    23.40  1248.0  ...  1  0  0  1  0  1\n",
              "1  2014         370000     120000      2    21.14  1498.0  ...  1  0  0  1  0  1\n",
              "2  2006         158000     140000      4    17.70  1497.0  ...  0  0  1  1  0  1\n",
              "3  2010         225000     127000      0    23.00  1396.0  ...  1  0  0  1  0  1\n",
              "4  2007         130000     120000      0    16.10  1298.0  ...  0  0  1  1  0  1\n",
              "\n",
              "[5 rows x 14 columns]"
            ]
          },
          "metadata": {
            "tags": []
          },
          "execution_count": 330
        }
      ]
    },
    {
      "cell_type": "code",
      "metadata": {
        "colab": {
          "base_uri": "https://localhost:8080/"
        },
        "id": "U6KYQvtXctTM",
        "outputId": "e78fde39-7ce3-4889-9db1-c7876529f311"
      },
      "source": [
        "cars.isna().sum()"
      ],
      "execution_count": 331,
      "outputs": [
        {
          "output_type": "execute_result",
          "data": {
            "text/plain": [
              "year               0\n",
              "selling_price      0\n",
              "km_driven          0\n",
              "owner              0\n",
              "mileage          221\n",
              "engine           221\n",
              "max_power        216\n",
              "seats            221\n",
              "0                  0\n",
              "1                  0\n",
              "2                  0\n",
              "3                  0\n",
              "4                  0\n",
              "5                  0\n",
              "dtype: int64"
            ]
          },
          "metadata": {
            "tags": []
          },
          "execution_count": 331
        }
      ]
    },
    {
      "cell_type": "code",
      "metadata": {
        "id": "Um30-wSac1bs"
      },
      "source": [
        "cars.dropna(inplace=True)"
      ],
      "execution_count": 332,
      "outputs": []
    },
    {
      "cell_type": "code",
      "metadata": {
        "id": "btbL2MeO4wTs",
        "colab": {
          "base_uri": "https://localhost:8080/"
        },
        "outputId": "209e28f9-a10f-451b-d583-38bf1beaf1a8"
      },
      "source": [
        "cars.isna().sum()"
      ],
      "execution_count": 333,
      "outputs": [
        {
          "output_type": "execute_result",
          "data": {
            "text/plain": [
              "year             0\n",
              "selling_price    0\n",
              "km_driven        0\n",
              "owner            0\n",
              "mileage          0\n",
              "engine           0\n",
              "max_power        0\n",
              "seats            0\n",
              "0                0\n",
              "1                0\n",
              "2                0\n",
              "3                0\n",
              "4                0\n",
              "5                0\n",
              "dtype: int64"
            ]
          },
          "metadata": {
            "tags": []
          },
          "execution_count": 333
        }
      ]
    },
    {
      "cell_type": "markdown",
      "metadata": {
        "id": "ez91ID6AEgPm"
      },
      "source": [
        "## Question 3"
      ]
    },
    {
      "cell_type": "markdown",
      "metadata": {
        "id": "9J4BlzVA_gZd"
      },
      "source": [
        "### Split the data and then scale the data\n",
        "- Split the data into ratio of 75:25 with random state=12\n",
        "- Perform standard scaling on X_train and X_test data\n"
      ]
    },
    {
      "cell_type": "code",
      "metadata": {
        "id": "IKEK8aEE_Csx",
        "colab": {
          "base_uri": "https://localhost:8080/"
        },
        "outputId": "cc2faf23-d81c-4cc8-fdeb-5af27fa6e6d5"
      },
      "source": [
        "from sklearn.model_selection import train_test_split\r\n",
        "cars.shape"
      ],
      "execution_count": 334,
      "outputs": [
        {
          "output_type": "execute_result",
          "data": {
            "text/plain": [
              "(7906, 14)"
            ]
          },
          "metadata": {
            "tags": []
          },
          "execution_count": 334
        }
      ]
    },
    {
      "cell_type": "code",
      "metadata": {
        "id": "59F0lA4z8SH-"
      },
      "source": [
        "X=cars.drop('selling_price',axis=1)\r\n",
        "y = cars['selling_price']"
      ],
      "execution_count": 335,
      "outputs": []
    },
    {
      "cell_type": "code",
      "metadata": {
        "id": "U7vW0i87drI7"
      },
      "source": [
        "X_train,X_test,y_train,y_test = train_test_split(X,y, test_size=0.25, random_state=10)"
      ],
      "execution_count": 336,
      "outputs": []
    },
    {
      "cell_type": "code",
      "metadata": {
        "id": "bDic0DX5d3LG"
      },
      "source": [
        "from sklearn.preprocessing import StandardScaler\r\n",
        "se=StandardScaler()\r\n",
        "X_train = se.fit_transform(X_train)\r\n",
        "X_test = se.fit_transform(X_test)"
      ],
      "execution_count": 337,
      "outputs": []
    },
    {
      "cell_type": "markdown",
      "metadata": {
        "id": "cTPhO6v-AiZt"
      },
      "source": [
        "## Question 4"
      ]
    },
    {
      "cell_type": "markdown",
      "metadata": {
        "id": "SsZXmF3NAkna"
      },
      "source": [
        "### Create a Deep Neural Network Model for Regression\n",
        "- Initialize a Sequential model\n",
        "- Add 3 hidden layer with activation relu (Number of neurons = 64,128,32 respectively)\n",
        "- Add dropout layer after each hidden layer\n",
        "- Add a Dense layer with one neuron as output, use activation linear\n",
        "  \n"
      ]
    },
    {
      "cell_type": "code",
      "metadata": {
        "id": "aKs04iIHAjxN"
      },
      "source": [
        "from tensorflow.keras.models import Sequential\r\n",
        "from tensorflow.keras import Input\r\n",
        "from tensorflow.keras.layers import Dense, ReLU, Dropout\r\n",
        "model = Sequential()\r\n",
        "model.add(tf.keras.Input(shape=13))\r\n",
        "model.add(Dense(64, activation='relu'))\r\n",
        "model.add(Dropout(0.15))\r\n",
        "model.add(Dense(128, activation='relu'))\r\n",
        "model.add(Dropout(0.10))\r\n",
        "model.add(Dense(32, activation='relu'))\r\n",
        "model.add(Dropout(0.05))\r\n",
        "model.add(Dense(1, activation='linear'))"
      ],
      "execution_count": 338,
      "outputs": []
    },
    {
      "cell_type": "markdown",
      "metadata": {
        "id": "aHstM0fX_-kI"
      },
      "source": [
        "### Check model summary and visualize the model"
      ]
    },
    {
      "cell_type": "code",
      "metadata": {
        "id": "xQjCMzUXBJbg",
        "colab": {
          "base_uri": "https://localhost:8080/"
        },
        "outputId": "6d934376-d7f2-44a0-9d38-0e10a679e756"
      },
      "source": [
        "model.summary()"
      ],
      "execution_count": 339,
      "outputs": [
        {
          "output_type": "stream",
          "text": [
            "Model: \"sequential_14\"\n",
            "_________________________________________________________________\n",
            "Layer (type)                 Output Shape              Param #   \n",
            "=================================================================\n",
            "dense_41 (Dense)             (None, 64)                896       \n",
            "_________________________________________________________________\n",
            "dropout_30 (Dropout)         (None, 64)                0         \n",
            "_________________________________________________________________\n",
            "dense_42 (Dense)             (None, 128)               8320      \n",
            "_________________________________________________________________\n",
            "dropout_31 (Dropout)         (None, 128)               0         \n",
            "_________________________________________________________________\n",
            "dense_43 (Dense)             (None, 32)                4128      \n",
            "_________________________________________________________________\n",
            "dropout_32 (Dropout)         (None, 32)                0         \n",
            "_________________________________________________________________\n",
            "dense_44 (Dense)             (None, 1)                 33        \n",
            "=================================================================\n",
            "Total params: 13,377\n",
            "Trainable params: 13,377\n",
            "Non-trainable params: 0\n",
            "_________________________________________________________________\n"
          ],
          "name": "stdout"
        }
      ]
    },
    {
      "cell_type": "code",
      "metadata": {
        "colab": {
          "base_uri": "https://localhost:8080/",
          "height": 865
        },
        "id": "DkLLUGWrm_fQ",
        "outputId": "cbee328a-7a09-4df8-807f-b31797128d8a"
      },
      "source": [
        "from keras.utils.vis_utils import plot_model\r\n",
        "plot_model(model,show_shapes=True, show_layer_names=True)"
      ],
      "execution_count": 340,
      "outputs": [
        {
          "output_type": "execute_result",
          "data": {
            "image/png": "[encoded data removed]",
            "text/plain": [
              "<IPython.core.display.Image object>"
            ]
          },
          "metadata": {
            "tags": []
          },
          "execution_count": 340
        }
      ]
    },
    {
      "cell_type": "markdown",
      "metadata": {
        "id": "y7WTmUI-Ey95"
      },
      "source": [
        "## Question 5"
      ]
    },
    {
      "cell_type": "markdown",
      "metadata": {
        "id": "C8u_jlbABTip"
      },
      "source": [
        "### Compile the model\n",
        "\n",
        "- Compile the model\n",
        "- Use \"adam\" optimizer\n",
        "- for calculating loss, use mean absolute error\n",
        "- use R2 score (coefficient of determination) as the metric"
      ]
    },
    {
      "cell_type": "code",
      "metadata": {
        "id": "Ksap6Rx0BNIw"
      },
      "source": [
        "from keras import backend as K"
      ],
      "execution_count": 341,
      "outputs": []
    },
    {
      "cell_type": "code",
      "metadata": {
        "id": "v0VDofUGlSYp"
      },
      "source": [
        "def r_2_score(y_act,y_pred):\r\n",
        "  ss_res = K.sum(K.square(y_act-y_pred))\r\n",
        "  ss_tol = K.sum(K.square(y_act-K.mean(y_act)))\r\n",
        "  r2_score = 1 - ss_res/(ss_tol + 0.0001)\r\n",
        "  return r2_score"
      ],
      "execution_count": 342,
      "outputs": []
    },
    {
      "cell_type": "code",
      "metadata": {
        "id": "0aDDAcT7xHB0"
      },
      "source": [
        "model.compile(optimizer='adam',loss='mean_absolute_error',metrics=[r_2_score])"
      ],
      "execution_count": 343,
      "outputs": []
    },
    {
      "cell_type": "markdown",
      "metadata": {
        "id": "s-ntyk6k_EmT"
      },
      "source": [
        "Other metrics can also be used to track the learning of the model:\r\n",
        "\r\n",
        "To learn different metrics for classification and regression visit the following link:\r\n",
        "\r\n",
        "Link: https://keras.io/api/metrics/#usage-with-compile-amp-fit"
      ]
    },
    {
      "cell_type": "markdown",
      "metadata": {
        "id": "n9o45OHdjDhA"
      },
      "source": [
        "### Train your model\n",
        "\n",
        "- epochs: 1000\n",
        "- batch size: 32\n",
        "- Use test data as validation data\n",
        "- Also add callback, such that if validation loss doesn't decreases consecutively 10 times, stop the training and return the weights for the previous best model"
      ]
    },
    {
      "cell_type": "code",
      "metadata": {
        "id": "-Y6tA30XjOH2",
        "colab": {
          "base_uri": "https://localhost:8080/"
        },
        "outputId": "dc5013e3-8bc4-40a0-9ea7-7b2cedf5014c"
      },
      "source": [
        "callback = tf.keras.callbacks.EarlyStopping(\r\n",
        "    monitor='val_loss',\r\n",
        "    mode='min', restore_best_weights=True,patience=10\r\n",
        ")\r\n",
        "history=model.fit(X_train,y_train,batch_size=32,epochs=1000,validation_data=(X_test,y_test),callbacks=callback)"
      ],
      "execution_count": 344,
      "outputs": [
        {
          "output_type": "stream",
          "text": [
            "Epoch 1/1000\n",
            "186/186 [==============================] - 1s 4ms/step - loss: 658481.5565 - r_2_score: -1.1049 - val_loss: 645841.8125 - val_r_2_score: -1.1080\n",
            "Epoch 2/1000\n",
            "186/186 [==============================] - 1s 3ms/step - loss: 621009.2363 - r_2_score: -1.1875 - val_loss: 536977.9375 - val_r_2_score: -0.7050\n",
            "Epoch 3/1000\n",
            "186/186 [==============================] - 1s 3ms/step - loss: 481179.0483 - r_2_score: -0.5492 - val_loss: 335731.4375 - val_r_2_score: 0.1384\n",
            "Epoch 4/1000\n",
            "186/186 [==============================] - 1s 3ms/step - loss: 308529.6109 - r_2_score: 0.2494 - val_loss: 254695.2969 - val_r_2_score: 0.5001\n",
            "Epoch 5/1000\n",
            "186/186 [==============================] - 1s 3ms/step - loss: 251174.0541 - r_2_score: 0.5141 - val_loss: 221911.5625 - val_r_2_score: 0.6164\n",
            "Epoch 6/1000\n",
            "186/186 [==============================] - 1s 3ms/step - loss: 219429.0911 - r_2_score: 0.6341 - val_loss: 204016.7969 - val_r_2_score: 0.6749\n",
            "Epoch 7/1000\n",
            "186/186 [==============================] - 1s 3ms/step - loss: 204231.5695 - r_2_score: 0.6627 - val_loss: 193992.0781 - val_r_2_score: 0.6980\n",
            "Epoch 8/1000\n",
            "186/186 [==============================] - 1s 3ms/step - loss: 202414.0099 - r_2_score: 0.6870 - val_loss: 187993.4062 - val_r_2_score: 0.7150\n",
            "Epoch 9/1000\n",
            "186/186 [==============================] - 1s 3ms/step - loss: 187984.7078 - r_2_score: 0.7119 - val_loss: 184274.2344 - val_r_2_score: 0.7226\n",
            "Epoch 10/1000\n",
            "186/186 [==============================] - 1s 3ms/step - loss: 192025.4910 - r_2_score: 0.6885 - val_loss: 181675.3594 - val_r_2_score: 0.7291\n",
            "Epoch 11/1000\n",
            "186/186 [==============================] - 1s 3ms/step - loss: 191360.3280 - r_2_score: 0.7227 - val_loss: 179725.6406 - val_r_2_score: 0.7341\n",
            "Epoch 12/1000\n",
            "186/186 [==============================] - 1s 3ms/step - loss: 182211.2870 - r_2_score: 0.7285 - val_loss: 178347.7031 - val_r_2_score: 0.7385\n",
            "Epoch 13/1000\n",
            "186/186 [==============================] - 1s 3ms/step - loss: 179831.8387 - r_2_score: 0.7367 - val_loss: 176594.7969 - val_r_2_score: 0.7419\n",
            "Epoch 14/1000\n",
            "186/186 [==============================] - 1s 3ms/step - loss: 177176.8368 - r_2_score: 0.7197 - val_loss: 175433.9062 - val_r_2_score: 0.7444\n",
            "Epoch 15/1000\n",
            "186/186 [==============================] - 1s 3ms/step - loss: 183288.2375 - r_2_score: 0.7169 - val_loss: 173845.1094 - val_r_2_score: 0.7484\n",
            "Epoch 16/1000\n",
            "186/186 [==============================] - 1s 3ms/step - loss: 182036.5064 - r_2_score: 0.7313 - val_loss: 172836.8125 - val_r_2_score: 0.7520\n",
            "Epoch 17/1000\n",
            "186/186 [==============================] - 1s 3ms/step - loss: 179842.9430 - r_2_score: 0.7407 - val_loss: 171787.7969 - val_r_2_score: 0.7548\n",
            "Epoch 18/1000\n",
            "186/186 [==============================] - 1s 3ms/step - loss: 170443.1308 - r_2_score: 0.7341 - val_loss: 170727.3594 - val_r_2_score: 0.7575\n",
            "Epoch 19/1000\n",
            "186/186 [==============================] - 1s 3ms/step - loss: 180355.0851 - r_2_score: 0.7468 - val_loss: 169524.2031 - val_r_2_score: 0.7598\n",
            "Epoch 20/1000\n",
            "186/186 [==============================] - 1s 3ms/step - loss: 181303.4309 - r_2_score: 0.7431 - val_loss: 168613.4062 - val_r_2_score: 0.7625\n",
            "Epoch 21/1000\n",
            "186/186 [==============================] - 1s 3ms/step - loss: 178618.3263 - r_2_score: 0.7505 - val_loss: 167869.6094 - val_r_2_score: 0.7647\n",
            "Epoch 22/1000\n",
            "186/186 [==============================] - 1s 3ms/step - loss: 180612.3113 - r_2_score: 0.7303 - val_loss: 166936.4531 - val_r_2_score: 0.7667\n",
            "Epoch 23/1000\n",
            "186/186 [==============================] - 1s 3ms/step - loss: 178535.6926 - r_2_score: 0.7540 - val_loss: 165989.9844 - val_r_2_score: 0.7689\n",
            "Epoch 24/1000\n",
            "186/186 [==============================] - 1s 3ms/step - loss: 177978.0610 - r_2_score: 0.7515 - val_loss: 165218.2812 - val_r_2_score: 0.7714\n",
            "Epoch 25/1000\n",
            "186/186 [==============================] - 1s 3ms/step - loss: 177159.5369 - r_2_score: 0.7489 - val_loss: 164344.5781 - val_r_2_score: 0.7739\n",
            "Epoch 26/1000\n",
            "186/186 [==============================] - 1s 3ms/step - loss: 170562.8914 - r_2_score: 0.7488 - val_loss: 164254.6094 - val_r_2_score: 0.7745\n",
            "Epoch 27/1000\n",
            "186/186 [==============================] - 1s 3ms/step - loss: 168962.4792 - r_2_score: 0.7380 - val_loss: 163097.1875 - val_r_2_score: 0.7771\n",
            "Epoch 28/1000\n",
            "186/186 [==============================] - 1s 3ms/step - loss: 171353.8649 - r_2_score: 0.7666 - val_loss: 162262.5156 - val_r_2_score: 0.7787\n",
            "Epoch 29/1000\n",
            "186/186 [==============================] - 1s 3ms/step - loss: 166718.7706 - r_2_score: 0.7440 - val_loss: 161539.1562 - val_r_2_score: 0.7808\n",
            "Epoch 30/1000\n",
            "186/186 [==============================] - 1s 3ms/step - loss: 171067.6776 - r_2_score: 0.7532 - val_loss: 160760.3750 - val_r_2_score: 0.7839\n",
            "Epoch 31/1000\n",
            "186/186 [==============================] - 1s 3ms/step - loss: 159416.5635 - r_2_score: 0.7702 - val_loss: 159865.3594 - val_r_2_score: 0.7859\n",
            "Epoch 32/1000\n",
            "186/186 [==============================] - 1s 3ms/step - loss: 170537.3704 - r_2_score: 0.7432 - val_loss: 159455.3594 - val_r_2_score: 0.7868\n",
            "Epoch 33/1000\n",
            "186/186 [==============================] - 1s 3ms/step - loss: 162684.1276 - r_2_score: 0.7903 - val_loss: 158831.1406 - val_r_2_score: 0.7887\n",
            "Epoch 34/1000\n",
            "186/186 [==============================] - 1s 4ms/step - loss: 168012.5689 - r_2_score: 0.7839 - val_loss: 158094.8906 - val_r_2_score: 0.7907\n",
            "Epoch 35/1000\n",
            "186/186 [==============================] - 1s 3ms/step - loss: 167233.7048 - r_2_score: 0.7715 - val_loss: 157161.8281 - val_r_2_score: 0.7922\n",
            "Epoch 36/1000\n",
            "186/186 [==============================] - 1s 3ms/step - loss: 159302.5788 - r_2_score: 0.7629 - val_loss: 156512.9844 - val_r_2_score: 0.7941\n",
            "Epoch 37/1000\n",
            "186/186 [==============================] - 1s 3ms/step - loss: 165551.8293 - r_2_score: 0.7637 - val_loss: 156425.5312 - val_r_2_score: 0.7950\n",
            "Epoch 38/1000\n",
            "186/186 [==============================] - 1s 3ms/step - loss: 158718.2252 - r_2_score: 0.7729 - val_loss: 155526.5469 - val_r_2_score: 0.7967\n",
            "Epoch 39/1000\n",
            "186/186 [==============================] - 1s 3ms/step - loss: 163549.8370 - r_2_score: 0.7688 - val_loss: 154893.0781 - val_r_2_score: 0.7980\n",
            "Epoch 40/1000\n",
            "186/186 [==============================] - 1s 3ms/step - loss: 159160.4706 - r_2_score: 0.7709 - val_loss: 154532.8125 - val_r_2_score: 0.7991\n",
            "Epoch 41/1000\n",
            "186/186 [==============================] - 1s 3ms/step - loss: 159998.8992 - r_2_score: 0.7652 - val_loss: 153749.6406 - val_r_2_score: 0.8007\n",
            "Epoch 42/1000\n",
            "186/186 [==============================] - 1s 3ms/step - loss: 166888.1700 - r_2_score: 0.7640 - val_loss: 153966.7500 - val_r_2_score: 0.8013\n",
            "Epoch 43/1000\n",
            "186/186 [==============================] - 1s 3ms/step - loss: 165127.9037 - r_2_score: 0.7787 - val_loss: 152807.1719 - val_r_2_score: 0.8038\n",
            "Epoch 44/1000\n",
            "186/186 [==============================] - 1s 3ms/step - loss: 163282.9693 - r_2_score: 0.7913 - val_loss: 152359.6719 - val_r_2_score: 0.8050\n",
            "Epoch 45/1000\n",
            "186/186 [==============================] - 1s 3ms/step - loss: 158189.0352 - r_2_score: 0.7926 - val_loss: 152280.7344 - val_r_2_score: 0.8060\n",
            "Epoch 46/1000\n",
            "186/186 [==============================] - 1s 3ms/step - loss: 159199.1329 - r_2_score: 0.7629 - val_loss: 152014.4219 - val_r_2_score: 0.8071\n",
            "Epoch 47/1000\n",
            "186/186 [==============================] - 1s 3ms/step - loss: 164522.7188 - r_2_score: 0.7882 - val_loss: 150863.1562 - val_r_2_score: 0.8081\n",
            "Epoch 48/1000\n",
            "186/186 [==============================] - 1s 3ms/step - loss: 157162.2948 - r_2_score: 0.7803 - val_loss: 150748.9531 - val_r_2_score: 0.8096\n",
            "Epoch 49/1000\n",
            "186/186 [==============================] - 1s 3ms/step - loss: 156708.1210 - r_2_score: 0.7848 - val_loss: 149994.7031 - val_r_2_score: 0.8103\n",
            "Epoch 50/1000\n",
            "186/186 [==============================] - 1s 3ms/step - loss: 153648.4517 - r_2_score: 0.7612 - val_loss: 150455.0312 - val_r_2_score: 0.8104\n",
            "Epoch 51/1000\n",
            "186/186 [==============================] - 1s 3ms/step - loss: 162771.8577 - r_2_score: 0.7844 - val_loss: 149261.4219 - val_r_2_score: 0.8124\n",
            "Epoch 52/1000\n",
            "186/186 [==============================] - 1s 3ms/step - loss: 163676.6104 - r_2_score: 0.7968 - val_loss: 148888.8906 - val_r_2_score: 0.8140\n",
            "Epoch 53/1000\n",
            "186/186 [==============================] - 1s 3ms/step - loss: 154295.6913 - r_2_score: 0.7948 - val_loss: 148586.7344 - val_r_2_score: 0.8147\n",
            "Epoch 54/1000\n",
            "186/186 [==============================] - 1s 3ms/step - loss: 144694.8834 - r_2_score: 0.8011 - val_loss: 148117.5312 - val_r_2_score: 0.8150\n",
            "Epoch 55/1000\n",
            "186/186 [==============================] - 1s 3ms/step - loss: 154174.5185 - r_2_score: 0.7887 - val_loss: 148245.5938 - val_r_2_score: 0.8157\n",
            "Epoch 56/1000\n",
            "186/186 [==============================] - 1s 3ms/step - loss: 156681.6875 - r_2_score: 0.7949 - val_loss: 147699.1406 - val_r_2_score: 0.8172\n",
            "Epoch 57/1000\n",
            "186/186 [==============================] - 1s 3ms/step - loss: 149556.2268 - r_2_score: 0.7984 - val_loss: 147351.9219 - val_r_2_score: 0.8179\n",
            "Epoch 58/1000\n",
            "186/186 [==============================] - 1s 3ms/step - loss: 157341.6721 - r_2_score: 0.7925 - val_loss: 146710.5312 - val_r_2_score: 0.8188\n",
            "Epoch 59/1000\n",
            "186/186 [==============================] - 1s 3ms/step - loss: 156702.8331 - r_2_score: 0.7918 - val_loss: 146736.4844 - val_r_2_score: 0.8203\n",
            "Epoch 60/1000\n",
            "186/186 [==============================] - 1s 3ms/step - loss: 153070.0653 - r_2_score: 0.7784 - val_loss: 146011.9531 - val_r_2_score: 0.8208\n",
            "Epoch 61/1000\n",
            "186/186 [==============================] - 1s 3ms/step - loss: 152540.2988 - r_2_score: 0.7896 - val_loss: 146043.2969 - val_r_2_score: 0.8202\n",
            "Epoch 62/1000\n",
            "186/186 [==============================] - 1s 4ms/step - loss: 149615.1887 - r_2_score: 0.8021 - val_loss: 145143.9688 - val_r_2_score: 0.8221\n",
            "Epoch 63/1000\n",
            "186/186 [==============================] - 1s 3ms/step - loss: 146658.1749 - r_2_score: 0.7067 - val_loss: 144917.8281 - val_r_2_score: 0.8221\n",
            "Epoch 64/1000\n",
            "186/186 [==============================] - 1s 3ms/step - loss: 153192.2376 - r_2_score: 0.8021 - val_loss: 144822.6562 - val_r_2_score: 0.8230\n",
            "Epoch 65/1000\n",
            "186/186 [==============================] - 1s 3ms/step - loss: 153676.7331 - r_2_score: 0.7934 - val_loss: 144851.5312 - val_r_2_score: 0.8217\n",
            "Epoch 66/1000\n",
            "186/186 [==============================] - 1s 3ms/step - loss: 152347.6654 - r_2_score: 0.7686 - val_loss: 143670.6875 - val_r_2_score: 0.8267\n",
            "Epoch 67/1000\n",
            "186/186 [==============================] - 1s 3ms/step - loss: 148771.8017 - r_2_score: 0.8066 - val_loss: 143242.6250 - val_r_2_score: 0.8274\n",
            "Epoch 68/1000\n",
            "186/186 [==============================] - 1s 3ms/step - loss: 152315.8692 - r_2_score: 0.8126 - val_loss: 142980.3906 - val_r_2_score: 0.8268\n",
            "Epoch 69/1000\n",
            "186/186 [==============================] - 1s 3ms/step - loss: 147294.0869 - r_2_score: 0.8108 - val_loss: 142666.4531 - val_r_2_score: 0.8280\n",
            "Epoch 70/1000\n",
            "186/186 [==============================] - 1s 3ms/step - loss: 151509.2552 - r_2_score: 0.7730 - val_loss: 142693.4219 - val_r_2_score: 0.8260\n",
            "Epoch 71/1000\n",
            "186/186 [==============================] - 1s 3ms/step - loss: 151174.1702 - r_2_score: 0.7624 - val_loss: 141557.0938 - val_r_2_score: 0.8305\n",
            "Epoch 72/1000\n",
            "186/186 [==============================] - 1s 3ms/step - loss: 146125.2431 - r_2_score: 0.7626 - val_loss: 141543.8594 - val_r_2_score: 0.8314\n",
            "Epoch 73/1000\n",
            "186/186 [==============================] - 1s 3ms/step - loss: 142325.9944 - r_2_score: 0.7857 - val_loss: 141054.9062 - val_r_2_score: 0.8309\n",
            "Epoch 74/1000\n",
            "186/186 [==============================] - 1s 3ms/step - loss: 143172.2306 - r_2_score: 0.7854 - val_loss: 140472.2188 - val_r_2_score: 0.8333\n",
            "Epoch 75/1000\n",
            "186/186 [==============================] - 1s 3ms/step - loss: 152133.2805 - r_2_score: 0.8118 - val_loss: 140005.7344 - val_r_2_score: 0.8346\n",
            "Epoch 76/1000\n",
            "186/186 [==============================] - 1s 3ms/step - loss: 147760.3983 - r_2_score: 0.8140 - val_loss: 139203.8438 - val_r_2_score: 0.8364\n",
            "Epoch 77/1000\n",
            "186/186 [==============================] - 1s 3ms/step - loss: 147963.3227 - r_2_score: 0.7916 - val_loss: 138918.0312 - val_r_2_score: 0.8361\n",
            "Epoch 78/1000\n",
            "186/186 [==============================] - 1s 3ms/step - loss: 143946.4985 - r_2_score: 0.8267 - val_loss: 139124.2500 - val_r_2_score: 0.8375\n",
            "Epoch 79/1000\n",
            "186/186 [==============================] - 1s 3ms/step - loss: 149401.7956 - r_2_score: 0.8284 - val_loss: 137838.6250 - val_r_2_score: 0.8391\n",
            "Epoch 80/1000\n",
            "186/186 [==============================] - 1s 3ms/step - loss: 147924.0741 - r_2_score: 0.8131 - val_loss: 137974.7500 - val_r_2_score: 0.8399\n",
            "Epoch 81/1000\n",
            "186/186 [==============================] - 1s 3ms/step - loss: 148598.8678 - r_2_score: 0.7967 - val_loss: 137444.4219 - val_r_2_score: 0.8408\n",
            "Epoch 82/1000\n",
            "186/186 [==============================] - 1s 3ms/step - loss: 146331.1764 - r_2_score: 0.8217 - val_loss: 137506.2031 - val_r_2_score: 0.8391\n",
            "Epoch 83/1000\n",
            "186/186 [==============================] - 1s 3ms/step - loss: 143794.6476 - r_2_score: 0.8327 - val_loss: 136758.7344 - val_r_2_score: 0.8416\n",
            "Epoch 84/1000\n",
            "186/186 [==============================] - 1s 3ms/step - loss: 147941.0638 - r_2_score: 0.8484 - val_loss: 136105.5781 - val_r_2_score: 0.8434\n",
            "Epoch 85/1000\n",
            "186/186 [==============================] - 1s 3ms/step - loss: 148776.5964 - r_2_score: 0.8082 - val_loss: 135927.7969 - val_r_2_score: 0.8444\n",
            "Epoch 86/1000\n",
            "186/186 [==============================] - 1s 3ms/step - loss: 142713.2339 - r_2_score: 0.8196 - val_loss: 136160.5312 - val_r_2_score: 0.8426\n",
            "Epoch 87/1000\n",
            "186/186 [==============================] - 1s 3ms/step - loss: 144156.8017 - r_2_score: 0.8182 - val_loss: 135480.3281 - val_r_2_score: 0.8445\n",
            "Epoch 88/1000\n",
            "186/186 [==============================] - 1s 3ms/step - loss: 141057.2439 - r_2_score: 0.8131 - val_loss: 134984.9219 - val_r_2_score: 0.8467\n",
            "Epoch 89/1000\n",
            "186/186 [==============================] - 1s 3ms/step - loss: 141282.1359 - r_2_score: 0.8244 - val_loss: 135003.8594 - val_r_2_score: 0.8445\n",
            "Epoch 90/1000\n",
            "186/186 [==============================] - 1s 3ms/step - loss: 141948.3842 - r_2_score: 0.8034 - val_loss: 134653.1875 - val_r_2_score: 0.8465\n",
            "Epoch 91/1000\n",
            "186/186 [==============================] - 1s 3ms/step - loss: 148945.2668 - r_2_score: 0.8178 - val_loss: 134398.2188 - val_r_2_score: 0.8478\n",
            "Epoch 92/1000\n",
            "186/186 [==============================] - 1s 3ms/step - loss: 137362.8364 - r_2_score: 0.8194 - val_loss: 133388.4531 - val_r_2_score: 0.8489\n",
            "Epoch 93/1000\n",
            "186/186 [==============================] - 1s 3ms/step - loss: 145960.2408 - r_2_score: 0.7740 - val_loss: 132941.3750 - val_r_2_score: 0.8489\n",
            "Epoch 94/1000\n",
            "186/186 [==============================] - 1s 3ms/step - loss: 147509.7996 - r_2_score: 0.8124 - val_loss: 132829.2500 - val_r_2_score: 0.8511\n",
            "Epoch 95/1000\n",
            "186/186 [==============================] - 1s 3ms/step - loss: 139761.3694 - r_2_score: 0.8319 - val_loss: 132600.7812 - val_r_2_score: 0.8508\n",
            "Epoch 96/1000\n",
            "186/186 [==============================] - 1s 4ms/step - loss: 145706.6324 - r_2_score: 0.8102 - val_loss: 132010.4531 - val_r_2_score: 0.8495\n",
            "Epoch 97/1000\n",
            "186/186 [==============================] - 1s 3ms/step - loss: 139202.7152 - r_2_score: 0.8199 - val_loss: 131344.5781 - val_r_2_score: 0.8521\n",
            "Epoch 98/1000\n",
            "186/186 [==============================] - 1s 3ms/step - loss: 139950.3361 - r_2_score: 0.8393 - val_loss: 130939.0469 - val_r_2_score: 0.8533\n",
            "Epoch 99/1000\n",
            "186/186 [==============================] - 1s 3ms/step - loss: 139366.5046 - r_2_score: 0.8384 - val_loss: 130920.6016 - val_r_2_score: 0.8519\n",
            "Epoch 100/1000\n",
            "186/186 [==============================] - 1s 3ms/step - loss: 137756.7211 - r_2_score: 0.8294 - val_loss: 130425.1562 - val_r_2_score: 0.8529\n",
            "Epoch 101/1000\n",
            "186/186 [==============================] - 1s 3ms/step - loss: 139829.3217 - r_2_score: 0.8330 - val_loss: 129944.8672 - val_r_2_score: 0.8529\n",
            "Epoch 102/1000\n",
            "186/186 [==============================] - 1s 3ms/step - loss: 137328.9990 - r_2_score: 0.8441 - val_loss: 129799.4062 - val_r_2_score: 0.8541\n",
            "Epoch 103/1000\n",
            "186/186 [==============================] - 1s 3ms/step - loss: 141740.7871 - r_2_score: 0.7760 - val_loss: 129352.1875 - val_r_2_score: 0.8542\n",
            "Epoch 104/1000\n",
            "186/186 [==============================] - 1s 3ms/step - loss: 137613.2137 - r_2_score: 0.8222 - val_loss: 128930.3125 - val_r_2_score: 0.8556\n",
            "Epoch 105/1000\n",
            "186/186 [==============================] - 1s 3ms/step - loss: 144876.7833 - r_2_score: 0.8314 - val_loss: 129309.5469 - val_r_2_score: 0.8554\n",
            "Epoch 106/1000\n",
            "186/186 [==============================] - 1s 4ms/step - loss: 134004.4009 - r_2_score: 0.8343 - val_loss: 128724.2656 - val_r_2_score: 0.8566\n",
            "Epoch 107/1000\n",
            "186/186 [==============================] - 1s 3ms/step - loss: 135670.7748 - r_2_score: 0.8400 - val_loss: 128526.7656 - val_r_2_score: 0.8561\n",
            "Epoch 108/1000\n",
            "186/186 [==============================] - 1s 3ms/step - loss: 135156.3422 - r_2_score: 0.8021 - val_loss: 127909.8594 - val_r_2_score: 0.8566\n",
            "Epoch 109/1000\n",
            "186/186 [==============================] - 1s 3ms/step - loss: 139785.1232 - r_2_score: 0.8344 - val_loss: 128230.3984 - val_r_2_score: 0.8568\n",
            "Epoch 110/1000\n",
            "186/186 [==============================] - 1s 3ms/step - loss: 137507.9451 - r_2_score: 0.8120 - val_loss: 127439.5078 - val_r_2_score: 0.8584\n",
            "Epoch 111/1000\n",
            "186/186 [==============================] - 1s 3ms/step - loss: 135913.2029 - r_2_score: 0.8299 - val_loss: 127487.1250 - val_r_2_score: 0.8591\n",
            "Epoch 112/1000\n",
            "186/186 [==============================] - 1s 3ms/step - loss: 137417.8807 - r_2_score: 0.8341 - val_loss: 127056.1484 - val_r_2_score: 0.8578\n",
            "Epoch 113/1000\n",
            "186/186 [==============================] - 1s 3ms/step - loss: 134045.5385 - r_2_score: 0.8161 - val_loss: 127134.2031 - val_r_2_score: 0.8581\n",
            "Epoch 114/1000\n",
            "186/186 [==============================] - 1s 3ms/step - loss: 135963.1534 - r_2_score: 0.8356 - val_loss: 127199.8750 - val_r_2_score: 0.8606\n",
            "Epoch 115/1000\n",
            "186/186 [==============================] - 1s 3ms/step - loss: 134012.9125 - r_2_score: 0.8491 - val_loss: 126663.4062 - val_r_2_score: 0.8599\n",
            "Epoch 116/1000\n",
            "186/186 [==============================] - 1s 3ms/step - loss: 135300.6920 - r_2_score: 0.8281 - val_loss: 126639.8438 - val_r_2_score: 0.8596\n",
            "Epoch 117/1000\n",
            "186/186 [==============================] - 1s 3ms/step - loss: 136634.6231 - r_2_score: 0.8287 - val_loss: 126619.7266 - val_r_2_score: 0.8617\n",
            "Epoch 118/1000\n",
            "186/186 [==============================] - 1s 3ms/step - loss: 131721.2157 - r_2_score: 0.8396 - val_loss: 126374.1328 - val_r_2_score: 0.8621\n",
            "Epoch 119/1000\n",
            "186/186 [==============================] - 1s 3ms/step - loss: 136192.5303 - r_2_score: 0.8612 - val_loss: 126061.9141 - val_r_2_score: 0.8622\n",
            "Epoch 120/1000\n",
            "186/186 [==============================] - 1s 3ms/step - loss: 136870.7377 - r_2_score: 0.8274 - val_loss: 126445.1172 - val_r_2_score: 0.8627\n",
            "Epoch 121/1000\n",
            "186/186 [==============================] - 1s 3ms/step - loss: 138917.0959 - r_2_score: 0.8371 - val_loss: 126980.8828 - val_r_2_score: 0.8629\n",
            "Epoch 122/1000\n",
            "186/186 [==============================] - 1s 3ms/step - loss: 134771.5000 - r_2_score: 0.8432 - val_loss: 126001.7031 - val_r_2_score: 0.8619\n",
            "Epoch 123/1000\n",
            "186/186 [==============================] - 1s 3ms/step - loss: 133085.3502 - r_2_score: 0.8510 - val_loss: 125364.9609 - val_r_2_score: 0.8615\n",
            "Epoch 124/1000\n",
            "186/186 [==============================] - 1s 3ms/step - loss: 133122.6939 - r_2_score: 0.8468 - val_loss: 125636.9922 - val_r_2_score: 0.8642\n",
            "Epoch 125/1000\n",
            "186/186 [==============================] - 1s 3ms/step - loss: 137600.8406 - r_2_score: 0.8408 - val_loss: 125681.1406 - val_r_2_score: 0.8642\n",
            "Epoch 126/1000\n",
            "186/186 [==============================] - 1s 4ms/step - loss: 136360.7811 - r_2_score: 0.8399 - val_loss: 125261.2656 - val_r_2_score: 0.8639\n",
            "Epoch 127/1000\n",
            "186/186 [==============================] - 1s 3ms/step - loss: 136036.9042 - r_2_score: 0.8480 - val_loss: 124708.6875 - val_r_2_score: 0.8639\n",
            "Epoch 128/1000\n",
            "186/186 [==============================] - 1s 3ms/step - loss: 133799.1358 - r_2_score: 0.8308 - val_loss: 124558.1484 - val_r_2_score: 0.8652\n",
            "Epoch 129/1000\n",
            "186/186 [==============================] - 1s 3ms/step - loss: 127374.3810 - r_2_score: 0.8135 - val_loss: 125433.0469 - val_r_2_score: 0.8656\n",
            "Epoch 130/1000\n",
            "186/186 [==============================] - 1s 3ms/step - loss: 134406.8127 - r_2_score: 0.8508 - val_loss: 124784.8438 - val_r_2_score: 0.8668\n",
            "Epoch 131/1000\n",
            "186/186 [==============================] - 1s 3ms/step - loss: 132633.4039 - r_2_score: 0.8518 - val_loss: 124006.1562 - val_r_2_score: 0.8661\n",
            "Epoch 132/1000\n",
            "186/186 [==============================] - 1s 3ms/step - loss: 135114.3237 - r_2_score: 0.8502 - val_loss: 123874.7188 - val_r_2_score: 0.8665\n",
            "Epoch 133/1000\n",
            "186/186 [==============================] - 1s 3ms/step - loss: 132060.2909 - r_2_score: 0.8518 - val_loss: 124138.4219 - val_r_2_score: 0.8672\n",
            "Epoch 134/1000\n",
            "186/186 [==============================] - 1s 3ms/step - loss: 130850.4843 - r_2_score: 0.8445 - val_loss: 124191.1406 - val_r_2_score: 0.8672\n",
            "Epoch 135/1000\n",
            "186/186 [==============================] - 1s 3ms/step - loss: 132658.8941 - r_2_score: 0.8479 - val_loss: 123923.1016 - val_r_2_score: 0.8684\n",
            "Epoch 136/1000\n",
            "186/186 [==============================] - 1s 3ms/step - loss: 132147.6306 - r_2_score: 0.8541 - val_loss: 123471.4688 - val_r_2_score: 0.8684\n",
            "Epoch 137/1000\n",
            "186/186 [==============================] - 1s 3ms/step - loss: 127672.0097 - r_2_score: 0.8398 - val_loss: 123559.1562 - val_r_2_score: 0.8688\n",
            "Epoch 138/1000\n",
            "186/186 [==============================] - 1s 3ms/step - loss: 129024.7020 - r_2_score: 0.8533 - val_loss: 123393.9688 - val_r_2_score: 0.8691\n",
            "Epoch 139/1000\n",
            "186/186 [==============================] - 1s 3ms/step - loss: 129381.3900 - r_2_score: 0.8511 - val_loss: 123313.5078 - val_r_2_score: 0.8696\n",
            "Epoch 140/1000\n",
            "186/186 [==============================] - 1s 3ms/step - loss: 132781.3932 - r_2_score: 0.8284 - val_loss: 122792.5703 - val_r_2_score: 0.8693\n",
            "Epoch 141/1000\n",
            "186/186 [==============================] - 1s 4ms/step - loss: 129735.0552 - r_2_score: 0.8514 - val_loss: 122502.0234 - val_r_2_score: 0.8693\n",
            "Epoch 142/1000\n",
            "186/186 [==============================] - 1s 3ms/step - loss: 130472.3219 - r_2_score: 0.8548 - val_loss: 123435.0000 - val_r_2_score: 0.8705\n",
            "Epoch 143/1000\n",
            "186/186 [==============================] - 1s 3ms/step - loss: 130487.8714 - r_2_score: 0.8295 - val_loss: 122845.8438 - val_r_2_score: 0.8708\n",
            "Epoch 144/1000\n",
            "186/186 [==============================] - 1s 4ms/step - loss: 133423.4353 - r_2_score: 0.8534 - val_loss: 122494.2109 - val_r_2_score: 0.8702\n",
            "Epoch 145/1000\n",
            "186/186 [==============================] - 1s 3ms/step - loss: 132260.4482 - r_2_score: 0.8472 - val_loss: 122349.6016 - val_r_2_score: 0.8701\n",
            "Epoch 146/1000\n",
            "186/186 [==============================] - 1s 3ms/step - loss: 128102.7588 - r_2_score: 0.8655 - val_loss: 122173.6641 - val_r_2_score: 0.8717\n",
            "Epoch 147/1000\n",
            "186/186 [==============================] - 1s 3ms/step - loss: 130791.0247 - r_2_score: 0.8261 - val_loss: 121957.6797 - val_r_2_score: 0.8713\n",
            "Epoch 148/1000\n",
            "186/186 [==============================] - 1s 3ms/step - loss: 132118.7306 - r_2_score: 0.8314 - val_loss: 122126.9062 - val_r_2_score: 0.8707\n",
            "Epoch 149/1000\n",
            "186/186 [==============================] - 1s 3ms/step - loss: 132955.1304 - r_2_score: 0.8590 - val_loss: 121596.0156 - val_r_2_score: 0.8715\n",
            "Epoch 150/1000\n",
            "186/186 [==============================] - 1s 3ms/step - loss: 130161.0686 - r_2_score: 0.8436 - val_loss: 121749.8750 - val_r_2_score: 0.8721\n",
            "Epoch 151/1000\n",
            "186/186 [==============================] - 1s 3ms/step - loss: 134032.9958 - r_2_score: 0.8106 - val_loss: 120776.8750 - val_r_2_score: 0.8708\n",
            "Epoch 152/1000\n",
            "186/186 [==============================] - 1s 3ms/step - loss: 128829.3700 - r_2_score: 0.8402 - val_loss: 121407.5078 - val_r_2_score: 0.8720\n",
            "Epoch 153/1000\n",
            "186/186 [==============================] - 1s 3ms/step - loss: 131634.5235 - r_2_score: 0.8405 - val_loss: 121012.1406 - val_r_2_score: 0.8715\n",
            "Epoch 154/1000\n",
            "186/186 [==============================] - 1s 3ms/step - loss: 126448.0377 - r_2_score: 0.8618 - val_loss: 121549.8203 - val_r_2_score: 0.8732\n",
            "Epoch 155/1000\n",
            "186/186 [==============================] - 1s 4ms/step - loss: 136568.7510 - r_2_score: 0.8384 - val_loss: 120987.6875 - val_r_2_score: 0.8718\n",
            "Epoch 156/1000\n",
            "186/186 [==============================] - 1s 3ms/step - loss: 132571.0752 - r_2_score: 0.8467 - val_loss: 121271.4844 - val_r_2_score: 0.8728\n",
            "Epoch 157/1000\n",
            "186/186 [==============================] - 1s 3ms/step - loss: 130398.2380 - r_2_score: 0.8441 - val_loss: 120837.6641 - val_r_2_score: 0.8735\n",
            "Epoch 158/1000\n",
            "186/186 [==============================] - 1s 3ms/step - loss: 132443.1688 - r_2_score: 0.8639 - val_loss: 121044.6484 - val_r_2_score: 0.8737\n",
            "Epoch 159/1000\n",
            "186/186 [==============================] - 1s 3ms/step - loss: 134435.7522 - r_2_score: 0.8544 - val_loss: 121548.2422 - val_r_2_score: 0.8739\n",
            "Epoch 160/1000\n",
            "186/186 [==============================] - 1s 3ms/step - loss: 127014.3363 - r_2_score: 0.8492 - val_loss: 120833.8047 - val_r_2_score: 0.8728\n",
            "Epoch 161/1000\n",
            "186/186 [==============================] - 1s 3ms/step - loss: 125192.1375 - r_2_score: 0.8684 - val_loss: 120535.8906 - val_r_2_score: 0.8730\n",
            "Epoch 162/1000\n",
            "186/186 [==============================] - 1s 3ms/step - loss: 124111.4657 - r_2_score: 0.8668 - val_loss: 121082.0234 - val_r_2_score: 0.8748\n",
            "Epoch 163/1000\n",
            "186/186 [==============================] - 1s 3ms/step - loss: 129105.5691 - r_2_score: 0.8713 - val_loss: 121771.2109 - val_r_2_score: 0.8741\n",
            "Epoch 164/1000\n",
            "186/186 [==============================] - 1s 3ms/step - loss: 127259.6215 - r_2_score: 0.8303 - val_loss: 119965.9141 - val_r_2_score: 0.8749\n",
            "Epoch 165/1000\n",
            "186/186 [==============================] - 1s 3ms/step - loss: 127321.4693 - r_2_score: 0.8677 - val_loss: 120017.5469 - val_r_2_score: 0.8749\n",
            "Epoch 166/1000\n",
            "186/186 [==============================] - 1s 3ms/step - loss: 130495.4872 - r_2_score: 0.8513 - val_loss: 120434.6719 - val_r_2_score: 0.8755\n",
            "Epoch 167/1000\n",
            "186/186 [==============================] - 1s 4ms/step - loss: 130422.2002 - r_2_score: 0.8757 - val_loss: 120480.7500 - val_r_2_score: 0.8758\n",
            "Epoch 168/1000\n",
            "186/186 [==============================] - 1s 3ms/step - loss: 133647.2372 - r_2_score: 0.8659 - val_loss: 120525.0391 - val_r_2_score: 0.8763\n",
            "Epoch 169/1000\n",
            "186/186 [==============================] - 1s 3ms/step - loss: 127188.0761 - r_2_score: 0.8610 - val_loss: 119786.4922 - val_r_2_score: 0.8765\n",
            "Epoch 170/1000\n",
            "186/186 [==============================] - 1s 3ms/step - loss: 128319.3694 - r_2_score: 0.8502 - val_loss: 119529.1875 - val_r_2_score: 0.8762\n",
            "Epoch 171/1000\n",
            "186/186 [==============================] - 1s 3ms/step - loss: 134015.2509 - r_2_score: 0.8619 - val_loss: 119735.7891 - val_r_2_score: 0.8769\n",
            "Epoch 172/1000\n",
            "186/186 [==============================] - 1s 3ms/step - loss: 129965.5100 - r_2_score: 0.8472 - val_loss: 119428.5938 - val_r_2_score: 0.8757\n",
            "Epoch 173/1000\n",
            "186/186 [==============================] - 1s 3ms/step - loss: 125016.4845 - r_2_score: 0.8812 - val_loss: 119454.2812 - val_r_2_score: 0.8774\n",
            "Epoch 174/1000\n",
            "186/186 [==============================] - 1s 3ms/step - loss: 129253.4475 - r_2_score: 0.8730 - val_loss: 119708.2344 - val_r_2_score: 0.8786\n",
            "Epoch 175/1000\n",
            "186/186 [==============================] - 1s 3ms/step - loss: 127027.7889 - r_2_score: 0.8542 - val_loss: 119681.5703 - val_r_2_score: 0.8765\n",
            "Epoch 176/1000\n",
            "186/186 [==============================] - 1s 3ms/step - loss: 126796.5783 - r_2_score: 0.8724 - val_loss: 118971.5859 - val_r_2_score: 0.8778\n",
            "Epoch 177/1000\n",
            "186/186 [==============================] - 1s 3ms/step - loss: 133691.1288 - r_2_score: 0.8501 - val_loss: 118874.1406 - val_r_2_score: 0.8778\n",
            "Epoch 178/1000\n",
            "186/186 [==============================] - 1s 3ms/step - loss: 130719.8497 - r_2_score: 0.8703 - val_loss: 118567.1406 - val_r_2_score: 0.8776\n",
            "Epoch 179/1000\n",
            "186/186 [==============================] - 1s 3ms/step - loss: 126581.3485 - r_2_score: 0.8567 - val_loss: 118742.5391 - val_r_2_score: 0.8773\n",
            "Epoch 180/1000\n",
            "186/186 [==============================] - 1s 3ms/step - loss: 128940.9192 - r_2_score: 0.8590 - val_loss: 118818.2500 - val_r_2_score: 0.8781\n",
            "Epoch 181/1000\n",
            "186/186 [==============================] - 1s 3ms/step - loss: 130422.8935 - r_2_score: 0.8474 - val_loss: 119547.4141 - val_r_2_score: 0.8772\n",
            "Epoch 182/1000\n",
            "186/186 [==============================] - 1s 3ms/step - loss: 132899.7314 - r_2_score: 0.8542 - val_loss: 118344.3828 - val_r_2_score: 0.8778\n",
            "Epoch 183/1000\n",
            "186/186 [==============================] - 1s 3ms/step - loss: 131565.8656 - r_2_score: 0.8582 - val_loss: 118805.5469 - val_r_2_score: 0.8777\n",
            "Epoch 184/1000\n",
            "186/186 [==============================] - 1s 3ms/step - loss: 125660.6997 - r_2_score: 0.8681 - val_loss: 118837.7656 - val_r_2_score: 0.8784\n",
            "Epoch 185/1000\n",
            "186/186 [==============================] - 1s 3ms/step - loss: 130306.9446 - r_2_score: 0.8715 - val_loss: 118791.0625 - val_r_2_score: 0.8793\n",
            "Epoch 186/1000\n",
            "186/186 [==============================] - 1s 3ms/step - loss: 127528.3505 - r_2_score: 0.8643 - val_loss: 118599.1875 - val_r_2_score: 0.8789\n",
            "Epoch 187/1000\n",
            "186/186 [==============================] - 1s 3ms/step - loss: 127488.2844 - r_2_score: 0.8771 - val_loss: 118635.8828 - val_r_2_score: 0.8783\n",
            "Epoch 188/1000\n",
            "186/186 [==============================] - 1s 3ms/step - loss: 133666.1335 - r_2_score: 0.8612 - val_loss: 118733.2578 - val_r_2_score: 0.8793\n",
            "Epoch 189/1000\n",
            "186/186 [==============================] - 1s 4ms/step - loss: 131746.6656 - r_2_score: 0.8642 - val_loss: 118615.2109 - val_r_2_score: 0.8791\n",
            "Epoch 190/1000\n",
            "186/186 [==============================] - 1s 4ms/step - loss: 124285.9366 - r_2_score: 0.8813 - val_loss: 118110.7109 - val_r_2_score: 0.8797\n",
            "Epoch 191/1000\n",
            "186/186 [==============================] - 1s 4ms/step - loss: 121747.8725 - r_2_score: 0.8589 - val_loss: 118117.9844 - val_r_2_score: 0.8800\n",
            "Epoch 192/1000\n",
            "186/186 [==============================] - 1s 4ms/step - loss: 125576.5733 - r_2_score: 0.8699 - val_loss: 118381.8984 - val_r_2_score: 0.8796\n",
            "Epoch 193/1000\n",
            "186/186 [==============================] - 1s 3ms/step - loss: 125726.1050 - r_2_score: 0.8751 - val_loss: 118139.0625 - val_r_2_score: 0.8811\n",
            "Epoch 194/1000\n",
            "186/186 [==============================] - 1s 3ms/step - loss: 124423.2361 - r_2_score: 0.8473 - val_loss: 117576.9844 - val_r_2_score: 0.8815\n",
            "Epoch 195/1000\n",
            "186/186 [==============================] - 1s 3ms/step - loss: 127128.2469 - r_2_score: 0.8636 - val_loss: 118053.7812 - val_r_2_score: 0.8811\n",
            "Epoch 196/1000\n",
            "186/186 [==============================] - 1s 3ms/step - loss: 129488.9568 - r_2_score: 0.8294 - val_loss: 117605.4062 - val_r_2_score: 0.8801\n",
            "Epoch 197/1000\n",
            "186/186 [==============================] - 1s 3ms/step - loss: 125038.0094 - r_2_score: 0.8736 - val_loss: 118037.9766 - val_r_2_score: 0.8799\n",
            "Epoch 198/1000\n",
            "186/186 [==============================] - 1s 3ms/step - loss: 125291.3354 - r_2_score: 0.8643 - val_loss: 117736.8594 - val_r_2_score: 0.8811\n",
            "Epoch 199/1000\n",
            "186/186 [==============================] - 1s 3ms/step - loss: 125568.1502 - r_2_score: 0.8586 - val_loss: 117500.5859 - val_r_2_score: 0.8816\n",
            "Epoch 200/1000\n",
            "186/186 [==============================] - 1s 3ms/step - loss: 124899.0720 - r_2_score: 0.8787 - val_loss: 117477.1797 - val_r_2_score: 0.8825\n",
            "Epoch 201/1000\n",
            "186/186 [==============================] - 1s 3ms/step - loss: 125138.1041 - r_2_score: 0.8699 - val_loss: 117493.7109 - val_r_2_score: 0.8826\n",
            "Epoch 202/1000\n",
            "186/186 [==============================] - 1s 3ms/step - loss: 131094.5837 - r_2_score: 0.8508 - val_loss: 117325.5156 - val_r_2_score: 0.8823\n",
            "Epoch 203/1000\n",
            "186/186 [==============================] - 1s 3ms/step - loss: 119578.1486 - r_2_score: 0.8825 - val_loss: 117037.7422 - val_r_2_score: 0.8823\n",
            "Epoch 204/1000\n",
            "186/186 [==============================] - 1s 3ms/step - loss: 126538.5965 - r_2_score: 0.8509 - val_loss: 117579.4531 - val_r_2_score: 0.8825\n",
            "Epoch 205/1000\n",
            "186/186 [==============================] - 1s 3ms/step - loss: 126336.4013 - r_2_score: 0.8666 - val_loss: 117617.8906 - val_r_2_score: 0.8822\n",
            "Epoch 206/1000\n",
            "186/186 [==============================] - 1s 3ms/step - loss: 129259.7475 - r_2_score: 0.8887 - val_loss: 117381.7656 - val_r_2_score: 0.8827\n",
            "Epoch 207/1000\n",
            "186/186 [==============================] - 1s 3ms/step - loss: 126430.2293 - r_2_score: 0.8585 - val_loss: 117781.3438 - val_r_2_score: 0.8810\n",
            "Epoch 208/1000\n",
            "186/186 [==============================] - 1s 3ms/step - loss: 127824.9200 - r_2_score: 0.8560 - val_loss: 116797.3984 - val_r_2_score: 0.8825\n",
            "Epoch 209/1000\n",
            "186/186 [==============================] - 1s 3ms/step - loss: 128383.3749 - r_2_score: 0.8551 - val_loss: 117267.1875 - val_r_2_score: 0.8824\n",
            "Epoch 210/1000\n",
            "186/186 [==============================] - 1s 4ms/step - loss: 125613.9146 - r_2_score: 0.8636 - val_loss: 116804.3984 - val_r_2_score: 0.8830\n",
            "Epoch 211/1000\n",
            "186/186 [==============================] - 1s 3ms/step - loss: 127995.9051 - r_2_score: 0.8442 - val_loss: 117061.2266 - val_r_2_score: 0.8831\n",
            "Epoch 212/1000\n",
            "186/186 [==============================] - 1s 3ms/step - loss: 129298.1606 - r_2_score: 0.8475 - val_loss: 117065.2500 - val_r_2_score: 0.8826\n",
            "Epoch 213/1000\n",
            "186/186 [==============================] - 1s 3ms/step - loss: 127295.5392 - r_2_score: 0.8623 - val_loss: 116783.4141 - val_r_2_score: 0.8843\n",
            "Epoch 214/1000\n",
            "186/186 [==============================] - 1s 3ms/step - loss: 123409.0407 - r_2_score: 0.8626 - val_loss: 116571.1094 - val_r_2_score: 0.8847\n",
            "Epoch 215/1000\n",
            "186/186 [==============================] - 1s 3ms/step - loss: 125929.6838 - r_2_score: 0.8653 - val_loss: 116244.7812 - val_r_2_score: 0.8846\n",
            "Epoch 216/1000\n",
            "186/186 [==============================] - 1s 3ms/step - loss: 126803.6951 - r_2_score: 0.8479 - val_loss: 116292.0000 - val_r_2_score: 0.8849\n",
            "Epoch 217/1000\n",
            "186/186 [==============================] - 1s 3ms/step - loss: 121929.7628 - r_2_score: 0.8700 - val_loss: 116497.8203 - val_r_2_score: 0.8844\n",
            "Epoch 218/1000\n",
            "186/186 [==============================] - 1s 3ms/step - loss: 126355.6263 - r_2_score: 0.8675 - val_loss: 116300.5781 - val_r_2_score: 0.8841\n",
            "Epoch 219/1000\n",
            "186/186 [==============================] - 1s 3ms/step - loss: 128769.5988 - r_2_score: 0.8703 - val_loss: 116040.0078 - val_r_2_score: 0.8845\n",
            "Epoch 220/1000\n",
            "186/186 [==============================] - 1s 3ms/step - loss: 128241.7164 - r_2_score: 0.8445 - val_loss: 116078.7734 - val_r_2_score: 0.8848\n",
            "Epoch 221/1000\n",
            "186/186 [==============================] - 1s 3ms/step - loss: 128229.0141 - r_2_score: 0.8717 - val_loss: 116430.5547 - val_r_2_score: 0.8841\n",
            "Epoch 222/1000\n",
            "186/186 [==============================] - 1s 3ms/step - loss: 132244.2048 - r_2_score: 0.8454 - val_loss: 116222.6406 - val_r_2_score: 0.8854\n",
            "Epoch 223/1000\n",
            "186/186 [==============================] - 1s 3ms/step - loss: 126239.6136 - r_2_score: 0.8607 - val_loss: 116155.2266 - val_r_2_score: 0.8846\n",
            "Epoch 224/1000\n",
            "186/186 [==============================] - 1s 3ms/step - loss: 129578.7566 - r_2_score: 0.8489 - val_loss: 116238.5078 - val_r_2_score: 0.8847\n",
            "Epoch 225/1000\n",
            "186/186 [==============================] - 1s 3ms/step - loss: 122224.8949 - r_2_score: 0.8619 - val_loss: 116024.8672 - val_r_2_score: 0.8851\n",
            "Epoch 226/1000\n",
            "186/186 [==============================] - 1s 3ms/step - loss: 122959.5306 - r_2_score: 0.8649 - val_loss: 116716.5938 - val_r_2_score: 0.8854\n",
            "Epoch 227/1000\n",
            "186/186 [==============================] - 1s 3ms/step - loss: 129529.2108 - r_2_score: 0.8653 - val_loss: 116169.0859 - val_r_2_score: 0.8849\n",
            "Epoch 228/1000\n",
            "186/186 [==============================] - 1s 3ms/step - loss: 119839.5103 - r_2_score: 0.8696 - val_loss: 115568.4766 - val_r_2_score: 0.8856\n",
            "Epoch 229/1000\n",
            "186/186 [==============================] - 1s 4ms/step - loss: 123961.7245 - r_2_score: 0.8736 - val_loss: 115392.2891 - val_r_2_score: 0.8856\n",
            "Epoch 230/1000\n",
            "186/186 [==============================] - 1s 3ms/step - loss: 126685.3381 - r_2_score: 0.8840 - val_loss: 115582.7734 - val_r_2_score: 0.8861\n",
            "Epoch 231/1000\n",
            "186/186 [==============================] - 1s 3ms/step - loss: 129762.1617 - r_2_score: 0.8595 - val_loss: 115786.9219 - val_r_2_score: 0.8862\n",
            "Epoch 232/1000\n",
            "186/186 [==============================] - 1s 3ms/step - loss: 125992.4538 - r_2_score: 0.8435 - val_loss: 115895.9375 - val_r_2_score: 0.8856\n",
            "Epoch 233/1000\n",
            "186/186 [==============================] - 1s 3ms/step - loss: 128493.9536 - r_2_score: 0.8609 - val_loss: 115349.3594 - val_r_2_score: 0.8860\n",
            "Epoch 234/1000\n",
            "186/186 [==============================] - 1s 3ms/step - loss: 121784.3648 - r_2_score: 0.8646 - val_loss: 115298.4688 - val_r_2_score: 0.8857\n",
            "Epoch 235/1000\n",
            "186/186 [==============================] - 1s 3ms/step - loss: 131275.3367 - r_2_score: 0.8598 - val_loss: 115749.4844 - val_r_2_score: 0.8855\n",
            "Epoch 236/1000\n",
            "186/186 [==============================] - 1s 3ms/step - loss: 123665.4569 - r_2_score: 0.8506 - val_loss: 115085.6719 - val_r_2_score: 0.8863\n",
            "Epoch 237/1000\n",
            "186/186 [==============================] - 1s 3ms/step - loss: 124590.6809 - r_2_score: 0.8570 - val_loss: 115440.5156 - val_r_2_score: 0.8862\n",
            "Epoch 238/1000\n",
            "186/186 [==============================] - 1s 4ms/step - loss: 120184.5140 - r_2_score: 0.8613 - val_loss: 115310.7891 - val_r_2_score: 0.8863\n",
            "Epoch 239/1000\n",
            "186/186 [==============================] - 1s 3ms/step - loss: 121107.3625 - r_2_score: 0.8729 - val_loss: 115653.0156 - val_r_2_score: 0.8864\n",
            "Epoch 240/1000\n",
            "186/186 [==============================] - 1s 3ms/step - loss: 125235.2172 - r_2_score: 0.8737 - val_loss: 115557.8828 - val_r_2_score: 0.8863\n",
            "Epoch 241/1000\n",
            "186/186 [==============================] - 1s 3ms/step - loss: 127148.2734 - r_2_score: 0.8778 - val_loss: 115774.3047 - val_r_2_score: 0.8861\n",
            "Epoch 242/1000\n",
            "186/186 [==============================] - 1s 3ms/step - loss: 127623.7341 - r_2_score: 0.8661 - val_loss: 115533.7344 - val_r_2_score: 0.8865\n",
            "Epoch 243/1000\n",
            "186/186 [==============================] - 1s 4ms/step - loss: 127234.3942 - r_2_score: 0.8669 - val_loss: 115724.6797 - val_r_2_score: 0.8855\n",
            "Epoch 244/1000\n",
            "186/186 [==============================] - 1s 3ms/step - loss: 125440.4649 - r_2_score: 0.8663 - val_loss: 116173.6797 - val_r_2_score: 0.8857\n",
            "Epoch 245/1000\n",
            "186/186 [==============================] - 1s 3ms/step - loss: 128664.3637 - r_2_score: 0.8733 - val_loss: 114644.4141 - val_r_2_score: 0.8874\n",
            "Epoch 246/1000\n",
            "186/186 [==============================] - 1s 3ms/step - loss: 122942.7706 - r_2_score: 0.8529 - val_loss: 115511.0547 - val_r_2_score: 0.8869\n",
            "Epoch 247/1000\n",
            "186/186 [==============================] - 1s 4ms/step - loss: 125344.0466 - r_2_score: 0.8544 - val_loss: 115097.7656 - val_r_2_score: 0.8872\n",
            "Epoch 248/1000\n",
            "186/186 [==============================] - 1s 4ms/step - loss: 126674.4746 - r_2_score: 0.8711 - val_loss: 114726.9219 - val_r_2_score: 0.8873\n",
            "Epoch 249/1000\n",
            "186/186 [==============================] - 1s 3ms/step - loss: 127613.3554 - r_2_score: 0.8720 - val_loss: 114797.9766 - val_r_2_score: 0.8876\n",
            "Epoch 250/1000\n",
            "186/186 [==============================] - 1s 3ms/step - loss: 126133.6566 - r_2_score: 0.8832 - val_loss: 115118.2031 - val_r_2_score: 0.8867\n",
            "Epoch 251/1000\n",
            "186/186 [==============================] - 1s 3ms/step - loss: 126340.6189 - r_2_score: 0.8806 - val_loss: 114781.7969 - val_r_2_score: 0.8875\n",
            "Epoch 252/1000\n",
            "186/186 [==============================] - 1s 4ms/step - loss: 125894.4741 - r_2_score: 0.8786 - val_loss: 114860.8750 - val_r_2_score: 0.8875\n",
            "Epoch 253/1000\n",
            "186/186 [==============================] - 1s 3ms/step - loss: 123928.3045 - r_2_score: 0.8669 - val_loss: 115297.7969 - val_r_2_score: 0.8862\n",
            "Epoch 254/1000\n",
            "186/186 [==============================] - 1s 4ms/step - loss: 128916.3006 - r_2_score: 0.8709 - val_loss: 115064.2500 - val_r_2_score: 0.8876\n",
            "Epoch 255/1000\n",
            "186/186 [==============================] - 1s 4ms/step - loss: 120586.1085 - r_2_score: 0.8748 - val_loss: 114661.2109 - val_r_2_score: 0.8875\n"
          ],
          "name": "stdout"
        }
      ]
    },
    {
      "cell_type": "markdown",
      "metadata": {
        "id": "AW4SEP8kT2ls"
      },
      "source": [
        "## Question 6"
      ]
    },
    {
      "cell_type": "markdown",
      "metadata": {
        "id": "EJDoix_7JU61"
      },
      "source": [
        "### Evaluate the model\n",
        "- Evaluate the model on test data\n",
        "- Visualize the model's learning"
      ]
    },
    {
      "cell_type": "markdown",
      "metadata": {
        "id": "E4-3G8h0KPS_"
      },
      "source": [
        "- Hint: The R2 score will get affected by batch size. \r\n",
        "\r\n",
        "**Batch Size**: Number of samples considered in one iteration"
      ]
    },
    {
      "cell_type": "markdown",
      "metadata": {
        "id": "MHmWkGM9E61i"
      },
      "source": [
        "### Check the R2 score on complete test data"
      ]
    },
    {
      "cell_type": "code",
      "metadata": {
        "id": "5Ts_powwDqdK",
        "colab": {
          "base_uri": "https://localhost:8080/"
        },
        "outputId": "dce9ef59-a32a-4353-9e4d-fae1ae92f55a"
      },
      "source": [
        "y_predict = model.predict(X_test)\r\n",
        "from sklearn.metrics import r2_score\r\n",
        "r2_score(y_test,y_predict)"
      ],
      "execution_count": 345,
      "outputs": [
        {
          "output_type": "execute_result",
          "data": {
            "text/plain": [
              "0.9284412657772156"
            ]
          },
          "metadata": {
            "tags": []
          },
          "execution_count": 345
        }
      ]
    },
    {
      "cell_type": "markdown",
      "metadata": {
        "id": "hUpDD74Xjh01"
      },
      "source": [
        "### Visualize model learning\n",
        "- Visualize model learning using train and test r2 score\n",
        "- Visualize model learning using train and test loss"
      ]
    },
    {
      "cell_type": "code",
      "metadata": {
        "id": "WSiMhJPpk3GO",
        "colab": {
          "base_uri": "https://localhost:8080/",
          "height": 265
        },
        "outputId": "4fb2af5e-1c00-4a9e-9b86-7aa22ebb2b0e"
      },
      "source": [
        "from matplotlib import pyplot as plt\r\n",
        "plt.plot(history.history['loss'],label='Training Loss')\r\n",
        "plt.plot(history.history['val_loss'],label='Validation Loss')\r\n",
        "plt.show()"
      ],
      "execution_count": 346,
      "outputs": [
        {
          "output_type": "display_data",
          "data": {
            "image/png": "[encoded data removed]",
            "text/plain": [
              "<Figure size 432x288 with 1 Axes>"
            ]
          },
          "metadata": {
            "tags": [],
            "needs_background": "light"
          }
        }
      ]
    },
    {
      "cell_type": "code",
      "metadata": {
        "colab": {
          "base_uri": "https://localhost:8080/",
          "height": 265
        },
        "id": "oAYcM20K05mm",
        "outputId": "a610c896-468c-49de-a6e2-8b5066e123ab"
      },
      "source": [
        "plt.plot(history.history['r_2_score'],label='Training R2 Score')\r\n",
        "plt.plot(history.history['val_r_2_score'],label='Validation R2 Score')\r\n",
        "plt.show()"
      ],
      "execution_count": 347,
      "outputs": [
        {
          "output_type": "display_data",
          "data": {
            "image/png": "[encoded data removed]",
            "text/plain": [
              "<Figure size 432x288 with 1 Axes>"
            ]
          },
          "metadata": {
            "tags": [],
            "needs_background": "light"
          }
        }
      ]
    },
    {
      "cell_type": "markdown",
      "metadata": {
        "id": "mLyDSOeh6KKc"
      },
      "source": [
        "##  Model tuning and Hyperparameter Tuning\r\n",
        "## Question 7 (Optional)"
      ]
    },
    {
      "cell_type": "markdown",
      "metadata": {
        "id": "U9_FYXve6TPD"
      },
      "source": [
        "### Create another Deep Neural Network Model for Regression to experiment with other hyper-parameters\r\n",
        "- Initialize a Sequential model\r\n",
        "- Add a batch normalization layer\r\n",
        "- Add 3 hidden layer with activation leaky-relu (Number of neurons = 64,128,32 respectively)\r\n",
        "- Add dropout layer after each hidden layer\r\n",
        "- Add a Dense layer with one neuron as output, use activation linear\r\n",
        "  \r\n"
      ]
    },
    {
      "cell_type": "code",
      "metadata": {
        "id": "smKhJZSx2EZk"
      },
      "source": [
        "from tensorflow.keras.models import Sequential\r\n",
        "from tensorflow.keras import Input\r\n",
        "from tensorflow.keras.layers import Dense, ReLU, LeakyReLU, Dropout\r\n",
        "from keras.layers.normalization import BatchNormalization\r\n",
        "\r\n",
        "model2 = Sequential()\r\n",
        "model2.add(tf.keras.Input(shape=13))\r\n",
        "model2.add(BatchNormalization())\r\n",
        "model2.add(Dense(64, activation=LeakyReLU(alpha=0.1)))\r\n",
        "model2.add(Dropout(0.15))\r\n",
        "model2.add(Dense(128, activation=LeakyReLU(alpha=0.1)))\r\n",
        "model2.add(Dropout(0.10))\r\n",
        "model2.add(Dense(32, activation=LeakyReLU(alpha=0.1)))\r\n",
        "model2.add(Dropout(0.05))\r\n",
        "model2.add(Dense(1, activation='linear'))"
      ],
      "execution_count": 348,
      "outputs": []
    },
    {
      "cell_type": "code",
      "metadata": {
        "id": "k3YL1YQB2Fau",
        "colab": {
          "base_uri": "https://localhost:8080/"
        },
        "outputId": "9998e07b-2b95-4120-f153-5e9a45871a52"
      },
      "source": [
        "model2.summary()"
      ],
      "execution_count": 349,
      "outputs": [
        {
          "output_type": "stream",
          "text": [
            "Model: \"sequential_15\"\n",
            "_________________________________________________________________\n",
            "Layer (type)                 Output Shape              Param #   \n",
            "=================================================================\n",
            "batch_normalization_9 (Batch (None, 13)                52        \n",
            "_________________________________________________________________\n",
            "dense_45 (Dense)             (None, 64)                896       \n",
            "_________________________________________________________________\n",
            "dropout_33 (Dropout)         (None, 64)                0         \n",
            "_________________________________________________________________\n",
            "dense_46 (Dense)             (None, 128)               8320      \n",
            "_________________________________________________________________\n",
            "dropout_34 (Dropout)         (None, 128)               0         \n",
            "_________________________________________________________________\n",
            "dense_47 (Dense)             (None, 32)                4128      \n",
            "_________________________________________________________________\n",
            "dropout_35 (Dropout)         (None, 32)                0         \n",
            "_________________________________________________________________\n",
            "dense_48 (Dense)             (None, 1)                 33        \n",
            "=================================================================\n",
            "Total params: 13,429\n",
            "Trainable params: 13,403\n",
            "Non-trainable params: 26\n",
            "_________________________________________________________________\n"
          ],
          "name": "stdout"
        }
      ]
    },
    {
      "cell_type": "markdown",
      "metadata": {
        "id": "d-5tN-Wx8_8X"
      },
      "source": [
        "### Compile the model\r\n",
        "\r\n",
        "- Compile the model\r\n",
        "- Use \"adam\" optimizer \r\n",
        "- for calculating loss, use mean absolute error\r\n",
        "- use R2 score (coefficient of determination) as the metric"
      ]
    },
    {
      "cell_type": "code",
      "metadata": {
        "id": "v3RAGJxN8vq6"
      },
      "source": [
        "model2.compile(optimizer='adam',loss='mean_absolute_error',metrics=[r_2_score])"
      ],
      "execution_count": 350,
      "outputs": []
    },
    {
      "cell_type": "markdown",
      "metadata": {
        "id": "QjDCS5gy91KU"
      },
      "source": [
        "### Train your model\r\n",
        "\r\n",
        "- epochs: 1000\r\n",
        "- batch size: 16\r\n",
        "- Use test data as validation data\r\n",
        "- Also add callback, such that if validation loss doesn't decreases consecutively 10 times, stop the training and return the weights for the previous best model\r\n",
        "- Add checkpoints to save the model after every epoch\r\n"
      ]
    },
    {
      "cell_type": "code",
      "metadata": {
        "id": "amNM6S2w90So",
        "colab": {
          "base_uri": "https://localhost:8080/"
        },
        "outputId": "8d15f923-8612-404e-b360-512d953ad449"
      },
      "source": [
        "history2=model2.fit(X_train,y_train,batch_size=16,epochs=1000,validation_data=(X_test,y_test),callbacks=callback)"
      ],
      "execution_count": 351,
      "outputs": [
        {
          "output_type": "stream",
          "text": [
            "Epoch 1/1000\n",
            "371/371 [==============================] - 2s 4ms/step - loss: 639192.5109 - r_2_score: -1.6138 - val_loss: 380070.2500 - val_r_2_score: -0.0797\n",
            "Epoch 2/1000\n",
            "371/371 [==============================] - 1s 3ms/step - loss: 328413.0635 - r_2_score: 0.1618 - val_loss: 260877.1406 - val_r_2_score: 0.4425\n",
            "Epoch 3/1000\n",
            "371/371 [==============================] - 1s 3ms/step - loss: 286648.9808 - r_2_score: 0.3151 - val_loss: 236304.3594 - val_r_2_score: 0.5288\n",
            "Epoch 4/1000\n",
            "371/371 [==============================] - 1s 3ms/step - loss: 265110.8003 - r_2_score: 0.3131 - val_loss: 226760.4219 - val_r_2_score: 0.5642\n",
            "Epoch 5/1000\n",
            "371/371 [==============================] - 1s 3ms/step - loss: 247409.5894 - r_2_score: 0.3899 - val_loss: 220366.9844 - val_r_2_score: 0.5871\n",
            "Epoch 6/1000\n",
            "371/371 [==============================] - 1s 3ms/step - loss: 241837.9690 - r_2_score: 0.4157 - val_loss: 215195.5938 - val_r_2_score: 0.6025\n",
            "Epoch 7/1000\n",
            "371/371 [==============================] - 1s 3ms/step - loss: 243644.4680 - r_2_score: 0.4791 - val_loss: 209681.8125 - val_r_2_score: 0.6164\n",
            "Epoch 8/1000\n",
            "371/371 [==============================] - 1s 3ms/step - loss: 232697.9253 - r_2_score: 0.4856 - val_loss: 206388.3438 - val_r_2_score: 0.6282\n",
            "Epoch 9/1000\n",
            "371/371 [==============================] - 1s 3ms/step - loss: 228712.4168 - r_2_score: 0.4179 - val_loss: 204333.2344 - val_r_2_score: 0.6354\n",
            "Epoch 10/1000\n",
            "371/371 [==============================] - 1s 3ms/step - loss: 247457.5020 - r_2_score: 0.4024 - val_loss: 202109.8438 - val_r_2_score: 0.6418\n",
            "Epoch 11/1000\n",
            "371/371 [==============================] - 1s 4ms/step - loss: 228819.4562 - r_2_score: 0.4489 - val_loss: 201367.4531 - val_r_2_score: 0.6452\n",
            "Epoch 12/1000\n",
            "371/371 [==============================] - 1s 3ms/step - loss: 238484.6683 - r_2_score: 0.3789 - val_loss: 201158.8281 - val_r_2_score: 0.6494\n",
            "Epoch 13/1000\n",
            "371/371 [==============================] - 1s 3ms/step - loss: 227329.3792 - r_2_score: 0.4685 - val_loss: 196822.0938 - val_r_2_score: 0.6591\n",
            "Epoch 14/1000\n",
            "371/371 [==============================] - 1s 3ms/step - loss: 243710.6458 - r_2_score: 0.4304 - val_loss: 196543.2031 - val_r_2_score: 0.6610\n",
            "Epoch 15/1000\n",
            "371/371 [==============================] - 1s 3ms/step - loss: 216450.4094 - r_2_score: 0.5254 - val_loss: 195207.1406 - val_r_2_score: 0.6629\n",
            "Epoch 16/1000\n",
            "371/371 [==============================] - 1s 3ms/step - loss: 220091.5307 - r_2_score: 0.4757 - val_loss: 194186.4062 - val_r_2_score: 0.6671\n",
            "Epoch 17/1000\n",
            "371/371 [==============================] - 1s 4ms/step - loss: 232126.9169 - r_2_score: 0.4112 - val_loss: 191881.4062 - val_r_2_score: 0.6732\n",
            "Epoch 18/1000\n",
            "371/371 [==============================] - 1s 3ms/step - loss: 219618.2052 - r_2_score: 0.3610 - val_loss: 190124.1562 - val_r_2_score: 0.6804\n",
            "Epoch 19/1000\n",
            "371/371 [==============================] - 1s 3ms/step - loss: 228357.2742 - r_2_score: 0.3827 - val_loss: 189173.4531 - val_r_2_score: 0.6831\n",
            "Epoch 20/1000\n",
            "371/371 [==============================] - 1s 3ms/step - loss: 212365.5382 - r_2_score: 0.4309 - val_loss: 189132.2344 - val_r_2_score: 0.6873\n",
            "Epoch 21/1000\n",
            "371/371 [==============================] - 1s 3ms/step - loss: 226486.9959 - r_2_score: 0.4942 - val_loss: 187278.8281 - val_r_2_score: 0.6860\n",
            "Epoch 22/1000\n",
            "371/371 [==============================] - 1s 3ms/step - loss: 213363.5890 - r_2_score: 0.4289 - val_loss: 185315.3125 - val_r_2_score: 0.6924\n",
            "Epoch 23/1000\n",
            "371/371 [==============================] - 1s 3ms/step - loss: 224980.0952 - r_2_score: 0.4161 - val_loss: 184391.5469 - val_r_2_score: 0.6916\n",
            "Epoch 24/1000\n",
            "371/371 [==============================] - 1s 4ms/step - loss: 225938.4202 - r_2_score: 0.4991 - val_loss: 180974.6094 - val_r_2_score: 0.6992\n",
            "Epoch 25/1000\n",
            "371/371 [==============================] - 1s 3ms/step - loss: 220466.1046 - r_2_score: 0.4479 - val_loss: 181343.2969 - val_r_2_score: 0.7043\n",
            "Epoch 26/1000\n",
            "371/371 [==============================] - 1s 3ms/step - loss: 220058.1967 - r_2_score: 0.4598 - val_loss: 177625.4375 - val_r_2_score: 0.7090\n",
            "Epoch 27/1000\n",
            "371/371 [==============================] - 1s 3ms/step - loss: 204066.3566 - r_2_score: 0.4728 - val_loss: 173332.6406 - val_r_2_score: 0.7163\n",
            "Epoch 28/1000\n",
            "371/371 [==============================] - 1s 3ms/step - loss: 225519.3882 - r_2_score: 0.4377 - val_loss: 171287.5469 - val_r_2_score: 0.7177\n",
            "Epoch 29/1000\n",
            "371/371 [==============================] - 1s 3ms/step - loss: 206657.4158 - r_2_score: 0.4632 - val_loss: 169394.6875 - val_r_2_score: 0.7285\n",
            "Epoch 30/1000\n",
            "371/371 [==============================] - 1s 4ms/step - loss: 219092.9407 - r_2_score: 0.4732 - val_loss: 164703.8906 - val_r_2_score: 0.7267\n",
            "Epoch 31/1000\n",
            "371/371 [==============================] - 1s 3ms/step - loss: 202432.4944 - r_2_score: 0.4451 - val_loss: 163776.3750 - val_r_2_score: 0.7336\n",
            "Epoch 32/1000\n",
            "371/371 [==============================] - 1s 3ms/step - loss: 205903.1612 - r_2_score: 0.5106 - val_loss: 161896.6719 - val_r_2_score: 0.7405\n",
            "Epoch 33/1000\n",
            "371/371 [==============================] - 1s 4ms/step - loss: 197323.1616 - r_2_score: 0.5023 - val_loss: 159410.3281 - val_r_2_score: 0.7396\n",
            "Epoch 34/1000\n",
            "371/371 [==============================] - 1s 3ms/step - loss: 205928.5491 - r_2_score: 0.4624 - val_loss: 158933.9375 - val_r_2_score: 0.7410\n",
            "Epoch 35/1000\n",
            "371/371 [==============================] - 1s 3ms/step - loss: 203555.4560 - r_2_score: 0.4225 - val_loss: 155387.5156 - val_r_2_score: 0.7325\n",
            "Epoch 36/1000\n",
            "371/371 [==============================] - 1s 3ms/step - loss: 207676.1812 - r_2_score: 0.4932 - val_loss: 154180.6250 - val_r_2_score: 0.7342\n",
            "Epoch 37/1000\n",
            "371/371 [==============================] - 1s 3ms/step - loss: 203143.6569 - r_2_score: 0.4405 - val_loss: 153035.2188 - val_r_2_score: 0.7415\n",
            "Epoch 38/1000\n",
            "371/371 [==============================] - 1s 3ms/step - loss: 208159.4446 - r_2_score: 0.4314 - val_loss: 151662.7344 - val_r_2_score: 0.7343\n",
            "Epoch 39/1000\n",
            "371/371 [==============================] - 1s 3ms/step - loss: 193549.1755 - r_2_score: 0.4748 - val_loss: 150883.8594 - val_r_2_score: 0.7422\n",
            "Epoch 40/1000\n",
            "371/371 [==============================] - 1s 3ms/step - loss: 193615.2308 - r_2_score: 0.4579 - val_loss: 149745.1406 - val_r_2_score: 0.7384\n",
            "Epoch 41/1000\n",
            "371/371 [==============================] - 1s 3ms/step - loss: 198848.7324 - r_2_score: 0.5864 - val_loss: 149894.9531 - val_r_2_score: 0.7419\n",
            "Epoch 42/1000\n",
            "371/371 [==============================] - 1s 3ms/step - loss: 195056.6235 - r_2_score: 0.3224 - val_loss: 149084.1562 - val_r_2_score: 0.7444\n",
            "Epoch 43/1000\n",
            "371/371 [==============================] - 1s 4ms/step - loss: 198526.1164 - r_2_score: 0.4833 - val_loss: 149125.0000 - val_r_2_score: 0.7474\n",
            "Epoch 44/1000\n",
            "371/371 [==============================] - 1s 4ms/step - loss: 201272.5905 - r_2_score: 0.5098 - val_loss: 146631.7500 - val_r_2_score: 0.7366\n",
            "Epoch 45/1000\n",
            "371/371 [==============================] - 1s 3ms/step - loss: 199618.5345 - r_2_score: 0.5568 - val_loss: 147549.4531 - val_r_2_score: 0.7391\n",
            "Epoch 46/1000\n",
            "371/371 [==============================] - 1s 3ms/step - loss: 186011.2216 - r_2_score: 0.5132 - val_loss: 145382.6719 - val_r_2_score: 0.7320\n",
            "Epoch 47/1000\n",
            "371/371 [==============================] - 1s 3ms/step - loss: 195671.3169 - r_2_score: 0.4963 - val_loss: 144840.9531 - val_r_2_score: 0.7343\n",
            "Epoch 48/1000\n",
            "371/371 [==============================] - 1s 3ms/step - loss: 194065.6493 - r_2_score: 0.5004 - val_loss: 144346.6094 - val_r_2_score: 0.7423\n",
            "Epoch 49/1000\n",
            "371/371 [==============================] - 1s 3ms/step - loss: 199057.8752 - r_2_score: 0.4002 - val_loss: 143854.9062 - val_r_2_score: 0.7312\n",
            "Epoch 50/1000\n",
            "371/371 [==============================] - 1s 3ms/step - loss: 196827.1124 - r_2_score: 0.5577 - val_loss: 144266.9531 - val_r_2_score: 0.7280\n",
            "Epoch 51/1000\n",
            "371/371 [==============================] - 1s 3ms/step - loss: 197653.5864 - r_2_score: 0.4967 - val_loss: 145711.4844 - val_r_2_score: 0.7365\n",
            "Epoch 52/1000\n",
            "371/371 [==============================] - 1s 3ms/step - loss: 190433.5767 - r_2_score: 0.4247 - val_loss: 144723.0312 - val_r_2_score: 0.7188\n",
            "Epoch 53/1000\n",
            "371/371 [==============================] - 1s 3ms/step - loss: 196385.6181 - r_2_score: 0.3935 - val_loss: 143349.4844 - val_r_2_score: 0.7301\n",
            "Epoch 54/1000\n",
            "371/371 [==============================] - 1s 3ms/step - loss: 207132.3321 - r_2_score: 0.4009 - val_loss: 145780.6875 - val_r_2_score: 0.7385\n",
            "Epoch 55/1000\n",
            "371/371 [==============================] - 1s 3ms/step - loss: 202449.6851 - r_2_score: 0.5043 - val_loss: 142260.7500 - val_r_2_score: 0.7343\n",
            "Epoch 56/1000\n",
            "371/371 [==============================] - 1s 3ms/step - loss: 189222.3008 - r_2_score: 0.5014 - val_loss: 141506.2812 - val_r_2_score: 0.7402\n",
            "Epoch 57/1000\n",
            "371/371 [==============================] - 1s 3ms/step - loss: 187006.9122 - r_2_score: 0.5579 - val_loss: 140521.0312 - val_r_2_score: 0.7407\n",
            "Epoch 58/1000\n",
            "371/371 [==============================] - 1s 3ms/step - loss: 188432.6438 - r_2_score: 0.3928 - val_loss: 140204.1562 - val_r_2_score: 0.7499\n",
            "Epoch 59/1000\n",
            "371/371 [==============================] - 1s 3ms/step - loss: 178162.5054 - r_2_score: 0.5421 - val_loss: 140356.9531 - val_r_2_score: 0.7468\n",
            "Epoch 60/1000\n",
            "371/371 [==============================] - 1s 3ms/step - loss: 204008.9090 - r_2_score: 0.3898 - val_loss: 140757.0781 - val_r_2_score: 0.7423\n",
            "Epoch 61/1000\n",
            "371/371 [==============================] - 1s 3ms/step - loss: 192653.1949 - r_2_score: 0.4452 - val_loss: 139635.0000 - val_r_2_score: 0.7485\n",
            "Epoch 62/1000\n",
            "371/371 [==============================] - 1s 4ms/step - loss: 195457.5343 - r_2_score: 0.4554 - val_loss: 141876.2188 - val_r_2_score: 0.7462\n",
            "Epoch 63/1000\n",
            "371/371 [==============================] - 1s 3ms/step - loss: 195508.5255 - r_2_score: 0.5075 - val_loss: 139610.2969 - val_r_2_score: 0.7500\n",
            "Epoch 64/1000\n",
            "371/371 [==============================] - 1s 3ms/step - loss: 192230.7655 - r_2_score: 0.4877 - val_loss: 139422.6875 - val_r_2_score: 0.7306\n",
            "Epoch 65/1000\n",
            "371/371 [==============================] - 1s 3ms/step - loss: 186729.6603 - r_2_score: 0.4748 - val_loss: 139333.9062 - val_r_2_score: 0.7457\n",
            "Epoch 66/1000\n",
            "371/371 [==============================] - 1s 3ms/step - loss: 177746.6133 - r_2_score: 0.5876 - val_loss: 138963.3750 - val_r_2_score: 0.7169\n",
            "Epoch 67/1000\n",
            "371/371 [==============================] - 1s 3ms/step - loss: 199710.5873 - r_2_score: 0.4483 - val_loss: 139177.1719 - val_r_2_score: 0.7285\n",
            "Epoch 68/1000\n",
            "371/371 [==============================] - 1s 3ms/step - loss: 188194.1478 - r_2_score: 0.5428 - val_loss: 138908.8125 - val_r_2_score: 0.7422\n",
            "Epoch 69/1000\n",
            "371/371 [==============================] - 1s 3ms/step - loss: 189705.8515 - r_2_score: 0.4597 - val_loss: 138786.9688 - val_r_2_score: 0.7465\n",
            "Epoch 70/1000\n",
            "371/371 [==============================] - 1s 3ms/step - loss: 210118.2055 - r_2_score: 0.4537 - val_loss: 139457.9375 - val_r_2_score: 0.7380\n",
            "Epoch 71/1000\n",
            "371/371 [==============================] - 1s 3ms/step - loss: 191252.4968 - r_2_score: 0.4773 - val_loss: 138697.1719 - val_r_2_score: 0.7421\n",
            "Epoch 72/1000\n",
            "371/371 [==============================] - 1s 3ms/step - loss: 191370.3604 - r_2_score: 0.4292 - val_loss: 136703.1875 - val_r_2_score: 0.7447\n",
            "Epoch 73/1000\n",
            "371/371 [==============================] - 1s 3ms/step - loss: 184498.1721 - r_2_score: 0.5271 - val_loss: 138107.2188 - val_r_2_score: 0.7337\n",
            "Epoch 74/1000\n",
            "371/371 [==============================] - 1s 3ms/step - loss: 193082.6656 - r_2_score: 0.4298 - val_loss: 137528.3438 - val_r_2_score: 0.7363\n",
            "Epoch 75/1000\n",
            "371/371 [==============================] - 1s 3ms/step - loss: 193175.3255 - r_2_score: 0.4628 - val_loss: 138355.7969 - val_r_2_score: 0.7512\n",
            "Epoch 76/1000\n",
            "371/371 [==============================] - 1s 3ms/step - loss: 195743.6859 - r_2_score: 0.5134 - val_loss: 137505.3750 - val_r_2_score: 0.7258\n",
            "Epoch 77/1000\n",
            "371/371 [==============================] - 1s 3ms/step - loss: 191302.3134 - r_2_score: 0.3514 - val_loss: 139640.9844 - val_r_2_score: 0.7426\n",
            "Epoch 78/1000\n",
            "371/371 [==============================] - 1s 3ms/step - loss: 191146.4451 - r_2_score: 0.5504 - val_loss: 136676.5781 - val_r_2_score: 0.7366\n",
            "Epoch 79/1000\n",
            "371/371 [==============================] - 1s 3ms/step - loss: 186575.4651 - r_2_score: 0.4782 - val_loss: 138135.4375 - val_r_2_score: 0.7337\n",
            "Epoch 80/1000\n",
            "371/371 [==============================] - 1s 3ms/step - loss: 191033.8948 - r_2_score: 0.4959 - val_loss: 137808.1875 - val_r_2_score: 0.7470\n",
            "Epoch 81/1000\n",
            "371/371 [==============================] - 1s 3ms/step - loss: 190964.4533 - r_2_score: 0.3862 - val_loss: 138999.1250 - val_r_2_score: 0.7411\n",
            "Epoch 82/1000\n",
            "371/371 [==============================] - 1s 3ms/step - loss: 194040.6279 - r_2_score: 0.5062 - val_loss: 137361.8906 - val_r_2_score: 0.7311\n",
            "Epoch 83/1000\n",
            "371/371 [==============================] - 1s 3ms/step - loss: 201351.9765 - r_2_score: 0.4734 - val_loss: 135982.9219 - val_r_2_score: 0.7415\n",
            "Epoch 84/1000\n",
            "371/371 [==============================] - 1s 3ms/step - loss: 186870.1256 - r_2_score: 0.5614 - val_loss: 136925.1719 - val_r_2_score: 0.7160\n",
            "Epoch 85/1000\n",
            "371/371 [==============================] - 1s 4ms/step - loss: 184881.5735 - r_2_score: 0.5498 - val_loss: 137443.0312 - val_r_2_score: 0.7115\n",
            "Epoch 86/1000\n",
            "371/371 [==============================] - 1s 3ms/step - loss: 191129.3403 - r_2_score: 0.3714 - val_loss: 135920.4062 - val_r_2_score: 0.7193\n",
            "Epoch 87/1000\n",
            "371/371 [==============================] - 1s 4ms/step - loss: 194271.5762 - r_2_score: 0.5177 - val_loss: 135413.2344 - val_r_2_score: 0.7289\n",
            "Epoch 88/1000\n",
            "371/371 [==============================] - 1s 4ms/step - loss: 192826.5562 - r_2_score: 0.3580 - val_loss: 136208.2500 - val_r_2_score: 0.7193\n",
            "Epoch 89/1000\n",
            "371/371 [==============================] - 1s 4ms/step - loss: 196150.7111 - r_2_score: 0.3298 - val_loss: 139318.7188 - val_r_2_score: 0.7362\n",
            "Epoch 90/1000\n",
            "371/371 [==============================] - 1s 3ms/step - loss: 199190.6393 - r_2_score: 0.4413 - val_loss: 136080.8281 - val_r_2_score: 0.7130\n",
            "Epoch 91/1000\n",
            "371/371 [==============================] - 1s 3ms/step - loss: 190240.8114 - r_2_score: 0.4807 - val_loss: 135839.1875 - val_r_2_score: 0.7211\n",
            "Epoch 92/1000\n",
            "371/371 [==============================] - 1s 3ms/step - loss: 191098.0649 - r_2_score: 0.4229 - val_loss: 135163.0469 - val_r_2_score: 0.7380\n",
            "Epoch 93/1000\n",
            "371/371 [==============================] - 1s 3ms/step - loss: 195604.4975 - r_2_score: 0.5516 - val_loss: 135836.6875 - val_r_2_score: 0.7246\n",
            "Epoch 94/1000\n",
            "371/371 [==============================] - 1s 3ms/step - loss: 189350.1724 - r_2_score: 0.4622 - val_loss: 135003.1875 - val_r_2_score: 0.7097\n",
            "Epoch 95/1000\n",
            "371/371 [==============================] - 1s 3ms/step - loss: 192435.7819 - r_2_score: 0.4096 - val_loss: 135257.9375 - val_r_2_score: 0.7261\n",
            "Epoch 96/1000\n",
            "371/371 [==============================] - 1s 4ms/step - loss: 182656.4885 - r_2_score: 0.5180 - val_loss: 134945.7812 - val_r_2_score: 0.7369\n",
            "Epoch 97/1000\n",
            "371/371 [==============================] - 1s 3ms/step - loss: 195097.0485 - r_2_score: 0.4579 - val_loss: 139694.5625 - val_r_2_score: 0.7352\n",
            "Epoch 98/1000\n",
            "371/371 [==============================] - 1s 3ms/step - loss: 195930.7502 - r_2_score: 0.5224 - val_loss: 134351.2969 - val_r_2_score: 0.7362\n",
            "Epoch 99/1000\n",
            "371/371 [==============================] - 1s 3ms/step - loss: 184549.8770 - r_2_score: 0.5037 - val_loss: 134235.8750 - val_r_2_score: 0.7452\n",
            "Epoch 100/1000\n",
            "371/371 [==============================] - 1s 4ms/step - loss: 192125.9015 - r_2_score: 0.5449 - val_loss: 135116.5156 - val_r_2_score: 0.7326\n",
            "Epoch 101/1000\n",
            "371/371 [==============================] - 1s 3ms/step - loss: 190641.0366 - r_2_score: 0.4164 - val_loss: 136511.1094 - val_r_2_score: 0.7396\n",
            "Epoch 102/1000\n",
            "371/371 [==============================] - 1s 3ms/step - loss: 188399.2350 - r_2_score: 0.4778 - val_loss: 134854.4062 - val_r_2_score: 0.7114\n",
            "Epoch 103/1000\n",
            "371/371 [==============================] - 1s 3ms/step - loss: 185080.7330 - r_2_score: 0.5828 - val_loss: 134755.5469 - val_r_2_score: 0.7274\n",
            "Epoch 104/1000\n",
            "371/371 [==============================] - 1s 3ms/step - loss: 191919.5123 - r_2_score: 0.4126 - val_loss: 135954.5938 - val_r_2_score: 0.7307\n",
            "Epoch 105/1000\n",
            "371/371 [==============================] - 1s 3ms/step - loss: 184844.7197 - r_2_score: 0.5776 - val_loss: 133555.3125 - val_r_2_score: 0.7351\n",
            "Epoch 106/1000\n",
            "371/371 [==============================] - 1s 3ms/step - loss: 193856.8375 - r_2_score: 0.5378 - val_loss: 134174.4844 - val_r_2_score: 0.7336\n",
            "Epoch 107/1000\n",
            "371/371 [==============================] - 1s 3ms/step - loss: 187548.2216 - r_2_score: 0.5270 - val_loss: 133543.3438 - val_r_2_score: 0.7270\n",
            "Epoch 108/1000\n",
            "371/371 [==============================] - 1s 3ms/step - loss: 181955.0045 - r_2_score: 0.4598 - val_loss: 133726.9219 - val_r_2_score: 0.7434\n",
            "Epoch 109/1000\n",
            "371/371 [==============================] - 1s 3ms/step - loss: 177499.9946 - r_2_score: 0.5640 - val_loss: 134017.5312 - val_r_2_score: 0.7404\n",
            "Epoch 110/1000\n",
            "371/371 [==============================] - 1s 4ms/step - loss: 191444.3679 - r_2_score: 0.5122 - val_loss: 134686.8906 - val_r_2_score: 0.7202\n",
            "Epoch 111/1000\n",
            "371/371 [==============================] - 1s 4ms/step - loss: 178367.4256 - r_2_score: 0.5405 - val_loss: 135780.0000 - val_r_2_score: 0.7452\n",
            "Epoch 112/1000\n",
            "371/371 [==============================] - 1s 4ms/step - loss: 193310.5137 - r_2_score: 0.5138 - val_loss: 134930.4062 - val_r_2_score: 0.7380\n",
            "Epoch 113/1000\n",
            "371/371 [==============================] - 1s 3ms/step - loss: 181355.7642 - r_2_score: 0.5444 - val_loss: 134115.4844 - val_r_2_score: 0.7187\n",
            "Epoch 114/1000\n",
            "371/371 [==============================] - 1s 3ms/step - loss: 193141.4047 - r_2_score: 0.4763 - val_loss: 134619.4688 - val_r_2_score: 0.7170\n",
            "Epoch 115/1000\n",
            "371/371 [==============================] - 1s 3ms/step - loss: 188091.4764 - r_2_score: 0.5216 - val_loss: 134556.2188 - val_r_2_score: 0.7282\n",
            "Epoch 116/1000\n",
            "371/371 [==============================] - 1s 4ms/step - loss: 191256.8750 - r_2_score: 0.1813 - val_loss: 133092.9062 - val_r_2_score: 0.7318\n",
            "Epoch 117/1000\n",
            "371/371 [==============================] - 1s 3ms/step - loss: 191633.0899 - r_2_score: 0.3933 - val_loss: 134308.1875 - val_r_2_score: 0.7326\n",
            "Epoch 118/1000\n",
            "371/371 [==============================] - 1s 3ms/step - loss: 183737.1736 - r_2_score: 0.4867 - val_loss: 132938.9531 - val_r_2_score: 0.7363\n",
            "Epoch 119/1000\n",
            "371/371 [==============================] - 1s 3ms/step - loss: 180674.9328 - r_2_score: 0.5618 - val_loss: 133209.7500 - val_r_2_score: 0.7329\n",
            "Epoch 120/1000\n",
            "371/371 [==============================] - 1s 3ms/step - loss: 192731.5426 - r_2_score: 0.2981 - val_loss: 134651.4375 - val_r_2_score: 0.7238\n",
            "Epoch 121/1000\n",
            "371/371 [==============================] - 1s 4ms/step - loss: 187580.4022 - r_2_score: 0.5669 - val_loss: 133603.9844 - val_r_2_score: 0.7149\n",
            "Epoch 122/1000\n",
            "371/371 [==============================] - 1s 3ms/step - loss: 190562.3782 - r_2_score: 0.5025 - val_loss: 132871.7969 - val_r_2_score: 0.7310\n",
            "Epoch 123/1000\n",
            "371/371 [==============================] - 1s 3ms/step - loss: 189646.3187 - r_2_score: 0.5454 - val_loss: 134237.5938 - val_r_2_score: 0.7222\n",
            "Epoch 124/1000\n",
            "371/371 [==============================] - 1s 3ms/step - loss: 183960.0443 - r_2_score: 0.5160 - val_loss: 134204.8750 - val_r_2_score: 0.7297\n",
            "Epoch 125/1000\n",
            "371/371 [==============================] - 1s 3ms/step - loss: 186649.9653 - r_2_score: 0.5490 - val_loss: 134347.4531 - val_r_2_score: 0.7370\n",
            "Epoch 126/1000\n",
            "371/371 [==============================] - 1s 3ms/step - loss: 188872.0778 - r_2_score: 0.5052 - val_loss: 133059.1094 - val_r_2_score: 0.7265\n",
            "Epoch 127/1000\n",
            "371/371 [==============================] - 1s 3ms/step - loss: 186915.1104 - r_2_score: 0.4524 - val_loss: 135196.7188 - val_r_2_score: 0.7009\n",
            "Epoch 128/1000\n",
            "371/371 [==============================] - 1s 4ms/step - loss: 185205.3927 - r_2_score: 0.5300 - val_loss: 132012.0469 - val_r_2_score: 0.7366\n",
            "Epoch 129/1000\n",
            "371/371 [==============================] - 1s 3ms/step - loss: 179247.0300 - r_2_score: 0.5401 - val_loss: 134748.8125 - val_r_2_score: 0.7316\n",
            "Epoch 130/1000\n",
            "371/371 [==============================] - 1s 4ms/step - loss: 176653.7534 - r_2_score: 0.5925 - val_loss: 131978.7031 - val_r_2_score: 0.7354\n",
            "Epoch 131/1000\n",
            "371/371 [==============================] - 1s 3ms/step - loss: 183755.9788 - r_2_score: 0.4992 - val_loss: 133264.1875 - val_r_2_score: 0.7091\n",
            "Epoch 132/1000\n",
            "371/371 [==============================] - 1s 4ms/step - loss: 177294.0948 - r_2_score: 0.3427 - val_loss: 133583.5156 - val_r_2_score: 0.7109\n",
            "Epoch 133/1000\n",
            "371/371 [==============================] - 1s 3ms/step - loss: 188833.5205 - r_2_score: 0.4056 - val_loss: 133706.2344 - val_r_2_score: 0.7171\n",
            "Epoch 134/1000\n",
            "371/371 [==============================] - 1s 3ms/step - loss: 197371.2607 - r_2_score: 0.4482 - val_loss: 133148.9688 - val_r_2_score: 0.7112\n",
            "Epoch 135/1000\n",
            "371/371 [==============================] - 1s 3ms/step - loss: 180355.7142 - r_2_score: 0.5250 - val_loss: 134675.3438 - val_r_2_score: 0.6872\n",
            "Epoch 136/1000\n",
            "371/371 [==============================] - 1s 3ms/step - loss: 177894.8887 - r_2_score: 0.3308 - val_loss: 132759.7344 - val_r_2_score: 0.7144\n",
            "Epoch 137/1000\n",
            "371/371 [==============================] - 1s 3ms/step - loss: 188491.5084 - r_2_score: 0.4318 - val_loss: 133809.0469 - val_r_2_score: 0.7175\n",
            "Epoch 138/1000\n",
            "371/371 [==============================] - 1s 3ms/step - loss: 182721.5982 - r_2_score: 0.5277 - val_loss: 133350.3594 - val_r_2_score: 0.7141\n",
            "Epoch 139/1000\n",
            "371/371 [==============================] - 1s 4ms/step - loss: 195311.8315 - r_2_score: 0.4571 - val_loss: 132082.3438 - val_r_2_score: 0.7174\n",
            "Epoch 140/1000\n",
            "371/371 [==============================] - 1s 3ms/step - loss: 182781.9800 - r_2_score: 0.3759 - val_loss: 134392.6406 - val_r_2_score: 0.7302\n"
          ],
          "name": "stdout"
        }
      ]
    },
    {
      "cell_type": "markdown",
      "metadata": {
        "id": "GHbYwXdgDQhs"
      },
      "source": [
        "### Check the R2 score on complete test data"
      ]
    },
    {
      "cell_type": "code",
      "metadata": {
        "id": "p7Ly-csS90PM",
        "colab": {
          "base_uri": "https://localhost:8080/"
        },
        "outputId": "f9bd9189-68d4-4fdf-a8b1-7d4d17133d5a"
      },
      "source": [
        "y_predict = model2.predict(X_test)\r\n",
        "from sklearn.metrics import r2_score\r\n",
        "r2_score(y_test,y_predict)"
      ],
      "execution_count": 352,
      "outputs": [
        {
          "output_type": "execute_result",
          "data": {
            "text/plain": [
              "0.9013365747798742"
            ]
          },
          "metadata": {
            "tags": []
          },
          "execution_count": 352
        }
      ]
    },
    {
      "cell_type": "markdown",
      "metadata": {
        "id": "mcZazFM7DiVr"
      },
      "source": [
        "### Visualize model learning\r\n",
        "- Visualize model learning using train and test r2 score\r\n",
        "- Visualize model learning using train and test loss"
      ]
    },
    {
      "cell_type": "code",
      "metadata": {
        "id": "cH-8qHgp90Jv",
        "colab": {
          "base_uri": "https://localhost:8080/",
          "height": 265
        },
        "outputId": "c8ce10d6-3c42-4c26-a204-76f284659db0"
      },
      "source": [
        "from matplotlib import pyplot as plt\r\n",
        "plt.plot(history2.history['loss'],label='Training Loss')\r\n",
        "plt.plot(history2.history['val_loss'],label='Validation Loss')\r\n",
        "plt.show()"
      ],
      "execution_count": 353,
      "outputs": [
        {
          "output_type": "display_data",
          "data": {
            "image/png": "[encoded data removed]",
            "text/plain": [
              "<Figure size 432x288 with 1 Axes>"
            ]
          },
          "metadata": {
            "tags": [],
            "needs_background": "light"
          }
        }
      ]
    },
    {
      "cell_type": "code",
      "metadata": {
        "colab": {
          "base_uri": "https://localhost:8080/",
          "height": 265
        },
        "id": "8NzI4dYjTD_v",
        "outputId": "20c050ee-0508-45e1-a249-e2e8c740229a"
      },
      "source": [
        "plt.plot(history2.history['r_2_score'],label='Training R2 Score')\r\n",
        "plt.plot(history2.history['val_r_2_score'],label='Validation R2 Score')\r\n",
        "plt.show()"
      ],
      "execution_count": 354,
      "outputs": [
        {
          "output_type": "display_data",
          "data": {
            "image/png": "[encoded data removed]",
            "text/plain": [
              "<Figure size 432x288 with 1 Axes>"
            ]
          },
          "metadata": {
            "tags": [],
            "needs_background": "light"
          }
        }
      ]
    },
    {
      "cell_type": "markdown",
      "metadata": {
        "id": "POU_v9owFLWp"
      },
      "source": [
        "### Create another Deep Neural Network Model for Regression to experiment with other hyper-parameters\r\n",
        "- Initialize a Sequential model\r\n",
        "- Add a batch normalization layer\r\n",
        "- Intialize weights using HeUniform with seed = 7\r\n",
        "- Add 4 hidden layer with activation relu (Number of neurons = 256,128,64,32 in each layer respectively)\r\n",
        "- Add dropout layer after each hidden layer\r\n",
        "- Add a Dense layer with one neuron as output, use activation linear\r\n",
        "  \r\n"
      ]
    },
    {
      "cell_type": "code",
      "metadata": {
        "id": "EJiZ1JZZECpm"
      },
      "source": [
        "from tensorflow.keras.models import Sequential\r\n",
        "from tensorflow.keras import Input\r\n",
        "from tensorflow.keras.layers import Dense, ReLU, LeakyReLU, Dropout\r\n",
        "from keras.layers.normalization import BatchNormalization\r\n",
        "\r\n",
        "initializer = tf.keras.initializers.HeUniform()\r\n",
        "\r\n",
        "model3 = Sequential()\r\n",
        "model3.add(tf.keras.Input(shape=13))\r\n",
        "model3.add(BatchNormalization())\r\n",
        "model3.add(Dense(256, activation='relu'))\r\n",
        "model3.add(Dropout(0.20))\r\n",
        "model3.add(Dense(128, activation='relu'))\r\n",
        "model3.add(Dropout(0.15))\r\n",
        "model3.add(Dense(64, activation='relu'))\r\n",
        "model3.add(Dropout(0.10))\r\n",
        "model3.add(Dense(32, activation='relu'))\r\n",
        "model3.add(Dropout(0.05))\r\n",
        "model3.add(Dense(1, activation='linear'))"
      ],
      "execution_count": 355,
      "outputs": []
    },
    {
      "cell_type": "markdown",
      "metadata": {
        "id": "yNoD20dGHKNk"
      },
      "source": [
        "### Compile the model\r\n",
        "\r\n",
        "- Compile the model\r\n",
        "- Use \"adam\" optimizer with learning rate = 0.002\r\n",
        "- for calculating loss, use mean squared error\r\n",
        "- use R2 score (coefficient of determination) as the metric"
      ]
    },
    {
      "cell_type": "code",
      "metadata": {
        "id": "EL--zAmbECm3"
      },
      "source": [
        "from keras.optimizers import Adam\r\n",
        "model3.compile(optimizer=Adam(lr=0.002),loss='mse',metrics=[r_2_score])"
      ],
      "execution_count": 356,
      "outputs": []
    },
    {
      "cell_type": "markdown",
      "metadata": {
        "id": "TNhawruvHgLR"
      },
      "source": [
        "### Train your model\r\n",
        "\r\n",
        "- epochs: 1000\r\n",
        "- batch size: 64\r\n",
        "- Use test data as validation data\r\n",
        "- Also add callback, such that if validation loss doesn't decreases consecutively 10 times, stop the training and return the weights for the previous best model\r\n",
        "\r\n"
      ]
    },
    {
      "cell_type": "code",
      "metadata": {
        "id": "rf_Y0p7yECiz",
        "colab": {
          "base_uri": "https://localhost:8080/"
        },
        "outputId": "7545b32f-7d98-45d2-f6b5-331a0a07d589"
      },
      "source": [
        "history3=model3.fit(X_train,y_train,batch_size=64,epochs=1000,validation_data=(X_test,y_test),callbacks=callback)"
      ],
      "execution_count": 357,
      "outputs": [
        {
          "output_type": "stream",
          "text": [
            "Epoch 1/1000\n",
            "93/93 [==============================] - 1s 5ms/step - loss: 1149471236270.2979 - r_2_score: -0.7742 - val_loss: 699379482624.0000 - val_r_2_score: -0.0422\n",
            "Epoch 2/1000\n",
            "93/93 [==============================] - 0s 4ms/step - loss: 368950660858.5532 - r_2_score: 0.4086 - val_loss: 217578504192.0000 - val_r_2_score: 0.6615\n",
            "Epoch 3/1000\n",
            "93/93 [==============================] - 0s 3ms/step - loss: 191334838010.5532 - r_2_score: 0.6271 - val_loss: 174818492416.0000 - val_r_2_score: 0.7084\n",
            "Epoch 4/1000\n",
            "93/93 [==============================] - 0s 3ms/step - loss: 205108935483.9149 - r_2_score: 0.5677 - val_loss: 154607583232.0000 - val_r_2_score: 0.7560\n",
            "Epoch 5/1000\n",
            "93/93 [==============================] - 0s 3ms/step - loss: 170974862488.5107 - r_2_score: 0.6636 - val_loss: 137700360192.0000 - val_r_2_score: 0.7835\n",
            "Epoch 6/1000\n",
            "93/93 [==============================] - 0s 4ms/step - loss: 137802771347.0638 - r_2_score: 0.6992 - val_loss: 116738777088.0000 - val_r_2_score: 0.7938\n",
            "Epoch 7/1000\n",
            "93/93 [==============================] - 0s 3ms/step - loss: 137816278647.8298 - r_2_score: 0.6121 - val_loss: 109061799936.0000 - val_r_2_score: 0.8193\n",
            "Epoch 8/1000\n",
            "93/93 [==============================] - 0s 4ms/step - loss: 123158804262.1277 - r_2_score: 0.6854 - val_loss: 96836001792.0000 - val_r_2_score: 0.8297\n",
            "Epoch 9/1000\n",
            "93/93 [==============================] - 0s 4ms/step - loss: 114063613864.8511 - r_2_score: 0.7338 - val_loss: 90730037248.0000 - val_r_2_score: 0.8258\n",
            "Epoch 10/1000\n",
            "93/93 [==============================] - 0s 3ms/step - loss: 105691074647.1489 - r_2_score: 0.7990 - val_loss: 83997753344.0000 - val_r_2_score: 0.8474\n",
            "Epoch 11/1000\n",
            "93/93 [==============================] - 0s 3ms/step - loss: 108674135541.1064 - r_2_score: 0.7868 - val_loss: 86573137920.0000 - val_r_2_score: 0.8533\n",
            "Epoch 12/1000\n",
            "93/93 [==============================] - 0s 4ms/step - loss: 116805768083.0638 - r_2_score: 0.7935 - val_loss: 76684746752.0000 - val_r_2_score: 0.8604\n",
            "Epoch 13/1000\n",
            "93/93 [==============================] - 0s 3ms/step - loss: 112970545936.3404 - r_2_score: 0.7721 - val_loss: 84562944000.0000 - val_r_2_score: 0.8574\n",
            "Epoch 14/1000\n",
            "93/93 [==============================] - 0s 3ms/step - loss: 101999690969.8723 - r_2_score: 0.7564 - val_loss: 72259264512.0000 - val_r_2_score: 0.8658\n",
            "Epoch 15/1000\n",
            "93/93 [==============================] - 0s 3ms/step - loss: 88859206852.0851 - r_2_score: 0.8030 - val_loss: 75243126784.0000 - val_r_2_score: 0.8635\n",
            "Epoch 16/1000\n",
            "93/93 [==============================] - 0s 3ms/step - loss: 97794401650.3830 - r_2_score: 0.7899 - val_loss: 71998177280.0000 - val_r_2_score: 0.8627\n",
            "Epoch 17/1000\n",
            "93/93 [==============================] - 0s 3ms/step - loss: 102133078713.1915 - r_2_score: 0.8018 - val_loss: 73286967296.0000 - val_r_2_score: 0.8614\n",
            "Epoch 18/1000\n",
            "93/93 [==============================] - 0s 4ms/step - loss: 91370291897.1915 - r_2_score: 0.8500 - val_loss: 73359196160.0000 - val_r_2_score: 0.8636\n",
            "Epoch 19/1000\n",
            "93/93 [==============================] - 0s 4ms/step - loss: 95769080505.1915 - r_2_score: 0.7428 - val_loss: 77178494976.0000 - val_r_2_score: 0.8573\n",
            "Epoch 20/1000\n",
            "93/93 [==============================] - 0s 4ms/step - loss: 89062892217.1915 - r_2_score: 0.7918 - val_loss: 68146409472.0000 - val_r_2_score: 0.8675\n",
            "Epoch 21/1000\n",
            "93/93 [==============================] - 0s 4ms/step - loss: 96596467145.5319 - r_2_score: 0.7422 - val_loss: 69965643776.0000 - val_r_2_score: 0.8657\n",
            "Epoch 22/1000\n",
            "93/93 [==============================] - 0s 3ms/step - loss: 92120801541.4468 - r_2_score: 0.8472 - val_loss: 75798446080.0000 - val_r_2_score: 0.8619\n",
            "Epoch 23/1000\n",
            "93/93 [==============================] - 0s 4ms/step - loss: 101348624384.0000 - r_2_score: 0.7948 - val_loss: 67167965184.0000 - val_r_2_score: 0.8647\n",
            "Epoch 24/1000\n",
            "93/93 [==============================] - 0s 4ms/step - loss: 89067571679.3192 - r_2_score: 0.7581 - val_loss: 68662489088.0000 - val_r_2_score: 0.8615\n",
            "Epoch 25/1000\n",
            "93/93 [==============================] - 0s 4ms/step - loss: 110640314760.1702 - r_2_score: 0.7717 - val_loss: 67216498688.0000 - val_r_2_score: 0.8608\n",
            "Epoch 26/1000\n",
            "93/93 [==============================] - 0s 3ms/step - loss: 90468731969.3617 - r_2_score: 0.8232 - val_loss: 68892352512.0000 - val_r_2_score: 0.8582\n",
            "Epoch 27/1000\n",
            "93/93 [==============================] - 0s 3ms/step - loss: 75098940524.9362 - r_2_score: 0.8453 - val_loss: 68806819840.0000 - val_r_2_score: 0.8592\n",
            "Epoch 28/1000\n",
            "93/93 [==============================] - 0s 3ms/step - loss: 80458190281.5319 - r_2_score: 0.8050 - val_loss: 71293771776.0000 - val_r_2_score: 0.8565\n",
            "Epoch 29/1000\n",
            "93/93 [==============================] - 0s 4ms/step - loss: 73162049361.7021 - r_2_score: 0.8561 - val_loss: 67278614528.0000 - val_r_2_score: 0.8599\n",
            "Epoch 30/1000\n",
            "93/93 [==============================] - 0s 3ms/step - loss: 87762298836.4255 - r_2_score: 0.8224 - val_loss: 70936100864.0000 - val_r_2_score: 0.8562\n",
            "Epoch 31/1000\n",
            "93/93 [==============================] - 0s 3ms/step - loss: 85198092244.4255 - r_2_score: 0.8156 - val_loss: 71711916032.0000 - val_r_2_score: 0.8522\n",
            "Epoch 32/1000\n",
            "93/93 [==============================] - 0s 4ms/step - loss: 94149204098.7234 - r_2_score: 0.7940 - val_loss: 67709337600.0000 - val_r_2_score: 0.8655\n",
            "Epoch 33/1000\n",
            "93/93 [==============================] - 0s 4ms/step - loss: 82041465006.2979 - r_2_score: 0.8232 - val_loss: 64054652928.0000 - val_r_2_score: 0.8673\n",
            "Epoch 34/1000\n",
            "93/93 [==============================] - 0s 4ms/step - loss: 85060882606.2979 - r_2_score: 0.7809 - val_loss: 68899594240.0000 - val_r_2_score: 0.8620\n",
            "Epoch 35/1000\n",
            "93/93 [==============================] - 0s 4ms/step - loss: 79471755133.2766 - r_2_score: 0.7911 - val_loss: 69948039168.0000 - val_r_2_score: 0.8628\n",
            "Epoch 36/1000\n",
            "93/93 [==============================] - 0s 4ms/step - loss: 76841744906.8936 - r_2_score: 0.8064 - val_loss: 65166704640.0000 - val_r_2_score: 0.8614\n",
            "Epoch 37/1000\n",
            "93/93 [==============================] - 0s 4ms/step - loss: 73602562048.0000 - r_2_score: 0.8152 - val_loss: 62030323712.0000 - val_r_2_score: 0.8681\n",
            "Epoch 38/1000\n",
            "93/93 [==============================] - 0s 3ms/step - loss: 85876048917.7872 - r_2_score: 0.7826 - val_loss: 65647980544.0000 - val_r_2_score: 0.8624\n",
            "Epoch 39/1000\n",
            "93/93 [==============================] - 0s 4ms/step - loss: 76886814109.9574 - r_2_score: 0.8476 - val_loss: 65700503552.0000 - val_r_2_score: 0.8607\n",
            "Epoch 40/1000\n",
            "93/93 [==============================] - 0s 3ms/step - loss: 75653761590.4681 - r_2_score: 0.8376 - val_loss: 63282556928.0000 - val_r_2_score: 0.8670\n",
            "Epoch 41/1000\n",
            "93/93 [==============================] - 0s 3ms/step - loss: 79011478157.6170 - r_2_score: 0.8292 - val_loss: 66380812288.0000 - val_r_2_score: 0.8578\n",
            "Epoch 42/1000\n",
            "93/93 [==============================] - 0s 4ms/step - loss: 78724880253.2766 - r_2_score: 0.8527 - val_loss: 66681745408.0000 - val_r_2_score: 0.8597\n",
            "Epoch 43/1000\n",
            "93/93 [==============================] - 0s 3ms/step - loss: 83487833763.4043 - r_2_score: 0.8222 - val_loss: 70490382336.0000 - val_r_2_score: 0.8545\n",
            "Epoch 44/1000\n",
            "93/93 [==============================] - 0s 3ms/step - loss: 113342729804.2553 - r_2_score: 0.7899 - val_loss: 77566001152.0000 - val_r_2_score: 0.8463\n",
            "Epoch 45/1000\n",
            "93/93 [==============================] - 0s 3ms/step - loss: 98742063452.5957 - r_2_score: 0.7865 - val_loss: 66057777152.0000 - val_r_2_score: 0.8646\n",
            "Epoch 46/1000\n",
            "93/93 [==============================] - 0s 3ms/step - loss: 73958066655.3192 - r_2_score: 0.8332 - val_loss: 68826644480.0000 - val_r_2_score: 0.8587\n",
            "Epoch 47/1000\n",
            "93/93 [==============================] - 0s 3ms/step - loss: 72107426707.0638 - r_2_score: 0.8519 - val_loss: 62104293376.0000 - val_r_2_score: 0.8659\n"
          ],
          "name": "stdout"
        }
      ]
    },
    {
      "cell_type": "markdown",
      "metadata": {
        "id": "MR6_a6QxICXv"
      },
      "source": [
        "### Check the R2 score on complete test data"
      ]
    },
    {
      "cell_type": "code",
      "metadata": {
        "id": "eSNJsVwnECf-",
        "colab": {
          "base_uri": "https://localhost:8080/"
        },
        "outputId": "7c1d421f-3789-4731-ef8f-d6b5f59640d7"
      },
      "source": [
        "y_predict = model3.predict(X_test)\r\n",
        "from sklearn.metrics import r2_score\r\n",
        "r2_score(y_test,y_predict)"
      ],
      "execution_count": 358,
      "outputs": [
        {
          "output_type": "execute_result",
          "data": {
            "text/plain": [
              "0.9120050706272304"
            ]
          },
          "metadata": {
            "tags": []
          },
          "execution_count": 358
        }
      ]
    },
    {
      "cell_type": "markdown",
      "metadata": {
        "id": "xWZIMT2rIYDc"
      },
      "source": [
        "### Visualize model learning\r\n",
        "- Visualize model learning using train and test r2 score\r\n",
        "- Visualize model learning using train and test loss"
      ]
    },
    {
      "cell_type": "code",
      "metadata": {
        "id": "uDMefTaLECdK",
        "colab": {
          "base_uri": "https://localhost:8080/",
          "height": 276
        },
        "outputId": "87fcb338-5127-43ed-bd25-645d759754bb"
      },
      "source": [
        "from matplotlib import pyplot as plt\r\n",
        "plt.plot(history3.history['loss'],label='Training Loss')\r\n",
        "plt.plot(history3.history['val_loss'],label='Validation Loss')\r\n",
        "plt.show()"
      ],
      "execution_count": 359,
      "outputs": [
        {
          "output_type": "display_data",
          "data": {
            "image/png": "[encoded data removed]",
            "text/plain": [
              "<Figure size 432x288 with 1 Axes>"
            ]
          },
          "metadata": {
            "tags": [],
            "needs_background": "light"
          }
        }
      ]
    },
    {
      "cell_type": "code",
      "metadata": {
        "colab": {
          "base_uri": "https://localhost:8080/",
          "height": 265
        },
        "id": "Tcoc4kpRUXHk",
        "outputId": "47cf5564-2ebb-4b1d-fa2b-125375eaa6dd"
      },
      "source": [
        "plt.plot(history3.history['r_2_score'],label='Training R2 Score')\r\n",
        "plt.plot(history3.history['val_r_2_score'],label='Validation R2 Score')\r\n",
        "plt.show()"
      ],
      "execution_count": 360,
      "outputs": [
        {
          "output_type": "display_data",
          "data": {
            "image/png": "[encoded data removed]",
            "text/plain": [
              "<Figure size 432x288 with 1 Axes>"
            ]
          },
          "metadata": {
            "tags": [],
            "needs_background": "light"
          }
        }
      ]
    },
    {
      "cell_type": "code",
      "metadata": {
        "id": "dZPGSiCFlI9g"
      },
      "source": [
        ""
      ],
      "execution_count": 360,
      "outputs": []
    }
  ]
}